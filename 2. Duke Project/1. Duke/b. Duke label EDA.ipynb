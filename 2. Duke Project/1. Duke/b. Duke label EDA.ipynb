{
 "cells": [
  {
   "cell_type": "markdown",
   "metadata": {},
   "source": [
    "# b. Duke Label\n",
    "\n",
    "**total number of Labels:**\n",
    "- artifacts (7) + normal (1) + reliability (1) + gdefects (39) + ngdefects (42)\n",
    "- 7 + 2 + 39 + 42\n",
    "\n",
    "**Output files (.csv):**\n",
    "\n"
   ]
  },
  {
   "cell_type": "code",
   "execution_count": 1,
   "metadata": {},
   "outputs": [],
   "source": [
    "import pandas as pd"
   ]
  },
  {
   "cell_type": "code",
   "execution_count": 2,
   "metadata": {},
   "outputs": [
    {
     "name": "stdout",
     "output_type": "stream",
     "text": [
      "The shape of label is (500, 15)\n"
     ]
    },
    {
     "data": {
      "text/html": [
       "<div>\n",
       "<style scoped>\n",
       "    .dataframe tbody tr th:only-of-type {\n",
       "        vertical-align: middle;\n",
       "    }\n",
       "\n",
       "    .dataframe tbody tr th {\n",
       "        vertical-align: top;\n",
       "    }\n",
       "\n",
       "    .dataframe thead th {\n",
       "        text-align: right;\n",
       "    }\n",
       "</style>\n",
       "<table border=\"1\" class=\"dataframe\">\n",
       "  <thead>\n",
       "    <tr style=\"text-align: right;\">\n",
       "      <th></th>\n",
       "      <th>pdf_filename</th>\n",
       "      <th>reliability</th>\n",
       "      <th>normal</th>\n",
       "      <th>gdefect1</th>\n",
       "      <th>gposition1</th>\n",
       "      <th>gdefect2</th>\n",
       "      <th>gposition2</th>\n",
       "      <th>gdefect3</th>\n",
       "      <th>gposition3</th>\n",
       "      <th>ngdefect1</th>\n",
       "      <th>ngposition1</th>\n",
       "      <th>ngdefect2</th>\n",
       "      <th>ngposition2</th>\n",
       "      <th>artifact1</th>\n",
       "      <th>artifact2</th>\n",
       "    </tr>\n",
       "  </thead>\n",
       "  <tbody>\n",
       "    <tr>\n",
       "      <th>0</th>\n",
       "      <td>1.2.276.0.75.2.5.80.25.3.190123133923759.93180...</td>\n",
       "      <td>Yes (reliable)</td>\n",
       "      <td>No (abnormal)</td>\n",
       "      <td>partial arcuate defect</td>\n",
       "      <td>inferior</td>\n",
       "      <td>none</td>\n",
       "      <td>NaN</td>\n",
       "      <td>none</td>\n",
       "      <td>NaN</td>\n",
       "      <td>none</td>\n",
       "      <td>NaN</td>\n",
       "      <td>none</td>\n",
       "      <td>NaN</td>\n",
       "      <td>none</td>\n",
       "      <td>none</td>\n",
       "    </tr>\n",
       "    <tr>\n",
       "      <th>1</th>\n",
       "      <td>1.2.276.0.75.2.5.80.25.3.190123133924562.93180...</td>\n",
       "      <td>Yes (reliable)</td>\n",
       "      <td>No (abnormal)</td>\n",
       "      <td>partial arcuate defect</td>\n",
       "      <td>inferior</td>\n",
       "      <td>none</td>\n",
       "      <td>NaN</td>\n",
       "      <td>none</td>\n",
       "      <td>NaN</td>\n",
       "      <td>none</td>\n",
       "      <td>NaN</td>\n",
       "      <td>none</td>\n",
       "      <td>NaN</td>\n",
       "      <td>none</td>\n",
       "      <td>none</td>\n",
       "    </tr>\n",
       "    <tr>\n",
       "      <th>2</th>\n",
       "      <td>1.2.276.0.75.2.5.80.25.3.190123134232237.93180...</td>\n",
       "      <td>Yes (reliable)</td>\n",
       "      <td>Yes (normal)</td>\n",
       "      <td>none</td>\n",
       "      <td>NaN</td>\n",
       "      <td>none</td>\n",
       "      <td>NaN</td>\n",
       "      <td>none</td>\n",
       "      <td>NaN</td>\n",
       "      <td>none</td>\n",
       "      <td>NaN</td>\n",
       "      <td>none</td>\n",
       "      <td>NaN</td>\n",
       "      <td>none</td>\n",
       "      <td>none</td>\n",
       "    </tr>\n",
       "    <tr>\n",
       "      <th>3</th>\n",
       "      <td>1.2.276.0.75.2.5.80.25.3.190123134234418.93180...</td>\n",
       "      <td>Yes (reliable)</td>\n",
       "      <td>Yes (normal)</td>\n",
       "      <td>none</td>\n",
       "      <td>NaN</td>\n",
       "      <td>none</td>\n",
       "      <td>NaN</td>\n",
       "      <td>none</td>\n",
       "      <td>NaN</td>\n",
       "      <td>none</td>\n",
       "      <td>NaN</td>\n",
       "      <td>none</td>\n",
       "      <td>NaN</td>\n",
       "      <td>none</td>\n",
       "      <td>none</td>\n",
       "    </tr>\n",
       "    <tr>\n",
       "      <th>4</th>\n",
       "      <td>1.2.276.0.75.2.5.80.25.3.190123134640676.93180...</td>\n",
       "      <td>Yes (reliable)</td>\n",
       "      <td>No (abnormal)</td>\n",
       "      <td>partial arcuate defect</td>\n",
       "      <td>inferior</td>\n",
       "      <td>none</td>\n",
       "      <td>NaN</td>\n",
       "      <td>none</td>\n",
       "      <td>NaN</td>\n",
       "      <td>none</td>\n",
       "      <td>NaN</td>\n",
       "      <td>none</td>\n",
       "      <td>NaN</td>\n",
       "      <td>none</td>\n",
       "      <td>none</td>\n",
       "    </tr>\n",
       "  </tbody>\n",
       "</table>\n",
       "</div>"
      ],
      "text/plain": [
       "                                        pdf_filename     reliability  \\\n",
       "0  1.2.276.0.75.2.5.80.25.3.190123133923759.93180...  Yes (reliable)   \n",
       "1  1.2.276.0.75.2.5.80.25.3.190123133924562.93180...  Yes (reliable)   \n",
       "2  1.2.276.0.75.2.5.80.25.3.190123134232237.93180...  Yes (reliable)   \n",
       "3  1.2.276.0.75.2.5.80.25.3.190123134234418.93180...  Yes (reliable)   \n",
       "4  1.2.276.0.75.2.5.80.25.3.190123134640676.93180...  Yes (reliable)   \n",
       "\n",
       "          normal                gdefect1 gposition1 gdefect2 gposition2  \\\n",
       "0  No (abnormal)  partial arcuate defect   inferior     none        NaN   \n",
       "1  No (abnormal)  partial arcuate defect   inferior     none        NaN   \n",
       "2   Yes (normal)                    none        NaN     none        NaN   \n",
       "3   Yes (normal)                    none        NaN     none        NaN   \n",
       "4  No (abnormal)  partial arcuate defect   inferior     none        NaN   \n",
       "\n",
       "  gdefect3 gposition3 ngdefect1 ngposition1 ngdefect2  ngposition2 artifact1  \\\n",
       "0     none        NaN      none         NaN      none          NaN      none   \n",
       "1     none        NaN      none         NaN      none          NaN      none   \n",
       "2     none        NaN      none         NaN      none          NaN      none   \n",
       "3     none        NaN      none         NaN      none          NaN      none   \n",
       "4     none        NaN      none         NaN      none          NaN      none   \n",
       "\n",
       "  artifact2  \n",
       "0      none  \n",
       "1      none  \n",
       "2      none  \n",
       "3      none  \n",
       "4      none  "
      ]
     },
     "execution_count": 2,
     "metadata": {},
     "output_type": "execute_result"
    }
   ],
   "source": [
    "label = pd.read_csv('gradings_agreement_labeled.csv')\n",
    "label2 = pd.read_csv('gradings_agreement_raw.csv')\n",
    "\n",
    "print(\"The shape of label is\", label.shape)\n",
    "label.head()"
   ]
  },
  {
   "cell_type": "code",
   "execution_count": 3,
   "metadata": {},
   "outputs": [
    {
     "data": {
      "text/plain": [
       "Index(['pdf_filename', 'reliability', 'normal', 'gdefect1', 'gposition1',\n",
       "       'gdefect2', 'gposition2', 'gdefect3', 'gposition3', 'ngdefect1',\n",
       "       'ngposition1', 'ngdefect2', 'ngposition2', 'artifact1', 'artifact2'],\n",
       "      dtype='object')"
      ]
     },
     "execution_count": 3,
     "metadata": {},
     "output_type": "execute_result"
    }
   ],
   "source": [
    "label.columns"
   ]
  },
  {
   "cell_type": "markdown",
   "metadata": {},
   "source": [
    "# Part 1. normal, artifacts and reliability \n",
    "## - value_counts()"
   ]
  },
  {
   "cell_type": "markdown",
   "metadata": {},
   "source": [
    "### 1. \"normal\" label\n",
    "- \"normal\" cases: 185\n",
    "- \"abnormal\" cases: 315"
   ]
  },
  {
   "cell_type": "code",
   "execution_count": 4,
   "metadata": {},
   "outputs": [
    {
     "data": {
      "text/plain": [
       "No (abnormal)    315\n",
       "Yes (normal)     185\n",
       "Name: normal, dtype: int64"
      ]
     },
     "execution_count": 4,
     "metadata": {},
     "output_type": "execute_result"
    }
   ],
   "source": [
    "label[\"normal\"].value_counts()"
   ]
  },
  {
   "cell_type": "markdown",
   "metadata": {},
   "source": [
    "### 2. \"artifacts\" label\n",
    "- artifact1 has 5 categories (4 of them are tiny categories)\n",
    "- artifact2 are all \"none\", i.e. \"artifact 2\" has no additional information."
   ]
  },
  {
   "cell_type": "markdown",
   "metadata": {},
   "source": [
    "**artifact 1**"
   ]
  },
  {
   "cell_type": "code",
   "execution_count": 5,
   "metadata": {},
   "outputs": [
    {
     "name": "stdout",
     "output_type": "stream",
     "text": [
      "1. The length of artifact1 is 5\n",
      "2. artifact1:  ['none' 'blind spot absence' 'superior lid artifact'\n",
      " 'abnormally high sensitivity' 'peripheral rim']\n"
     ]
    },
    {
     "data": {
      "text/plain": [
       "none                           492\n",
       "blind spot absence               3\n",
       "superior lid artifact            2\n",
       "abnormally high sensitivity      2\n",
       "peripheral rim                   1\n",
       "Name: artifact1, dtype: int64"
      ]
     },
     "execution_count": 5,
     "metadata": {},
     "output_type": "execute_result"
    }
   ],
   "source": [
    "print(\"1. The length of artifact1 is\", len(label[\"artifact1\"].unique()))\n",
    "print(\"2. artifact1: \", label[\"artifact1\"].unique())\n",
    "label[\"artifact1\"].value_counts()"
   ]
  },
  {
   "cell_type": "markdown",
   "metadata": {},
   "source": [
    "**artifact 2**"
   ]
  },
  {
   "cell_type": "code",
   "execution_count": 6,
   "metadata": {},
   "outputs": [
    {
     "name": "stdout",
     "output_type": "stream",
     "text": [
      "1. The length of artifact2 is 1\n",
      "2. artifact2:  ['none']\n"
     ]
    },
    {
     "data": {
      "text/plain": [
       "none    500\n",
       "Name: artifact2, dtype: int64"
      ]
     },
     "execution_count": 6,
     "metadata": {},
     "output_type": "execute_result"
    }
   ],
   "source": [
    "print(\"1. The length of artifact2 is\", len(label[\"artifact2\"].unique()))\n",
    "print(\"2. artifact2: \", label[\"artifact2\"].unique())\n",
    "label[\"artifact2\"].value_counts()"
   ]
  },
  {
   "cell_type": "markdown",
   "metadata": {},
   "source": [
    "### 3. \"normal\" cases contain \"artifacts\"?\n",
    "- normal label is totally clean; doesn't contain any artifacts"
   ]
  },
  {
   "cell_type": "code",
   "execution_count": 11,
   "metadata": {},
   "outputs": [
    {
     "data": {
      "text/plain": [
       "none    185\n",
       "Name: artifact1, dtype: int64"
      ]
     },
     "execution_count": 11,
     "metadata": {},
     "output_type": "execute_result"
    }
   ],
   "source": [
    "label[label.normal == \"Yes (normal)\"][\"artifact1\"].value_counts()"
   ]
  },
  {
   "cell_type": "code",
   "execution_count": 12,
   "metadata": {},
   "outputs": [
    {
     "data": {
      "text/plain": [
       "none    185\n",
       "Name: artifact2, dtype: int64"
      ]
     },
     "execution_count": 12,
     "metadata": {},
     "output_type": "execute_result"
    }
   ],
   "source": [
    "label[label.normal == \"Yes (normal)\"][\"artifact2\"].value_counts()"
   ]
  },
  {
   "cell_type": "markdown",
   "metadata": {},
   "source": [
    "### 4. \"abnormal\" cases contain \"artifacts\"?"
   ]
  },
  {
   "cell_type": "markdown",
   "metadata": {},
   "source": [
    "In 315 abnormal cases, there are 8 cases has a specific category."
   ]
  },
  {
   "cell_type": "code",
   "execution_count": 13,
   "metadata": {},
   "outputs": [
    {
     "data": {
      "text/plain": [
       "none                           307\n",
       "blind spot absence               3\n",
       "superior lid artifact            2\n",
       "abnormally high sensitivity      2\n",
       "peripheral rim                   1\n",
       "Name: artifact1, dtype: int64"
      ]
     },
     "execution_count": 13,
     "metadata": {},
     "output_type": "execute_result"
    }
   ],
   "source": [
    "label[label.normal == \"No (abnormal)\"][\"artifact1\"].value_counts()"
   ]
  },
  {
   "cell_type": "code",
   "execution_count": 14,
   "metadata": {},
   "outputs": [
    {
     "data": {
      "text/plain": [
       "none    315\n",
       "Name: artifact2, dtype: int64"
      ]
     },
     "execution_count": 14,
     "metadata": {},
     "output_type": "execute_result"
    }
   ],
   "source": [
    "label[label.normal == \"No (abnormal)\"][\"artifact2\"].value_counts()"
   ]
  },
  {
   "cell_type": "markdown",
   "metadata": {},
   "source": [
    "### 5. \"normal\" cases whether \"reliable\"?"
   ]
  },
  {
   "cell_type": "code",
   "execution_count": 15,
   "metadata": {},
   "outputs": [
    {
     "data": {
      "text/plain": [
       "Yes (reliable)     122\n",
       "No (unreliable)     63\n",
       "Name: reliability, dtype: int64"
      ]
     },
     "execution_count": 15,
     "metadata": {},
     "output_type": "execute_result"
    }
   ],
   "source": [
    "label[label.normal == \"Yes (normal)\"][\"reliability\"].value_counts()"
   ]
  },
  {
   "cell_type": "code",
   "execution_count": 16,
   "metadata": {},
   "outputs": [
    {
     "data": {
      "text/plain": [
       "1    122\n",
       "0     63\n",
       "Name: reliability, dtype: int64"
      ]
     },
     "execution_count": 16,
     "metadata": {},
     "output_type": "execute_result"
    }
   ],
   "source": [
    "label2[label2.normal == 1][\"reliability\"].value_counts()"
   ]
  },
  {
   "cell_type": "markdown",
   "metadata": {},
   "source": [
    "### 6. \"reliability\" label"
   ]
  },
  {
   "cell_type": "code",
   "execution_count": 17,
   "metadata": {},
   "outputs": [
    {
     "data": {
      "text/plain": [
       "Yes (reliable)     353\n",
       "No (unreliable)    147\n",
       "Name: reliability, dtype: int64"
      ]
     },
     "execution_count": 17,
     "metadata": {},
     "output_type": "execute_result"
    }
   ],
   "source": [
    "label[\"reliability\"].value_counts()"
   ]
  },
  {
   "cell_type": "markdown",
   "metadata": {},
   "source": [
    "**Visualization**: normal vs. reliability"
   ]
  },
  {
   "cell_type": "code",
   "execution_count": 22,
   "metadata": {},
   "outputs": [
    {
     "data": {
      "image/png": "[encoded data removed]",
      "text/plain": [
       "<Figure size 432x288 with 1 Axes>"
      ]
     },
     "metadata": {
      "needs_background": "light"
     },
     "output_type": "display_data"
    }
   ],
   "source": [
    "ax = (label2[['normal', 'reliability']].sum()/500).plot(kind='bar')"
   ]
  },
  {
   "cell_type": "code",
   "execution_count": 23,
   "metadata": {},
   "outputs": [
    {
     "data": {
      "text/plain": [
       "Text(0.5, 1.0, '\"normal\" and \"reliability\" category (500 cases)')"
      ]
     },
     "execution_count": 23,
     "metadata": {},
     "output_type": "execute_result"
    },
    {
     "data": {
      "image/png": "[encoded data removed]",
      "text/plain": [
       "<Figure size 720x576 with 1 Axes>"
      ]
     },
     "metadata": {
      "needs_background": "light"
     },
     "output_type": "display_data"
    }
   ],
   "source": [
    "import matplotlib.pyplot as plt\n",
    "plt.figure(figsize=(10,8))\n",
    "\n",
    "ax = (label2[['normal', 'reliability']].sum()/500).plot(kind='bar')\n",
    "\n",
    "plt.ylabel('frequency', fontsize = 16)\n",
    "plt.text(0, 0.375, label2[\"normal\"].sum()/500,  fontsize = 16, color = 'r')      # \"185\"\n",
    "plt.text(1, 0.71, label2[\"reliability\"].sum()/500, fontsize = 16, color = 'r')   # \"353\"\n",
    "plt.title('\"normal\" and \"reliability\" category (500 cases)', fontsize=20)\n",
    "\n",
    "#plt.show()"
   ]
  },
  {
   "cell_type": "markdown",
   "metadata": {},
   "source": [
    "# Part 2. One-hot encoding\n",
    "- defect1\n",
    "- defect2\n",
    "- defect3\n",
    "\n",
    "pd.get_dummies()"
   ]
  },
  {
   "cell_type": "code",
   "execution_count": 24,
   "metadata": {},
   "outputs": [
    {
     "data": {
      "text/plain": [
       "Index(['pdf_filename', 'reliability', 'normal', 'gdefect1', 'gposition1',\n",
       "       'gdefect2', 'gposition2', 'gdefect3', 'gposition3', 'ngdefect1',\n",
       "       'ngposition1', 'ngdefect2', 'ngposition2', 'artifact1', 'artifact2'],\n",
       "      dtype='object')"
      ]
     },
     "execution_count": 24,
     "metadata": {},
     "output_type": "execute_result"
    }
   ],
   "source": [
    "label.columns"
   ]
  },
  {
   "cell_type": "markdown",
   "metadata": {},
   "source": [
    "### 1. \"Defect 1\""
   ]
  },
  {
   "cell_type": "code",
   "execution_count": 25,
   "metadata": {},
   "outputs": [
    {
     "name": "stdout",
     "output_type": "stream",
     "text": [
      "13\n"
     ]
    },
    {
     "data": {
      "text/plain": [
       "none                                         203\n",
       "partial arcuate defect                       115\n",
       "central defect                                34\n",
       "complete arcuate defect                       32\n",
       "generalized constriction (tunnel vision)      26\n",
       "nasal step                                    24\n",
       "paracentral defect                            23\n",
       "temporal-sparing severe visual field loss     13\n",
       "altitudinal defect                            11\n",
       "total loss of field                           10\n",
       "unclassifiable                                 4\n",
       "generalized reduced sensitivity                4\n",
       "temporal wedge                                 1\n",
       "Name: gdefect1, dtype: int64"
      ]
     },
     "execution_count": 25,
     "metadata": {},
     "output_type": "execute_result"
    }
   ],
   "source": [
    "print(len(label[\"gdefect1\"].unique()))\n",
    "label[\"gdefect1\"].value_counts()"
   ]
  },
  {
   "cell_type": "code",
   "execution_count": 26,
   "metadata": {},
   "outputs": [
    {
     "data": {
      "text/plain": [
       "297"
      ]
     },
     "execution_count": 26,
     "metadata": {},
     "output_type": "execute_result"
    }
   ],
   "source": [
    "115+34+32+26+24+23+13+11+10+4+4+1"
   ]
  },
  {
   "cell_type": "code",
   "execution_count": 27,
   "metadata": {},
   "outputs": [
    {
     "name": "stdout",
     "output_type": "stream",
     "text": [
      "The shape of this 1hot is (500, 16)\n"
     ]
    },
    {
     "data": {
      "text/html": [
       "<div>\n",
       "<style scoped>\n",
       "    .dataframe tbody tr th:only-of-type {\n",
       "        vertical-align: middle;\n",
       "    }\n",
       "\n",
       "    .dataframe tbody tr th {\n",
       "        vertical-align: top;\n",
       "    }\n",
       "\n",
       "    .dataframe thead th {\n",
       "        text-align: right;\n",
       "    }\n",
       "</style>\n",
       "<table border=\"1\" class=\"dataframe\">\n",
       "  <thead>\n",
       "    <tr style=\"text-align: right;\">\n",
       "      <th></th>\n",
       "      <th>pdf_filename</th>\n",
       "      <th>normal</th>\n",
       "      <th>artifact1</th>\n",
       "      <th>altitudinal defect</th>\n",
       "      <th>central defect</th>\n",
       "      <th>complete arcuate defect</th>\n",
       "      <th>generalized constriction (tunnel vision)</th>\n",
       "      <th>generalized reduced sensitivity</th>\n",
       "      <th>nasal step</th>\n",
       "      <th>none</th>\n",
       "      <th>paracentral defect</th>\n",
       "      <th>partial arcuate defect</th>\n",
       "      <th>temporal wedge</th>\n",
       "      <th>temporal-sparing severe visual field loss</th>\n",
       "      <th>total loss of field</th>\n",
       "      <th>unclassifiable</th>\n",
       "    </tr>\n",
       "  </thead>\n",
       "  <tbody>\n",
       "    <tr>\n",
       "      <th>0</th>\n",
       "      <td>1.2.276.0.75.2.5.80.25.3.190123133923759.93180...</td>\n",
       "      <td>0</td>\n",
       "      <td>0</td>\n",
       "      <td>0</td>\n",
       "      <td>0</td>\n",
       "      <td>0</td>\n",
       "      <td>0</td>\n",
       "      <td>0</td>\n",
       "      <td>0</td>\n",
       "      <td>0</td>\n",
       "      <td>0</td>\n",
       "      <td>1</td>\n",
       "      <td>0</td>\n",
       "      <td>0</td>\n",
       "      <td>0</td>\n",
       "      <td>0</td>\n",
       "    </tr>\n",
       "    <tr>\n",
       "      <th>1</th>\n",
       "      <td>1.2.276.0.75.2.5.80.25.3.190123133924562.93180...</td>\n",
       "      <td>0</td>\n",
       "      <td>0</td>\n",
       "      <td>0</td>\n",
       "      <td>0</td>\n",
       "      <td>0</td>\n",
       "      <td>0</td>\n",
       "      <td>0</td>\n",
       "      <td>0</td>\n",
       "      <td>0</td>\n",
       "      <td>0</td>\n",
       "      <td>1</td>\n",
       "      <td>0</td>\n",
       "      <td>0</td>\n",
       "      <td>0</td>\n",
       "      <td>0</td>\n",
       "    </tr>\n",
       "    <tr>\n",
       "      <th>2</th>\n",
       "      <td>1.2.276.0.75.2.5.80.25.3.190123134232237.93180...</td>\n",
       "      <td>1</td>\n",
       "      <td>0</td>\n",
       "      <td>0</td>\n",
       "      <td>0</td>\n",
       "      <td>0</td>\n",
       "      <td>0</td>\n",
       "      <td>0</td>\n",
       "      <td>0</td>\n",
       "      <td>1</td>\n",
       "      <td>0</td>\n",
       "      <td>0</td>\n",
       "      <td>0</td>\n",
       "      <td>0</td>\n",
       "      <td>0</td>\n",
       "      <td>0</td>\n",
       "    </tr>\n",
       "    <tr>\n",
       "      <th>3</th>\n",
       "      <td>1.2.276.0.75.2.5.80.25.3.190123134234418.93180...</td>\n",
       "      <td>1</td>\n",
       "      <td>0</td>\n",
       "      <td>0</td>\n",
       "      <td>0</td>\n",
       "      <td>0</td>\n",
       "      <td>0</td>\n",
       "      <td>0</td>\n",
       "      <td>0</td>\n",
       "      <td>1</td>\n",
       "      <td>0</td>\n",
       "      <td>0</td>\n",
       "      <td>0</td>\n",
       "      <td>0</td>\n",
       "      <td>0</td>\n",
       "      <td>0</td>\n",
       "    </tr>\n",
       "    <tr>\n",
       "      <th>4</th>\n",
       "      <td>1.2.276.0.75.2.5.80.25.3.190123134640676.93180...</td>\n",
       "      <td>0</td>\n",
       "      <td>0</td>\n",
       "      <td>0</td>\n",
       "      <td>0</td>\n",
       "      <td>0</td>\n",
       "      <td>0</td>\n",
       "      <td>0</td>\n",
       "      <td>0</td>\n",
       "      <td>0</td>\n",
       "      <td>0</td>\n",
       "      <td>1</td>\n",
       "      <td>0</td>\n",
       "      <td>0</td>\n",
       "      <td>0</td>\n",
       "      <td>0</td>\n",
       "    </tr>\n",
       "  </tbody>\n",
       "</table>\n",
       "</div>"
      ],
      "text/plain": [
       "                                        pdf_filename  normal  artifact1  \\\n",
       "0  1.2.276.0.75.2.5.80.25.3.190123133923759.93180...       0          0   \n",
       "1  1.2.276.0.75.2.5.80.25.3.190123133924562.93180...       0          0   \n",
       "2  1.2.276.0.75.2.5.80.25.3.190123134232237.93180...       1          0   \n",
       "3  1.2.276.0.75.2.5.80.25.3.190123134234418.93180...       1          0   \n",
       "4  1.2.276.0.75.2.5.80.25.3.190123134640676.93180...       0          0   \n",
       "\n",
       "   altitudinal defect  central defect  complete arcuate defect  \\\n",
       "0                   0               0                        0   \n",
       "1                   0               0                        0   \n",
       "2                   0               0                        0   \n",
       "3                   0               0                        0   \n",
       "4                   0               0                        0   \n",
       "\n",
       "   generalized constriction (tunnel vision)  generalized reduced sensitivity  \\\n",
       "0                                         0                                0   \n",
       "1                                         0                                0   \n",
       "2                                         0                                0   \n",
       "3                                         0                                0   \n",
       "4                                         0                                0   \n",
       "\n",
       "   nasal step  none  paracentral defect  partial arcuate defect  \\\n",
       "0           0     0                   0                       1   \n",
       "1           0     0                   0                       1   \n",
       "2           0     1                   0                       0   \n",
       "3           0     1                   0                       0   \n",
       "4           0     0                   0                       1   \n",
       "\n",
       "   temporal wedge  temporal-sparing severe visual field loss  \\\n",
       "0               0                                          0   \n",
       "1               0                                          0   \n",
       "2               0                                          0   \n",
       "3               0                                          0   \n",
       "4               0                                          0   \n",
       "\n",
       "   total loss of field  unclassifiable  \n",
       "0                    0               0  \n",
       "1                    0               0  \n",
       "2                    0               0  \n",
       "3                    0               0  \n",
       "4                    0               0  "
      ]
     },
     "execution_count": 27,
     "metadata": {},
     "output_type": "execute_result"
    }
   ],
   "source": [
    "gdefect1_1hot = pd.get_dummies(label['gdefect1'])\n",
    "gdefect1_1hot = pd.concat([label2[[\"pdf_filename\", \"normal\", \"artifact1\"]], gdefect1_1hot], axis = 1)\n",
    "print(\"The shape of this 1hot is\", gdefect1_1hot.shape)\n",
    "gdefect1_1hot.head()"
   ]
  },
  {
   "cell_type": "code",
   "execution_count": 28,
   "metadata": {},
   "outputs": [
    {
     "data": {
      "text/plain": [
       "Index(['pdf_filename', 'normal', 'artifact1', 'altitudinal defect',\n",
       "       'central defect', 'complete arcuate defect',\n",
       "       'generalized constriction (tunnel vision)',\n",
       "       'generalized reduced sensitivity', 'nasal step', 'none',\n",
       "       'paracentral defect', 'partial arcuate defect', 'temporal wedge',\n",
       "       'temporal-sparing severe visual field loss', 'total loss of field',\n",
       "       'unclassifiable'],\n",
       "      dtype='object')"
      ]
     },
     "execution_count": 28,
     "metadata": {},
     "output_type": "execute_result"
    }
   ],
   "source": [
    "gdefect1_1hot.columns"
   ]
  },
  {
   "cell_type": "code",
   "execution_count": 29,
   "metadata": {},
   "outputs": [
    {
     "name": "stdout",
     "output_type": "stream",
     "text": [
      "The length of this list is 13\n"
     ]
    }
   ],
   "source": [
    "l = ['altitudinal defect', 'central defect',\n",
    "       'complete arcuate defect', 'generalized constriction (tunnel vision)',\n",
    "       'generalized reduced sensitivity', 'nasal step', 'none',\n",
    "       'paracentral defect', 'partial arcuate defect', 'temporal wedge',\n",
    "       'temporal-sparing severe visual field loss', 'total loss of field',\n",
    "       'unclassifiable']\n",
    "print(\"The length of this list is\", len(l))"
   ]
  },
  {
   "cell_type": "code",
   "execution_count": 30,
   "metadata": {},
   "outputs": [
    {
     "data": {
      "text/plain": [
       "Text(0.5, 1.0, 'defect 1 (13 categories)')"
      ]
     },
     "execution_count": 30,
     "metadata": {},
     "output_type": "execute_result"
    },
    {
     "data": {
      "image/png": "[encoded data removed]",
      "text/plain": [
       "<Figure size 720x576 with 1 Axes>"
      ]
     },
     "metadata": {
      "needs_background": "light"
     },
     "output_type": "display_data"
    }
   ],
   "source": [
    "plt.figure(figsize=(10,8))\n",
    "\n",
    "ax = (gdefect1_1hot[l].sum()/500).plot(kind='bar')\n",
    "\n",
    "plt.ylabel('frequency', fontsize = 16)\n",
    "#plt.text(1, 0.71, label2[\"reliability\"].sum()/500, fontsize = 16, color = 'r')   # \"353\"\n",
    "plt.title('defect 1 (13 categories)', fontsize=20)"
   ]
  },
  {
   "cell_type": "markdown",
   "metadata": {},
   "source": [
    "**Check**: all \"normal\" cases are defect1 \"none\"."
   ]
  },
  {
   "cell_type": "code",
   "execution_count": 31,
   "metadata": {},
   "outputs": [
    {
     "name": "stdout",
     "output_type": "stream",
     "text": [
      "The number of defect none is 203\n"
     ]
    },
    {
     "data": {
      "text/plain": [
       "1    185\n",
       "Name: none, dtype: int64"
      ]
     },
     "execution_count": 31,
     "metadata": {},
     "output_type": "execute_result"
    }
   ],
   "source": [
    "print(\"The number of defect none is\", gdefect1_1hot[\"none\"].sum())\n",
    "gdefect1_1hot[gdefect1_1hot.normal == 1][\"none\"].value_counts()"
   ]
  },
  {
   "cell_type": "markdown",
   "metadata": {},
   "source": [
    "**Check**: 18 of the defect1 \"none\" are not \"normal\". They could have defect2, defect3 , non-g-defect1, non-g-defect2 and artifact1?"
   ]
  },
  {
   "cell_type": "code",
   "execution_count": 32,
   "metadata": {},
   "outputs": [
    {
     "name": "stdout",
     "output_type": "stream",
     "text": [
      "The number of defect none is 203\n"
     ]
    },
    {
     "data": {
      "text/plain": [
       "1    185\n",
       "0     18\n",
       "Name: normal, dtype: int64"
      ]
     },
     "execution_count": 32,
     "metadata": {},
     "output_type": "execute_result"
    }
   ],
   "source": [
    "print(\"The number of defect none is\", gdefect1_1hot[\"none\"].sum())\n",
    "gdefect1_1hot[gdefect1_1hot.none == 1][\"normal\"].value_counts()"
   ]
  },
  {
   "cell_type": "markdown",
   "metadata": {},
   "source": [
    "**Check**: 8 of the defect1 \"none\" have artifact1. The rest of the 10 could be defect2, defect3 , non-g-defect1 and non-g-defect2?"
   ]
  },
  {
   "cell_type": "code",
   "execution_count": 33,
   "metadata": {},
   "outputs": [
    {
     "name": "stdout",
     "output_type": "stream",
     "text": [
      "The number of defect none is 203\n"
     ]
    },
    {
     "data": {
      "text/plain": [
       "0    195\n",
       "4      3\n",
       "2      2\n",
       "5      2\n",
       "1      1\n",
       "Name: artifact1, dtype: int64"
      ]
     },
     "execution_count": 33,
     "metadata": {},
     "output_type": "execute_result"
    }
   ],
   "source": [
    "print(\"The number of defect none is\", gdefect1_1hot[\"none\"].sum())\n",
    "gdefect1_1hot[gdefect1_1hot.none == 1][\"artifact1\"].value_counts()"
   ]
  },
  {
   "cell_type": "markdown",
   "metadata": {},
   "source": [
    "**Location info**"
   ]
  },
  {
   "cell_type": "code",
   "execution_count": 34,
   "metadata": {},
   "outputs": [
    {
     "name": "stdout",
     "output_type": "stream",
     "text": [
      "['inferior' nan 'superior']\n",
      "3\n"
     ]
    },
    {
     "data": {
      "text/plain": [
       "inferior    158\n",
       "superior     82\n",
       "Name: gposition1, dtype: int64"
      ]
     },
     "execution_count": 34,
     "metadata": {},
     "output_type": "execute_result"
    }
   ],
   "source": [
    "print(label[\"gposition1\"].unique())\n",
    "print(len(label[\"gposition1\"].unique()))\n",
    "label[\"gposition1\"].value_counts()"
   ]
  },
  {
   "cell_type": "markdown",
   "metadata": {},
   "source": [
    "### 2. \"Defect 2\""
   ]
  },
  {
   "cell_type": "code",
   "execution_count": 35,
   "metadata": {},
   "outputs": [
    {
     "name": "stdout",
     "output_type": "stream",
     "text": [
      "8\n"
     ]
    },
    {
     "data": {
      "text/plain": [
       "none                               421\n",
       "nasal step                          30\n",
       "complete arcuate defect             18\n",
       "partial arcuate defect              15\n",
       "central defect                      11\n",
       "altitudinal defect                   2\n",
       "paracentral defect                   2\n",
       "generalized reduced sensitivity      1\n",
       "Name: gdefect2, dtype: int64"
      ]
     },
     "execution_count": 35,
     "metadata": {},
     "output_type": "execute_result"
    }
   ],
   "source": [
    "print(len(label[\"gdefect2\"].unique()))\n",
    "label[\"gdefect2\"].value_counts()"
   ]
  },
  {
   "cell_type": "code",
   "execution_count": 36,
   "metadata": {},
   "outputs": [
    {
     "data": {
      "text/plain": [
       "79"
      ]
     },
     "execution_count": 36,
     "metadata": {},
     "output_type": "execute_result"
    }
   ],
   "source": [
    "30 + 18 + 15 + 11 + 2 + 2 + 1"
   ]
  },
  {
   "cell_type": "code",
   "execution_count": 37,
   "metadata": {},
   "outputs": [
    {
     "name": "stdout",
     "output_type": "stream",
     "text": [
      "The shape of this 1hot is (500, 11)\n"
     ]
    },
    {
     "data": {
      "text/html": [
       "<div>\n",
       "<style scoped>\n",
       "    .dataframe tbody tr th:only-of-type {\n",
       "        vertical-align: middle;\n",
       "    }\n",
       "\n",
       "    .dataframe tbody tr th {\n",
       "        vertical-align: top;\n",
       "    }\n",
       "\n",
       "    .dataframe thead th {\n",
       "        text-align: right;\n",
       "    }\n",
       "</style>\n",
       "<table border=\"1\" class=\"dataframe\">\n",
       "  <thead>\n",
       "    <tr style=\"text-align: right;\">\n",
       "      <th></th>\n",
       "      <th>pdf_filename</th>\n",
       "      <th>normal</th>\n",
       "      <th>artifact1</th>\n",
       "      <th>altitudinal defect</th>\n",
       "      <th>central defect</th>\n",
       "      <th>complete arcuate defect</th>\n",
       "      <th>generalized reduced sensitivity</th>\n",
       "      <th>nasal step</th>\n",
       "      <th>none</th>\n",
       "      <th>paracentral defect</th>\n",
       "      <th>partial arcuate defect</th>\n",
       "    </tr>\n",
       "  </thead>\n",
       "  <tbody>\n",
       "    <tr>\n",
       "      <th>0</th>\n",
       "      <td>1.2.276.0.75.2.5.80.25.3.190123133923759.93180...</td>\n",
       "      <td>0</td>\n",
       "      <td>0</td>\n",
       "      <td>0</td>\n",
       "      <td>0</td>\n",
       "      <td>0</td>\n",
       "      <td>0</td>\n",
       "      <td>0</td>\n",
       "      <td>1</td>\n",
       "      <td>0</td>\n",
       "      <td>0</td>\n",
       "    </tr>\n",
       "    <tr>\n",
       "      <th>1</th>\n",
       "      <td>1.2.276.0.75.2.5.80.25.3.190123133924562.93180...</td>\n",
       "      <td>0</td>\n",
       "      <td>0</td>\n",
       "      <td>0</td>\n",
       "      <td>0</td>\n",
       "      <td>0</td>\n",
       "      <td>0</td>\n",
       "      <td>0</td>\n",
       "      <td>1</td>\n",
       "      <td>0</td>\n",
       "      <td>0</td>\n",
       "    </tr>\n",
       "    <tr>\n",
       "      <th>2</th>\n",
       "      <td>1.2.276.0.75.2.5.80.25.3.190123134232237.93180...</td>\n",
       "      <td>1</td>\n",
       "      <td>0</td>\n",
       "      <td>0</td>\n",
       "      <td>0</td>\n",
       "      <td>0</td>\n",
       "      <td>0</td>\n",
       "      <td>0</td>\n",
       "      <td>1</td>\n",
       "      <td>0</td>\n",
       "      <td>0</td>\n",
       "    </tr>\n",
       "    <tr>\n",
       "      <th>3</th>\n",
       "      <td>1.2.276.0.75.2.5.80.25.3.190123134234418.93180...</td>\n",
       "      <td>1</td>\n",
       "      <td>0</td>\n",
       "      <td>0</td>\n",
       "      <td>0</td>\n",
       "      <td>0</td>\n",
       "      <td>0</td>\n",
       "      <td>0</td>\n",
       "      <td>1</td>\n",
       "      <td>0</td>\n",
       "      <td>0</td>\n",
       "    </tr>\n",
       "    <tr>\n",
       "      <th>4</th>\n",
       "      <td>1.2.276.0.75.2.5.80.25.3.190123134640676.93180...</td>\n",
       "      <td>0</td>\n",
       "      <td>0</td>\n",
       "      <td>0</td>\n",
       "      <td>0</td>\n",
       "      <td>0</td>\n",
       "      <td>0</td>\n",
       "      <td>0</td>\n",
       "      <td>1</td>\n",
       "      <td>0</td>\n",
       "      <td>0</td>\n",
       "    </tr>\n",
       "  </tbody>\n",
       "</table>\n",
       "</div>"
      ],
      "text/plain": [
       "                                        pdf_filename  normal  artifact1  \\\n",
       "0  1.2.276.0.75.2.5.80.25.3.190123133923759.93180...       0          0   \n",
       "1  1.2.276.0.75.2.5.80.25.3.190123133924562.93180...       0          0   \n",
       "2  1.2.276.0.75.2.5.80.25.3.190123134232237.93180...       1          0   \n",
       "3  1.2.276.0.75.2.5.80.25.3.190123134234418.93180...       1          0   \n",
       "4  1.2.276.0.75.2.5.80.25.3.190123134640676.93180...       0          0   \n",
       "\n",
       "   altitudinal defect  central defect  complete arcuate defect  \\\n",
       "0                   0               0                        0   \n",
       "1                   0               0                        0   \n",
       "2                   0               0                        0   \n",
       "3                   0               0                        0   \n",
       "4                   0               0                        0   \n",
       "\n",
       "   generalized reduced sensitivity  nasal step  none  paracentral defect  \\\n",
       "0                                0           0     1                   0   \n",
       "1                                0           0     1                   0   \n",
       "2                                0           0     1                   0   \n",
       "3                                0           0     1                   0   \n",
       "4                                0           0     1                   0   \n",
       "\n",
       "   partial arcuate defect  \n",
       "0                       0  \n",
       "1                       0  \n",
       "2                       0  \n",
       "3                       0  \n",
       "4                       0  "
      ]
     },
     "execution_count": 37,
     "metadata": {},
     "output_type": "execute_result"
    }
   ],
   "source": [
    "gdefect2_1hot = pd.get_dummies(label['gdefect2'])\n",
    "gdefect2_1hot = pd.concat([label2[[\"pdf_filename\", \"normal\", \"artifact1\"]], gdefect2_1hot], axis = 1)\n",
    "print(\"The shape of this 1hot is\", gdefect2_1hot.shape)\n",
    "gdefect2_1hot.head()"
   ]
  },
  {
   "cell_type": "code",
   "execution_count": 38,
   "metadata": {},
   "outputs": [
    {
     "data": {
      "text/plain": [
       "Index(['pdf_filename', 'normal', 'artifact1', 'altitudinal defect',\n",
       "       'central defect', 'complete arcuate defect',\n",
       "       'generalized reduced sensitivity', 'nasal step', 'none',\n",
       "       'paracentral defect', 'partial arcuate defect'],\n",
       "      dtype='object')"
      ]
     },
     "execution_count": 38,
     "metadata": {},
     "output_type": "execute_result"
    }
   ],
   "source": [
    "gdefect2_1hot.columns"
   ]
  },
  {
   "cell_type": "code",
   "execution_count": 39,
   "metadata": {},
   "outputs": [
    {
     "name": "stdout",
     "output_type": "stream",
     "text": [
      "The length of this list is 8\n"
     ]
    }
   ],
   "source": [
    "l = ['altitudinal defect',\n",
    "       'central defect', 'complete arcuate defect',\n",
    "       'generalized reduced sensitivity', 'nasal step', 'none',\n",
    "       'paracentral defect', 'partial arcuate defect']\n",
    "print(\"The length of this list is\", len(l))"
   ]
  },
  {
   "cell_type": "code",
   "execution_count": 40,
   "metadata": {},
   "outputs": [
    {
     "data": {
      "text/plain": [
       "Text(0.5, 1.0, 'defect 2 (8 categories)')"
      ]
     },
     "execution_count": 40,
     "metadata": {},
     "output_type": "execute_result"
    },
    {
     "data": {
      "image/png": "[encoded data removed]",
      "text/plain": [
       "<Figure size 720x576 with 1 Axes>"
      ]
     },
     "metadata": {
      "needs_background": "light"
     },
     "output_type": "display_data"
    }
   ],
   "source": [
    "plt.figure(figsize=(10,8))\n",
    "\n",
    "ax = (gdefect2_1hot[l].sum()/500).plot(kind='bar')\n",
    "\n",
    "plt.ylabel('frequency', fontsize = 16)\n",
    "#plt.text(1, 0.71, label2[\"reliability\"].sum()/500, fontsize = 16, color = 'r')   # \"353\"\n",
    "plt.title('defect 2 (8 categories)', fontsize=20)"
   ]
  },
  {
   "cell_type": "code",
   "execution_count": null,
   "metadata": {},
   "outputs": [],
   "source": []
  },
  {
   "cell_type": "code",
   "execution_count": 41,
   "metadata": {},
   "outputs": [
    {
     "name": "stdout",
     "output_type": "stream",
     "text": [
      "The number of defect none is 421\n"
     ]
    },
    {
     "data": {
      "text/plain": [
       "1    185\n",
       "Name: none, dtype: int64"
      ]
     },
     "execution_count": 41,
     "metadata": {},
     "output_type": "execute_result"
    }
   ],
   "source": [
    "print(\"The number of defect none is\", gdefect2_1hot[\"none\"].sum())\n",
    "gdefect2_1hot[gdefect2_1hot.normal == 1][\"none\"].value_counts()"
   ]
  },
  {
   "cell_type": "code",
   "execution_count": null,
   "metadata": {},
   "outputs": [],
   "source": []
  },
  {
   "cell_type": "code",
   "execution_count": 42,
   "metadata": {},
   "outputs": [
    {
     "name": "stdout",
     "output_type": "stream",
     "text": [
      "The number of defect none is 421\n"
     ]
    },
    {
     "data": {
      "text/plain": [
       "0    236\n",
       "1    185\n",
       "Name: normal, dtype: int64"
      ]
     },
     "execution_count": 42,
     "metadata": {},
     "output_type": "execute_result"
    }
   ],
   "source": [
    "print(\"The number of defect none is\", gdefect2_1hot[\"none\"].sum())\n",
    "gdefect2_1hot[gdefect2_1hot.none == 1][\"normal\"].value_counts()"
   ]
  },
  {
   "cell_type": "code",
   "execution_count": null,
   "metadata": {},
   "outputs": [],
   "source": []
  },
  {
   "cell_type": "code",
   "execution_count": 43,
   "metadata": {},
   "outputs": [
    {
     "name": "stdout",
     "output_type": "stream",
     "text": [
      "The number of defect none is 421\n"
     ]
    },
    {
     "data": {
      "text/plain": [
       "0    413\n",
       "4      3\n",
       "2      2\n",
       "5      2\n",
       "1      1\n",
       "Name: artifact1, dtype: int64"
      ]
     },
     "execution_count": 43,
     "metadata": {},
     "output_type": "execute_result"
    }
   ],
   "source": [
    "print(\"The number of defect none is\", gdefect2_1hot[\"none\"].sum())\n",
    "gdefect2_1hot[gdefect2_1hot.none == 1][\"artifact1\"].value_counts()"
   ]
  },
  {
   "cell_type": "markdown",
   "metadata": {},
   "source": [
    "**Location info**"
   ]
  },
  {
   "cell_type": "code",
   "execution_count": 44,
   "metadata": {},
   "outputs": [
    {
     "name": "stdout",
     "output_type": "stream",
     "text": [
      "[nan 'inferior' 'superior']\n",
      "3\n"
     ]
    },
    {
     "data": {
      "text/plain": [
       "superior    42\n",
       "inferior    36\n",
       "Name: gposition2, dtype: int64"
      ]
     },
     "execution_count": 44,
     "metadata": {},
     "output_type": "execute_result"
    }
   ],
   "source": [
    "print(label[\"gposition2\"].unique())\n",
    "print(len(label[\"gposition2\"].unique()))\n",
    "label[\"gposition2\"].value_counts()"
   ]
  },
  {
   "cell_type": "markdown",
   "metadata": {},
   "source": [
    "### 3. \"Defect 3\""
   ]
  },
  {
   "cell_type": "code",
   "execution_count": 45,
   "metadata": {},
   "outputs": [
    {
     "name": "stdout",
     "output_type": "stream",
     "text": [
      "7\n"
     ]
    },
    {
     "data": {
      "text/plain": [
       "none                       486\n",
       "partial arcuate defect       6\n",
       "nasal step                   4\n",
       "temporal wedge               1\n",
       "complete arcuate defect      1\n",
       "altitudinal defect           1\n",
       "paracentral defect           1\n",
       "Name: gdefect3, dtype: int64"
      ]
     },
     "execution_count": 45,
     "metadata": {},
     "output_type": "execute_result"
    }
   ],
   "source": [
    "print(len(label[\"gdefect3\"].unique()))\n",
    "label[\"gdefect3\"].value_counts()"
   ]
  },
  {
   "cell_type": "code",
   "execution_count": 46,
   "metadata": {},
   "outputs": [
    {
     "data": {
      "text/plain": [
       "14"
      ]
     },
     "execution_count": 46,
     "metadata": {},
     "output_type": "execute_result"
    }
   ],
   "source": [
    "6 + 4 + 1 + 1 + 1 + 1"
   ]
  },
  {
   "cell_type": "code",
   "execution_count": 47,
   "metadata": {},
   "outputs": [
    {
     "name": "stdout",
     "output_type": "stream",
     "text": [
      "The shape of this 1hot is (500, 10)\n"
     ]
    },
    {
     "data": {
      "text/html": [
       "<div>\n",
       "<style scoped>\n",
       "    .dataframe tbody tr th:only-of-type {\n",
       "        vertical-align: middle;\n",
       "    }\n",
       "\n",
       "    .dataframe tbody tr th {\n",
       "        vertical-align: top;\n",
       "    }\n",
       "\n",
       "    .dataframe thead th {\n",
       "        text-align: right;\n",
       "    }\n",
       "</style>\n",
       "<table border=\"1\" class=\"dataframe\">\n",
       "  <thead>\n",
       "    <tr style=\"text-align: right;\">\n",
       "      <th></th>\n",
       "      <th>pdf_filename</th>\n",
       "      <th>normal</th>\n",
       "      <th>artifact1</th>\n",
       "      <th>altitudinal defect</th>\n",
       "      <th>complete arcuate defect</th>\n",
       "      <th>nasal step</th>\n",
       "      <th>none</th>\n",
       "      <th>paracentral defect</th>\n",
       "      <th>partial arcuate defect</th>\n",
       "      <th>temporal wedge</th>\n",
       "    </tr>\n",
       "  </thead>\n",
       "  <tbody>\n",
       "    <tr>\n",
       "      <th>0</th>\n",
       "      <td>1.2.276.0.75.2.5.80.25.3.190123133923759.93180...</td>\n",
       "      <td>0</td>\n",
       "      <td>0</td>\n",
       "      <td>0</td>\n",
       "      <td>0</td>\n",
       "      <td>0</td>\n",
       "      <td>1</td>\n",
       "      <td>0</td>\n",
       "      <td>0</td>\n",
       "      <td>0</td>\n",
       "    </tr>\n",
       "    <tr>\n",
       "      <th>1</th>\n",
       "      <td>1.2.276.0.75.2.5.80.25.3.190123133924562.93180...</td>\n",
       "      <td>0</td>\n",
       "      <td>0</td>\n",
       "      <td>0</td>\n",
       "      <td>0</td>\n",
       "      <td>0</td>\n",
       "      <td>1</td>\n",
       "      <td>0</td>\n",
       "      <td>0</td>\n",
       "      <td>0</td>\n",
       "    </tr>\n",
       "    <tr>\n",
       "      <th>2</th>\n",
       "      <td>1.2.276.0.75.2.5.80.25.3.190123134232237.93180...</td>\n",
       "      <td>1</td>\n",
       "      <td>0</td>\n",
       "      <td>0</td>\n",
       "      <td>0</td>\n",
       "      <td>0</td>\n",
       "      <td>1</td>\n",
       "      <td>0</td>\n",
       "      <td>0</td>\n",
       "      <td>0</td>\n",
       "    </tr>\n",
       "    <tr>\n",
       "      <th>3</th>\n",
       "      <td>1.2.276.0.75.2.5.80.25.3.190123134234418.93180...</td>\n",
       "      <td>1</td>\n",
       "      <td>0</td>\n",
       "      <td>0</td>\n",
       "      <td>0</td>\n",
       "      <td>0</td>\n",
       "      <td>1</td>\n",
       "      <td>0</td>\n",
       "      <td>0</td>\n",
       "      <td>0</td>\n",
       "    </tr>\n",
       "    <tr>\n",
       "      <th>4</th>\n",
       "      <td>1.2.276.0.75.2.5.80.25.3.190123134640676.93180...</td>\n",
       "      <td>0</td>\n",
       "      <td>0</td>\n",
       "      <td>0</td>\n",
       "      <td>0</td>\n",
       "      <td>0</td>\n",
       "      <td>1</td>\n",
       "      <td>0</td>\n",
       "      <td>0</td>\n",
       "      <td>0</td>\n",
       "    </tr>\n",
       "  </tbody>\n",
       "</table>\n",
       "</div>"
      ],
      "text/plain": [
       "                                        pdf_filename  normal  artifact1  \\\n",
       "0  1.2.276.0.75.2.5.80.25.3.190123133923759.93180...       0          0   \n",
       "1  1.2.276.0.75.2.5.80.25.3.190123133924562.93180...       0          0   \n",
       "2  1.2.276.0.75.2.5.80.25.3.190123134232237.93180...       1          0   \n",
       "3  1.2.276.0.75.2.5.80.25.3.190123134234418.93180...       1          0   \n",
       "4  1.2.276.0.75.2.5.80.25.3.190123134640676.93180...       0          0   \n",
       "\n",
       "   altitudinal defect  complete arcuate defect  nasal step  none  \\\n",
       "0                   0                        0           0     1   \n",
       "1                   0                        0           0     1   \n",
       "2                   0                        0           0     1   \n",
       "3                   0                        0           0     1   \n",
       "4                   0                        0           0     1   \n",
       "\n",
       "   paracentral defect  partial arcuate defect  temporal wedge  \n",
       "0                   0                       0               0  \n",
       "1                   0                       0               0  \n",
       "2                   0                       0               0  \n",
       "3                   0                       0               0  \n",
       "4                   0                       0               0  "
      ]
     },
     "execution_count": 47,
     "metadata": {},
     "output_type": "execute_result"
    }
   ],
   "source": [
    "gdefect3_1hot = pd.get_dummies(label['gdefect3'])\n",
    "gdefect3_1hot = pd.concat([label2[[\"pdf_filename\", \"normal\", \"artifact1\"]], gdefect3_1hot], axis = 1)\n",
    "print(\"The shape of this 1hot is\", gdefect3_1hot.shape)\n",
    "gdefect3_1hot.head()"
   ]
  },
  {
   "cell_type": "code",
   "execution_count": 48,
   "metadata": {},
   "outputs": [
    {
     "data": {
      "text/plain": [
       "Index(['pdf_filename', 'normal', 'artifact1', 'altitudinal defect',\n",
       "       'complete arcuate defect', 'nasal step', 'none', 'paracentral defect',\n",
       "       'partial arcuate defect', 'temporal wedge'],\n",
       "      dtype='object')"
      ]
     },
     "execution_count": 48,
     "metadata": {},
     "output_type": "execute_result"
    }
   ],
   "source": [
    "gdefect3_1hot.columns"
   ]
  },
  {
   "cell_type": "code",
   "execution_count": 49,
   "metadata": {},
   "outputs": [
    {
     "name": "stdout",
     "output_type": "stream",
     "text": [
      "The length of this list is 7\n"
     ]
    }
   ],
   "source": [
    "l = ['altitudinal defect',\n",
    "       'complete arcuate defect', 'nasal step', 'none', 'paracentral defect',\n",
    "       'partial arcuate defect', 'temporal wedge']\n",
    "print(\"The length of this list is\", len(l))"
   ]
  },
  {
   "cell_type": "code",
   "execution_count": 50,
   "metadata": {},
   "outputs": [
    {
     "data": {
      "text/plain": [
       "Text(0.5, 1.0, 'defect 3 (7 categories)')"
      ]
     },
     "execution_count": 50,
     "metadata": {},
     "output_type": "execute_result"
    },
    {
     "data": {
      "image/png": "[encoded data removed]",
      "text/plain": [
       "<Figure size 720x576 with 1 Axes>"
      ]
     },
     "metadata": {
      "needs_background": "light"
     },
     "output_type": "display_data"
    }
   ],
   "source": [
    "plt.figure(figsize=(10,8))\n",
    "\n",
    "ax = (gdefect3_1hot[l].sum()/500).plot(kind='bar')\n",
    "\n",
    "plt.ylabel('frequency', fontsize = 16)\n",
    "#plt.text(1, 0.71, label2[\"reliability\"].sum()/500, fontsize = 16, color = 'r')   # \"353\"\n",
    "plt.title('defect 3 (7 categories)', fontsize=20)"
   ]
  },
  {
   "cell_type": "code",
   "execution_count": null,
   "metadata": {},
   "outputs": [],
   "source": []
  },
  {
   "cell_type": "code",
   "execution_count": 51,
   "metadata": {},
   "outputs": [
    {
     "name": "stdout",
     "output_type": "stream",
     "text": [
      "The number of defect none is 486\n"
     ]
    },
    {
     "data": {
      "text/plain": [
       "1    185\n",
       "Name: none, dtype: int64"
      ]
     },
     "execution_count": 51,
     "metadata": {},
     "output_type": "execute_result"
    }
   ],
   "source": [
    "print(\"The number of defect none is\", gdefect3_1hot[\"none\"].sum())\n",
    "gdefect3_1hot[gdefect3_1hot.normal == 1][\"none\"].value_counts()"
   ]
  },
  {
   "cell_type": "code",
   "execution_count": null,
   "metadata": {},
   "outputs": [],
   "source": []
  },
  {
   "cell_type": "code",
   "execution_count": 52,
   "metadata": {},
   "outputs": [
    {
     "name": "stdout",
     "output_type": "stream",
     "text": [
      "The number of defect none is 486\n"
     ]
    },
    {
     "data": {
      "text/plain": [
       "0    301\n",
       "1    185\n",
       "Name: normal, dtype: int64"
      ]
     },
     "execution_count": 52,
     "metadata": {},
     "output_type": "execute_result"
    }
   ],
   "source": [
    "print(\"The number of defect none is\", gdefect3_1hot[\"none\"].sum())\n",
    "gdefect3_1hot[gdefect3_1hot.none == 1][\"normal\"].value_counts()"
   ]
  },
  {
   "cell_type": "code",
   "execution_count": null,
   "metadata": {},
   "outputs": [],
   "source": []
  },
  {
   "cell_type": "code",
   "execution_count": 53,
   "metadata": {},
   "outputs": [
    {
     "name": "stdout",
     "output_type": "stream",
     "text": [
      "The number of defect none is 486\n"
     ]
    },
    {
     "data": {
      "text/plain": [
       "0    478\n",
       "4      3\n",
       "2      2\n",
       "5      2\n",
       "1      1\n",
       "Name: artifact1, dtype: int64"
      ]
     },
     "execution_count": 53,
     "metadata": {},
     "output_type": "execute_result"
    }
   ],
   "source": [
    "print(\"The number of defect none is\", gdefect3_1hot[\"none\"].sum())\n",
    "gdefect3_1hot[gdefect3_1hot.none == 1][\"artifact1\"].value_counts()"
   ]
  },
  {
   "cell_type": "markdown",
   "metadata": {},
   "source": [
    "**Location info**"
   ]
  },
  {
   "cell_type": "code",
   "execution_count": 54,
   "metadata": {},
   "outputs": [
    {
     "name": "stdout",
     "output_type": "stream",
     "text": [
      "[nan 'superior' 'inferior']\n",
      "3\n"
     ]
    },
    {
     "data": {
      "text/plain": [
       "superior    8\n",
       "inferior    5\n",
       "Name: gposition3, dtype: int64"
      ]
     },
     "execution_count": 54,
     "metadata": {},
     "output_type": "execute_result"
    }
   ],
   "source": [
    "print(label[\"gposition3\"].unique())\n",
    "print(len(label[\"gposition3\"].unique()))\n",
    "label[\"gposition3\"].value_counts()"
   ]
  },
  {
   "cell_type": "markdown",
   "metadata": {},
   "source": [
    "### 4. \"non-G Defect 1\""
   ]
  },
  {
   "cell_type": "code",
   "execution_count": 55,
   "metadata": {},
   "outputs": [
    {
     "name": "stdout",
     "output_type": "stream",
     "text": [
      "5\n"
     ]
    },
    {
     "data": {
      "text/plain": [
       "none                                               478\n",
       "generalized reduced sensitivity (media opacity)     10\n",
       "hemianopia                                           6\n",
       "enlarged blind spot                                  4\n",
       "non-glaucomatous central loss                        2\n",
       "Name: ngdefect1, dtype: int64"
      ]
     },
     "execution_count": 55,
     "metadata": {},
     "output_type": "execute_result"
    }
   ],
   "source": [
    "print(len(label[\"ngdefect1\"].unique()))\n",
    "label[\"ngdefect1\"].value_counts()"
   ]
  },
  {
   "cell_type": "code",
   "execution_count": 56,
   "metadata": {},
   "outputs": [
    {
     "data": {
      "text/plain": [
       "22"
      ]
     },
     "execution_count": 56,
     "metadata": {},
     "output_type": "execute_result"
    }
   ],
   "source": [
    "10 + 6 + 4 + 2"
   ]
  },
  {
   "cell_type": "code",
   "execution_count": 57,
   "metadata": {},
   "outputs": [
    {
     "name": "stdout",
     "output_type": "stream",
     "text": [
      "The shape of this 1hot is (500, 8)\n"
     ]
    },
    {
     "data": {
      "text/html": [
       "<div>\n",
       "<style scoped>\n",
       "    .dataframe tbody tr th:only-of-type {\n",
       "        vertical-align: middle;\n",
       "    }\n",
       "\n",
       "    .dataframe tbody tr th {\n",
       "        vertical-align: top;\n",
       "    }\n",
       "\n",
       "    .dataframe thead th {\n",
       "        text-align: right;\n",
       "    }\n",
       "</style>\n",
       "<table border=\"1\" class=\"dataframe\">\n",
       "  <thead>\n",
       "    <tr style=\"text-align: right;\">\n",
       "      <th></th>\n",
       "      <th>pdf_filename</th>\n",
       "      <th>normal</th>\n",
       "      <th>artifact1</th>\n",
       "      <th>enlarged blind spot</th>\n",
       "      <th>generalized reduced sensitivity (media opacity)</th>\n",
       "      <th>hemianopia</th>\n",
       "      <th>non-glaucomatous central loss</th>\n",
       "      <th>none</th>\n",
       "    </tr>\n",
       "  </thead>\n",
       "  <tbody>\n",
       "    <tr>\n",
       "      <th>0</th>\n",
       "      <td>1.2.276.0.75.2.5.80.25.3.190123133923759.93180...</td>\n",
       "      <td>0</td>\n",
       "      <td>0</td>\n",
       "      <td>0</td>\n",
       "      <td>0</td>\n",
       "      <td>0</td>\n",
       "      <td>0</td>\n",
       "      <td>1</td>\n",
       "    </tr>\n",
       "    <tr>\n",
       "      <th>1</th>\n",
       "      <td>1.2.276.0.75.2.5.80.25.3.190123133924562.93180...</td>\n",
       "      <td>0</td>\n",
       "      <td>0</td>\n",
       "      <td>0</td>\n",
       "      <td>0</td>\n",
       "      <td>0</td>\n",
       "      <td>0</td>\n",
       "      <td>1</td>\n",
       "    </tr>\n",
       "    <tr>\n",
       "      <th>2</th>\n",
       "      <td>1.2.276.0.75.2.5.80.25.3.190123134232237.93180...</td>\n",
       "      <td>1</td>\n",
       "      <td>0</td>\n",
       "      <td>0</td>\n",
       "      <td>0</td>\n",
       "      <td>0</td>\n",
       "      <td>0</td>\n",
       "      <td>1</td>\n",
       "    </tr>\n",
       "    <tr>\n",
       "      <th>3</th>\n",
       "      <td>1.2.276.0.75.2.5.80.25.3.190123134234418.93180...</td>\n",
       "      <td>1</td>\n",
       "      <td>0</td>\n",
       "      <td>0</td>\n",
       "      <td>0</td>\n",
       "      <td>0</td>\n",
       "      <td>0</td>\n",
       "      <td>1</td>\n",
       "    </tr>\n",
       "    <tr>\n",
       "      <th>4</th>\n",
       "      <td>1.2.276.0.75.2.5.80.25.3.190123134640676.93180...</td>\n",
       "      <td>0</td>\n",
       "      <td>0</td>\n",
       "      <td>0</td>\n",
       "      <td>0</td>\n",
       "      <td>0</td>\n",
       "      <td>0</td>\n",
       "      <td>1</td>\n",
       "    </tr>\n",
       "  </tbody>\n",
       "</table>\n",
       "</div>"
      ],
      "text/plain": [
       "                                        pdf_filename  normal  artifact1  \\\n",
       "0  1.2.276.0.75.2.5.80.25.3.190123133923759.93180...       0          0   \n",
       "1  1.2.276.0.75.2.5.80.25.3.190123133924562.93180...       0          0   \n",
       "2  1.2.276.0.75.2.5.80.25.3.190123134232237.93180...       1          0   \n",
       "3  1.2.276.0.75.2.5.80.25.3.190123134234418.93180...       1          0   \n",
       "4  1.2.276.0.75.2.5.80.25.3.190123134640676.93180...       0          0   \n",
       "\n",
       "   enlarged blind spot  generalized reduced sensitivity (media opacity)  \\\n",
       "0                    0                                                0   \n",
       "1                    0                                                0   \n",
       "2                    0                                                0   \n",
       "3                    0                                                0   \n",
       "4                    0                                                0   \n",
       "\n",
       "   hemianopia  non-glaucomatous central loss  none  \n",
       "0           0                              0     1  \n",
       "1           0                              0     1  \n",
       "2           0                              0     1  \n",
       "3           0                              0     1  \n",
       "4           0                              0     1  "
      ]
     },
     "execution_count": 57,
     "metadata": {},
     "output_type": "execute_result"
    }
   ],
   "source": [
    "ngdefect1_1hot = pd.get_dummies(label['ngdefect1'])\n",
    "ngdefect1_1hot = pd.concat([label2[[\"pdf_filename\", \"normal\", \"artifact1\"]], ngdefect1_1hot], axis = 1)\n",
    "print(\"The shape of this 1hot is\", ngdefect1_1hot.shape)\n",
    "ngdefect1_1hot.head()"
   ]
  },
  {
   "cell_type": "code",
   "execution_count": 58,
   "metadata": {},
   "outputs": [
    {
     "data": {
      "text/plain": [
       "Index(['pdf_filename', 'normal', 'artifact1', 'enlarged blind spot',\n",
       "       'generalized reduced sensitivity (media opacity)', 'hemianopia',\n",
       "       'non-glaucomatous central loss', 'none'],\n",
       "      dtype='object')"
      ]
     },
     "execution_count": 58,
     "metadata": {},
     "output_type": "execute_result"
    }
   ],
   "source": [
    "ngdefect1_1hot.columns"
   ]
  },
  {
   "cell_type": "code",
   "execution_count": 59,
   "metadata": {},
   "outputs": [
    {
     "name": "stdout",
     "output_type": "stream",
     "text": [
      "The length of this list is 5\n"
     ]
    }
   ],
   "source": [
    "l = ['enlarged blind spot',\n",
    "       'generalized reduced sensitivity (media opacity)', 'hemianopia',\n",
    "       'non-glaucomatous central loss', 'none']\n",
    "print(\"The length of this list is\", len(l))"
   ]
  },
  {
   "cell_type": "code",
   "execution_count": 60,
   "metadata": {},
   "outputs": [
    {
     "data": {
      "text/plain": [
       "Text(0.5, 1.0, 'non-G-defect 1 (5 categories)')"
      ]
     },
     "execution_count": 60,
     "metadata": {},
     "output_type": "execute_result"
    },
    {
     "data": {
      "image/png": "[encoded data removed]",
      "text/plain": [
       "<Figure size 720x576 with 1 Axes>"
      ]
     },
     "metadata": {
      "needs_background": "light"
     },
     "output_type": "display_data"
    }
   ],
   "source": [
    "plt.figure(figsize=(10,8))\n",
    "\n",
    "ax = (ngdefect1_1hot[l].sum()/500).plot(kind='bar')\n",
    "\n",
    "plt.ylabel('frequency', fontsize = 16)\n",
    "#plt.text(1, 0.71, label2[\"reliability\"].sum()/500, fontsize = 16, color = 'r')   # \"353\"\n",
    "plt.title('non-G-defect 1 (5 categories)', fontsize=20)"
   ]
  },
  {
   "cell_type": "code",
   "execution_count": null,
   "metadata": {},
   "outputs": [],
   "source": []
  },
  {
   "cell_type": "code",
   "execution_count": 61,
   "metadata": {},
   "outputs": [
    {
     "name": "stdout",
     "output_type": "stream",
     "text": [
      "The number of defect none is 478\n"
     ]
    },
    {
     "data": {
      "text/plain": [
       "1    185\n",
       "Name: none, dtype: int64"
      ]
     },
     "execution_count": 61,
     "metadata": {},
     "output_type": "execute_result"
    }
   ],
   "source": [
    "print(\"The number of defect none is\", ngdefect1_1hot[\"none\"].sum())\n",
    "ngdefect1_1hot[ngdefect1_1hot.normal == 1][\"none\"].value_counts()"
   ]
  },
  {
   "cell_type": "code",
   "execution_count": null,
   "metadata": {},
   "outputs": [],
   "source": []
  },
  {
   "cell_type": "code",
   "execution_count": 62,
   "metadata": {},
   "outputs": [
    {
     "name": "stdout",
     "output_type": "stream",
     "text": [
      "The number of defect none is 478\n"
     ]
    },
    {
     "data": {
      "text/plain": [
       "0    293\n",
       "1    185\n",
       "Name: normal, dtype: int64"
      ]
     },
     "execution_count": 62,
     "metadata": {},
     "output_type": "execute_result"
    }
   ],
   "source": [
    "print(\"The number of defect none is\", ngdefect1_1hot[\"none\"].sum())\n",
    "ngdefect1_1hot[ngdefect1_1hot.none == 1][\"normal\"].value_counts()"
   ]
  },
  {
   "cell_type": "code",
   "execution_count": null,
   "metadata": {},
   "outputs": [],
   "source": []
  },
  {
   "cell_type": "code",
   "execution_count": 63,
   "metadata": {},
   "outputs": [
    {
     "name": "stdout",
     "output_type": "stream",
     "text": [
      "The number of defect none is 478\n"
     ]
    },
    {
     "data": {
      "text/plain": [
       "0    471\n",
       "4      3\n",
       "5      2\n",
       "2      1\n",
       "1      1\n",
       "Name: artifact1, dtype: int64"
      ]
     },
     "execution_count": 63,
     "metadata": {},
     "output_type": "execute_result"
    }
   ],
   "source": [
    "print(\"The number of defect none is\", ngdefect1_1hot[\"none\"].sum())\n",
    "ngdefect1_1hot[ngdefect1_1hot.none == 1][\"artifact1\"].value_counts()"
   ]
  },
  {
   "cell_type": "markdown",
   "metadata": {},
   "source": [
    "**Location info**"
   ]
  },
  {
   "cell_type": "code",
   "execution_count": 64,
   "metadata": {},
   "outputs": [
    {
     "name": "stdout",
     "output_type": "stream",
     "text": [
      "[nan 'temporal' 'nasal']\n",
      "3\n"
     ]
    },
    {
     "data": {
      "text/plain": [
       "temporal    4\n",
       "nasal       2\n",
       "Name: ngposition1, dtype: int64"
      ]
     },
     "execution_count": 64,
     "metadata": {},
     "output_type": "execute_result"
    }
   ],
   "source": [
    "print(label[\"ngposition1\"].unique())\n",
    "print(len(label[\"ngposition1\"].unique()))\n",
    "label[\"ngposition1\"].value_counts()"
   ]
  },
  {
   "cell_type": "markdown",
   "metadata": {},
   "source": [
    "### 5. \"non-G Defect 2\""
   ]
  },
  {
   "cell_type": "code",
   "execution_count": 65,
   "metadata": {},
   "outputs": [
    {
     "name": "stdout",
     "output_type": "stream",
     "text": [
      "1\n"
     ]
    },
    {
     "data": {
      "text/plain": [
       "none    500\n",
       "Name: ngdefect2, dtype: int64"
      ]
     },
     "execution_count": 65,
     "metadata": {},
     "output_type": "execute_result"
    }
   ],
   "source": [
    "print(len(label[\"ngdefect2\"].unique()))\n",
    "label[\"ngdefect2\"].value_counts()"
   ]
  },
  {
   "cell_type": "code",
   "execution_count": 66,
   "metadata": {},
   "outputs": [
    {
     "name": "stdout",
     "output_type": "stream",
     "text": [
      "[nan]\n",
      "1\n"
     ]
    },
    {
     "data": {
      "text/plain": [
       "Series([], Name: ngposition2, dtype: int64)"
      ]
     },
     "execution_count": 66,
     "metadata": {},
     "output_type": "execute_result"
    }
   ],
   "source": [
    "print(label[\"ngposition2\"].unique())\n",
    "print(len(label[\"ngposition2\"].unique()))\n",
    "label[\"ngposition2\"].value_counts()"
   ]
  },
  {
   "cell_type": "markdown",
   "metadata": {},
   "source": [
    "# Part 3. Save label csv\n",
    "- gdefect1_1hot\n",
    "- gdefect2_1hot\n",
    "- gdefect3_1hot\n",
    "- ngdefect1_1hot"
   ]
  },
  {
   "cell_type": "code",
   "execution_count": 67,
   "metadata": {},
   "outputs": [
    {
     "data": {
      "text/html": [
       "<div>\n",
       "<style scoped>\n",
       "    .dataframe tbody tr th:only-of-type {\n",
       "        vertical-align: middle;\n",
       "    }\n",
       "\n",
       "    .dataframe tbody tr th {\n",
       "        vertical-align: top;\n",
       "    }\n",
       "\n",
       "    .dataframe thead th {\n",
       "        text-align: right;\n",
       "    }\n",
       "</style>\n",
       "<table border=\"1\" class=\"dataframe\">\n",
       "  <thead>\n",
       "    <tr style=\"text-align: right;\">\n",
       "      <th></th>\n",
       "      <th>pdf_filename</th>\n",
       "      <th>opv_filename</th>\n",
       "      <th>maskedid</th>\n",
       "      <th>aedob_shift</th>\n",
       "      <th>aeexamdate_shift</th>\n",
       "      <th>eye</th>\n",
       "      <th>trial_rx_sphere</th>\n",
       "      <th>trial_rx_cylinder</th>\n",
       "      <th>trial_rx_axis</th>\n",
       "      <th>pupil_diameter</th>\n",
       "      <th>...</th>\n",
       "      <th>aeexamtime</th>\n",
       "      <th>test_type</th>\n",
       "      <th>vatype</th>\n",
       "      <th>fovealresult</th>\n",
       "      <th>clinicalnotes</th>\n",
       "      <th>sfstatus</th>\n",
       "      <th>sf</th>\n",
       "      <th>sfprob</th>\n",
       "      <th>cpsd</th>\n",
       "      <th>cpsdprob</th>\n",
       "    </tr>\n",
       "  </thead>\n",
       "  <tbody>\n",
       "    <tr>\n",
       "      <th>0</th>\n",
       "      <td>1.2.276.0.75.2.5.80.25.3.190123133923759.93180...</td>\n",
       "      <td>1.2.276.0.75.2.5.80.25.3.190123133923519.93180...</td>\n",
       "      <td>VIP093528</td>\n",
       "      <td>04/18/1959</td>\n",
       "      <td>06/02/2011</td>\n",
       "      <td>L</td>\n",
       "      <td>2.25</td>\n",
       "      <td>-3.0</td>\n",
       "      <td>176</td>\n",
       "      <td>NaN</td>\n",
       "      <td>...</td>\n",
       "      <td>NaN</td>\n",
       "      <td>NaN</td>\n",
       "      <td>NaN</td>\n",
       "      <td>NaN</td>\n",
       "      <td>NaN</td>\n",
       "      <td>NaN</td>\n",
       "      <td>NaN</td>\n",
       "      <td>NaN</td>\n",
       "      <td>NaN</td>\n",
       "      <td>NaN</td>\n",
       "    </tr>\n",
       "    <tr>\n",
       "      <th>1</th>\n",
       "      <td>1.2.276.0.75.2.5.80.25.3.190123133924562.93180...</td>\n",
       "      <td>1.2.276.0.75.2.5.80.25.3.190123133924241.93180...</td>\n",
       "      <td>VIP093528</td>\n",
       "      <td>04/18/1959</td>\n",
       "      <td>06/02/2011</td>\n",
       "      <td>R</td>\n",
       "      <td>3.00</td>\n",
       "      <td>-3.0</td>\n",
       "      <td>14</td>\n",
       "      <td>NaN</td>\n",
       "      <td>...</td>\n",
       "      <td>NaN</td>\n",
       "      <td>NaN</td>\n",
       "      <td>NaN</td>\n",
       "      <td>NaN</td>\n",
       "      <td>NaN</td>\n",
       "      <td>NaN</td>\n",
       "      <td>NaN</td>\n",
       "      <td>NaN</td>\n",
       "      <td>NaN</td>\n",
       "      <td>NaN</td>\n",
       "    </tr>\n",
       "    <tr>\n",
       "      <th>2</th>\n",
       "      <td>1.2.276.0.75.2.5.80.25.3.190123134232237.93180...</td>\n",
       "      <td>1.2.276.0.75.2.5.80.25.3.190123134230637.93180...</td>\n",
       "      <td>VIP059015</td>\n",
       "      <td>12/08/1941</td>\n",
       "      <td>03/28/1998</td>\n",
       "      <td>L</td>\n",
       "      <td>0.00</td>\n",
       "      <td>0.0</td>\n",
       "      <td>0</td>\n",
       "      <td>NaN</td>\n",
       "      <td>...</td>\n",
       "      <td>NaN</td>\n",
       "      <td>NaN</td>\n",
       "      <td>NaN</td>\n",
       "      <td>NaN</td>\n",
       "      <td>NaN</td>\n",
       "      <td>NaN</td>\n",
       "      <td>NaN</td>\n",
       "      <td>NaN</td>\n",
       "      <td>NaN</td>\n",
       "      <td>NaN</td>\n",
       "    </tr>\n",
       "    <tr>\n",
       "      <th>3</th>\n",
       "      <td>1.2.276.0.75.2.5.80.25.3.190123134234418.93180...</td>\n",
       "      <td>1.2.276.0.75.2.5.80.25.3.190123134233302.93180...</td>\n",
       "      <td>VIP059015</td>\n",
       "      <td>12/08/1941</td>\n",
       "      <td>03/28/1998</td>\n",
       "      <td>R</td>\n",
       "      <td>0.75</td>\n",
       "      <td>0.0</td>\n",
       "      <td>0</td>\n",
       "      <td>NaN</td>\n",
       "      <td>...</td>\n",
       "      <td>NaN</td>\n",
       "      <td>NaN</td>\n",
       "      <td>NaN</td>\n",
       "      <td>NaN</td>\n",
       "      <td>NaN</td>\n",
       "      <td>NaN</td>\n",
       "      <td>NaN</td>\n",
       "      <td>NaN</td>\n",
       "      <td>NaN</td>\n",
       "      <td>NaN</td>\n",
       "    </tr>\n",
       "    <tr>\n",
       "      <th>4</th>\n",
       "      <td>1.2.276.0.75.2.5.80.25.3.190123134640676.93180...</td>\n",
       "      <td>1.2.276.0.75.2.5.80.25.3.190123134640210.93180...</td>\n",
       "      <td>VIP099723</td>\n",
       "      <td>02/28/1949</td>\n",
       "      <td>09/30/2012</td>\n",
       "      <td>L</td>\n",
       "      <td>5.25</td>\n",
       "      <td>-1.5</td>\n",
       "      <td>70</td>\n",
       "      <td>NaN</td>\n",
       "      <td>...</td>\n",
       "      <td>NaN</td>\n",
       "      <td>NaN</td>\n",
       "      <td>NaN</td>\n",
       "      <td>NaN</td>\n",
       "      <td>NaN</td>\n",
       "      <td>NaN</td>\n",
       "      <td>NaN</td>\n",
       "      <td>NaN</td>\n",
       "      <td>NaN</td>\n",
       "      <td>NaN</td>\n",
       "    </tr>\n",
       "  </tbody>\n",
       "</table>\n",
       "<p>5 rows × 429 columns</p>\n",
       "</div>"
      ],
      "text/plain": [
       "                                        pdf_filename  \\\n",
       "0  1.2.276.0.75.2.5.80.25.3.190123133923759.93180...   \n",
       "1  1.2.276.0.75.2.5.80.25.3.190123133924562.93180...   \n",
       "2  1.2.276.0.75.2.5.80.25.3.190123134232237.93180...   \n",
       "3  1.2.276.0.75.2.5.80.25.3.190123134234418.93180...   \n",
       "4  1.2.276.0.75.2.5.80.25.3.190123134640676.93180...   \n",
       "\n",
       "                                        opv_filename   maskedid aedob_shift  \\\n",
       "0  1.2.276.0.75.2.5.80.25.3.190123133923519.93180...  VIP093528  04/18/1959   \n",
       "1  1.2.276.0.75.2.5.80.25.3.190123133924241.93180...  VIP093528  04/18/1959   \n",
       "2  1.2.276.0.75.2.5.80.25.3.190123134230637.93180...  VIP059015  12/08/1941   \n",
       "3  1.2.276.0.75.2.5.80.25.3.190123134233302.93180...  VIP059015  12/08/1941   \n",
       "4  1.2.276.0.75.2.5.80.25.3.190123134640210.93180...  VIP099723  02/28/1949   \n",
       "\n",
       "  aeexamdate_shift eye  trial_rx_sphere  trial_rx_cylinder  trial_rx_axis  \\\n",
       "0       06/02/2011   L             2.25               -3.0            176   \n",
       "1       06/02/2011   R             3.00               -3.0             14   \n",
       "2       03/28/1998   L             0.00                0.0              0   \n",
       "3       03/28/1998   R             0.75                0.0              0   \n",
       "4       09/30/2012   L             5.25               -1.5             70   \n",
       "\n",
       "   pupil_diameter  ...  aeexamtime test_type  vatype  fovealresult  \\\n",
       "0             NaN  ...         NaN       NaN     NaN           NaN   \n",
       "1             NaN  ...         NaN       NaN     NaN           NaN   \n",
       "2             NaN  ...         NaN       NaN     NaN           NaN   \n",
       "3             NaN  ...         NaN       NaN     NaN           NaN   \n",
       "4             NaN  ...         NaN       NaN     NaN           NaN   \n",
       "\n",
       "  clinicalnotes sfstatus  sf  sfprob  cpsd cpsdprob  \n",
       "0           NaN      NaN NaN     NaN   NaN      NaN  \n",
       "1           NaN      NaN NaN     NaN   NaN      NaN  \n",
       "2           NaN      NaN NaN     NaN   NaN      NaN  \n",
       "3           NaN      NaN NaN     NaN   NaN      NaN  \n",
       "4           NaN      NaN NaN     NaN   NaN      NaN  \n",
       "\n",
       "[5 rows x 429 columns]"
      ]
     },
     "execution_count": 67,
     "metadata": {},
     "output_type": "execute_result"
    }
   ],
   "source": [
    "feature = pd.read_csv(\"opv_export_masked.csv\")\n",
    "feature.head()"
   ]
  },
  {
   "cell_type": "code",
   "execution_count": 68,
   "metadata": {},
   "outputs": [
    {
     "data": {
      "text/html": [
       "<div>\n",
       "<style scoped>\n",
       "    .dataframe tbody tr th:only-of-type {\n",
       "        vertical-align: middle;\n",
       "    }\n",
       "\n",
       "    .dataframe tbody tr th {\n",
       "        vertical-align: top;\n",
       "    }\n",
       "\n",
       "    .dataframe thead th {\n",
       "        text-align: right;\n",
       "    }\n",
       "</style>\n",
       "<table border=\"1\" class=\"dataframe\">\n",
       "  <thead>\n",
       "    <tr style=\"text-align: right;\">\n",
       "      <th></th>\n",
       "      <th>self</th>\n",
       "      <th>other</th>\n",
       "    </tr>\n",
       "  </thead>\n",
       "  <tbody>\n",
       "  </tbody>\n",
       "</table>\n",
       "</div>"
      ],
      "text/plain": [
       "Empty DataFrame\n",
       "Columns: [self, other]\n",
       "Index: []"
      ]
     },
     "execution_count": 68,
     "metadata": {},
     "output_type": "execute_result"
    }
   ],
   "source": [
    "feature[\"pdf_filename\"].compare(label[\"pdf_filename\"])"
   ]
  },
  {
   "cell_type": "code",
   "execution_count": 69,
   "metadata": {},
   "outputs": [
    {
     "data": {
      "text/html": [
       "<div>\n",
       "<style scoped>\n",
       "    .dataframe tbody tr th:only-of-type {\n",
       "        vertical-align: middle;\n",
       "    }\n",
       "\n",
       "    .dataframe tbody tr th {\n",
       "        vertical-align: top;\n",
       "    }\n",
       "\n",
       "    .dataframe thead th {\n",
       "        text-align: right;\n",
       "    }\n",
       "</style>\n",
       "<table border=\"1\" class=\"dataframe\">\n",
       "  <thead>\n",
       "    <tr style=\"text-align: right;\">\n",
       "      <th></th>\n",
       "      <th>self</th>\n",
       "      <th>other</th>\n",
       "    </tr>\n",
       "  </thead>\n",
       "  <tbody>\n",
       "  </tbody>\n",
       "</table>\n",
       "</div>"
      ],
      "text/plain": [
       "Empty DataFrame\n",
       "Columns: [self, other]\n",
       "Index: []"
      ]
     },
     "execution_count": 69,
     "metadata": {},
     "output_type": "execute_result"
    }
   ],
   "source": [
    "feature[\"pdf_filename\"].compare(label2[\"pdf_filename\"])"
   ]
  },
  {
   "cell_type": "code",
   "execution_count": 72,
   "metadata": {},
   "outputs": [
    {
     "name": "stdout",
     "output_type": "stream",
     "text": [
      "The shape is  (500, 3)\n"
     ]
    },
    {
     "data": {
      "text/html": [
       "<div>\n",
       "<style scoped>\n",
       "    .dataframe tbody tr th:only-of-type {\n",
       "        vertical-align: middle;\n",
       "    }\n",
       "\n",
       "    .dataframe tbody tr th {\n",
       "        vertical-align: top;\n",
       "    }\n",
       "\n",
       "    .dataframe thead th {\n",
       "        text-align: right;\n",
       "    }\n",
       "</style>\n",
       "<table border=\"1\" class=\"dataframe\">\n",
       "  <thead>\n",
       "    <tr style=\"text-align: right;\">\n",
       "      <th></th>\n",
       "      <th>pdf_filename</th>\n",
       "      <th>normal</th>\n",
       "      <th>artifact1</th>\n",
       "    </tr>\n",
       "  </thead>\n",
       "  <tbody>\n",
       "    <tr>\n",
       "      <th>0</th>\n",
       "      <td>1.2.276.0.75.2.5.80.25.3.190123133923759.93180...</td>\n",
       "      <td>0</td>\n",
       "      <td>0</td>\n",
       "    </tr>\n",
       "    <tr>\n",
       "      <th>1</th>\n",
       "      <td>1.2.276.0.75.2.5.80.25.3.190123133924562.93180...</td>\n",
       "      <td>0</td>\n",
       "      <td>0</td>\n",
       "    </tr>\n",
       "    <tr>\n",
       "      <th>2</th>\n",
       "      <td>1.2.276.0.75.2.5.80.25.3.190123134232237.93180...</td>\n",
       "      <td>1</td>\n",
       "      <td>0</td>\n",
       "    </tr>\n",
       "    <tr>\n",
       "      <th>3</th>\n",
       "      <td>1.2.276.0.75.2.5.80.25.3.190123134234418.93180...</td>\n",
       "      <td>1</td>\n",
       "      <td>0</td>\n",
       "    </tr>\n",
       "    <tr>\n",
       "      <th>4</th>\n",
       "      <td>1.2.276.0.75.2.5.80.25.3.190123134640676.93180...</td>\n",
       "      <td>0</td>\n",
       "      <td>0</td>\n",
       "    </tr>\n",
       "  </tbody>\n",
       "</table>\n",
       "</div>"
      ],
      "text/plain": [
       "                                        pdf_filename  normal  artifact1\n",
       "0  1.2.276.0.75.2.5.80.25.3.190123133923759.93180...       0          0\n",
       "1  1.2.276.0.75.2.5.80.25.3.190123133924562.93180...       0          0\n",
       "2  1.2.276.0.75.2.5.80.25.3.190123134232237.93180...       1          0\n",
       "3  1.2.276.0.75.2.5.80.25.3.190123134234418.93180...       1          0\n",
       "4  1.2.276.0.75.2.5.80.25.3.190123134640676.93180...       0          0"
      ]
     },
     "execution_count": 72,
     "metadata": {},
     "output_type": "execute_result"
    }
   ],
   "source": [
    "df = label2[[\"pdf_filename\", \"normal\", \"artifact1\"]]\n",
    "print(\"The shape is \", df.shape)\n",
    "df.head()"
   ]
  },
  {
   "cell_type": "code",
   "execution_count": 73,
   "metadata": {},
   "outputs": [
    {
     "name": "stdout",
     "output_type": "stream",
     "text": [
      "The shape of thr is (500, 76)\n"
     ]
    },
    {
     "data": {
      "text/html": [
       "<div>\n",
       "<style scoped>\n",
       "    .dataframe tbody tr th:only-of-type {\n",
       "        vertical-align: middle;\n",
       "    }\n",
       "\n",
       "    .dataframe tbody tr th {\n",
       "        vertical-align: top;\n",
       "    }\n",
       "\n",
       "    .dataframe thead th {\n",
       "        text-align: right;\n",
       "    }\n",
       "</style>\n",
       "<table border=\"1\" class=\"dataframe\">\n",
       "  <thead>\n",
       "    <tr style=\"text-align: right;\">\n",
       "      <th></th>\n",
       "      <th>n9_s27_thr</th>\n",
       "      <th>n3_s27_thr</th>\n",
       "      <th>t3_s27_thr</th>\n",
       "      <th>t9_s27_thr</th>\n",
       "      <th>n15_s21_thr</th>\n",
       "      <th>n9_s21_thr</th>\n",
       "      <th>n3_s21_thr</th>\n",
       "      <th>t3_s21_thr</th>\n",
       "      <th>t9_s21_thr</th>\n",
       "      <th>t15_s21_thr</th>\n",
       "      <th>...</th>\n",
       "      <th>n15_i21_thr</th>\n",
       "      <th>n9_i21_thr</th>\n",
       "      <th>n3_i21_thr</th>\n",
       "      <th>t3_i21_thr</th>\n",
       "      <th>t9_i21_thr</th>\n",
       "      <th>t15_i21_thr</th>\n",
       "      <th>n9_i27_thr</th>\n",
       "      <th>n3_i27_thr</th>\n",
       "      <th>t3_i27_thr</th>\n",
       "      <th>t9_i27_thr</th>\n",
       "    </tr>\n",
       "  </thead>\n",
       "  <tbody>\n",
       "    <tr>\n",
       "      <th>0</th>\n",
       "      <td>NaN</td>\n",
       "      <td>NaN</td>\n",
       "      <td>NaN</td>\n",
       "      <td>NaN</td>\n",
       "      <td>NaN</td>\n",
       "      <td>28</td>\n",
       "      <td>28</td>\n",
       "      <td>26</td>\n",
       "      <td>29</td>\n",
       "      <td>NaN</td>\n",
       "      <td>...</td>\n",
       "      <td>NaN</td>\n",
       "      <td>11</td>\n",
       "      <td>24</td>\n",
       "      <td>27</td>\n",
       "      <td>29</td>\n",
       "      <td>NaN</td>\n",
       "      <td>NaN</td>\n",
       "      <td>NaN</td>\n",
       "      <td>NaN</td>\n",
       "      <td>NaN</td>\n",
       "    </tr>\n",
       "    <tr>\n",
       "      <th>1</th>\n",
       "      <td>NaN</td>\n",
       "      <td>NaN</td>\n",
       "      <td>NaN</td>\n",
       "      <td>NaN</td>\n",
       "      <td>NaN</td>\n",
       "      <td>24</td>\n",
       "      <td>26</td>\n",
       "      <td>28</td>\n",
       "      <td>24</td>\n",
       "      <td>NaN</td>\n",
       "      <td>...</td>\n",
       "      <td>NaN</td>\n",
       "      <td>26</td>\n",
       "      <td>26</td>\n",
       "      <td>25</td>\n",
       "      <td>28</td>\n",
       "      <td>NaN</td>\n",
       "      <td>NaN</td>\n",
       "      <td>NaN</td>\n",
       "      <td>NaN</td>\n",
       "      <td>NaN</td>\n",
       "    </tr>\n",
       "    <tr>\n",
       "      <th>2</th>\n",
       "      <td>NaN</td>\n",
       "      <td>NaN</td>\n",
       "      <td>NaN</td>\n",
       "      <td>NaN</td>\n",
       "      <td>NaN</td>\n",
       "      <td>29</td>\n",
       "      <td>27</td>\n",
       "      <td>24</td>\n",
       "      <td>26</td>\n",
       "      <td>NaN</td>\n",
       "      <td>...</td>\n",
       "      <td>NaN</td>\n",
       "      <td>26</td>\n",
       "      <td>27</td>\n",
       "      <td>26</td>\n",
       "      <td>28</td>\n",
       "      <td>NaN</td>\n",
       "      <td>NaN</td>\n",
       "      <td>NaN</td>\n",
       "      <td>NaN</td>\n",
       "      <td>NaN</td>\n",
       "    </tr>\n",
       "    <tr>\n",
       "      <th>3</th>\n",
       "      <td>NaN</td>\n",
       "      <td>NaN</td>\n",
       "      <td>NaN</td>\n",
       "      <td>NaN</td>\n",
       "      <td>NaN</td>\n",
       "      <td>25</td>\n",
       "      <td>25</td>\n",
       "      <td>24</td>\n",
       "      <td>24</td>\n",
       "      <td>NaN</td>\n",
       "      <td>...</td>\n",
       "      <td>NaN</td>\n",
       "      <td>28</td>\n",
       "      <td>27</td>\n",
       "      <td>26</td>\n",
       "      <td>26</td>\n",
       "      <td>NaN</td>\n",
       "      <td>NaN</td>\n",
       "      <td>NaN</td>\n",
       "      <td>NaN</td>\n",
       "      <td>NaN</td>\n",
       "    </tr>\n",
       "    <tr>\n",
       "      <th>4</th>\n",
       "      <td>NaN</td>\n",
       "      <td>NaN</td>\n",
       "      <td>NaN</td>\n",
       "      <td>NaN</td>\n",
       "      <td>NaN</td>\n",
       "      <td>26</td>\n",
       "      <td>22</td>\n",
       "      <td>23</td>\n",
       "      <td>23</td>\n",
       "      <td>NaN</td>\n",
       "      <td>...</td>\n",
       "      <td>NaN</td>\n",
       "      <td>24</td>\n",
       "      <td>26</td>\n",
       "      <td>26</td>\n",
       "      <td>21</td>\n",
       "      <td>NaN</td>\n",
       "      <td>NaN</td>\n",
       "      <td>NaN</td>\n",
       "      <td>NaN</td>\n",
       "      <td>NaN</td>\n",
       "    </tr>\n",
       "  </tbody>\n",
       "</table>\n",
       "<p>5 rows × 76 columns</p>\n",
       "</div>"
      ],
      "text/plain": [
       "   n9_s27_thr  n3_s27_thr  t3_s27_thr  t9_s27_thr  n15_s21_thr  n9_s21_thr  \\\n",
       "0         NaN         NaN         NaN         NaN          NaN          28   \n",
       "1         NaN         NaN         NaN         NaN          NaN          24   \n",
       "2         NaN         NaN         NaN         NaN          NaN          29   \n",
       "3         NaN         NaN         NaN         NaN          NaN          25   \n",
       "4         NaN         NaN         NaN         NaN          NaN          26   \n",
       "\n",
       "   n3_s21_thr  t3_s21_thr  t9_s21_thr  t15_s21_thr  ...  n15_i21_thr  \\\n",
       "0          28          26          29          NaN  ...          NaN   \n",
       "1          26          28          24          NaN  ...          NaN   \n",
       "2          27          24          26          NaN  ...          NaN   \n",
       "3          25          24          24          NaN  ...          NaN   \n",
       "4          22          23          23          NaN  ...          NaN   \n",
       "\n",
       "   n9_i21_thr  n3_i21_thr  t3_i21_thr  t9_i21_thr  t15_i21_thr  n9_i27_thr  \\\n",
       "0          11          24          27          29          NaN         NaN   \n",
       "1          26          26          25          28          NaN         NaN   \n",
       "2          26          27          26          28          NaN         NaN   \n",
       "3          28          27          26          26          NaN         NaN   \n",
       "4          24          26          26          21          NaN         NaN   \n",
       "\n",
       "   n3_i27_thr  t3_i27_thr  t9_i27_thr  \n",
       "0         NaN         NaN         NaN  \n",
       "1         NaN         NaN         NaN  \n",
       "2         NaN         NaN         NaN  \n",
       "3         NaN         NaN         NaN  \n",
       "4         NaN         NaN         NaN  \n",
       "\n",
       "[5 rows x 76 columns]"
      ]
     },
     "execution_count": 73,
     "metadata": {},
     "output_type": "execute_result"
    }
   ],
   "source": [
    "thr = feature[feature.columns[39:115]]\n",
    "print(\"The shape of thr is\", thr.shape)\n",
    "thr.head()"
   ]
  },
  {
   "cell_type": "code",
   "execution_count": 76,
   "metadata": {},
   "outputs": [
    {
     "name": "stdout",
     "output_type": "stream",
     "text": [
      "The shape of final df is (500, 79)\n"
     ]
    },
    {
     "data": {
      "text/html": [
       "<div>\n",
       "<style scoped>\n",
       "    .dataframe tbody tr th:only-of-type {\n",
       "        vertical-align: middle;\n",
       "    }\n",
       "\n",
       "    .dataframe tbody tr th {\n",
       "        vertical-align: top;\n",
       "    }\n",
       "\n",
       "    .dataframe thead th {\n",
       "        text-align: right;\n",
       "    }\n",
       "</style>\n",
       "<table border=\"1\" class=\"dataframe\">\n",
       "  <thead>\n",
       "    <tr style=\"text-align: right;\">\n",
       "      <th></th>\n",
       "      <th>pdf_filename</th>\n",
       "      <th>normal</th>\n",
       "      <th>artifact1</th>\n",
       "      <th>n9_s27_thr</th>\n",
       "      <th>n3_s27_thr</th>\n",
       "      <th>t3_s27_thr</th>\n",
       "      <th>t9_s27_thr</th>\n",
       "      <th>n15_s21_thr</th>\n",
       "      <th>n9_s21_thr</th>\n",
       "      <th>n3_s21_thr</th>\n",
       "      <th>...</th>\n",
       "      <th>n15_i21_thr</th>\n",
       "      <th>n9_i21_thr</th>\n",
       "      <th>n3_i21_thr</th>\n",
       "      <th>t3_i21_thr</th>\n",
       "      <th>t9_i21_thr</th>\n",
       "      <th>t15_i21_thr</th>\n",
       "      <th>n9_i27_thr</th>\n",
       "      <th>n3_i27_thr</th>\n",
       "      <th>t3_i27_thr</th>\n",
       "      <th>t9_i27_thr</th>\n",
       "    </tr>\n",
       "  </thead>\n",
       "  <tbody>\n",
       "    <tr>\n",
       "      <th>0</th>\n",
       "      <td>1.2.276.0.75.2.5.80.25.3.190123133923759.93180...</td>\n",
       "      <td>0</td>\n",
       "      <td>0</td>\n",
       "      <td>NaN</td>\n",
       "      <td>NaN</td>\n",
       "      <td>NaN</td>\n",
       "      <td>NaN</td>\n",
       "      <td>NaN</td>\n",
       "      <td>28</td>\n",
       "      <td>28</td>\n",
       "      <td>...</td>\n",
       "      <td>NaN</td>\n",
       "      <td>11</td>\n",
       "      <td>24</td>\n",
       "      <td>27</td>\n",
       "      <td>29</td>\n",
       "      <td>NaN</td>\n",
       "      <td>NaN</td>\n",
       "      <td>NaN</td>\n",
       "      <td>NaN</td>\n",
       "      <td>NaN</td>\n",
       "    </tr>\n",
       "    <tr>\n",
       "      <th>1</th>\n",
       "      <td>1.2.276.0.75.2.5.80.25.3.190123133924562.93180...</td>\n",
       "      <td>0</td>\n",
       "      <td>0</td>\n",
       "      <td>NaN</td>\n",
       "      <td>NaN</td>\n",
       "      <td>NaN</td>\n",
       "      <td>NaN</td>\n",
       "      <td>NaN</td>\n",
       "      <td>24</td>\n",
       "      <td>26</td>\n",
       "      <td>...</td>\n",
       "      <td>NaN</td>\n",
       "      <td>26</td>\n",
       "      <td>26</td>\n",
       "      <td>25</td>\n",
       "      <td>28</td>\n",
       "      <td>NaN</td>\n",
       "      <td>NaN</td>\n",
       "      <td>NaN</td>\n",
       "      <td>NaN</td>\n",
       "      <td>NaN</td>\n",
       "    </tr>\n",
       "    <tr>\n",
       "      <th>2</th>\n",
       "      <td>1.2.276.0.75.2.5.80.25.3.190123134232237.93180...</td>\n",
       "      <td>1</td>\n",
       "      <td>0</td>\n",
       "      <td>NaN</td>\n",
       "      <td>NaN</td>\n",
       "      <td>NaN</td>\n",
       "      <td>NaN</td>\n",
       "      <td>NaN</td>\n",
       "      <td>29</td>\n",
       "      <td>27</td>\n",
       "      <td>...</td>\n",
       "      <td>NaN</td>\n",
       "      <td>26</td>\n",
       "      <td>27</td>\n",
       "      <td>26</td>\n",
       "      <td>28</td>\n",
       "      <td>NaN</td>\n",
       "      <td>NaN</td>\n",
       "      <td>NaN</td>\n",
       "      <td>NaN</td>\n",
       "      <td>NaN</td>\n",
       "    </tr>\n",
       "    <tr>\n",
       "      <th>3</th>\n",
       "      <td>1.2.276.0.75.2.5.80.25.3.190123134234418.93180...</td>\n",
       "      <td>1</td>\n",
       "      <td>0</td>\n",
       "      <td>NaN</td>\n",
       "      <td>NaN</td>\n",
       "      <td>NaN</td>\n",
       "      <td>NaN</td>\n",
       "      <td>NaN</td>\n",
       "      <td>25</td>\n",
       "      <td>25</td>\n",
       "      <td>...</td>\n",
       "      <td>NaN</td>\n",
       "      <td>28</td>\n",
       "      <td>27</td>\n",
       "      <td>26</td>\n",
       "      <td>26</td>\n",
       "      <td>NaN</td>\n",
       "      <td>NaN</td>\n",
       "      <td>NaN</td>\n",
       "      <td>NaN</td>\n",
       "      <td>NaN</td>\n",
       "    </tr>\n",
       "    <tr>\n",
       "      <th>4</th>\n",
       "      <td>1.2.276.0.75.2.5.80.25.3.190123134640676.93180...</td>\n",
       "      <td>0</td>\n",
       "      <td>0</td>\n",
       "      <td>NaN</td>\n",
       "      <td>NaN</td>\n",
       "      <td>NaN</td>\n",
       "      <td>NaN</td>\n",
       "      <td>NaN</td>\n",
       "      <td>26</td>\n",
       "      <td>22</td>\n",
       "      <td>...</td>\n",
       "      <td>NaN</td>\n",
       "      <td>24</td>\n",
       "      <td>26</td>\n",
       "      <td>26</td>\n",
       "      <td>21</td>\n",
       "      <td>NaN</td>\n",
       "      <td>NaN</td>\n",
       "      <td>NaN</td>\n",
       "      <td>NaN</td>\n",
       "      <td>NaN</td>\n",
       "    </tr>\n",
       "  </tbody>\n",
       "</table>\n",
       "<p>5 rows × 79 columns</p>\n",
       "</div>"
      ],
      "text/plain": [
       "                                        pdf_filename  normal  artifact1  \\\n",
       "0  1.2.276.0.75.2.5.80.25.3.190123133923759.93180...       0          0   \n",
       "1  1.2.276.0.75.2.5.80.25.3.190123133924562.93180...       0          0   \n",
       "2  1.2.276.0.75.2.5.80.25.3.190123134232237.93180...       1          0   \n",
       "3  1.2.276.0.75.2.5.80.25.3.190123134234418.93180...       1          0   \n",
       "4  1.2.276.0.75.2.5.80.25.3.190123134640676.93180...       0          0   \n",
       "\n",
       "   n9_s27_thr  n3_s27_thr  t3_s27_thr  t9_s27_thr  n15_s21_thr  n9_s21_thr  \\\n",
       "0         NaN         NaN         NaN         NaN          NaN          28   \n",
       "1         NaN         NaN         NaN         NaN          NaN          24   \n",
       "2         NaN         NaN         NaN         NaN          NaN          29   \n",
       "3         NaN         NaN         NaN         NaN          NaN          25   \n",
       "4         NaN         NaN         NaN         NaN          NaN          26   \n",
       "\n",
       "   n3_s21_thr  ...  n15_i21_thr  n9_i21_thr  n3_i21_thr  t3_i21_thr  \\\n",
       "0          28  ...          NaN          11          24          27   \n",
       "1          26  ...          NaN          26          26          25   \n",
       "2          27  ...          NaN          26          27          26   \n",
       "3          25  ...          NaN          28          27          26   \n",
       "4          22  ...          NaN          24          26          26   \n",
       "\n",
       "   t9_i21_thr  t15_i21_thr  n9_i27_thr  n3_i27_thr  t3_i27_thr  t9_i27_thr  \n",
       "0          29          NaN         NaN         NaN         NaN         NaN  \n",
       "1          28          NaN         NaN         NaN         NaN         NaN  \n",
       "2          28          NaN         NaN         NaN         NaN         NaN  \n",
       "3          26          NaN         NaN         NaN         NaN         NaN  \n",
       "4          21          NaN         NaN         NaN         NaN         NaN  \n",
       "\n",
       "[5 rows x 79 columns]"
      ]
     },
     "execution_count": 76,
     "metadata": {},
     "output_type": "execute_result"
    }
   ],
   "source": [
    "thr_save = pd.concat([df, thr], axis = 1)\n",
    "print(\"The shape of final df is\", thr_save.shape)\n",
    "thr_save.head()"
   ]
  },
  {
   "cell_type": "code",
   "execution_count": 75,
   "metadata": {},
   "outputs": [],
   "source": [
    "thr_save.to_csv(\"/Users/yuhuicao/Desktop/1. Duke/1. Normal.csv\", index = False)"
   ]
  },
  {
   "cell_type": "code",
   "execution_count": null,
   "metadata": {},
   "outputs": [],
   "source": []
  }
 ],
 "metadata": {
  "kernelspec": {
   "display_name": "Python 3 (ipykernel)",
   "language": "python",
   "name": "python3"
  },
  "language_info": {
   "codemirror_mode": {
    "name": "ipython",
    "version": 3
   },
   "file_extension": ".py",
   "mimetype": "text/x-python",
   "name": "python",
   "nbconvert_exporter": "python",
   "pygments_lexer": "ipython3",
   "version": "3.7.4"
  }
 },
 "nbformat": 4,
 "nbformat_minor": 2
}
