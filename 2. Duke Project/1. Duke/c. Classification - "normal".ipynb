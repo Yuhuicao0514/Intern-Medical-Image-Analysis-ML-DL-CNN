{
 "cells": [
  {
   "cell_type": "markdown",
   "metadata": {},
   "source": [
    "# c. Classification\n",
    "\n",
    "**Step 1: Construction of 215 features**\n",
    "   - **MD (1)**\n",
    "   - **PSD (1)**\n",
    "   - **VFI (1)**:  3 NaN, filled with average of 497\n",
    "   - **Thresholds (54)**\n",
    "   - **TD (54)**\n",
    "   - **TD_NUM (52)**\n",
    "   - **PD (0)**\n",
    "   - **PD_NUM (52)**\n",
    "\n",
    "**Step 2: Classification**\n",
    "   - Decision Tree\n",
    "   - KNN (K Nearest Neighbors)\n",
    "   - SVM (linear)\n",
    "   - SVM (polynomial)\n",
    "   - **Random Forest (best)**\n",
    "   - Logistic Regression\n",
    "   \n",
    "**Step 3: UMAP - reduce dimension to 2D**\n",
    "   - for plotting the decision boundary\n",
    "\n",
    "**Step 4: Evaluation UMAP**\n",
    "   - use 2D-feature to refit classifiers\n",
    "   \n",
    "**Step 5: Plot the decision boundary**"
   ]
  },
  {
   "cell_type": "markdown",
   "metadata": {},
   "source": [
    "# Step 1: Construction of 265 features (215 in fact)"
   ]
  },
  {
   "cell_type": "code",
   "execution_count": 1,
   "metadata": {},
   "outputs": [
    {
     "name": "stdout",
     "output_type": "stream",
     "text": [
      "215\n",
      "215\n",
      "The version of numpy is 1.21.5\n",
      "The version of pandas is 1.3.5\n"
     ]
    }
   ],
   "source": [
    "print(3 + 54 + 54 + 52 + 52)\n",
    "print(265 - 52 + 2)\n",
    "\n",
    "# conda update anaconda   ### in jupyter notebook\n",
    "# pip install -U numpy    ### in terminal\n",
    "\n",
    "import numpy as np\n",
    "print(\"The version of numpy is\", np.__version__)\n",
    "\n",
    "import pandas as pd\n",
    "print(\"The version of pandas is\", pd.__version__)"
   ]
  },
  {
   "cell_type": "code",
   "execution_count": 2,
   "metadata": {},
   "outputs": [
    {
     "name": "stdout",
     "output_type": "stream",
     "text": [
      "The shape of df is  (500, 430)\n"
     ]
    },
    {
     "data": {
      "text/html": [
       "<div>\n",
       "<style scoped>\n",
       "    .dataframe tbody tr th:only-of-type {\n",
       "        vertical-align: middle;\n",
       "    }\n",
       "\n",
       "    .dataframe tbody tr th {\n",
       "        vertical-align: top;\n",
       "    }\n",
       "\n",
       "    .dataframe thead th {\n",
       "        text-align: right;\n",
       "    }\n",
       "</style>\n",
       "<table border=\"1\" class=\"dataframe\">\n",
       "  <thead>\n",
       "    <tr style=\"text-align: right;\">\n",
       "      <th></th>\n",
       "      <th>pdf_filename</th>\n",
       "      <th>opv_filename</th>\n",
       "      <th>maskedid</th>\n",
       "      <th>aedob_shift</th>\n",
       "      <th>aeexamdate_shift</th>\n",
       "      <th>eye</th>\n",
       "      <th>trial_rx_sphere</th>\n",
       "      <th>trial_rx_cylinder</th>\n",
       "      <th>trial_rx_axis</th>\n",
       "      <th>pupil_diameter</th>\n",
       "      <th>...</th>\n",
       "      <th>aeexamtime</th>\n",
       "      <th>test_type</th>\n",
       "      <th>vatype</th>\n",
       "      <th>fovealresult</th>\n",
       "      <th>clinicalnotes</th>\n",
       "      <th>sfstatus</th>\n",
       "      <th>sf</th>\n",
       "      <th>sfprob</th>\n",
       "      <th>cpsd</th>\n",
       "      <th>cpsdprob</th>\n",
       "    </tr>\n",
       "  </thead>\n",
       "  <tbody>\n",
       "    <tr>\n",
       "      <th>0</th>\n",
       "      <td>1.2.276.0.75.2.5.80.25.3.190123133923759.93180...</td>\n",
       "      <td>1.2.276.0.75.2.5.80.25.3.190123133923519.93180...</td>\n",
       "      <td>VIP093528</td>\n",
       "      <td>04/18/1959</td>\n",
       "      <td>06/02/2011</td>\n",
       "      <td>L</td>\n",
       "      <td>2.25</td>\n",
       "      <td>-3.0</td>\n",
       "      <td>176</td>\n",
       "      <td>NaN</td>\n",
       "      <td>...</td>\n",
       "      <td>NaN</td>\n",
       "      <td>NaN</td>\n",
       "      <td>NaN</td>\n",
       "      <td>NaN</td>\n",
       "      <td>NaN</td>\n",
       "      <td>NaN</td>\n",
       "      <td>NaN</td>\n",
       "      <td>NaN</td>\n",
       "      <td>NaN</td>\n",
       "      <td>NaN</td>\n",
       "    </tr>\n",
       "    <tr>\n",
       "      <th>1</th>\n",
       "      <td>1.2.276.0.75.2.5.80.25.3.190123133924562.93180...</td>\n",
       "      <td>1.2.276.0.75.2.5.80.25.3.190123133924241.93180...</td>\n",
       "      <td>VIP093528</td>\n",
       "      <td>04/18/1959</td>\n",
       "      <td>06/02/2011</td>\n",
       "      <td>R</td>\n",
       "      <td>3.00</td>\n",
       "      <td>-3.0</td>\n",
       "      <td>14</td>\n",
       "      <td>NaN</td>\n",
       "      <td>...</td>\n",
       "      <td>NaN</td>\n",
       "      <td>NaN</td>\n",
       "      <td>NaN</td>\n",
       "      <td>NaN</td>\n",
       "      <td>NaN</td>\n",
       "      <td>NaN</td>\n",
       "      <td>NaN</td>\n",
       "      <td>NaN</td>\n",
       "      <td>NaN</td>\n",
       "      <td>NaN</td>\n",
       "    </tr>\n",
       "    <tr>\n",
       "      <th>2</th>\n",
       "      <td>1.2.276.0.75.2.5.80.25.3.190123134232237.93180...</td>\n",
       "      <td>1.2.276.0.75.2.5.80.25.3.190123134230637.93180...</td>\n",
       "      <td>VIP059015</td>\n",
       "      <td>12/08/1941</td>\n",
       "      <td>03/28/1998</td>\n",
       "      <td>L</td>\n",
       "      <td>0.00</td>\n",
       "      <td>0.0</td>\n",
       "      <td>0</td>\n",
       "      <td>NaN</td>\n",
       "      <td>...</td>\n",
       "      <td>NaN</td>\n",
       "      <td>NaN</td>\n",
       "      <td>NaN</td>\n",
       "      <td>NaN</td>\n",
       "      <td>NaN</td>\n",
       "      <td>NaN</td>\n",
       "      <td>NaN</td>\n",
       "      <td>NaN</td>\n",
       "      <td>NaN</td>\n",
       "      <td>NaN</td>\n",
       "    </tr>\n",
       "    <tr>\n",
       "      <th>3</th>\n",
       "      <td>1.2.276.0.75.2.5.80.25.3.190123134234418.93180...</td>\n",
       "      <td>1.2.276.0.75.2.5.80.25.3.190123134233302.93180...</td>\n",
       "      <td>VIP059015</td>\n",
       "      <td>12/08/1941</td>\n",
       "      <td>03/28/1998</td>\n",
       "      <td>R</td>\n",
       "      <td>0.75</td>\n",
       "      <td>0.0</td>\n",
       "      <td>0</td>\n",
       "      <td>NaN</td>\n",
       "      <td>...</td>\n",
       "      <td>NaN</td>\n",
       "      <td>NaN</td>\n",
       "      <td>NaN</td>\n",
       "      <td>NaN</td>\n",
       "      <td>NaN</td>\n",
       "      <td>NaN</td>\n",
       "      <td>NaN</td>\n",
       "      <td>NaN</td>\n",
       "      <td>NaN</td>\n",
       "      <td>NaN</td>\n",
       "    </tr>\n",
       "    <tr>\n",
       "      <th>4</th>\n",
       "      <td>1.2.276.0.75.2.5.80.25.3.190123134640676.93180...</td>\n",
       "      <td>1.2.276.0.75.2.5.80.25.3.190123134640210.93180...</td>\n",
       "      <td>VIP099723</td>\n",
       "      <td>02/28/1949</td>\n",
       "      <td>09/30/2012</td>\n",
       "      <td>L</td>\n",
       "      <td>5.25</td>\n",
       "      <td>-1.5</td>\n",
       "      <td>70</td>\n",
       "      <td>NaN</td>\n",
       "      <td>...</td>\n",
       "      <td>NaN</td>\n",
       "      <td>NaN</td>\n",
       "      <td>NaN</td>\n",
       "      <td>NaN</td>\n",
       "      <td>NaN</td>\n",
       "      <td>NaN</td>\n",
       "      <td>NaN</td>\n",
       "      <td>NaN</td>\n",
       "      <td>NaN</td>\n",
       "      <td>NaN</td>\n",
       "    </tr>\n",
       "  </tbody>\n",
       "</table>\n",
       "<p>5 rows × 430 columns</p>\n",
       "</div>"
      ],
      "text/plain": [
       "                                        pdf_filename  \\\n",
       "0  1.2.276.0.75.2.5.80.25.3.190123133923759.93180...   \n",
       "1  1.2.276.0.75.2.5.80.25.3.190123133924562.93180...   \n",
       "2  1.2.276.0.75.2.5.80.25.3.190123134232237.93180...   \n",
       "3  1.2.276.0.75.2.5.80.25.3.190123134234418.93180...   \n",
       "4  1.2.276.0.75.2.5.80.25.3.190123134640676.93180...   \n",
       "\n",
       "                                        opv_filename   maskedid aedob_shift  \\\n",
       "0  1.2.276.0.75.2.5.80.25.3.190123133923519.93180...  VIP093528  04/18/1959   \n",
       "1  1.2.276.0.75.2.5.80.25.3.190123133924241.93180...  VIP093528  04/18/1959   \n",
       "2  1.2.276.0.75.2.5.80.25.3.190123134230637.93180...  VIP059015  12/08/1941   \n",
       "3  1.2.276.0.75.2.5.80.25.3.190123134233302.93180...  VIP059015  12/08/1941   \n",
       "4  1.2.276.0.75.2.5.80.25.3.190123134640210.93180...  VIP099723  02/28/1949   \n",
       "\n",
       "  aeexamdate_shift eye  trial_rx_sphere  trial_rx_cylinder  trial_rx_axis  \\\n",
       "0       06/02/2011   L             2.25               -3.0            176   \n",
       "1       06/02/2011   R             3.00               -3.0             14   \n",
       "2       03/28/1998   L             0.00                0.0              0   \n",
       "3       03/28/1998   R             0.75                0.0              0   \n",
       "4       09/30/2012   L             5.25               -1.5             70   \n",
       "\n",
       "   pupil_diameter  ...  aeexamtime test_type  vatype  fovealresult  \\\n",
       "0             NaN  ...         NaN       NaN     NaN           NaN   \n",
       "1             NaN  ...         NaN       NaN     NaN           NaN   \n",
       "2             NaN  ...         NaN       NaN     NaN           NaN   \n",
       "3             NaN  ...         NaN       NaN     NaN           NaN   \n",
       "4             NaN  ...         NaN       NaN     NaN           NaN   \n",
       "\n",
       "  clinicalnotes sfstatus  sf  sfprob  cpsd cpsdprob  \n",
       "0           NaN      NaN NaN     NaN   NaN      NaN  \n",
       "1           NaN      NaN NaN     NaN   NaN      NaN  \n",
       "2           NaN      NaN NaN     NaN   NaN      NaN  \n",
       "3           NaN      NaN NaN     NaN   NaN      NaN  \n",
       "4           NaN      NaN NaN     NaN   NaN      NaN  \n",
       "\n",
       "[5 rows x 430 columns]"
      ]
     },
     "execution_count": 2,
     "metadata": {},
     "output_type": "execute_result"
    }
   ],
   "source": [
    "feature = pd.read_csv(\"opv_export_masked_add (md)_corrected (tdp, pdp).csv\")\n",
    "#### \"1. Normal_manually delete.csv\"\n",
    "print(\"The shape of df is \", feature.shape)\n",
    "feature.head()"
   ]
  },
  {
   "cell_type": "markdown",
   "metadata": {},
   "source": [
    "### Clean \"md\", \"psd\" and \"vfi\""
   ]
  },
  {
   "cell_type": "code",
   "execution_count": 3,
   "metadata": {},
   "outputs": [
    {
     "data": {
      "text/plain": [
       "md     -5.83286\n",
       "psd     4.07294\n",
       "vfi    84.17505\n",
       "dtype: float64"
      ]
     },
     "execution_count": 3,
     "metadata": {},
     "output_type": "execute_result"
    }
   ],
   "source": [
    "feature[['md', 'psd', 'vfi']].mean()"
   ]
  },
  {
   "cell_type": "code",
   "execution_count": 4,
   "metadata": {},
   "outputs": [
    {
     "name": "stdout",
     "output_type": "stream",
     "text": [
      "The average of vfi coulumn is 84.17505030181087\n",
      "Contains NaN? True\n",
      "Number of NaN: 3\n"
     ]
    }
   ],
   "source": [
    "print(\"The average of vfi coulumn is\", feature['vfi'].mean())\n",
    "print(\"Contains NaN?\", feature['vfi'].isnull().values.any())\n",
    "print(\"Number of NaN:\", feature['vfi'].isnull().sum().sum())"
   ]
  },
  {
   "cell_type": "markdown",
   "metadata": {},
   "source": [
    "### Fill the 3 NaN in vfi with average"
   ]
  },
  {
   "cell_type": "code",
   "execution_count": 5,
   "metadata": {},
   "outputs": [
    {
     "name": "stdout",
     "output_type": "stream",
     "text": [
      "The average of vfi coulumn is 84.17505030181087\n",
      "Contains NaN? False\n",
      "Number of NaN: 0\n"
     ]
    }
   ],
   "source": [
    "feature['vfi'] = feature['vfi'].fillna(feature['vfi'].mean())\n",
    "\n",
    "print(\"The average of vfi coulumn is\", feature['vfi'].mean())\n",
    "print(\"Contains NaN?\", feature['vfi'].isnull().values.any())\n",
    "print(\"Number of NaN:\", feature['vfi'].isnull().sum().sum())"
   ]
  },
  {
   "cell_type": "markdown",
   "metadata": {},
   "source": [
    "### thr, td, tdp, pd, pdp"
   ]
  },
  {
   "cell_type": "code",
   "execution_count": 6,
   "metadata": {},
   "outputs": [
    {
     "name": "stdout",
     "output_type": "stream",
     "text": [
      "The shape of thr before drop NaN is (500, 76)\n",
      "The shape of thr after drop NaN is (500, 54)\n"
     ]
    }
   ],
   "source": [
    "thr = feature[feature.columns[40:116]]\n",
    "print(\"The shape of thr before drop NaN is\", thr.shape)\n",
    "thr = thr.dropna(axis = 1)\n",
    "print(\"The shape of thr after drop NaN is\", thr.shape)"
   ]
  },
  {
   "cell_type": "code",
   "execution_count": 7,
   "metadata": {},
   "outputs": [
    {
     "name": "stdout",
     "output_type": "stream",
     "text": [
      "The shape of td before drop NaN is (500, 76)\n",
      "The shape of td after drop NaN is (500, 54)\n"
     ]
    }
   ],
   "source": [
    "td = feature[feature.columns[116:192]]\n",
    "print(\"The shape of td before drop NaN is\", td.shape)\n",
    "td = td.dropna(axis = 1)\n",
    "print(\"The shape of td after drop NaN is\", td.shape)"
   ]
  },
  {
   "cell_type": "code",
   "execution_count": 8,
   "metadata": {},
   "outputs": [
    {
     "name": "stdout",
     "output_type": "stream",
     "text": [
      "The shape of tdp before drop NaN is (500, 76)\n",
      "The shape of tdp after drop NaN is (500, 52)\n"
     ]
    }
   ],
   "source": [
    "tdp = feature[feature.columns[192:268]]\n",
    "print(\"The shape of tdp before drop NaN is\", tdp.shape)\n",
    "tdp = tdp.dropna(axis = 1)\n",
    "print(\"The shape of tdp after drop NaN is\", tdp.shape)"
   ]
  },
  {
   "cell_type": "code",
   "execution_count": 9,
   "metadata": {},
   "outputs": [
    {
     "name": "stdout",
     "output_type": "stream",
     "text": [
      "The shape of pd_d before drop NaN is (500, 76)\n",
      "The shape of pd_d after drop NaN is (500, 0)\n"
     ]
    }
   ],
   "source": [
    "pd_d = feature[feature.columns[268:344]]\n",
    "print(\"The shape of pd_d before drop NaN is\", pd_d.shape)\n",
    "pd_d = pd_d.dropna(axis = 1)\n",
    "print(\"The shape of pd_d after drop NaN is\", pd_d.shape)"
   ]
  },
  {
   "cell_type": "code",
   "execution_count": 10,
   "metadata": {},
   "outputs": [
    {
     "name": "stdout",
     "output_type": "stream",
     "text": [
      "The shape of pdp before drop NaN is (500, 76)\n",
      "The shape of pdp after drop NaN is (500, 52)\n"
     ]
    }
   ],
   "source": [
    "pdp = feature[feature.columns[344:420]]\n",
    "print(\"The shape of pdp before drop NaN is\", pdp.shape)\n",
    "pdp = pdp.dropna(axis = 1)\n",
    "print(\"The shape of pdp after drop NaN is\", pdp.shape)"
   ]
  },
  {
   "cell_type": "code",
   "execution_count": 11,
   "metadata": {},
   "outputs": [
    {
     "name": "stdout",
     "output_type": "stream",
     "text": [
      "The shape of concatenated_feature is (500, 215)\n"
     ]
    },
    {
     "data": {
      "text/html": [
       "<div>\n",
       "<style scoped>\n",
       "    .dataframe tbody tr th:only-of-type {\n",
       "        vertical-align: middle;\n",
       "    }\n",
       "\n",
       "    .dataframe tbody tr th {\n",
       "        vertical-align: top;\n",
       "    }\n",
       "\n",
       "    .dataframe thead th {\n",
       "        text-align: right;\n",
       "    }\n",
       "</style>\n",
       "<table border=\"1\" class=\"dataframe\">\n",
       "  <thead>\n",
       "    <tr style=\"text-align: right;\">\n",
       "      <th></th>\n",
       "      <th>md</th>\n",
       "      <th>psd</th>\n",
       "      <th>vfi</th>\n",
       "      <th>n9_s21_thr</th>\n",
       "      <th>n3_s21_thr</th>\n",
       "      <th>t3_s21_thr</th>\n",
       "      <th>t9_s21_thr</th>\n",
       "      <th>n15_s15_thr</th>\n",
       "      <th>n9_s15_thr</th>\n",
       "      <th>n3_s15_thr</th>\n",
       "      <th>...</th>\n",
       "      <th>n15_i15_pdp</th>\n",
       "      <th>n9_i15_pdp</th>\n",
       "      <th>n3_i15_pdp</th>\n",
       "      <th>t3_i15_pdp</th>\n",
       "      <th>t9_i15_pdp</th>\n",
       "      <th>t15_i15_pdp</th>\n",
       "      <th>n9_i21_pdp</th>\n",
       "      <th>n3_i21_pdp</th>\n",
       "      <th>t3_i21_pdp</th>\n",
       "      <th>t9_i21_pdp</th>\n",
       "    </tr>\n",
       "  </thead>\n",
       "  <tbody>\n",
       "    <tr>\n",
       "      <th>0</th>\n",
       "      <td>-2.20</td>\n",
       "      <td>4.04</td>\n",
       "      <td>96.0</td>\n",
       "      <td>28</td>\n",
       "      <td>28</td>\n",
       "      <td>26</td>\n",
       "      <td>29</td>\n",
       "      <td>25</td>\n",
       "      <td>29</td>\n",
       "      <td>31</td>\n",
       "      <td>...</td>\n",
       "      <td>4.0</td>\n",
       "      <td>4.0</td>\n",
       "      <td>0.0</td>\n",
       "      <td>0.0</td>\n",
       "      <td>2.0</td>\n",
       "      <td>1.0</td>\n",
       "      <td>4.0</td>\n",
       "      <td>3.0</td>\n",
       "      <td>1.0</td>\n",
       "      <td>0.0</td>\n",
       "    </tr>\n",
       "    <tr>\n",
       "      <th>1</th>\n",
       "      <td>-1.72</td>\n",
       "      <td>2.15</td>\n",
       "      <td>97.0</td>\n",
       "      <td>24</td>\n",
       "      <td>26</td>\n",
       "      <td>28</td>\n",
       "      <td>24</td>\n",
       "      <td>28</td>\n",
       "      <td>28</td>\n",
       "      <td>31</td>\n",
       "      <td>...</td>\n",
       "      <td>4.0</td>\n",
       "      <td>3.0</td>\n",
       "      <td>0.0</td>\n",
       "      <td>0.0</td>\n",
       "      <td>0.0</td>\n",
       "      <td>0.0</td>\n",
       "      <td>0.0</td>\n",
       "      <td>1.0</td>\n",
       "      <td>2.0</td>\n",
       "      <td>0.0</td>\n",
       "    </tr>\n",
       "    <tr>\n",
       "      <th>2</th>\n",
       "      <td>-1.77</td>\n",
       "      <td>2.18</td>\n",
       "      <td>99.0</td>\n",
       "      <td>29</td>\n",
       "      <td>27</td>\n",
       "      <td>24</td>\n",
       "      <td>26</td>\n",
       "      <td>28</td>\n",
       "      <td>29</td>\n",
       "      <td>29</td>\n",
       "      <td>...</td>\n",
       "      <td>0.0</td>\n",
       "      <td>0.0</td>\n",
       "      <td>3.0</td>\n",
       "      <td>0.0</td>\n",
       "      <td>0.0</td>\n",
       "      <td>0.0</td>\n",
       "      <td>0.0</td>\n",
       "      <td>0.0</td>\n",
       "      <td>0.0</td>\n",
       "      <td>0.0</td>\n",
       "    </tr>\n",
       "    <tr>\n",
       "      <th>3</th>\n",
       "      <td>-1.51</td>\n",
       "      <td>1.96</td>\n",
       "      <td>98.0</td>\n",
       "      <td>25</td>\n",
       "      <td>25</td>\n",
       "      <td>24</td>\n",
       "      <td>24</td>\n",
       "      <td>30</td>\n",
       "      <td>27</td>\n",
       "      <td>25</td>\n",
       "      <td>...</td>\n",
       "      <td>0.0</td>\n",
       "      <td>0.0</td>\n",
       "      <td>0.0</td>\n",
       "      <td>0.0</td>\n",
       "      <td>0.0</td>\n",
       "      <td>0.0</td>\n",
       "      <td>0.0</td>\n",
       "      <td>0.0</td>\n",
       "      <td>0.0</td>\n",
       "      <td>0.0</td>\n",
       "    </tr>\n",
       "    <tr>\n",
       "      <th>4</th>\n",
       "      <td>-3.76</td>\n",
       "      <td>1.80</td>\n",
       "      <td>98.0</td>\n",
       "      <td>26</td>\n",
       "      <td>22</td>\n",
       "      <td>23</td>\n",
       "      <td>23</td>\n",
       "      <td>25</td>\n",
       "      <td>26</td>\n",
       "      <td>24</td>\n",
       "      <td>...</td>\n",
       "      <td>0.0</td>\n",
       "      <td>0.0</td>\n",
       "      <td>0.0</td>\n",
       "      <td>0.0</td>\n",
       "      <td>3.0</td>\n",
       "      <td>0.0</td>\n",
       "      <td>0.0</td>\n",
       "      <td>0.0</td>\n",
       "      <td>0.0</td>\n",
       "      <td>3.0</td>\n",
       "    </tr>\n",
       "  </tbody>\n",
       "</table>\n",
       "<p>5 rows × 215 columns</p>\n",
       "</div>"
      ],
      "text/plain": [
       "     md   psd   vfi  n9_s21_thr  n3_s21_thr  t3_s21_thr  t9_s21_thr  \\\n",
       "0 -2.20  4.04  96.0          28          28          26          29   \n",
       "1 -1.72  2.15  97.0          24          26          28          24   \n",
       "2 -1.77  2.18  99.0          29          27          24          26   \n",
       "3 -1.51  1.96  98.0          25          25          24          24   \n",
       "4 -3.76  1.80  98.0          26          22          23          23   \n",
       "\n",
       "   n15_s15_thr  n9_s15_thr  n3_s15_thr  ...  n15_i15_pdp  n9_i15_pdp  \\\n",
       "0           25          29          31  ...          4.0         4.0   \n",
       "1           28          28          31  ...          4.0         3.0   \n",
       "2           28          29          29  ...          0.0         0.0   \n",
       "3           30          27          25  ...          0.0         0.0   \n",
       "4           25          26          24  ...          0.0         0.0   \n",
       "\n",
       "   n3_i15_pdp  t3_i15_pdp  t9_i15_pdp  t15_i15_pdp  n9_i21_pdp  n3_i21_pdp  \\\n",
       "0         0.0         0.0         2.0          1.0         4.0         3.0   \n",
       "1         0.0         0.0         0.0          0.0         0.0         1.0   \n",
       "2         3.0         0.0         0.0          0.0         0.0         0.0   \n",
       "3         0.0         0.0         0.0          0.0         0.0         0.0   \n",
       "4         0.0         0.0         3.0          0.0         0.0         0.0   \n",
       "\n",
       "   t3_i21_pdp  t9_i21_pdp  \n",
       "0         1.0         0.0  \n",
       "1         2.0         0.0  \n",
       "2         0.0         0.0  \n",
       "3         0.0         0.0  \n",
       "4         0.0         3.0  \n",
       "\n",
       "[5 rows x 215 columns]"
      ]
     },
     "execution_count": 11,
     "metadata": {},
     "output_type": "execute_result"
    }
   ],
   "source": [
    "concatenated_feature = pd.concat([feature[['md', 'psd', 'vfi']], thr, td, tdp, pdp], axis=1)\n",
    "print(\"The shape of concatenated_feature is\", concatenated_feature.shape)\n",
    "concatenated_feature.head()"
   ]
  },
  {
   "cell_type": "code",
   "execution_count": 12,
   "metadata": {},
   "outputs": [
    {
     "name": "stdout",
     "output_type": "stream",
     "text": [
      "The shape of concatenated_feature is (500, 215)\n",
      "The type of concatenated_feature is <class 'pandas.core.frame.DataFrame'>\n",
      "Contains NaN? False\n",
      "Number of NaN: 0\n"
     ]
    }
   ],
   "source": [
    "### check again\n",
    "print(\"The shape of concatenated_feature is\", concatenated_feature.shape)\n",
    "print(\"The type of concatenated_feature is\", type(concatenated_feature))\n",
    "print(\"Contains NaN?\", concatenated_feature.isnull().values.any())\n",
    "print(\"Number of NaN:\", concatenated_feature.isnull().sum().sum())"
   ]
  },
  {
   "cell_type": "markdown",
   "metadata": {},
   "source": [
    "### Construct label, y"
   ]
  },
  {
   "cell_type": "code",
   "execution_count": 13,
   "metadata": {},
   "outputs": [
    {
     "data": {
      "text/html": [
       "<div>\n",
       "<style scoped>\n",
       "    .dataframe tbody tr th:only-of-type {\n",
       "        vertical-align: middle;\n",
       "    }\n",
       "\n",
       "    .dataframe tbody tr th {\n",
       "        vertical-align: top;\n",
       "    }\n",
       "\n",
       "    .dataframe thead th {\n",
       "        text-align: right;\n",
       "    }\n",
       "</style>\n",
       "<table border=\"1\" class=\"dataframe\">\n",
       "  <thead>\n",
       "    <tr style=\"text-align: right;\">\n",
       "      <th></th>\n",
       "      <th>pdf_filename</th>\n",
       "      <th>reliability</th>\n",
       "      <th>normal</th>\n",
       "      <th>gdefect1</th>\n",
       "      <th>gposition1</th>\n",
       "      <th>gdefect2</th>\n",
       "      <th>gposition2</th>\n",
       "      <th>gdefect3</th>\n",
       "      <th>gposition3</th>\n",
       "      <th>ngdefect1</th>\n",
       "      <th>ngposition1</th>\n",
       "      <th>ngdefect2</th>\n",
       "      <th>ngposition2</th>\n",
       "      <th>artifact1</th>\n",
       "      <th>artifact2</th>\n",
       "    </tr>\n",
       "  </thead>\n",
       "  <tbody>\n",
       "    <tr>\n",
       "      <th>0</th>\n",
       "      <td>1.2.276.0.75.2.5.80.25.3.190123133923759.93180...</td>\n",
       "      <td>1</td>\n",
       "      <td>0</td>\n",
       "      <td>3</td>\n",
       "      <td>1</td>\n",
       "      <td>0</td>\n",
       "      <td>0</td>\n",
       "      <td>0</td>\n",
       "      <td>0</td>\n",
       "      <td>0</td>\n",
       "      <td>0</td>\n",
       "      <td>0</td>\n",
       "      <td>0</td>\n",
       "      <td>0</td>\n",
       "      <td>0</td>\n",
       "    </tr>\n",
       "    <tr>\n",
       "      <th>1</th>\n",
       "      <td>1.2.276.0.75.2.5.80.25.3.190123133924562.93180...</td>\n",
       "      <td>1</td>\n",
       "      <td>0</td>\n",
       "      <td>3</td>\n",
       "      <td>1</td>\n",
       "      <td>0</td>\n",
       "      <td>0</td>\n",
       "      <td>0</td>\n",
       "      <td>0</td>\n",
       "      <td>0</td>\n",
       "      <td>0</td>\n",
       "      <td>0</td>\n",
       "      <td>0</td>\n",
       "      <td>0</td>\n",
       "      <td>0</td>\n",
       "    </tr>\n",
       "    <tr>\n",
       "      <th>2</th>\n",
       "      <td>1.2.276.0.75.2.5.80.25.3.190123134232237.93180...</td>\n",
       "      <td>1</td>\n",
       "      <td>1</td>\n",
       "      <td>0</td>\n",
       "      <td>0</td>\n",
       "      <td>0</td>\n",
       "      <td>0</td>\n",
       "      <td>0</td>\n",
       "      <td>0</td>\n",
       "      <td>0</td>\n",
       "      <td>0</td>\n",
       "      <td>0</td>\n",
       "      <td>0</td>\n",
       "      <td>0</td>\n",
       "      <td>0</td>\n",
       "    </tr>\n",
       "    <tr>\n",
       "      <th>3</th>\n",
       "      <td>1.2.276.0.75.2.5.80.25.3.190123134234418.93180...</td>\n",
       "      <td>1</td>\n",
       "      <td>1</td>\n",
       "      <td>0</td>\n",
       "      <td>0</td>\n",
       "      <td>0</td>\n",
       "      <td>0</td>\n",
       "      <td>0</td>\n",
       "      <td>0</td>\n",
       "      <td>0</td>\n",
       "      <td>0</td>\n",
       "      <td>0</td>\n",
       "      <td>0</td>\n",
       "      <td>0</td>\n",
       "      <td>0</td>\n",
       "    </tr>\n",
       "    <tr>\n",
       "      <th>4</th>\n",
       "      <td>1.2.276.0.75.2.5.80.25.3.190123134640676.93180...</td>\n",
       "      <td>1</td>\n",
       "      <td>0</td>\n",
       "      <td>3</td>\n",
       "      <td>1</td>\n",
       "      <td>0</td>\n",
       "      <td>0</td>\n",
       "      <td>0</td>\n",
       "      <td>0</td>\n",
       "      <td>0</td>\n",
       "      <td>0</td>\n",
       "      <td>0</td>\n",
       "      <td>0</td>\n",
       "      <td>0</td>\n",
       "      <td>0</td>\n",
       "    </tr>\n",
       "  </tbody>\n",
       "</table>\n",
       "</div>"
      ],
      "text/plain": [
       "                                        pdf_filename  reliability  normal  \\\n",
       "0  1.2.276.0.75.2.5.80.25.3.190123133923759.93180...            1       0   \n",
       "1  1.2.276.0.75.2.5.80.25.3.190123133924562.93180...            1       0   \n",
       "2  1.2.276.0.75.2.5.80.25.3.190123134232237.93180...            1       1   \n",
       "3  1.2.276.0.75.2.5.80.25.3.190123134234418.93180...            1       1   \n",
       "4  1.2.276.0.75.2.5.80.25.3.190123134640676.93180...            1       0   \n",
       "\n",
       "   gdefect1  gposition1  gdefect2  gposition2  gdefect3  gposition3  \\\n",
       "0         3           1         0           0         0           0   \n",
       "1         3           1         0           0         0           0   \n",
       "2         0           0         0           0         0           0   \n",
       "3         0           0         0           0         0           0   \n",
       "4         3           1         0           0         0           0   \n",
       "\n",
       "   ngdefect1  ngposition1  ngdefect2  ngposition2  artifact1  artifact2  \n",
       "0          0            0          0            0          0          0  \n",
       "1          0            0          0            0          0          0  \n",
       "2          0            0          0            0          0          0  \n",
       "3          0            0          0            0          0          0  \n",
       "4          0            0          0            0          0          0  "
      ]
     },
     "execution_count": 13,
     "metadata": {},
     "output_type": "execute_result"
    }
   ],
   "source": [
    "label = pd.read_csv(\"gradings_agreement_raw.csv\")\n",
    "label.head()"
   ]
  },
  {
   "cell_type": "code",
   "execution_count": 14,
   "metadata": {},
   "outputs": [
    {
     "name": "stdout",
     "output_type": "stream",
     "text": [
      "The length of Y is 500\n",
      "The type of Y is <class 'pandas.core.series.Series'>\n"
     ]
    }
   ],
   "source": [
    "Y = label[\"normal\"]\n",
    "print(\"The length of Y is\", len(Y))\n",
    "print(\"The type of Y is\", type(Y))"
   ]
  },
  {
   "cell_type": "markdown",
   "metadata": {},
   "source": [
    "# Step 2: Classification"
   ]
  },
  {
   "cell_type": "code",
   "execution_count": 15,
   "metadata": {},
   "outputs": [],
   "source": [
    "import numpy as np\n",
    "\n",
    "#Plotting packages\n",
    "import matplotlib.pyplot as plt\n",
    "import seaborn as sns\n",
    "\n",
    "#Classification Algorithms\n",
    "from sklearn.tree import DecisionTreeClassifier\n",
    "from sklearn.neighbors import KNeighborsClassifier\n",
    "from sklearn.naive_bayes import GaussianNB\n",
    "from sklearn.svm import SVC\n",
    "\n",
    "#Ensemble Methods\n",
    "#from sklearn.ensemble import BaggingClassifier\n",
    "#from sklearn.ensemble import BaggingRegressor\n",
    "from sklearn.model_selection import cross_val_score, train_test_split\n",
    "#from sklearn.ensemble import AdaBoostClassifier\n",
    "\n",
    "# 在terminal里run\n",
    "# pip uninstall scikit-learn\n",
    "# pip install scikit-learn==0.18.2"
   ]
  },
  {
   "cell_type": "code",
   "execution_count": 16,
   "metadata": {},
   "outputs": [
    {
     "name": "stdout",
     "output_type": "stream",
     "text": [
      "The shape of X is  (500, 215)\n",
      "The shape of Y is  (500,)\n"
     ]
    }
   ],
   "source": [
    "X = concatenated_feature.to_numpy()\n",
    "Y = Y.to_numpy()\n",
    "print(\"The shape of X is \", X.shape)\n",
    "print(\"The shape of Y is \", Y.shape)"
   ]
  },
  {
   "cell_type": "code",
   "execution_count": 17,
   "metadata": {
    "scrolled": true
   },
   "outputs": [
    {
     "data": {
      "text/html": [
       "<div>\n",
       "<style scoped>\n",
       "    .dataframe tbody tr th:only-of-type {\n",
       "        vertical-align: middle;\n",
       "    }\n",
       "\n",
       "    .dataframe tbody tr th {\n",
       "        vertical-align: top;\n",
       "    }\n",
       "\n",
       "    .dataframe thead th {\n",
       "        text-align: right;\n",
       "    }\n",
       "</style>\n",
       "<table border=\"1\" class=\"dataframe\">\n",
       "  <thead>\n",
       "    <tr style=\"text-align: right;\">\n",
       "      <th></th>\n",
       "      <th>md</th>\n",
       "      <th>psd</th>\n",
       "      <th>vfi</th>\n",
       "      <th>n9_s21_thr</th>\n",
       "      <th>n3_s21_thr</th>\n",
       "      <th>t3_s21_thr</th>\n",
       "      <th>t9_s21_thr</th>\n",
       "      <th>n15_s15_thr</th>\n",
       "      <th>n9_s15_thr</th>\n",
       "      <th>n3_s15_thr</th>\n",
       "      <th>...</th>\n",
       "      <th>n15_i15_pdp</th>\n",
       "      <th>n9_i15_pdp</th>\n",
       "      <th>n3_i15_pdp</th>\n",
       "      <th>t3_i15_pdp</th>\n",
       "      <th>t9_i15_pdp</th>\n",
       "      <th>t15_i15_pdp</th>\n",
       "      <th>n9_i21_pdp</th>\n",
       "      <th>n3_i21_pdp</th>\n",
       "      <th>t3_i21_pdp</th>\n",
       "      <th>t9_i21_pdp</th>\n",
       "    </tr>\n",
       "  </thead>\n",
       "  <tbody>\n",
       "    <tr>\n",
       "      <th>count</th>\n",
       "      <td>500.000000</td>\n",
       "      <td>500.000000</td>\n",
       "      <td>500.000000</td>\n",
       "      <td>500.000000</td>\n",
       "      <td>500.000000</td>\n",
       "      <td>500.000000</td>\n",
       "      <td>500.000000</td>\n",
       "      <td>500.000000</td>\n",
       "      <td>500.000000</td>\n",
       "      <td>500.000000</td>\n",
       "      <td>...</td>\n",
       "      <td>500.000000</td>\n",
       "      <td>500.000000</td>\n",
       "      <td>500.000000</td>\n",
       "      <td>500.000000</td>\n",
       "      <td>500.00000</td>\n",
       "      <td>500.000000</td>\n",
       "      <td>500.000000</td>\n",
       "      <td>500.000000</td>\n",
       "      <td>500.00000</td>\n",
       "      <td>500.000000</td>\n",
       "    </tr>\n",
       "    <tr>\n",
       "      <th>mean</th>\n",
       "      <td>-5.832860</td>\n",
       "      <td>4.072940</td>\n",
       "      <td>84.175050</td>\n",
       "      <td>20.670000</td>\n",
       "      <td>21.266000</td>\n",
       "      <td>20.432000</td>\n",
       "      <td>20.566000</td>\n",
       "      <td>22.228000</td>\n",
       "      <td>23.428000</td>\n",
       "      <td>23.414000</td>\n",
       "      <td>...</td>\n",
       "      <td>0.728000</td>\n",
       "      <td>0.700000</td>\n",
       "      <td>0.836000</td>\n",
       "      <td>0.734000</td>\n",
       "      <td>0.49800</td>\n",
       "      <td>0.588000</td>\n",
       "      <td>0.756000</td>\n",
       "      <td>0.794000</td>\n",
       "      <td>0.70800</td>\n",
       "      <td>0.656000</td>\n",
       "    </tr>\n",
       "    <tr>\n",
       "      <th>std</th>\n",
       "      <td>8.934596</td>\n",
       "      <td>3.633445</td>\n",
       "      <td>26.715144</td>\n",
       "      <td>10.438536</td>\n",
       "      <td>10.186008</td>\n",
       "      <td>10.339981</td>\n",
       "      <td>10.393734</td>\n",
       "      <td>10.749843</td>\n",
       "      <td>10.366279</td>\n",
       "      <td>10.360564</td>\n",
       "      <td>...</td>\n",
       "      <td>1.404978</td>\n",
       "      <td>1.352649</td>\n",
       "      <td>1.439879</td>\n",
       "      <td>1.373688</td>\n",
       "      <td>1.17335</td>\n",
       "      <td>1.263903</td>\n",
       "      <td>1.337176</td>\n",
       "      <td>1.404104</td>\n",
       "      <td>1.32901</td>\n",
       "      <td>1.304249</td>\n",
       "    </tr>\n",
       "    <tr>\n",
       "      <th>min</th>\n",
       "      <td>-34.509998</td>\n",
       "      <td>0.970000</td>\n",
       "      <td>0.000000</td>\n",
       "      <td>-1.000000</td>\n",
       "      <td>-1.000000</td>\n",
       "      <td>-1.000000</td>\n",
       "      <td>-1.000000</td>\n",
       "      <td>-1.000000</td>\n",
       "      <td>-1.000000</td>\n",
       "      <td>-1.000000</td>\n",
       "      <td>...</td>\n",
       "      <td>0.000000</td>\n",
       "      <td>0.000000</td>\n",
       "      <td>0.000000</td>\n",
       "      <td>0.000000</td>\n",
       "      <td>0.00000</td>\n",
       "      <td>0.000000</td>\n",
       "      <td>0.000000</td>\n",
       "      <td>0.000000</td>\n",
       "      <td>0.00000</td>\n",
       "      <td>0.000000</td>\n",
       "    </tr>\n",
       "    <tr>\n",
       "      <th>25%</th>\n",
       "      <td>-6.330000</td>\n",
       "      <td>1.630000</td>\n",
       "      <td>86.000000</td>\n",
       "      <td>18.000000</td>\n",
       "      <td>19.000000</td>\n",
       "      <td>19.000000</td>\n",
       "      <td>18.000000</td>\n",
       "      <td>20.750000</td>\n",
       "      <td>23.000000</td>\n",
       "      <td>23.000000</td>\n",
       "      <td>...</td>\n",
       "      <td>0.000000</td>\n",
       "      <td>0.000000</td>\n",
       "      <td>0.000000</td>\n",
       "      <td>0.000000</td>\n",
       "      <td>0.00000</td>\n",
       "      <td>0.000000</td>\n",
       "      <td>0.000000</td>\n",
       "      <td>0.000000</td>\n",
       "      <td>0.00000</td>\n",
       "      <td>0.000000</td>\n",
       "    </tr>\n",
       "    <tr>\n",
       "      <th>50%</th>\n",
       "      <td>-2.060000</td>\n",
       "      <td>2.180000</td>\n",
       "      <td>97.000000</td>\n",
       "      <td>25.000000</td>\n",
       "      <td>25.000000</td>\n",
       "      <td>25.000000</td>\n",
       "      <td>24.000000</td>\n",
       "      <td>27.000000</td>\n",
       "      <td>28.000000</td>\n",
       "      <td>28.000000</td>\n",
       "      <td>...</td>\n",
       "      <td>0.000000</td>\n",
       "      <td>0.000000</td>\n",
       "      <td>0.000000</td>\n",
       "      <td>0.000000</td>\n",
       "      <td>0.00000</td>\n",
       "      <td>0.000000</td>\n",
       "      <td>0.000000</td>\n",
       "      <td>0.000000</td>\n",
       "      <td>0.00000</td>\n",
       "      <td>0.000000</td>\n",
       "    </tr>\n",
       "    <tr>\n",
       "      <th>75%</th>\n",
       "      <td>-0.502500</td>\n",
       "      <td>5.525000</td>\n",
       "      <td>99.000000</td>\n",
       "      <td>28.000000</td>\n",
       "      <td>28.000000</td>\n",
       "      <td>28.000000</td>\n",
       "      <td>28.000000</td>\n",
       "      <td>29.000000</td>\n",
       "      <td>29.000000</td>\n",
       "      <td>30.000000</td>\n",
       "      <td>...</td>\n",
       "      <td>1.000000</td>\n",
       "      <td>1.000000</td>\n",
       "      <td>1.000000</td>\n",
       "      <td>1.000000</td>\n",
       "      <td>0.00000</td>\n",
       "      <td>0.000000</td>\n",
       "      <td>1.000000</td>\n",
       "      <td>1.000000</td>\n",
       "      <td>1.00000</td>\n",
       "      <td>0.000000</td>\n",
       "    </tr>\n",
       "    <tr>\n",
       "      <th>max</th>\n",
       "      <td>3.760000</td>\n",
       "      <td>16.010000</td>\n",
       "      <td>100.000000</td>\n",
       "      <td>48.000000</td>\n",
       "      <td>33.000000</td>\n",
       "      <td>38.000000</td>\n",
       "      <td>45.000000</td>\n",
       "      <td>45.000000</td>\n",
       "      <td>35.000000</td>\n",
       "      <td>39.000000</td>\n",
       "      <td>...</td>\n",
       "      <td>4.000000</td>\n",
       "      <td>4.000000</td>\n",
       "      <td>4.000000</td>\n",
       "      <td>4.000000</td>\n",
       "      <td>4.00000</td>\n",
       "      <td>4.000000</td>\n",
       "      <td>4.000000</td>\n",
       "      <td>4.000000</td>\n",
       "      <td>4.00000</td>\n",
       "      <td>4.000000</td>\n",
       "    </tr>\n",
       "  </tbody>\n",
       "</table>\n",
       "<p>8 rows × 215 columns</p>\n",
       "</div>"
      ],
      "text/plain": [
       "               md         psd         vfi  n9_s21_thr  n3_s21_thr  t3_s21_thr  \\\n",
       "count  500.000000  500.000000  500.000000  500.000000  500.000000  500.000000   \n",
       "mean    -5.832860    4.072940   84.175050   20.670000   21.266000   20.432000   \n",
       "std      8.934596    3.633445   26.715144   10.438536   10.186008   10.339981   \n",
       "min    -34.509998    0.970000    0.000000   -1.000000   -1.000000   -1.000000   \n",
       "25%     -6.330000    1.630000   86.000000   18.000000   19.000000   19.000000   \n",
       "50%     -2.060000    2.180000   97.000000   25.000000   25.000000   25.000000   \n",
       "75%     -0.502500    5.525000   99.000000   28.000000   28.000000   28.000000   \n",
       "max      3.760000   16.010000  100.000000   48.000000   33.000000   38.000000   \n",
       "\n",
       "       t9_s21_thr  n15_s15_thr  n9_s15_thr  n3_s15_thr  ...  n15_i15_pdp  \\\n",
       "count  500.000000   500.000000  500.000000  500.000000  ...   500.000000   \n",
       "mean    20.566000    22.228000   23.428000   23.414000  ...     0.728000   \n",
       "std     10.393734    10.749843   10.366279   10.360564  ...     1.404978   \n",
       "min     -1.000000    -1.000000   -1.000000   -1.000000  ...     0.000000   \n",
       "25%     18.000000    20.750000   23.000000   23.000000  ...     0.000000   \n",
       "50%     24.000000    27.000000   28.000000   28.000000  ...     0.000000   \n",
       "75%     28.000000    29.000000   29.000000   30.000000  ...     1.000000   \n",
       "max     45.000000    45.000000   35.000000   39.000000  ...     4.000000   \n",
       "\n",
       "       n9_i15_pdp  n3_i15_pdp  t3_i15_pdp  t9_i15_pdp  t15_i15_pdp  \\\n",
       "count  500.000000  500.000000  500.000000   500.00000   500.000000   \n",
       "mean     0.700000    0.836000    0.734000     0.49800     0.588000   \n",
       "std      1.352649    1.439879    1.373688     1.17335     1.263903   \n",
       "min      0.000000    0.000000    0.000000     0.00000     0.000000   \n",
       "25%      0.000000    0.000000    0.000000     0.00000     0.000000   \n",
       "50%      0.000000    0.000000    0.000000     0.00000     0.000000   \n",
       "75%      1.000000    1.000000    1.000000     0.00000     0.000000   \n",
       "max      4.000000    4.000000    4.000000     4.00000     4.000000   \n",
       "\n",
       "       n9_i21_pdp  n3_i21_pdp  t3_i21_pdp  t9_i21_pdp  \n",
       "count  500.000000  500.000000   500.00000  500.000000  \n",
       "mean     0.756000    0.794000     0.70800    0.656000  \n",
       "std      1.337176    1.404104     1.32901    1.304249  \n",
       "min      0.000000    0.000000     0.00000    0.000000  \n",
       "25%      0.000000    0.000000     0.00000    0.000000  \n",
       "50%      0.000000    0.000000     0.00000    0.000000  \n",
       "75%      1.000000    1.000000     1.00000    0.000000  \n",
       "max      4.000000    4.000000     4.00000    4.000000  \n",
       "\n",
       "[8 rows x 215 columns]"
      ]
     },
     "execution_count": 17,
     "metadata": {},
     "output_type": "execute_result"
    }
   ],
   "source": [
    "concatenated_feature.describe()"
   ]
  },
  {
   "cell_type": "markdown",
   "metadata": {},
   "source": [
    "### Model Evaluation Matrics\n",
    "Let's see what model evaluation matrics we have/can use.\n",
    "- from scikit-learn package"
   ]
  },
  {
   "cell_type": "code",
   "execution_count": 18,
   "metadata": {},
   "outputs": [
    {
     "data": {
      "text/plain": [
       "['accuracy',\n",
       " 'adjusted_mutual_info_score',\n",
       " 'adjusted_rand_score',\n",
       " 'average_precision',\n",
       " 'balanced_accuracy',\n",
       " 'completeness_score',\n",
       " 'explained_variance',\n",
       " 'f1',\n",
       " 'f1_macro',\n",
       " 'f1_micro',\n",
       " 'f1_samples',\n",
       " 'f1_weighted',\n",
       " 'fowlkes_mallows_score',\n",
       " 'homogeneity_score',\n",
       " 'jaccard',\n",
       " 'jaccard_macro',\n",
       " 'jaccard_micro',\n",
       " 'jaccard_samples',\n",
       " 'jaccard_weighted',\n",
       " 'max_error',\n",
       " 'mutual_info_score',\n",
       " 'neg_brier_score',\n",
       " 'neg_log_loss',\n",
       " 'neg_mean_absolute_error',\n",
       " 'neg_mean_absolute_percentage_error',\n",
       " 'neg_mean_gamma_deviance',\n",
       " 'neg_mean_poisson_deviance',\n",
       " 'neg_mean_squared_error',\n",
       " 'neg_mean_squared_log_error',\n",
       " 'neg_median_absolute_error',\n",
       " 'neg_root_mean_squared_error',\n",
       " 'normalized_mutual_info_score',\n",
       " 'precision',\n",
       " 'precision_macro',\n",
       " 'precision_micro',\n",
       " 'precision_samples',\n",
       " 'precision_weighted',\n",
       " 'r2',\n",
       " 'rand_score',\n",
       " 'recall',\n",
       " 'recall_macro',\n",
       " 'recall_micro',\n",
       " 'recall_samples',\n",
       " 'recall_weighted',\n",
       " 'roc_auc',\n",
       " 'roc_auc_ovo',\n",
       " 'roc_auc_ovo_weighted',\n",
       " 'roc_auc_ovr',\n",
       " 'roc_auc_ovr_weighted',\n",
       " 'top_k_accuracy',\n",
       " 'v_measure_score']"
      ]
     },
     "execution_count": 18,
     "metadata": {},
     "output_type": "execute_result"
    }
   ],
   "source": [
    "import sklearn\n",
    "sorted(sklearn.metrics.SCORERS.keys())"
   ]
  },
  {
   "cell_type": "markdown",
   "metadata": {},
   "source": [
    "### Let's see if the data is balanced or not?\n",
    "- \"normal\""
   ]
  },
  {
   "cell_type": "code",
   "execution_count": 19,
   "metadata": {},
   "outputs": [
    {
     "name": "stdout",
     "output_type": "stream",
     "text": [
      "The number of normal is 185\n",
      "The proportion of normal is 0.37\n"
     ]
    }
   ],
   "source": [
    "print(\"The number of normal is\", Y.sum())\n",
    "print(\"The proportion of normal is\", Y.sum()/len(Y))"
   ]
  },
  {
   "cell_type": "markdown",
   "metadata": {},
   "source": [
    "**Summary**: The label \"normal\" is **not balanced.**"
   ]
  },
  {
   "cell_type": "markdown",
   "metadata": {},
   "source": [
    "### a. Decision Tree"
   ]
  },
  {
   "cell_type": "code",
   "execution_count": 23,
   "metadata": {},
   "outputs": [
    {
     "data": {
      "text/plain": [
       "[0.9424623596962839, 0.04578194303033394]"
      ]
     },
     "execution_count": 23,
     "metadata": {},
     "output_type": "execute_result"
    }
   ],
   "source": [
    "dt1 = DecisionTreeClassifier (max_depth=2)\n",
    "dt1_scores = cross_val_score (dt1, X, Y, cv = 10, scoring = 'roc_auc') \n",
    "[dt1_scores.mean(), dt1_scores.std()]"
   ]
  },
  {
   "cell_type": "code",
   "execution_count": 24,
   "metadata": {},
   "outputs": [
    {
     "data": {
      "text/plain": [
       "[0.9082659177396021, 0.05234680973367745]"
      ]
     },
     "execution_count": 24,
     "metadata": {},
     "output_type": "execute_result"
    }
   ],
   "source": [
    "dt1 = DecisionTreeClassifier (max_depth=2)\n",
    "dt1_scores = cross_val_score (dt1, X, Y, cv = 10, scoring = 'f1') \n",
    "[dt1_scores.mean(), dt1_scores.std()]"
   ]
  },
  {
   "cell_type": "code",
   "execution_count": 25,
   "metadata": {},
   "outputs": [
    {
     "data": {
      "text/plain": [
       "[0.932, 0.0370944739819828]"
      ]
     },
     "execution_count": 25,
     "metadata": {},
     "output_type": "execute_result"
    }
   ],
   "source": [
    "###### Accuracy!!!!\n",
    "dt1 = DecisionTreeClassifier (max_depth=2)\n",
    "dt1_scores = cross_val_score (dt1, X, Y, cv = 10, scoring = 'accuracy') \n",
    "[dt1_scores.mean(), dt1_scores.std()]"
   ]
  },
  {
   "cell_type": "code",
   "execution_count": 20,
   "metadata": {},
   "outputs": [
    {
     "data": {
      "image/png": "[encoded data removed]",
      "text/plain": [
       "<Figure size 432x288 with 1 Axes>"
      ]
     },
     "metadata": {
      "needs_background": "light"
     },
     "output_type": "display_data"
    }
   ],
   "source": [
    "depth = [1, 2, 4, 6, 8, 10, 12, 14, 16, 18, 20]\n",
    "accuracy = []\n",
    "\n",
    "for i in range(len(depth)):\n",
    "    dt = DecisionTreeClassifier (max_depth = depth[i])\n",
    "    dt_scores = cross_val_score (dt, X, Y, cv = 10, scoring = 'accuracy')\n",
    "    accuracy.append(dt_scores.mean())\n",
    "    \n",
    "plt.plot(depth, accuracy)\n",
    "plt.title(\"A. Decision Tree\")\n",
    "plt.xlabel(\"max depth of tree\")\n",
    "plt.ylabel(\"Accuracy\")\n",
    "plt.show()"
   ]
  },
  {
   "cell_type": "code",
   "execution_count": 21,
   "metadata": {},
   "outputs": [
    {
     "data": {
      "image/png": "[encoded data removed]",
      "text/plain": [
       "<Figure size 432x288 with 1 Axes>"
      ]
     },
     "metadata": {
      "needs_background": "light"
     },
     "output_type": "display_data"
    }
   ],
   "source": [
    "depth = [1, 2, 4, 6, 8, 10, 12, 14, 16, 18, 20]\n",
    "accuracy = []\n",
    "\n",
    "for i in range(len(depth)):\n",
    "    dt = DecisionTreeClassifier (max_depth = depth[i])\n",
    "    dt_scores = cross_val_score (dt, X, Y, cv = 10, scoring = 'f1')\n",
    "    accuracy.append(dt_scores.mean())\n",
    "    \n",
    "plt.plot(depth, accuracy, color = \"g\")\n",
    "plt.title(\"A. Decision Tree\")\n",
    "plt.xlabel(\"max depth of tree\")\n",
    "plt.ylabel(\"F1 score\")\n",
    "plt.show()"
   ]
  },
  {
   "cell_type": "code",
   "execution_count": 22,
   "metadata": {},
   "outputs": [
    {
     "data": {
      "image/png": "[encoded data removed]",
      "text/plain": [
       "<Figure size 432x288 with 1 Axes>"
      ]
     },
     "metadata": {
      "needs_background": "light"
     },
     "output_type": "display_data"
    }
   ],
   "source": [
    "depth = [1, 2, 4, 6, 8, 10, 12, 14, 16, 18, 20]\n",
    "accuracy = []\n",
    "\n",
    "for i in range(len(depth)):\n",
    "    dt = DecisionTreeClassifier (max_depth = depth[i])\n",
    "    dt_scores = cross_val_score (dt, X, Y, cv = 10, scoring = 'roc_auc')\n",
    "    accuracy.append(dt_scores.mean())\n",
    "    \n",
    "plt.plot(depth, accuracy, color = \"orange\")\n",
    "plt.title(\"A. Decision Tree\")\n",
    "plt.xlabel(\"max depth of tree\")\n",
    "plt.ylabel(\"AUC\")\n",
    "plt.show()"
   ]
  },
  {
   "cell_type": "markdown",
   "metadata": {},
   "source": [
    "### b. KNN classifier"
   ]
  },
  {
   "cell_type": "code",
   "execution_count": 29,
   "metadata": {},
   "outputs": [
    {
     "data": {
      "text/plain": [
       "[0.9238886236087531, 0.051880022683619735]"
      ]
     },
     "execution_count": 29,
     "metadata": {},
     "output_type": "execute_result"
    }
   ],
   "source": [
    "knn1 = KNeighborsClassifier(n_neighbors=4)\n",
    "knn1_scores = cross_val_score(knn1, X, Y, cv=10, scoring = 'roc_auc') \n",
    "[knn1_scores.mean(), knn1_scores.std()]"
   ]
  },
  {
   "cell_type": "code",
   "execution_count": 30,
   "metadata": {},
   "outputs": [
    {
     "data": {
      "text/plain": [
       "[0.8478040678084525, 0.07906253273740295]"
      ]
     },
     "execution_count": 30,
     "metadata": {},
     "output_type": "execute_result"
    }
   ],
   "source": [
    "knn1 = KNeighborsClassifier(n_neighbors=4)\n",
    "knn1_scores = cross_val_score(knn1, X, Y, cv=10, scoring = 'f1') \n",
    "[knn1_scores.mean(), knn1_scores.std()]"
   ]
  },
  {
   "cell_type": "code",
   "execution_count": 31,
   "metadata": {},
   "outputs": [
    {
     "data": {
      "text/plain": [
       "[0.866, 0.07644605941446557]"
      ]
     },
     "execution_count": 31,
     "metadata": {},
     "output_type": "execute_result"
    }
   ],
   "source": [
    "###### Accuracy!!!!\n",
    "knn1 = KNeighborsClassifier(n_neighbors=4)\n",
    "knn1_scores = cross_val_score(knn1, X, Y, cv=10, scoring = 'accuracy') \n",
    "[knn1_scores.mean(), knn1_scores.std()]"
   ]
  },
  {
   "cell_type": "code",
   "execution_count": 26,
   "metadata": {},
   "outputs": [
    {
     "data": {
      "image/png": "[encoded data removed]",
      "text/plain": [
       "<Figure size 432x288 with 1 Axes>"
      ]
     },
     "metadata": {
      "needs_background": "light"
     },
     "output_type": "display_data"
    }
   ],
   "source": [
    "n_neighbors = [1,2,3,4,5]\n",
    "accuracy = []\n",
    "\n",
    "for i in range(len(n_neighbors)):\n",
    "    knn = KNeighborsClassifier (n_neighbors = n_neighbors[i])\n",
    "    knn_scores = cross_val_score (knn, X, Y, cv = 10, scoring = 'accuracy')\n",
    "    accuracy.append(knn_scores.mean())\n",
    "    \n",
    "plt.plot(n_neighbors, accuracy)\n",
    "plt.title(\"B. K-Nearest Neighbor (KNN)\")\n",
    "plt.xlabel(\"number of neighbor (K)\")\n",
    "plt.ylabel(\"Accuracy\")\n",
    "plt.show()"
   ]
  },
  {
   "cell_type": "code",
   "execution_count": 27,
   "metadata": {},
   "outputs": [
    {
     "data": {
      "image/png": "[encoded data removed]",
      "text/plain": [
       "<Figure size 432x288 with 1 Axes>"
      ]
     },
     "metadata": {
      "needs_background": "light"
     },
     "output_type": "display_data"
    }
   ],
   "source": [
    "n_neighbors = [1,2,3,4,5]\n",
    "accuracy = []\n",
    "\n",
    "for i in range(len(n_neighbors)):\n",
    "    knn = KNeighborsClassifier (n_neighbors = n_neighbors[i])\n",
    "    knn_scores = cross_val_score (knn, X, Y, cv = 10, scoring = 'f1')\n",
    "    accuracy.append(knn_scores.mean())\n",
    "    \n",
    "plt.plot(n_neighbors, accuracy, color = \"g\")\n",
    "plt.title(\"B. K-Nearest Neighbor (KNN)\")\n",
    "plt.xlabel(\"number of neighbor (K)\")\n",
    "plt.ylabel(\"F1 score\")\n",
    "plt.show()"
   ]
  },
  {
   "cell_type": "code",
   "execution_count": 28,
   "metadata": {},
   "outputs": [
    {
     "data": {
      "image/png": "[encoded data removed]",
      "text/plain": [
       "<Figure size 432x288 with 1 Axes>"
      ]
     },
     "metadata": {
      "needs_background": "light"
     },
     "output_type": "display_data"
    }
   ],
   "source": [
    "n_neighbors = [1,2,3,4,5]\n",
    "accuracy = []\n",
    "\n",
    "for i in range(len(n_neighbors)):\n",
    "    knn = KNeighborsClassifier (n_neighbors = n_neighbors[i])\n",
    "    knn_scores = cross_val_score (knn, X, Y, cv = 10, scoring = 'roc_auc')\n",
    "    accuracy.append(knn_scores.mean())\n",
    "    \n",
    "plt.plot(n_neighbors, accuracy, color = \"orange\")\n",
    "plt.title(\"B. K-Nearest Neighbor (KNN)\")\n",
    "plt.xlabel(\"number of neighbor (K)\")\n",
    "plt.ylabel(\"AUC\")\n",
    "plt.show()"
   ]
  },
  {
   "cell_type": "markdown",
   "metadata": {},
   "source": [
    "### c. Support Vector Machines (Linear)"
   ]
  },
  {
   "cell_type": "code",
   "execution_count": 38,
   "metadata": {},
   "outputs": [
    {
     "data": {
      "text/plain": [
       "[0.9615836045085832, 0.03204762372340913]"
      ]
     },
     "execution_count": 38,
     "metadata": {},
     "output_type": "execute_result"
    }
   ],
   "source": [
    "svm_linear1 = SVC(C=0.01, kernel = 'linear')\n",
    "svm_linear1_scores = cross_val_score(svm_linear1, X, Y, cv = 10, \n",
    "                                     scoring = \"roc_auc\")\n",
    "[svm_linear1_scores.mean(), svm_linear1_scores.std()]"
   ]
  },
  {
   "cell_type": "code",
   "execution_count": 39,
   "metadata": {},
   "outputs": [
    {
     "data": {
      "text/plain": [
       "[0.8793259379569129, 0.04910036198504068]"
      ]
     },
     "execution_count": 39,
     "metadata": {},
     "output_type": "execute_result"
    }
   ],
   "source": [
    "svm_linear1 = SVC(C=0.01, kernel = 'linear')\n",
    "svm_linear1_scores = cross_val_score(svm_linear1, X, Y, cv = 10, \n",
    "                                     scoring = \"f1\")\n",
    "[svm_linear1_scores.mean(), svm_linear1_scores.std()]"
   ]
  },
  {
   "cell_type": "code",
   "execution_count": 40,
   "metadata": {},
   "outputs": [
    {
     "data": {
      "text/plain": [
       "[0.908, 0.040199502484483556]"
      ]
     },
     "execution_count": 40,
     "metadata": {},
     "output_type": "execute_result"
    }
   ],
   "source": [
    "###### Accuracy!!!!\n",
    "svm_linear1 = SVC(C=0.01, kernel = 'linear')\n",
    "svm_linear1_scores = cross_val_score(svm_linear1, X, Y, cv = 10, \n",
    "                                     scoring = \"accuracy\")\n",
    "[svm_linear1_scores.mean(), svm_linear1_scores.std()]"
   ]
  },
  {
   "cell_type": "code",
   "execution_count": 32,
   "metadata": {},
   "outputs": [
    {
     "data": {
      "image/png": "[encoded data removed]",
      "text/plain": [
       "<Figure size 432x288 with 1 Axes>"
      ]
     },
     "metadata": {
      "needs_background": "light"
     },
     "output_type": "display_data"
    }
   ],
   "source": [
    "C = [0.01, 0.015, 0.05, 0.1, 0.15]\n",
    "accuracy = []\n",
    "\n",
    "for i in range(len(C)):\n",
    "    svm_linear = SVC(C=C[i], kernel = 'linear')\n",
    "    svm_scores = cross_val_score (svm_linear, X, Y, cv = 10, scoring = 'accuracy')\n",
    "    accuracy.append(svm_scores.mean())\n",
    "    \n",
    "plt.plot(C, accuracy)\n",
    "plt.title(\"C. SVM (Linear)\")\n",
    "plt.xlabel(\"C value\")\n",
    "plt.ylabel(\"Accuracy\")\n",
    "plt.show()"
   ]
  },
  {
   "cell_type": "code",
   "execution_count": 33,
   "metadata": {},
   "outputs": [
    {
     "data": {
      "image/png": "[encoded data removed]",
      "text/plain": [
       "<Figure size 432x288 with 1 Axes>"
      ]
     },
     "metadata": {
      "needs_background": "light"
     },
     "output_type": "display_data"
    }
   ],
   "source": [
    "C = [0.01, 0.015, 0.05, 0.1, 0.15]\n",
    "accuracy = []\n",
    "\n",
    "for i in range(len(C)):\n",
    "    svm_linear = SVC(C=C[i], kernel = 'linear')\n",
    "    svm_scores = cross_val_score (svm_linear, X, Y, cv = 10, scoring = 'f1')\n",
    "    accuracy.append(svm_scores.mean())\n",
    "    \n",
    "plt.plot(C, accuracy, color = \"g\")\n",
    "plt.title(\"C. SVM (Linear)\")\n",
    "plt.xlabel(\"C value\")\n",
    "plt.ylabel(\"F1 score\")\n",
    "plt.show()"
   ]
  },
  {
   "cell_type": "code",
   "execution_count": 34,
   "metadata": {},
   "outputs": [
    {
     "data": {
      "image/png": "[encoded data removed]",
      "text/plain": [
       "<Figure size 432x288 with 1 Axes>"
      ]
     },
     "metadata": {
      "needs_background": "light"
     },
     "output_type": "display_data"
    }
   ],
   "source": [
    "C = [0.01, 0.015, 0.05, 0.1, 0.15]\n",
    "accuracy = []\n",
    "\n",
    "for i in range(len(C)):\n",
    "    svm_linear = SVC(C=C[i], kernel = 'linear')\n",
    "    svm_scores = cross_val_score (svm_linear, X, Y, cv = 10, scoring = 'roc_auc')\n",
    "    accuracy.append(svm_scores.mean())\n",
    "    \n",
    "plt.plot(C, accuracy, color = \"orange\")\n",
    "plt.title(\"C. SVM (Linear)\")\n",
    "plt.xlabel(\"C value\")\n",
    "plt.ylabel(\"AUC\")\n",
    "plt.show()"
   ]
  },
  {
   "cell_type": "markdown",
   "metadata": {},
   "source": [
    "### d. Support Vector Machines (Polynomial)"
   ]
  },
  {
   "cell_type": "code",
   "execution_count": 38,
   "metadata": {},
   "outputs": [
    {
     "data": {
      "text/plain": [
       "[0.9576710172608942, 0.031580110215993835]"
      ]
     },
     "execution_count": 38,
     "metadata": {},
     "output_type": "execute_result"
    }
   ],
   "source": [
    "svm_poly = SVC(C=0.01, kernel = 'poly', degree = 3, gamma='auto')\n",
    "svm_poly_scores = cross_val_score(svm_poly, X, Y, cv = 10, scoring = 'roc_auc')\n",
    "[svm_poly_scores.mean(), svm_poly_scores.std()]"
   ]
  },
  {
   "cell_type": "code",
   "execution_count": 39,
   "metadata": {},
   "outputs": [
    {
     "data": {
      "text/plain": [
       "[0.8830762279780631, 0.039293172129953424]"
      ]
     },
     "execution_count": 39,
     "metadata": {},
     "output_type": "execute_result"
    }
   ],
   "source": [
    "svm_poly = SVC(C=0.01, kernel = 'poly', degree = 3, gamma='auto')\n",
    "svm_poly_scores = cross_val_score(svm_poly, X, Y, cv = 10, scoring = 'f1')\n",
    "[svm_poly_scores.mean(), svm_poly_scores.std()]"
   ]
  },
  {
   "cell_type": "code",
   "execution_count": 40,
   "metadata": {},
   "outputs": [
    {
     "data": {
      "text/plain": [
       "[0.9120000000000001, 0.0312409987036266]"
      ]
     },
     "execution_count": 40,
     "metadata": {},
     "output_type": "execute_result"
    }
   ],
   "source": [
    "svm_poly = SVC(C=0.01, kernel = 'poly', degree = 3, gamma='auto')\n",
    "svm_poly_scores = cross_val_score(svm_poly, X, Y, cv = 10, scoring = 'accuracy')\n",
    "[svm_poly_scores.mean(), svm_poly_scores.std()]"
   ]
  },
  {
   "cell_type": "code",
   "execution_count": 41,
   "metadata": {},
   "outputs": [
    {
     "data": {
      "image/png": "[encoded data removed]",
      "text/plain": [
       "<Figure size 432x288 with 1 Axes>"
      ]
     },
     "metadata": {
      "needs_background": "light"
     },
     "output_type": "display_data"
    }
   ],
   "source": [
    "degree = [1, 2, 3, 4, 5, 6, 7, 8]\n",
    "accuracy = []\n",
    "\n",
    "for i in range(len(degree)):\n",
    "    svm_linear = SVC(C=0.01, kernel = 'poly', degree = degree[i], gamma = 'auto')\n",
    "    svm_scores = cross_val_score (svm_linear, X, Y, cv = 10, scoring = 'accuracy')\n",
    "    accuracy.append(svm_scores.mean())\n",
    "    \n",
    "plt.plot(degree, accuracy)\n",
    "plt.title(\"D. SVM (polynomial)\")\n",
    "plt.xlabel(\"degree\")\n",
    "plt.ylabel(\"Accuracy\")\n",
    "plt.show()"
   ]
  },
  {
   "cell_type": "code",
   "execution_count": 42,
   "metadata": {},
   "outputs": [
    {
     "data": {
      "image/png": "[encoded data removed]",
      "text/plain": [
       "<Figure size 432x288 with 1 Axes>"
      ]
     },
     "metadata": {
      "needs_background": "light"
     },
     "output_type": "display_data"
    }
   ],
   "source": [
    "degree = [1, 2, 3, 4, 5, 6, 7, 8]\n",
    "accuracy = []\n",
    "\n",
    "for i in range(len(degree)):\n",
    "    svm_linear = SVC(C=0.01, kernel = 'poly', degree = degree[i], gamma = 'auto')\n",
    "    svm_scores = cross_val_score (svm_linear, X, Y, cv = 10, scoring = 'f1')\n",
    "    accuracy.append(svm_scores.mean())\n",
    "    \n",
    "plt.plot(degree, accuracy, color = \"g\")\n",
    "plt.title(\"D. SVM (polynomial)\")\n",
    "plt.xlabel(\"degree\")\n",
    "plt.ylabel(\"F1 score\")\n",
    "plt.show()"
   ]
  },
  {
   "cell_type": "code",
   "execution_count": 43,
   "metadata": {},
   "outputs": [
    {
     "data": {
      "image/png": "[encoded data removed]",
      "text/plain": [
       "<Figure size 432x288 with 1 Axes>"
      ]
     },
     "metadata": {
      "needs_background": "light"
     },
     "output_type": "display_data"
    }
   ],
   "source": [
    "degree = [1, 2, 3, 4, 5, 6, 7, 8]\n",
    "accuracy = []\n",
    "\n",
    "for i in range(len(degree)):\n",
    "    svm_linear = SVC(C=0.01, kernel = 'poly', degree = degree[i], gamma = 'auto')\n",
    "    svm_scores = cross_val_score (svm_linear, X, Y, cv = 10, scoring = 'roc_auc')\n",
    "    accuracy.append(svm_scores.mean())\n",
    "    \n",
    "plt.plot(degree, accuracy, color = \"orange\")\n",
    "plt.title(\"D. SVM (polynomial)\")\n",
    "plt.xlabel(\"degree\")\n",
    "plt.ylabel(\"AUC\")\n",
    "plt.show()"
   ]
  },
  {
   "cell_type": "markdown",
   "metadata": {},
   "source": [
    "### e. Random Forest"
   ]
  },
  {
   "cell_type": "code",
   "execution_count": 44,
   "metadata": {},
   "outputs": [],
   "source": [
    "# Import the model we are using\n",
    "from sklearn.ensemble import RandomForestClassifier"
   ]
  },
  {
   "cell_type": "code",
   "execution_count": 48,
   "metadata": {},
   "outputs": [
    {
     "data": {
      "text/plain": [
       "[0.9789842128843615, 0.01848142388502001]"
      ]
     },
     "execution_count": 48,
     "metadata": {},
     "output_type": "execute_result"
    }
   ],
   "source": [
    "# Instantiate model with 100 decision trees\n",
    "rf = RandomForestClassifier(n_estimators = 200, #### number of trees in the forest\n",
    "                            random_state = 42, \n",
    "                            max_features = 'sqrt', #bootstrap=True, \n",
    "                            max_depth=10, \n",
    "                            #min_samples_split = 0.01, min_samples_leaf = 0.01\n",
    "                           )\n",
    "# Evaluation - Cross Validation\n",
    "rf_scores = cross_val_score(rf, X, Y, cv = 10, scoring = \"roc_auc\")\n",
    "[rf_scores.mean(), rf_scores.std()]"
   ]
  },
  {
   "cell_type": "code",
   "execution_count": 49,
   "metadata": {},
   "outputs": [
    {
     "data": {
      "text/plain": [
       "[0.8975271843692896, 0.06119992467347749]"
      ]
     },
     "execution_count": 49,
     "metadata": {},
     "output_type": "execute_result"
    }
   ],
   "source": [
    "# Instantiate model with 100 decision trees\n",
    "rf = RandomForestClassifier(n_estimators = 200, #### number of trees in the forest\n",
    "                            random_state = 42, \n",
    "                            max_features = 'sqrt', #bootstrap=True, \n",
    "                            max_depth=10, \n",
    "                            #min_samples_split = 0.01, min_samples_leaf = 0.01\n",
    "                           )\n",
    "# Evaluation - Cross Validation\n",
    "rf_scores = cross_val_score(rf, X, Y, cv = 10, scoring = \"f1\")\n",
    "[rf_scores.mean(), rf_scores.std()]"
   ]
  },
  {
   "cell_type": "code",
   "execution_count": 50,
   "metadata": {},
   "outputs": [
    {
     "data": {
      "text/plain": [
       "[0.924, 0.0463033476111609]"
      ]
     },
     "execution_count": 50,
     "metadata": {},
     "output_type": "execute_result"
    }
   ],
   "source": [
    "###### Accuracy!!!!\n",
    "# Instantiate model with 100 decision trees\n",
    "rf = RandomForestClassifier(n_estimators = 200, #### number of trees in the forest\n",
    "                            random_state = 42, \n",
    "                            max_features = 'sqrt', #bootstrap=True, \n",
    "                            max_depth=10, \n",
    "                            #min_samples_split = 0.01, min_samples_leaf = 0.01\n",
    "                           )\n",
    "# Evaluation - Cross Validation\n",
    "rf_scores = cross_val_score(rf, X, Y, cv = 10, scoring = \"accuracy\")\n",
    "[rf_scores.mean(), rf_scores.std()]"
   ]
  },
  {
   "cell_type": "code",
   "execution_count": 45,
   "metadata": {},
   "outputs": [
    {
     "data": {
      "image/png": "[encoded data removed]",
      "text/plain": [
       "<Figure size 432x288 with 1 Axes>"
      ]
     },
     "metadata": {
      "needs_background": "light"
     },
     "output_type": "display_data"
    }
   ],
   "source": [
    "n_estimators = [10, 20, 50, 100, 200, 300, 400, 500]\n",
    "accuracy = []\n",
    "\n",
    "for i in range(len(n_estimators)):\n",
    "    rf = RandomForestClassifier(n_estimators = n_estimators[i], #### number of trees in the forest\n",
    "                            random_state = 42, \n",
    "                            max_features = 'sqrt', #bootstrap=True, \n",
    "                            max_depth=10\n",
    "                            #min_samples_split = 0.01, #min_samples_leaf = 0.01\n",
    "                               )\n",
    "    rf_scores = cross_val_score (rf, X, Y, cv = 10, scoring = 'accuracy')\n",
    "    accuracy.append(rf_scores.mean())\n",
    "    \n",
    "plt.plot(n_estimators, accuracy)\n",
    "plt.title(\"E. Random Forest\")\n",
    "plt.xlabel(\"number of trees in the forest\")\n",
    "plt.ylabel(\"Accuracy\")\n",
    "plt.show()"
   ]
  },
  {
   "cell_type": "code",
   "execution_count": 46,
   "metadata": {
    "scrolled": true
   },
   "outputs": [
    {
     "data": {
      "image/png": "[encoded data removed]",
      "text/plain": [
       "<Figure size 432x288 with 1 Axes>"
      ]
     },
     "metadata": {
      "needs_background": "light"
     },
     "output_type": "display_data"
    }
   ],
   "source": [
    "n_estimators = [10, 20, 50, 100, 200, 300, 400, 500]\n",
    "accuracy = []\n",
    "\n",
    "for i in range(len(n_estimators)):\n",
    "    rf = RandomForestClassifier(n_estimators = n_estimators[i], #### number of trees in the forest\n",
    "                            random_state = 42, \n",
    "                            max_features = 'sqrt', #bootstrap=True, \n",
    "                            max_depth=10\n",
    "                            #min_samples_split = 0.01, #min_samples_leaf = 0.01\n",
    "                               )\n",
    "    rf_scores = cross_val_score (rf, X, Y, cv = 10, scoring = 'f1')\n",
    "    accuracy.append(rf_scores.mean())\n",
    "    \n",
    "plt.plot(n_estimators, accuracy, color = \"g\")\n",
    "plt.title(\"E. Random Forest\")\n",
    "plt.xlabel(\"number of trees in the forest\")\n",
    "plt.ylabel(\"F1 score\")\n",
    "plt.show()"
   ]
  },
  {
   "cell_type": "code",
   "execution_count": 47,
   "metadata": {},
   "outputs": [
    {
     "data": {
      "image/png": "[encoded data removed]",
      "text/plain": [
       "<Figure size 432x288 with 1 Axes>"
      ]
     },
     "metadata": {
      "needs_background": "light"
     },
     "output_type": "display_data"
    }
   ],
   "source": [
    "n_estimators = [10, 20, 50, 100, 200, 300, 400, 500]\n",
    "accuracy = []\n",
    "\n",
    "for i in range(len(n_estimators)):\n",
    "    rf = RandomForestClassifier(n_estimators = n_estimators[i], #### number of trees in the forest\n",
    "                            random_state = 42, \n",
    "                            max_features = 'sqrt', #bootstrap=True, \n",
    "                            max_depth=10\n",
    "                            #min_samples_split = 0.01, #min_samples_leaf = 0.01\n",
    "                               )\n",
    "    rf_scores = cross_val_score (rf, X, Y, cv = 10, scoring = 'roc_auc')\n",
    "    accuracy.append(rf_scores.mean())\n",
    "    \n",
    "plt.plot(n_estimators, accuracy, color = \"orange\")\n",
    "plt.title(\"E. Random Forest\")\n",
    "plt.xlabel(\"number of trees in the forest\")\n",
    "plt.ylabel(\"AUC\")\n",
    "plt.show()"
   ]
  },
  {
   "cell_type": "markdown",
   "metadata": {},
   "source": [
    "### f. Logistic Regression"
   ]
  },
  {
   "cell_type": "code",
   "execution_count": 51,
   "metadata": {},
   "outputs": [],
   "source": [
    "from sklearn.linear_model import LogisticRegression\n",
    "from sklearn.metrics import confusion_matrix"
   ]
  },
  {
   "cell_type": "code",
   "execution_count": 55,
   "metadata": {},
   "outputs": [
    {
     "data": {
      "text/plain": [
       "[0.9651604650066027, 0.033212355774158576]"
      ]
     },
     "execution_count": 55,
     "metadata": {},
     "output_type": "execute_result"
    }
   ],
   "source": [
    "#LR = LogisticRegression(C=0.01, solver='liblinear').fit(X,Y)\n",
    "LR = LogisticRegression(C=0.1, solver='liblinear') # random_state=0\n",
    "LR_scores = cross_val_score(LR, X, Y, cv = 10, scoring = \"roc_auc\")\n",
    "[LR_scores.mean(), LR_scores.std()]"
   ]
  },
  {
   "cell_type": "code",
   "execution_count": 56,
   "metadata": {},
   "outputs": [
    {
     "data": {
      "text/plain": [
       "[0.8764413326332832, 0.05193642288523631]"
      ]
     },
     "execution_count": 56,
     "metadata": {},
     "output_type": "execute_result"
    }
   ],
   "source": [
    "#LR = LogisticRegression(C=0.01, solver='liblinear').fit(X,Y)\n",
    "LR = LogisticRegression(C=0.1, solver='liblinear') # random_state=0\n",
    "LR_scores = cross_val_score(LR, X, Y, cv = 10, scoring = \"f1\")\n",
    "[LR_scores.mean(), LR_scores.std()]"
   ]
  },
  {
   "cell_type": "code",
   "execution_count": 57,
   "metadata": {},
   "outputs": [
    {
     "data": {
      "text/plain": [
       "[0.906, 0.04199999999999999]"
      ]
     },
     "execution_count": 57,
     "metadata": {},
     "output_type": "execute_result"
    }
   ],
   "source": [
    "###### Accuracy!!!!\n",
    "\n",
    "#LR = LogisticRegression(C=0.01, solver='liblinear').fit(X,Y)\n",
    "LR = LogisticRegression(C=0.1, solver='liblinear') # random_state=0\n",
    "LR_scores = cross_val_score(LR, X, Y, cv = 10, scoring = \"accuracy\")\n",
    "[LR_scores.mean(), LR_scores.std()]"
   ]
  },
  {
   "cell_type": "code",
   "execution_count": 52,
   "metadata": {},
   "outputs": [
    {
     "data": {
      "image/png": "[encoded data removed]",
      "text/plain": [
       "<Figure size 432x288 with 1 Axes>"
      ]
     },
     "metadata": {
      "needs_background": "light"
     },
     "output_type": "display_data"
    }
   ],
   "source": [
    "C = [0.0005, 0.0007, 0.001, 0.01, 0.1, 0.2, 0.3, 0.4, 0.5, 0.6]\n",
    "accuracy = []\n",
    "\n",
    "for i in range(len(C)):\n",
    "    LR = LogisticRegression(C=C[i], solver='liblinear') # random_state=0\n",
    "    LR_scores = cross_val_score (LR, X, Y, cv = 10, scoring = 'accuracy')\n",
    "    accuracy.append(LR_scores.mean())\n",
    "    \n",
    "plt.plot(C, accuracy)\n",
    "plt.title(\"F. Logistic Regression\")\n",
    "plt.xlabel(\"C value\")\n",
    "plt.ylabel(\"Accuracy\")\n",
    "plt.show()"
   ]
  },
  {
   "cell_type": "code",
   "execution_count": 53,
   "metadata": {},
   "outputs": [
    {
     "data": {
      "image/png": "[encoded data removed]",
      "text/plain": [
       "<Figure size 432x288 with 1 Axes>"
      ]
     },
     "metadata": {
      "needs_background": "light"
     },
     "output_type": "display_data"
    }
   ],
   "source": [
    "C = [0.0005, 0.0007, 0.001, 0.01, 0.1, 0.2, 0.3, 0.4, 0.5, 0.6]\n",
    "accuracy = []\n",
    "\n",
    "for i in range(len(C)):\n",
    "    LR = LogisticRegression(C=C[i], solver='liblinear') # random_state=0\n",
    "    LR_scores = cross_val_score (LR, X, Y, cv = 10, scoring = 'f1')\n",
    "    accuracy.append(LR_scores.mean())\n",
    "    \n",
    "plt.plot(C, accuracy, color = \"g\")\n",
    "plt.title(\"F. Logistic Regression\")\n",
    "plt.xlabel(\"C value\")\n",
    "plt.ylabel(\"F1 score\")\n",
    "plt.show()"
   ]
  },
  {
   "cell_type": "code",
   "execution_count": 54,
   "metadata": {},
   "outputs": [
    {
     "data": {
      "image/png": "[encoded data removed]",
      "text/plain": [
       "<Figure size 432x288 with 1 Axes>"
      ]
     },
     "metadata": {
      "needs_background": "light"
     },
     "output_type": "display_data"
    }
   ],
   "source": [
    "C = [0.0005, 0.0007, 0.001, 0.01, 0.1, 0.2, 0.3, 0.4, 0.5, 0.6]\n",
    "accuracy = []\n",
    "\n",
    "for i in range(len(C)):\n",
    "    LR = LogisticRegression(C=C[i], solver='liblinear') # random_state=0\n",
    "    LR_scores = cross_val_score (LR, X, Y, cv = 10, scoring = 'roc_auc')\n",
    "    accuracy.append(LR_scores.mean())\n",
    "    \n",
    "plt.plot(C, accuracy, color = \"orange\")\n",
    "plt.title(\"F. Logistic Regression\")\n",
    "plt.xlabel(\"C value\")\n",
    "plt.ylabel(\"AUC\")\n",
    "plt.show()"
   ]
  },
  {
   "cell_type": "markdown",
   "metadata": {},
   "source": [
    "# Step 3: UMAP - reduce dimension to 2D\n",
    "- for plotting the decision boundary"
   ]
  },
  {
   "cell_type": "code",
   "execution_count": 58,
   "metadata": {},
   "outputs": [
    {
     "name": "stdout",
     "output_type": "stream",
     "text": [
      "The version of numba is 0.51.0\n",
      "The version of sklearn is 1.0.2\n"
     ]
    }
   ],
   "source": [
    "# pip install umap-learn\n",
    "\n",
    "# pip uninstall numba\n",
    "# pip install numba==0.51   #### 需要把numba downgrade到更低的版本～\n",
    "\n",
    "import numba\n",
    "import sklearn\n",
    "\n",
    "print(\"The version of numba is\", numba.__version__)\n",
    "print(\"The version of sklearn is\", sklearn.__version__)"
   ]
  },
  {
   "cell_type": "code",
   "execution_count": 59,
   "metadata": {},
   "outputs": [],
   "source": [
    "import umap\n",
    "reducer = umap.UMAP()"
   ]
  },
  {
   "cell_type": "code",
   "execution_count": 60,
   "metadata": {},
   "outputs": [
    {
     "data": {
      "text/plain": [
       "(500, 2)"
      ]
     },
     "execution_count": 60,
     "metadata": {},
     "output_type": "execute_result"
    }
   ],
   "source": [
    "embedding = reducer.fit_transform(X)\n",
    "embedding.shape"
   ]
  },
  {
   "cell_type": "code",
   "execution_count": 61,
   "metadata": {},
   "outputs": [
    {
     "name": "stdout",
     "output_type": "stream",
     "text": [
      "The type of embedding is  <class 'numpy.ndarray'>\n",
      "The type of Y is  <class 'numpy.ndarray'>\n",
      "The shape of embedding is  (500, 2)\n",
      "The shape of Y is  (500,)\n"
     ]
    }
   ],
   "source": [
    "print(\"The type of embedding is \", type(embedding))\n",
    "print(\"The type of Y is \", type(Y))\n",
    "print(\"The shape of embedding is \", embedding.shape)\n",
    "print(\"The shape of Y is \", Y.shape)"
   ]
  },
  {
   "cell_type": "code",
   "execution_count": 62,
   "metadata": {},
   "outputs": [],
   "source": [
    "import matplotlib.pyplot as plt\n",
    "import seaborn as sns"
   ]
  },
  {
   "cell_type": "code",
   "execution_count": 63,
   "metadata": {},
   "outputs": [
    {
     "data": {
      "text/plain": [
       "Text(0.5, 1.0, 'UMAP projection: Duke - 54 Thr features - label \"normal\"')"
      ]
     },
     "execution_count": 63,
     "metadata": {},
     "output_type": "execute_result"
    },
    {
     "data": {
      "image/png": "[encoded data removed]",
      "text/plain": [
       "<Figure size 432x288 with 1 Axes>"
      ]
     },
     "metadata": {
      "needs_background": "light"
     },
     "output_type": "display_data"
    }
   ],
   "source": [
    "plt.scatter(\n",
    "    embedding[:, 0],\n",
    "    embedding[:, 1],\n",
    "    c=[sns.color_palette()[x] for x in label.normal.map({0.0:0, 1.0:1})])  # df --> label\n",
    "plt.gca().set_aspect('equal', 'datalim')\n",
    "plt.title('UMAP projection: Duke - 54 Thr features - label \"normal\"')"
   ]
  },
  {
   "cell_type": "markdown",
   "metadata": {},
   "source": [
    "### Output a file to do clustering"
   ]
  },
  {
   "cell_type": "code",
   "execution_count": 74,
   "metadata": {},
   "outputs": [
    {
     "data": {
      "text/html": [
       "<div>\n",
       "<style scoped>\n",
       "    .dataframe tbody tr th:only-of-type {\n",
       "        vertical-align: middle;\n",
       "    }\n",
       "\n",
       "    .dataframe tbody tr th {\n",
       "        vertical-align: top;\n",
       "    }\n",
       "\n",
       "    .dataframe thead th {\n",
       "        text-align: right;\n",
       "    }\n",
       "</style>\n",
       "<table border=\"1\" class=\"dataframe\">\n",
       "  <thead>\n",
       "    <tr style=\"text-align: right;\">\n",
       "      <th></th>\n",
       "      <th>self</th>\n",
       "      <th>other</th>\n",
       "    </tr>\n",
       "  </thead>\n",
       "  <tbody>\n",
       "  </tbody>\n",
       "</table>\n",
       "</div>"
      ],
      "text/plain": [
       "Empty DataFrame\n",
       "Columns: [self, other]\n",
       "Index: []"
      ]
     },
     "execution_count": 74,
     "metadata": {},
     "output_type": "execute_result"
    }
   ],
   "source": [
    "feature[\"pdf_filename\"].compare(label[\"pdf_filename\"])"
   ]
  },
  {
   "cell_type": "code",
   "execution_count": 69,
   "metadata": {},
   "outputs": [
    {
     "data": {
      "text/plain": [
       "pandas.core.frame.DataFrame"
      ]
     },
     "execution_count": 69,
     "metadata": {},
     "output_type": "execute_result"
    }
   ],
   "source": [
    "embedding_df = pd.DataFrame(embedding, columns = ['X1','X2'])\n",
    "type(embedding_df)"
   ]
  },
  {
   "cell_type": "code",
   "execution_count": 68,
   "metadata": {},
   "outputs": [
    {
     "data": {
      "text/plain": [
       "pandas.core.series.Series"
      ]
     },
     "execution_count": 68,
     "metadata": {},
     "output_type": "execute_result"
    }
   ],
   "source": [
    "type(label['normal'])"
   ]
  },
  {
   "cell_type": "code",
   "execution_count": 76,
   "metadata": {},
   "outputs": [
    {
     "name": "stdout",
     "output_type": "stream",
     "text": [
      "The shape of clustering is (500, 4)\n"
     ]
    },
    {
     "data": {
      "text/html": [
       "<div>\n",
       "<style scoped>\n",
       "    .dataframe tbody tr th:only-of-type {\n",
       "        vertical-align: middle;\n",
       "    }\n",
       "\n",
       "    .dataframe tbody tr th {\n",
       "        vertical-align: top;\n",
       "    }\n",
       "\n",
       "    .dataframe thead th {\n",
       "        text-align: right;\n",
       "    }\n",
       "</style>\n",
       "<table border=\"1\" class=\"dataframe\">\n",
       "  <thead>\n",
       "    <tr style=\"text-align: right;\">\n",
       "      <th></th>\n",
       "      <th>pdf_filename</th>\n",
       "      <th>X1</th>\n",
       "      <th>X2</th>\n",
       "      <th>normal</th>\n",
       "    </tr>\n",
       "  </thead>\n",
       "  <tbody>\n",
       "    <tr>\n",
       "      <th>0</th>\n",
       "      <td>1.2.276.0.75.2.5.80.25.3.190123133923759.93180...</td>\n",
       "      <td>9.966893</td>\n",
       "      <td>9.228810</td>\n",
       "      <td>0</td>\n",
       "    </tr>\n",
       "    <tr>\n",
       "      <th>1</th>\n",
       "      <td>1.2.276.0.75.2.5.80.25.3.190123133924562.93180...</td>\n",
       "      <td>9.752504</td>\n",
       "      <td>9.033387</td>\n",
       "      <td>0</td>\n",
       "    </tr>\n",
       "    <tr>\n",
       "      <th>2</th>\n",
       "      <td>1.2.276.0.75.2.5.80.25.3.190123134232237.93180...</td>\n",
       "      <td>9.121086</td>\n",
       "      <td>10.243672</td>\n",
       "      <td>1</td>\n",
       "    </tr>\n",
       "    <tr>\n",
       "      <th>3</th>\n",
       "      <td>1.2.276.0.75.2.5.80.25.3.190123134234418.93180...</td>\n",
       "      <td>9.303379</td>\n",
       "      <td>10.575117</td>\n",
       "      <td>1</td>\n",
       "    </tr>\n",
       "    <tr>\n",
       "      <th>4</th>\n",
       "      <td>1.2.276.0.75.2.5.80.25.3.190123134640676.93180...</td>\n",
       "      <td>7.134477</td>\n",
       "      <td>9.970622</td>\n",
       "      <td>0</td>\n",
       "    </tr>\n",
       "  </tbody>\n",
       "</table>\n",
       "</div>"
      ],
      "text/plain": [
       "                                        pdf_filename        X1         X2  \\\n",
       "0  1.2.276.0.75.2.5.80.25.3.190123133923759.93180...  9.966893   9.228810   \n",
       "1  1.2.276.0.75.2.5.80.25.3.190123133924562.93180...  9.752504   9.033387   \n",
       "2  1.2.276.0.75.2.5.80.25.3.190123134232237.93180...  9.121086  10.243672   \n",
       "3  1.2.276.0.75.2.5.80.25.3.190123134234418.93180...  9.303379  10.575117   \n",
       "4  1.2.276.0.75.2.5.80.25.3.190123134640676.93180...  7.134477   9.970622   \n",
       "\n",
       "   normal  \n",
       "0       0  \n",
       "1       0  \n",
       "2       1  \n",
       "3       1  \n",
       "4       0  "
      ]
     },
     "execution_count": 76,
     "metadata": {},
     "output_type": "execute_result"
    }
   ],
   "source": [
    "clustering = pd.concat([label[\"pdf_filename\"], embedding_df, label['normal']],axis = 1)\n",
    "print(\"The shape of clustering is\", clustering.shape)\n",
    "clustering.head()"
   ]
  },
  {
   "cell_type": "code",
   "execution_count": 77,
   "metadata": {},
   "outputs": [],
   "source": [
    "clustering.to_csv(\"/Users/yuhuicao/Desktop/1. Duke/6. Clustering.csv\", index = False)"
   ]
  },
  {
   "cell_type": "markdown",
   "metadata": {},
   "source": [
    "# Step 4: Evaluation UMAP\n",
    "- use 2D-feature to refit classifiers"
   ]
  },
  {
   "cell_type": "markdown",
   "metadata": {},
   "source": [
    "### a. Decision Tree"
   ]
  },
  {
   "cell_type": "code",
   "execution_count": 64,
   "metadata": {},
   "outputs": [
    {
     "data": {
      "text/plain": [
       "[0.9138772460384834, 0.05419062872621272]"
      ]
     },
     "execution_count": 64,
     "metadata": {},
     "output_type": "execute_result"
    }
   ],
   "source": [
    "dt1 = DecisionTreeClassifier (max_depth=2)\n",
    "dt1_scores = cross_val_score (dt1, embedding, Y, cv = 10, scoring = 'roc_auc') \n",
    "[dt1_scores.mean(), dt1_scores.std()]"
   ]
  },
  {
   "cell_type": "code",
   "execution_count": 65,
   "metadata": {},
   "outputs": [
    {
     "data": {
      "text/plain": [
       "[0.7977283801674045, 0.08062825910026271]"
      ]
     },
     "execution_count": 65,
     "metadata": {},
     "output_type": "execute_result"
    }
   ],
   "source": [
    "dt1 = DecisionTreeClassifier (max_depth=2)\n",
    "dt1_scores = cross_val_score (dt1, embedding, Y, cv = 10, scoring = 'f1') \n",
    "[dt1_scores.mean(), dt1_scores.std()]"
   ]
  },
  {
   "cell_type": "code",
   "execution_count": 66,
   "metadata": {},
   "outputs": [
    {
     "data": {
      "text/plain": [
       "[0.836, 0.07144228439796699]"
      ]
     },
     "execution_count": 66,
     "metadata": {},
     "output_type": "execute_result"
    }
   ],
   "source": [
    "###### Accuracy!!!!\n",
    "dt1 = DecisionTreeClassifier (max_depth=2)\n",
    "dt1_scores = cross_val_score (dt1, embedding, Y, cv = 10, scoring = 'accuracy') \n",
    "[dt1_scores.mean(), dt1_scores.std()]"
   ]
  },
  {
   "cell_type": "code",
   "execution_count": 63,
   "metadata": {},
   "outputs": [
    {
     "data": {
      "image/png": "[encoded data removed]",
      "text/plain": [
       "<Figure size 432x288 with 1 Axes>"
      ]
     },
     "metadata": {
      "needs_background": "light"
     },
     "output_type": "display_data"
    }
   ],
   "source": [
    "depth = [1, 2, 4, 6, 8, 10, 12, 14, 16, 18, 20]\n",
    "accuracy = []\n",
    "\n",
    "for i in range(len(depth)):\n",
    "    dt = DecisionTreeClassifier (max_depth = depth[i])\n",
    "    dt_scores = cross_val_score (dt, embedding, Y, cv = 10, scoring = 'accuracy')\n",
    "    accuracy.append(dt_scores.mean())\n",
    "    \n",
    "plt.plot(depth, accuracy)\n",
    "plt.title(\"A. Decision Tree\")\n",
    "plt.xlabel(\"max depth of tree\")\n",
    "plt.ylabel(\"Accuracy\")\n",
    "plt.show()"
   ]
  },
  {
   "cell_type": "code",
   "execution_count": 64,
   "metadata": {},
   "outputs": [
    {
     "data": {
      "image/png": "[encoded data removed]",
      "text/plain": [
       "<Figure size 432x288 with 1 Axes>"
      ]
     },
     "metadata": {
      "needs_background": "light"
     },
     "output_type": "display_data"
    }
   ],
   "source": [
    "depth = [1, 2, 4, 6, 8, 10, 12, 14, 16, 18, 20]\n",
    "accuracy = []\n",
    "\n",
    "for i in range(len(depth)):\n",
    "    dt = DecisionTreeClassifier (max_depth = depth[i])\n",
    "    dt_scores = cross_val_score (dt, embedding, Y, cv = 10, scoring = 'f1')\n",
    "    accuracy.append(dt_scores.mean())\n",
    "    \n",
    "plt.plot(depth, accuracy, color = \"g\")\n",
    "plt.title(\"A. Decision Tree\")\n",
    "plt.xlabel(\"max depth of tree\")\n",
    "plt.ylabel(\"F1 score\")\n",
    "plt.show()"
   ]
  },
  {
   "cell_type": "code",
   "execution_count": 65,
   "metadata": {},
   "outputs": [
    {
     "data": {
      "image/png": "[encoded data removed]",
      "text/plain": [
       "<Figure size 432x288 with 1 Axes>"
      ]
     },
     "metadata": {
      "needs_background": "light"
     },
     "output_type": "display_data"
    }
   ],
   "source": [
    "depth = [1, 2, 4, 6, 8, 10, 12, 14, 16, 18, 20]\n",
    "accuracy = []\n",
    "\n",
    "for i in range(len(depth)):\n",
    "    dt = DecisionTreeClassifier (max_depth = depth[i])\n",
    "    dt_scores = cross_val_score (dt, embedding, Y, cv = 10, scoring = 'roc_auc')\n",
    "    accuracy.append(dt_scores.mean())\n",
    "    \n",
    "plt.plot(depth, accuracy, color = \"orange\")\n",
    "plt.title(\"A. Decision Tree\")\n",
    "plt.xlabel(\"max depth of tree\")\n",
    "plt.ylabel(\"AUC\")\n",
    "plt.show()"
   ]
  },
  {
   "cell_type": "markdown",
   "metadata": {},
   "source": [
    "### b. KNN classifier"
   ]
  },
  {
   "cell_type": "code",
   "execution_count": 67,
   "metadata": {},
   "outputs": [
    {
     "data": {
      "text/plain": [
       "[0.8704703416808149, 0.06600252739113]"
      ]
     },
     "execution_count": 67,
     "metadata": {},
     "output_type": "execute_result"
    }
   ],
   "source": [
    "knn1 = KNeighborsClassifier(n_neighbors=4)\n",
    "knn1_scores = cross_val_score(knn1, embedding, Y, cv=10, scoring = 'roc_auc') \n",
    "[knn1_scores.mean(), knn1_scores.std()]"
   ]
  },
  {
   "cell_type": "code",
   "execution_count": 68,
   "metadata": {},
   "outputs": [
    {
     "data": {
      "text/plain": [
       "[0.7483907047905557, 0.0643138980664092]"
      ]
     },
     "execution_count": 68,
     "metadata": {},
     "output_type": "execute_result"
    }
   ],
   "source": [
    "knn1 = KNeighborsClassifier(n_neighbors=4)\n",
    "knn1_scores = cross_val_score(knn1, embedding, Y, cv=10, scoring = 'f1') \n",
    "[knn1_scores.mean(), knn1_scores.std()]"
   ]
  },
  {
   "cell_type": "code",
   "execution_count": 69,
   "metadata": {},
   "outputs": [
    {
     "data": {
      "text/plain": [
       "[0.8160000000000001, 0.057131427428342804]"
      ]
     },
     "execution_count": 69,
     "metadata": {},
     "output_type": "execute_result"
    }
   ],
   "source": [
    "###### Accuracy!!!!\n",
    "knn1 = KNeighborsClassifier(n_neighbors=4)\n",
    "knn1_scores = cross_val_score(knn1, embedding, Y, cv=10, scoring = 'accuracy') \n",
    "[knn1_scores.mean(), knn1_scores.std()]"
   ]
  },
  {
   "cell_type": "code",
   "execution_count": 69,
   "metadata": {},
   "outputs": [
    {
     "data": {
      "image/png": "[encoded data removed]",
      "text/plain": [
       "<Figure size 432x288 with 1 Axes>"
      ]
     },
     "metadata": {
      "needs_background": "light"
     },
     "output_type": "display_data"
    }
   ],
   "source": [
    "n_neighbors = [1,2,3,4,5]\n",
    "accuracy = []\n",
    "\n",
    "for i in range(len(n_neighbors)):\n",
    "    knn = KNeighborsClassifier (n_neighbors = n_neighbors[i])\n",
    "    knn_scores = cross_val_score (knn, embedding, Y, cv = 10, scoring = 'accuracy')\n",
    "    accuracy.append(knn_scores.mean())\n",
    "    \n",
    "plt.plot(n_neighbors, accuracy)\n",
    "plt.title(\"B. K-Nearest Neighbor (KNN)\")\n",
    "plt.xlabel(\"number of neighbor (K)\")\n",
    "plt.ylabel(\"Accuracy\")\n",
    "plt.show()"
   ]
  },
  {
   "cell_type": "code",
   "execution_count": 70,
   "metadata": {},
   "outputs": [
    {
     "data": {
      "image/png": "[encoded data removed]",
      "text/plain": [
       "<Figure size 432x288 with 1 Axes>"
      ]
     },
     "metadata": {
      "needs_background": "light"
     },
     "output_type": "display_data"
    }
   ],
   "source": [
    "n_neighbors = [1,2,3,4,5]\n",
    "accuracy = []\n",
    "\n",
    "for i in range(len(n_neighbors)):\n",
    "    knn = KNeighborsClassifier (n_neighbors = n_neighbors[i])\n",
    "    knn_scores = cross_val_score (knn, embedding, Y, cv = 10, scoring = 'f1')\n",
    "    accuracy.append(knn_scores.mean())\n",
    "    \n",
    "plt.plot(n_neighbors, accuracy, color = \"g\")\n",
    "plt.title(\"B. K-Nearest Neighbor (KNN)\")\n",
    "plt.xlabel(\"number of neighbor (K)\")\n",
    "plt.ylabel(\"F1 score\")\n",
    "plt.show()"
   ]
  },
  {
   "cell_type": "code",
   "execution_count": 71,
   "metadata": {},
   "outputs": [
    {
     "data": {
      "image/png": "[encoded data removed]",
      "text/plain": [
       "<Figure size 432x288 with 1 Axes>"
      ]
     },
     "metadata": {
      "needs_background": "light"
     },
     "output_type": "display_data"
    }
   ],
   "source": [
    "n_neighbors = [1,2,3,4,5]\n",
    "accuracy = []\n",
    "\n",
    "for i in range(len(n_neighbors)):\n",
    "    knn = KNeighborsClassifier (n_neighbors = n_neighbors[i])\n",
    "    knn_scores = cross_val_score (knn, embedding, Y, cv = 10, scoring = 'roc_auc')\n",
    "    accuracy.append(knn_scores.mean())\n",
    "    \n",
    "plt.plot(n_neighbors, accuracy, color = \"orange\")\n",
    "plt.title(\"B. K-Nearest Neighbor (KNN)\")\n",
    "plt.xlabel(\"number of neighbor (K)\")\n",
    "plt.ylabel(\"AUC\")\n",
    "plt.show()"
   ]
  },
  {
   "cell_type": "markdown",
   "metadata": {},
   "source": [
    "### c. Support Vector Machines (Linear)"
   ]
  },
  {
   "cell_type": "code",
   "execution_count": 70,
   "metadata": {},
   "outputs": [
    {
     "data": {
      "text/plain": [
       "[0.9113209771741181, 0.06058297994962884]"
      ]
     },
     "execution_count": 70,
     "metadata": {},
     "output_type": "execute_result"
    }
   ],
   "source": [
    "svm_linear1 = SVC(C=0.01, kernel = 'linear')\n",
    "svm_linear1_scores = cross_val_score(svm_linear1, embedding, Y, cv = 10, \n",
    "                                     scoring = \"roc_auc\")\n",
    "[svm_linear1_scores.mean(), svm_linear1_scores.std()]"
   ]
  },
  {
   "cell_type": "code",
   "execution_count": 71,
   "metadata": {},
   "outputs": [
    {
     "data": {
      "text/plain": [
       "[0.7727325762831312, 0.09444535825507683]"
      ]
     },
     "execution_count": 71,
     "metadata": {},
     "output_type": "execute_result"
    }
   ],
   "source": [
    "svm_linear1 = SVC(C=0.01, kernel = 'linear')\n",
    "svm_linear1_scores = cross_val_score(svm_linear1, embedding, Y, cv = 10, \n",
    "                                     scoring = \"f1\")\n",
    "[svm_linear1_scores.mean(), svm_linear1_scores.std()]"
   ]
  },
  {
   "cell_type": "code",
   "execution_count": 72,
   "metadata": {},
   "outputs": [
    {
     "data": {
      "text/plain": [
       "[0.8280000000000001, 0.07959899496852958]"
      ]
     },
     "execution_count": 72,
     "metadata": {},
     "output_type": "execute_result"
    }
   ],
   "source": [
    "###### Accuracy!!!!\n",
    "svm_linear1 = SVC(C=0.01, kernel = 'linear')\n",
    "svm_linear1_scores = cross_val_score(svm_linear1, embedding, Y, cv = 10, \n",
    "                                     scoring = \"accuracy\")\n",
    "[svm_linear1_scores.mean(), svm_linear1_scores.std()]"
   ]
  },
  {
   "cell_type": "code",
   "execution_count": 75,
   "metadata": {},
   "outputs": [
    {
     "data": {
      "image/png": "[encoded data removed]",
      "text/plain": [
       "<Figure size 432x288 with 1 Axes>"
      ]
     },
     "metadata": {
      "needs_background": "light"
     },
     "output_type": "display_data"
    }
   ],
   "source": [
    "C = [0.01, 0.015, 0.05, 0.1, 0.15]\n",
    "accuracy = []\n",
    "\n",
    "for i in range(len(C)):\n",
    "    svm_linear = SVC(C=C[i], kernel = 'linear')\n",
    "    svm_scores = cross_val_score (svm_linear, embedding, Y, cv = 10, scoring = 'accuracy')\n",
    "    accuracy.append(svm_scores.mean())\n",
    "    \n",
    "plt.plot(C, accuracy)\n",
    "plt.title(\"C. SVM (Linear)\")\n",
    "plt.xlabel(\"C value\")\n",
    "plt.ylabel(\"Accuracy\")\n",
    "plt.show()"
   ]
  },
  {
   "cell_type": "code",
   "execution_count": 76,
   "metadata": {},
   "outputs": [
    {
     "data": {
      "image/png": "[encoded data removed]",
      "text/plain": [
       "<Figure size 432x288 with 1 Axes>"
      ]
     },
     "metadata": {
      "needs_background": "light"
     },
     "output_type": "display_data"
    }
   ],
   "source": [
    "C = [0.01, 0.015, 0.05, 0.1, 0.15]\n",
    "accuracy = []\n",
    "\n",
    "for i in range(len(C)):\n",
    "    svm_linear = SVC(C=C[i], kernel = 'linear')\n",
    "    svm_scores = cross_val_score (svm_linear, embedding, Y, cv = 10, scoring = 'f1')\n",
    "    accuracy.append(svm_scores.mean())\n",
    "    \n",
    "plt.plot(C, accuracy, color = \"g\")\n",
    "plt.title(\"C. SVM (Linear)\")\n",
    "plt.xlabel(\"C value\")\n",
    "plt.ylabel(\"F1 score\")\n",
    "plt.show()"
   ]
  },
  {
   "cell_type": "code",
   "execution_count": 77,
   "metadata": {},
   "outputs": [
    {
     "data": {
      "image/png": "[encoded data removed]",
      "text/plain": [
       "<Figure size 432x288 with 1 Axes>"
      ]
     },
     "metadata": {
      "needs_background": "light"
     },
     "output_type": "display_data"
    }
   ],
   "source": [
    "C = [0.01, 0.015, 0.05, 0.1, 0.15]\n",
    "accuracy = []\n",
    "\n",
    "for i in range(len(C)):\n",
    "    svm_linear = SVC(C=C[i], kernel = 'linear')\n",
    "    svm_scores = cross_val_score (svm_linear, embedding, Y, cv = 10, scoring = 'roc_auc')\n",
    "    accuracy.append(svm_scores.mean())\n",
    "    \n",
    "plt.plot(C, accuracy, color = \"orange\")\n",
    "plt.title(\"C. SVM (Linear)\")\n",
    "plt.xlabel(\"C value\")\n",
    "plt.ylabel(\"AUC\")\n",
    "plt.show()"
   ]
  },
  {
   "cell_type": "markdown",
   "metadata": {},
   "source": [
    "### d. Support Vector Machines (Polynomial)"
   ]
  },
  {
   "cell_type": "code",
   "execution_count": 73,
   "metadata": {},
   "outputs": [
    {
     "data": {
      "text/plain": [
       "[0.9151174306734579, 0.06031025925375384]"
      ]
     },
     "execution_count": 73,
     "metadata": {},
     "output_type": "execute_result"
    }
   ],
   "source": [
    "svm_poly = SVC(C=0.01, kernel = 'poly', degree = 2, gamma='auto')\n",
    "svm_poly_scores = cross_val_score(svm_poly, embedding, Y, cv = 10, scoring = 'roc_auc')\n",
    "[svm_poly_scores.mean(), svm_poly_scores.std()]"
   ]
  },
  {
   "cell_type": "code",
   "execution_count": 74,
   "metadata": {},
   "outputs": [
    {
     "data": {
      "text/plain": [
       "[0.7486083699793378, 0.09170769004496078]"
      ]
     },
     "execution_count": 74,
     "metadata": {},
     "output_type": "execute_result"
    }
   ],
   "source": [
    "svm_poly = SVC(C=0.01, kernel = 'poly', degree = 2, gamma='auto')\n",
    "svm_poly_scores = cross_val_score(svm_poly, embedding, Y, cv = 10, scoring = 'f1')\n",
    "[svm_poly_scores.mean(), svm_poly_scores.std()]"
   ]
  },
  {
   "cell_type": "code",
   "execution_count": 75,
   "metadata": {},
   "outputs": [
    {
     "data": {
      "text/plain": [
       "[0.8180000000000002, 0.074]"
      ]
     },
     "execution_count": 75,
     "metadata": {},
     "output_type": "execute_result"
    }
   ],
   "source": [
    "svm_poly = SVC(C=0.01, kernel = 'poly', degree = 2, gamma='auto')\n",
    "svm_poly_scores = cross_val_score(svm_poly, embedding, Y, cv = 10, scoring = 'accuracy')\n",
    "[svm_poly_scores.mean(), svm_poly_scores.std()]"
   ]
  },
  {
   "cell_type": "code",
   "execution_count": 81,
   "metadata": {
    "scrolled": true
   },
   "outputs": [
    {
     "ename": "KeyboardInterrupt",
     "evalue": "",
     "output_type": "error",
     "traceback": [
      "\u001b[0;31m---------------------------------------------------------------------------\u001b[0m",
      "\u001b[0;31mKeyboardInterrupt\u001b[0m                         Traceback (most recent call last)",
      "\u001b[0;32m/var/folders/w2/9nsxcgys4yz2d8n0xkjvw2_r0000gn/T/ipykernel_24098/1638029914.py\u001b[0m in \u001b[0;36m<module>\u001b[0;34m\u001b[0m\n\u001b[1;32m      4\u001b[0m \u001b[0;32mfor\u001b[0m \u001b[0mi\u001b[0m \u001b[0;32min\u001b[0m \u001b[0mrange\u001b[0m\u001b[0;34m(\u001b[0m\u001b[0mlen\u001b[0m\u001b[0;34m(\u001b[0m\u001b[0mdegree\u001b[0m\u001b[0;34m)\u001b[0m\u001b[0;34m)\u001b[0m\u001b[0;34m:\u001b[0m\u001b[0;34m\u001b[0m\u001b[0;34m\u001b[0m\u001b[0m\n\u001b[1;32m      5\u001b[0m     \u001b[0msvm_linear\u001b[0m \u001b[0;34m=\u001b[0m \u001b[0mSVC\u001b[0m\u001b[0;34m(\u001b[0m\u001b[0mC\u001b[0m\u001b[0;34m=\u001b[0m\u001b[0;36m0.01\u001b[0m\u001b[0;34m,\u001b[0m \u001b[0mkernel\u001b[0m \u001b[0;34m=\u001b[0m \u001b[0;34m'poly'\u001b[0m\u001b[0;34m,\u001b[0m \u001b[0mdegree\u001b[0m \u001b[0;34m=\u001b[0m \u001b[0mdegree\u001b[0m\u001b[0;34m[\u001b[0m\u001b[0mi\u001b[0m\u001b[0;34m]\u001b[0m\u001b[0;34m,\u001b[0m \u001b[0mgamma\u001b[0m \u001b[0;34m=\u001b[0m \u001b[0;34m'auto'\u001b[0m\u001b[0;34m)\u001b[0m\u001b[0;34m\u001b[0m\u001b[0;34m\u001b[0m\u001b[0m\n\u001b[0;32m----> 6\u001b[0;31m     \u001b[0msvm_scores\u001b[0m \u001b[0;34m=\u001b[0m \u001b[0mcross_val_score\u001b[0m \u001b[0;34m(\u001b[0m\u001b[0msvm_linear\u001b[0m\u001b[0;34m,\u001b[0m \u001b[0membedding\u001b[0m\u001b[0;34m,\u001b[0m \u001b[0mY\u001b[0m\u001b[0;34m,\u001b[0m \u001b[0mcv\u001b[0m \u001b[0;34m=\u001b[0m \u001b[0;36m10\u001b[0m\u001b[0;34m,\u001b[0m \u001b[0mscoring\u001b[0m \u001b[0;34m=\u001b[0m \u001b[0;34m'accuracy'\u001b[0m\u001b[0;34m)\u001b[0m\u001b[0;34m\u001b[0m\u001b[0;34m\u001b[0m\u001b[0m\n\u001b[0m\u001b[1;32m      7\u001b[0m     \u001b[0maccuracy\u001b[0m\u001b[0;34m.\u001b[0m\u001b[0mappend\u001b[0m\u001b[0;34m(\u001b[0m\u001b[0msvm_scores\u001b[0m\u001b[0;34m.\u001b[0m\u001b[0mmean\u001b[0m\u001b[0;34m(\u001b[0m\u001b[0;34m)\u001b[0m\u001b[0;34m)\u001b[0m\u001b[0;34m\u001b[0m\u001b[0;34m\u001b[0m\u001b[0m\n\u001b[1;32m      8\u001b[0m \u001b[0;34m\u001b[0m\u001b[0m\n",
      "\u001b[0;32m~/opt/anaconda3/lib/python3.7/site-packages/sklearn/model_selection/_validation.py\u001b[0m in \u001b[0;36mcross_val_score\u001b[0;34m(estimator, X, y, groups, scoring, cv, n_jobs, verbose, fit_params, pre_dispatch, error_score)\u001b[0m\n\u001b[1;32m    518\u001b[0m         \u001b[0mfit_params\u001b[0m\u001b[0;34m=\u001b[0m\u001b[0mfit_params\u001b[0m\u001b[0;34m,\u001b[0m\u001b[0;34m\u001b[0m\u001b[0;34m\u001b[0m\u001b[0m\n\u001b[1;32m    519\u001b[0m         \u001b[0mpre_dispatch\u001b[0m\u001b[0;34m=\u001b[0m\u001b[0mpre_dispatch\u001b[0m\u001b[0;34m,\u001b[0m\u001b[0;34m\u001b[0m\u001b[0;34m\u001b[0m\u001b[0m\n\u001b[0;32m--> 520\u001b[0;31m         \u001b[0merror_score\u001b[0m\u001b[0;34m=\u001b[0m\u001b[0merror_score\u001b[0m\u001b[0;34m,\u001b[0m\u001b[0;34m\u001b[0m\u001b[0;34m\u001b[0m\u001b[0m\n\u001b[0m\u001b[1;32m    521\u001b[0m     )\n\u001b[1;32m    522\u001b[0m     \u001b[0;32mreturn\u001b[0m \u001b[0mcv_results\u001b[0m\u001b[0;34m[\u001b[0m\u001b[0;34m\"test_score\"\u001b[0m\u001b[0;34m]\u001b[0m\u001b[0;34m\u001b[0m\u001b[0;34m\u001b[0m\u001b[0m\n",
      "\u001b[0;32m~/opt/anaconda3/lib/python3.7/site-packages/sklearn/model_selection/_validation.py\u001b[0m in \u001b[0;36mcross_validate\u001b[0;34m(estimator, X, y, groups, scoring, cv, n_jobs, verbose, fit_params, pre_dispatch, return_train_score, return_estimator, error_score)\u001b[0m\n\u001b[1;32m    281\u001b[0m             \u001b[0merror_score\u001b[0m\u001b[0;34m=\u001b[0m\u001b[0merror_score\u001b[0m\u001b[0;34m,\u001b[0m\u001b[0;34m\u001b[0m\u001b[0;34m\u001b[0m\u001b[0m\n\u001b[1;32m    282\u001b[0m         )\n\u001b[0;32m--> 283\u001b[0;31m         \u001b[0;32mfor\u001b[0m \u001b[0mtrain\u001b[0m\u001b[0;34m,\u001b[0m \u001b[0mtest\u001b[0m \u001b[0;32min\u001b[0m \u001b[0mcv\u001b[0m\u001b[0;34m.\u001b[0m\u001b[0msplit\u001b[0m\u001b[0;34m(\u001b[0m\u001b[0mX\u001b[0m\u001b[0;34m,\u001b[0m \u001b[0my\u001b[0m\u001b[0;34m,\u001b[0m \u001b[0mgroups\u001b[0m\u001b[0;34m)\u001b[0m\u001b[0;34m\u001b[0m\u001b[0;34m\u001b[0m\u001b[0m\n\u001b[0m\u001b[1;32m    284\u001b[0m     )\n\u001b[1;32m    285\u001b[0m \u001b[0;34m\u001b[0m\u001b[0m\n",
      "\u001b[0;32m~/opt/anaconda3/lib/python3.7/site-packages/joblib/parallel.py\u001b[0m in \u001b[0;36m__call__\u001b[0;34m(self, iterable)\u001b[0m\n\u001b[1;32m   1044\u001b[0m                 \u001b[0mself\u001b[0m\u001b[0;34m.\u001b[0m\u001b[0m_iterating\u001b[0m \u001b[0;34m=\u001b[0m \u001b[0mself\u001b[0m\u001b[0;34m.\u001b[0m\u001b[0m_original_iterator\u001b[0m \u001b[0;32mis\u001b[0m \u001b[0;32mnot\u001b[0m \u001b[0;32mNone\u001b[0m\u001b[0;34m\u001b[0m\u001b[0;34m\u001b[0m\u001b[0m\n\u001b[1;32m   1045\u001b[0m \u001b[0;34m\u001b[0m\u001b[0m\n\u001b[0;32m-> 1046\u001b[0;31m             \u001b[0;32mwhile\u001b[0m \u001b[0mself\u001b[0m\u001b[0;34m.\u001b[0m\u001b[0mdispatch_one_batch\u001b[0m\u001b[0;34m(\u001b[0m\u001b[0miterator\u001b[0m\u001b[0;34m)\u001b[0m\u001b[0;34m:\u001b[0m\u001b[0;34m\u001b[0m\u001b[0;34m\u001b[0m\u001b[0m\n\u001b[0m\u001b[1;32m   1047\u001b[0m                 \u001b[0;32mpass\u001b[0m\u001b[0;34m\u001b[0m\u001b[0;34m\u001b[0m\u001b[0m\n\u001b[1;32m   1048\u001b[0m \u001b[0;34m\u001b[0m\u001b[0m\n",
      "\u001b[0;32m~/opt/anaconda3/lib/python3.7/site-packages/joblib/parallel.py\u001b[0m in \u001b[0;36mdispatch_one_batch\u001b[0;34m(self, iterator)\u001b[0m\n\u001b[1;32m    859\u001b[0m                 \u001b[0;32mreturn\u001b[0m \u001b[0;32mFalse\u001b[0m\u001b[0;34m\u001b[0m\u001b[0;34m\u001b[0m\u001b[0m\n\u001b[1;32m    860\u001b[0m             \u001b[0;32melse\u001b[0m\u001b[0;34m:\u001b[0m\u001b[0;34m\u001b[0m\u001b[0;34m\u001b[0m\u001b[0m\n\u001b[0;32m--> 861\u001b[0;31m                 \u001b[0mself\u001b[0m\u001b[0;34m.\u001b[0m\u001b[0m_dispatch\u001b[0m\u001b[0;34m(\u001b[0m\u001b[0mtasks\u001b[0m\u001b[0;34m)\u001b[0m\u001b[0;34m\u001b[0m\u001b[0;34m\u001b[0m\u001b[0m\n\u001b[0m\u001b[1;32m    862\u001b[0m                 \u001b[0;32mreturn\u001b[0m \u001b[0;32mTrue\u001b[0m\u001b[0;34m\u001b[0m\u001b[0;34m\u001b[0m\u001b[0m\n\u001b[1;32m    863\u001b[0m \u001b[0;34m\u001b[0m\u001b[0m\n",
      "\u001b[0;32m~/opt/anaconda3/lib/python3.7/site-packages/joblib/parallel.py\u001b[0m in \u001b[0;36m_dispatch\u001b[0;34m(self, batch)\u001b[0m\n\u001b[1;32m    777\u001b[0m         \u001b[0;32mwith\u001b[0m \u001b[0mself\u001b[0m\u001b[0;34m.\u001b[0m\u001b[0m_lock\u001b[0m\u001b[0;34m:\u001b[0m\u001b[0;34m\u001b[0m\u001b[0;34m\u001b[0m\u001b[0m\n\u001b[1;32m    778\u001b[0m             \u001b[0mjob_idx\u001b[0m \u001b[0;34m=\u001b[0m \u001b[0mlen\u001b[0m\u001b[0;34m(\u001b[0m\u001b[0mself\u001b[0m\u001b[0;34m.\u001b[0m\u001b[0m_jobs\u001b[0m\u001b[0;34m)\u001b[0m\u001b[0;34m\u001b[0m\u001b[0;34m\u001b[0m\u001b[0m\n\u001b[0;32m--> 779\u001b[0;31m             \u001b[0mjob\u001b[0m \u001b[0;34m=\u001b[0m \u001b[0mself\u001b[0m\u001b[0;34m.\u001b[0m\u001b[0m_backend\u001b[0m\u001b[0;34m.\u001b[0m\u001b[0mapply_async\u001b[0m\u001b[0;34m(\u001b[0m\u001b[0mbatch\u001b[0m\u001b[0;34m,\u001b[0m \u001b[0mcallback\u001b[0m\u001b[0;34m=\u001b[0m\u001b[0mcb\u001b[0m\u001b[0;34m)\u001b[0m\u001b[0;34m\u001b[0m\u001b[0;34m\u001b[0m\u001b[0m\n\u001b[0m\u001b[1;32m    780\u001b[0m             \u001b[0;31m# A job can complete so quickly than its callback is\u001b[0m\u001b[0;34m\u001b[0m\u001b[0;34m\u001b[0m\u001b[0;34m\u001b[0m\u001b[0m\n\u001b[1;32m    781\u001b[0m             \u001b[0;31m# called before we get here, causing self._jobs to\u001b[0m\u001b[0;34m\u001b[0m\u001b[0;34m\u001b[0m\u001b[0;34m\u001b[0m\u001b[0m\n",
      "\u001b[0;32m~/opt/anaconda3/lib/python3.7/site-packages/joblib/_parallel_backends.py\u001b[0m in \u001b[0;36mapply_async\u001b[0;34m(self, func, callback)\u001b[0m\n\u001b[1;32m    206\u001b[0m     \u001b[0;32mdef\u001b[0m \u001b[0mapply_async\u001b[0m\u001b[0;34m(\u001b[0m\u001b[0mself\u001b[0m\u001b[0;34m,\u001b[0m \u001b[0mfunc\u001b[0m\u001b[0;34m,\u001b[0m \u001b[0mcallback\u001b[0m\u001b[0;34m=\u001b[0m\u001b[0;32mNone\u001b[0m\u001b[0;34m)\u001b[0m\u001b[0;34m:\u001b[0m\u001b[0;34m\u001b[0m\u001b[0;34m\u001b[0m\u001b[0m\n\u001b[1;32m    207\u001b[0m         \u001b[0;34m\"\"\"Schedule a func to be run\"\"\"\u001b[0m\u001b[0;34m\u001b[0m\u001b[0;34m\u001b[0m\u001b[0m\n\u001b[0;32m--> 208\u001b[0;31m         \u001b[0mresult\u001b[0m \u001b[0;34m=\u001b[0m \u001b[0mImmediateResult\u001b[0m\u001b[0;34m(\u001b[0m\u001b[0mfunc\u001b[0m\u001b[0;34m)\u001b[0m\u001b[0;34m\u001b[0m\u001b[0;34m\u001b[0m\u001b[0m\n\u001b[0m\u001b[1;32m    209\u001b[0m         \u001b[0;32mif\u001b[0m \u001b[0mcallback\u001b[0m\u001b[0;34m:\u001b[0m\u001b[0;34m\u001b[0m\u001b[0;34m\u001b[0m\u001b[0m\n\u001b[1;32m    210\u001b[0m             \u001b[0mcallback\u001b[0m\u001b[0;34m(\u001b[0m\u001b[0mresult\u001b[0m\u001b[0;34m)\u001b[0m\u001b[0;34m\u001b[0m\u001b[0;34m\u001b[0m\u001b[0m\n",
      "\u001b[0;32m~/opt/anaconda3/lib/python3.7/site-packages/joblib/_parallel_backends.py\u001b[0m in \u001b[0;36m__init__\u001b[0;34m(self, batch)\u001b[0m\n\u001b[1;32m    570\u001b[0m         \u001b[0;31m# Don't delay the application, to avoid keeping the input\u001b[0m\u001b[0;34m\u001b[0m\u001b[0;34m\u001b[0m\u001b[0;34m\u001b[0m\u001b[0m\n\u001b[1;32m    571\u001b[0m         \u001b[0;31m# arguments in memory\u001b[0m\u001b[0;34m\u001b[0m\u001b[0;34m\u001b[0m\u001b[0;34m\u001b[0m\u001b[0m\n\u001b[0;32m--> 572\u001b[0;31m         \u001b[0mself\u001b[0m\u001b[0;34m.\u001b[0m\u001b[0mresults\u001b[0m \u001b[0;34m=\u001b[0m \u001b[0mbatch\u001b[0m\u001b[0;34m(\u001b[0m\u001b[0;34m)\u001b[0m\u001b[0;34m\u001b[0m\u001b[0;34m\u001b[0m\u001b[0m\n\u001b[0m\u001b[1;32m    573\u001b[0m \u001b[0;34m\u001b[0m\u001b[0m\n\u001b[1;32m    574\u001b[0m     \u001b[0;32mdef\u001b[0m \u001b[0mget\u001b[0m\u001b[0;34m(\u001b[0m\u001b[0mself\u001b[0m\u001b[0;34m)\u001b[0m\u001b[0;34m:\u001b[0m\u001b[0;34m\u001b[0m\u001b[0;34m\u001b[0m\u001b[0m\n",
      "\u001b[0;32m~/opt/anaconda3/lib/python3.7/site-packages/joblib/parallel.py\u001b[0m in \u001b[0;36m__call__\u001b[0;34m(self)\u001b[0m\n\u001b[1;32m    261\u001b[0m         \u001b[0;32mwith\u001b[0m \u001b[0mparallel_backend\u001b[0m\u001b[0;34m(\u001b[0m\u001b[0mself\u001b[0m\u001b[0;34m.\u001b[0m\u001b[0m_backend\u001b[0m\u001b[0;34m,\u001b[0m \u001b[0mn_jobs\u001b[0m\u001b[0;34m=\u001b[0m\u001b[0mself\u001b[0m\u001b[0;34m.\u001b[0m\u001b[0m_n_jobs\u001b[0m\u001b[0;34m)\u001b[0m\u001b[0;34m:\u001b[0m\u001b[0;34m\u001b[0m\u001b[0;34m\u001b[0m\u001b[0m\n\u001b[1;32m    262\u001b[0m             return [func(*args, **kwargs)\n\u001b[0;32m--> 263\u001b[0;31m                     for func, args, kwargs in self.items]\n\u001b[0m\u001b[1;32m    264\u001b[0m \u001b[0;34m\u001b[0m\u001b[0m\n\u001b[1;32m    265\u001b[0m     \u001b[0;32mdef\u001b[0m \u001b[0m__reduce__\u001b[0m\u001b[0;34m(\u001b[0m\u001b[0mself\u001b[0m\u001b[0;34m)\u001b[0m\u001b[0;34m:\u001b[0m\u001b[0;34m\u001b[0m\u001b[0;34m\u001b[0m\u001b[0m\n",
      "\u001b[0;32m~/opt/anaconda3/lib/python3.7/site-packages/joblib/parallel.py\u001b[0m in \u001b[0;36m<listcomp>\u001b[0;34m(.0)\u001b[0m\n\u001b[1;32m    261\u001b[0m         \u001b[0;32mwith\u001b[0m \u001b[0mparallel_backend\u001b[0m\u001b[0;34m(\u001b[0m\u001b[0mself\u001b[0m\u001b[0;34m.\u001b[0m\u001b[0m_backend\u001b[0m\u001b[0;34m,\u001b[0m \u001b[0mn_jobs\u001b[0m\u001b[0;34m=\u001b[0m\u001b[0mself\u001b[0m\u001b[0;34m.\u001b[0m\u001b[0m_n_jobs\u001b[0m\u001b[0;34m)\u001b[0m\u001b[0;34m:\u001b[0m\u001b[0;34m\u001b[0m\u001b[0;34m\u001b[0m\u001b[0m\n\u001b[1;32m    262\u001b[0m             return [func(*args, **kwargs)\n\u001b[0;32m--> 263\u001b[0;31m                     for func, args, kwargs in self.items]\n\u001b[0m\u001b[1;32m    264\u001b[0m \u001b[0;34m\u001b[0m\u001b[0m\n\u001b[1;32m    265\u001b[0m     \u001b[0;32mdef\u001b[0m \u001b[0m__reduce__\u001b[0m\u001b[0;34m(\u001b[0m\u001b[0mself\u001b[0m\u001b[0;34m)\u001b[0m\u001b[0;34m:\u001b[0m\u001b[0;34m\u001b[0m\u001b[0;34m\u001b[0m\u001b[0m\n",
      "\u001b[0;32m~/opt/anaconda3/lib/python3.7/site-packages/sklearn/utils/fixes.py\u001b[0m in \u001b[0;36m__call__\u001b[0;34m(self, *args, **kwargs)\u001b[0m\n\u001b[1;32m    214\u001b[0m     \u001b[0;32mdef\u001b[0m \u001b[0m__call__\u001b[0m\u001b[0;34m(\u001b[0m\u001b[0mself\u001b[0m\u001b[0;34m,\u001b[0m \u001b[0;34m*\u001b[0m\u001b[0margs\u001b[0m\u001b[0;34m,\u001b[0m \u001b[0;34m**\u001b[0m\u001b[0mkwargs\u001b[0m\u001b[0;34m)\u001b[0m\u001b[0;34m:\u001b[0m\u001b[0;34m\u001b[0m\u001b[0;34m\u001b[0m\u001b[0m\n\u001b[1;32m    215\u001b[0m         \u001b[0;32mwith\u001b[0m \u001b[0mconfig_context\u001b[0m\u001b[0;34m(\u001b[0m\u001b[0;34m**\u001b[0m\u001b[0mself\u001b[0m\u001b[0;34m.\u001b[0m\u001b[0mconfig\u001b[0m\u001b[0;34m)\u001b[0m\u001b[0;34m:\u001b[0m\u001b[0;34m\u001b[0m\u001b[0;34m\u001b[0m\u001b[0m\n\u001b[0;32m--> 216\u001b[0;31m             \u001b[0;32mreturn\u001b[0m \u001b[0mself\u001b[0m\u001b[0;34m.\u001b[0m\u001b[0mfunction\u001b[0m\u001b[0;34m(\u001b[0m\u001b[0;34m*\u001b[0m\u001b[0margs\u001b[0m\u001b[0;34m,\u001b[0m \u001b[0;34m**\u001b[0m\u001b[0mkwargs\u001b[0m\u001b[0;34m)\u001b[0m\u001b[0;34m\u001b[0m\u001b[0;34m\u001b[0m\u001b[0m\n\u001b[0m\u001b[1;32m    217\u001b[0m \u001b[0;34m\u001b[0m\u001b[0m\n\u001b[1;32m    218\u001b[0m \u001b[0;34m\u001b[0m\u001b[0m\n",
      "\u001b[0;32m~/opt/anaconda3/lib/python3.7/site-packages/sklearn/model_selection/_validation.py\u001b[0m in \u001b[0;36m_fit_and_score\u001b[0;34m(estimator, X, y, scorer, train, test, verbose, parameters, fit_params, return_train_score, return_parameters, return_n_test_samples, return_times, return_estimator, split_progress, candidate_progress, error_score)\u001b[0m\n\u001b[1;32m    678\u001b[0m             \u001b[0mestimator\u001b[0m\u001b[0;34m.\u001b[0m\u001b[0mfit\u001b[0m\u001b[0;34m(\u001b[0m\u001b[0mX_train\u001b[0m\u001b[0;34m,\u001b[0m \u001b[0;34m**\u001b[0m\u001b[0mfit_params\u001b[0m\u001b[0;34m)\u001b[0m\u001b[0;34m\u001b[0m\u001b[0;34m\u001b[0m\u001b[0m\n\u001b[1;32m    679\u001b[0m         \u001b[0;32melse\u001b[0m\u001b[0;34m:\u001b[0m\u001b[0;34m\u001b[0m\u001b[0;34m\u001b[0m\u001b[0m\n\u001b[0;32m--> 680\u001b[0;31m             \u001b[0mestimator\u001b[0m\u001b[0;34m.\u001b[0m\u001b[0mfit\u001b[0m\u001b[0;34m(\u001b[0m\u001b[0mX_train\u001b[0m\u001b[0;34m,\u001b[0m \u001b[0my_train\u001b[0m\u001b[0;34m,\u001b[0m \u001b[0;34m**\u001b[0m\u001b[0mfit_params\u001b[0m\u001b[0;34m)\u001b[0m\u001b[0;34m\u001b[0m\u001b[0;34m\u001b[0m\u001b[0m\n\u001b[0m\u001b[1;32m    681\u001b[0m \u001b[0;34m\u001b[0m\u001b[0m\n\u001b[1;32m    682\u001b[0m     \u001b[0;32mexcept\u001b[0m \u001b[0mException\u001b[0m\u001b[0;34m:\u001b[0m\u001b[0;34m\u001b[0m\u001b[0;34m\u001b[0m\u001b[0m\n",
      "\u001b[0;32m~/opt/anaconda3/lib/python3.7/site-packages/sklearn/svm/_base.py\u001b[0m in \u001b[0;36mfit\u001b[0;34m(self, X, y, sample_weight)\u001b[0m\n\u001b[1;32m    253\u001b[0m \u001b[0;34m\u001b[0m\u001b[0m\n\u001b[1;32m    254\u001b[0m         \u001b[0mseed\u001b[0m \u001b[0;34m=\u001b[0m \u001b[0mrnd\u001b[0m\u001b[0;34m.\u001b[0m\u001b[0mrandint\u001b[0m\u001b[0;34m(\u001b[0m\u001b[0mnp\u001b[0m\u001b[0;34m.\u001b[0m\u001b[0miinfo\u001b[0m\u001b[0;34m(\u001b[0m\u001b[0;34m\"i\"\u001b[0m\u001b[0;34m)\u001b[0m\u001b[0;34m.\u001b[0m\u001b[0mmax\u001b[0m\u001b[0;34m)\u001b[0m\u001b[0;34m\u001b[0m\u001b[0;34m\u001b[0m\u001b[0m\n\u001b[0;32m--> 255\u001b[0;31m         \u001b[0mfit\u001b[0m\u001b[0;34m(\u001b[0m\u001b[0mX\u001b[0m\u001b[0;34m,\u001b[0m \u001b[0my\u001b[0m\u001b[0;34m,\u001b[0m \u001b[0msample_weight\u001b[0m\u001b[0;34m,\u001b[0m \u001b[0msolver_type\u001b[0m\u001b[0;34m,\u001b[0m \u001b[0mkernel\u001b[0m\u001b[0;34m,\u001b[0m \u001b[0mrandom_seed\u001b[0m\u001b[0;34m=\u001b[0m\u001b[0mseed\u001b[0m\u001b[0;34m)\u001b[0m\u001b[0;34m\u001b[0m\u001b[0;34m\u001b[0m\u001b[0m\n\u001b[0m\u001b[1;32m    256\u001b[0m         \u001b[0;31m# see comment on the other call to np.iinfo in this file\u001b[0m\u001b[0;34m\u001b[0m\u001b[0;34m\u001b[0m\u001b[0;34m\u001b[0m\u001b[0m\n\u001b[1;32m    257\u001b[0m \u001b[0;34m\u001b[0m\u001b[0m\n",
      "\u001b[0;32m~/opt/anaconda3/lib/python3.7/site-packages/sklearn/svm/_base.py\u001b[0m in \u001b[0;36m_dense_fit\u001b[0;34m(self, X, y, sample_weight, solver_type, kernel, random_seed)\u001b[0m\n\u001b[1;32m    331\u001b[0m             \u001b[0mepsilon\u001b[0m\u001b[0;34m=\u001b[0m\u001b[0mself\u001b[0m\u001b[0;34m.\u001b[0m\u001b[0mepsilon\u001b[0m\u001b[0;34m,\u001b[0m\u001b[0;34m\u001b[0m\u001b[0;34m\u001b[0m\u001b[0m\n\u001b[1;32m    332\u001b[0m             \u001b[0mmax_iter\u001b[0m\u001b[0;34m=\u001b[0m\u001b[0mself\u001b[0m\u001b[0;34m.\u001b[0m\u001b[0mmax_iter\u001b[0m\u001b[0;34m,\u001b[0m\u001b[0;34m\u001b[0m\u001b[0;34m\u001b[0m\u001b[0m\n\u001b[0;32m--> 333\u001b[0;31m             \u001b[0mrandom_seed\u001b[0m\u001b[0;34m=\u001b[0m\u001b[0mrandom_seed\u001b[0m\u001b[0;34m,\u001b[0m\u001b[0;34m\u001b[0m\u001b[0;34m\u001b[0m\u001b[0m\n\u001b[0m\u001b[1;32m    334\u001b[0m         )\n\u001b[1;32m    335\u001b[0m \u001b[0;34m\u001b[0m\u001b[0m\n",
      "\u001b[0;31mKeyboardInterrupt\u001b[0m: "
     ]
    }
   ],
   "source": [
    "degree = [1, 2, 3, 4, 5, 6, 7, 8]\n",
    "accuracy = []\n",
    "\n",
    "for i in range(len(degree)):\n",
    "    svm_linear = SVC(C=0.01, kernel = 'poly', degree = degree[i], gamma = 'auto')\n",
    "    svm_scores = cross_val_score (svm_linear, embedding, Y, cv = 10, scoring = 'accuracy')\n",
    "    accuracy.append(svm_scores.mean())\n",
    "    \n",
    "plt.plot(degree, accuracy)\n",
    "plt.title(\"D. SVM (polynomial)\")\n",
    "plt.xlabel(\"degree\")\n",
    "plt.ylabel(\"Accuracy\")\n",
    "plt.show()"
   ]
  },
  {
   "cell_type": "code",
   "execution_count": 82,
   "metadata": {},
   "outputs": [
    {
     "ename": "KeyboardInterrupt",
     "evalue": "",
     "output_type": "error",
     "traceback": [
      "\u001b[0;31m---------------------------------------------------------------------------\u001b[0m",
      "\u001b[0;31mKeyboardInterrupt\u001b[0m                         Traceback (most recent call last)",
      "\u001b[0;32m/var/folders/w2/9nsxcgys4yz2d8n0xkjvw2_r0000gn/T/ipykernel_24098/2410836059.py\u001b[0m in \u001b[0;36m<module>\u001b[0;34m\u001b[0m\n\u001b[1;32m      4\u001b[0m \u001b[0;32mfor\u001b[0m \u001b[0mi\u001b[0m \u001b[0;32min\u001b[0m \u001b[0mrange\u001b[0m\u001b[0;34m(\u001b[0m\u001b[0mlen\u001b[0m\u001b[0;34m(\u001b[0m\u001b[0mdegree\u001b[0m\u001b[0;34m)\u001b[0m\u001b[0;34m)\u001b[0m\u001b[0;34m:\u001b[0m\u001b[0;34m\u001b[0m\u001b[0;34m\u001b[0m\u001b[0m\n\u001b[1;32m      5\u001b[0m     \u001b[0msvm_linear\u001b[0m \u001b[0;34m=\u001b[0m \u001b[0mSVC\u001b[0m\u001b[0;34m(\u001b[0m\u001b[0mC\u001b[0m\u001b[0;34m=\u001b[0m\u001b[0;36m0.01\u001b[0m\u001b[0;34m,\u001b[0m \u001b[0mkernel\u001b[0m \u001b[0;34m=\u001b[0m \u001b[0;34m'poly'\u001b[0m\u001b[0;34m,\u001b[0m \u001b[0mdegree\u001b[0m \u001b[0;34m=\u001b[0m \u001b[0mdegree\u001b[0m\u001b[0;34m[\u001b[0m\u001b[0mi\u001b[0m\u001b[0;34m]\u001b[0m\u001b[0;34m,\u001b[0m \u001b[0mgamma\u001b[0m \u001b[0;34m=\u001b[0m \u001b[0;34m'auto'\u001b[0m\u001b[0;34m)\u001b[0m\u001b[0;34m\u001b[0m\u001b[0;34m\u001b[0m\u001b[0m\n\u001b[0;32m----> 6\u001b[0;31m     \u001b[0msvm_scores\u001b[0m \u001b[0;34m=\u001b[0m \u001b[0mcross_val_score\u001b[0m \u001b[0;34m(\u001b[0m\u001b[0msvm_linear\u001b[0m\u001b[0;34m,\u001b[0m \u001b[0membedding\u001b[0m\u001b[0;34m,\u001b[0m \u001b[0mY\u001b[0m\u001b[0;34m,\u001b[0m \u001b[0mcv\u001b[0m \u001b[0;34m=\u001b[0m \u001b[0;36m10\u001b[0m\u001b[0;34m,\u001b[0m \u001b[0mscoring\u001b[0m \u001b[0;34m=\u001b[0m \u001b[0;34m'f1'\u001b[0m\u001b[0;34m)\u001b[0m\u001b[0;34m\u001b[0m\u001b[0;34m\u001b[0m\u001b[0m\n\u001b[0m\u001b[1;32m      7\u001b[0m     \u001b[0maccuracy\u001b[0m\u001b[0;34m.\u001b[0m\u001b[0mappend\u001b[0m\u001b[0;34m(\u001b[0m\u001b[0msvm_scores\u001b[0m\u001b[0;34m.\u001b[0m\u001b[0mmean\u001b[0m\u001b[0;34m(\u001b[0m\u001b[0;34m)\u001b[0m\u001b[0;34m)\u001b[0m\u001b[0;34m\u001b[0m\u001b[0;34m\u001b[0m\u001b[0m\n\u001b[1;32m      8\u001b[0m \u001b[0;34m\u001b[0m\u001b[0m\n",
      "\u001b[0;32m~/opt/anaconda3/lib/python3.7/site-packages/sklearn/model_selection/_validation.py\u001b[0m in \u001b[0;36mcross_val_score\u001b[0;34m(estimator, X, y, groups, scoring, cv, n_jobs, verbose, fit_params, pre_dispatch, error_score)\u001b[0m\n\u001b[1;32m    518\u001b[0m         \u001b[0mfit_params\u001b[0m\u001b[0;34m=\u001b[0m\u001b[0mfit_params\u001b[0m\u001b[0;34m,\u001b[0m\u001b[0;34m\u001b[0m\u001b[0;34m\u001b[0m\u001b[0m\n\u001b[1;32m    519\u001b[0m         \u001b[0mpre_dispatch\u001b[0m\u001b[0;34m=\u001b[0m\u001b[0mpre_dispatch\u001b[0m\u001b[0;34m,\u001b[0m\u001b[0;34m\u001b[0m\u001b[0;34m\u001b[0m\u001b[0m\n\u001b[0;32m--> 520\u001b[0;31m         \u001b[0merror_score\u001b[0m\u001b[0;34m=\u001b[0m\u001b[0merror_score\u001b[0m\u001b[0;34m,\u001b[0m\u001b[0;34m\u001b[0m\u001b[0;34m\u001b[0m\u001b[0m\n\u001b[0m\u001b[1;32m    521\u001b[0m     )\n\u001b[1;32m    522\u001b[0m     \u001b[0;32mreturn\u001b[0m \u001b[0mcv_results\u001b[0m\u001b[0;34m[\u001b[0m\u001b[0;34m\"test_score\"\u001b[0m\u001b[0;34m]\u001b[0m\u001b[0;34m\u001b[0m\u001b[0;34m\u001b[0m\u001b[0m\n",
      "\u001b[0;32m~/opt/anaconda3/lib/python3.7/site-packages/sklearn/model_selection/_validation.py\u001b[0m in \u001b[0;36mcross_validate\u001b[0;34m(estimator, X, y, groups, scoring, cv, n_jobs, verbose, fit_params, pre_dispatch, return_train_score, return_estimator, error_score)\u001b[0m\n\u001b[1;32m    281\u001b[0m             \u001b[0merror_score\u001b[0m\u001b[0;34m=\u001b[0m\u001b[0merror_score\u001b[0m\u001b[0;34m,\u001b[0m\u001b[0;34m\u001b[0m\u001b[0;34m\u001b[0m\u001b[0m\n\u001b[1;32m    282\u001b[0m         )\n\u001b[0;32m--> 283\u001b[0;31m         \u001b[0;32mfor\u001b[0m \u001b[0mtrain\u001b[0m\u001b[0;34m,\u001b[0m \u001b[0mtest\u001b[0m \u001b[0;32min\u001b[0m \u001b[0mcv\u001b[0m\u001b[0;34m.\u001b[0m\u001b[0msplit\u001b[0m\u001b[0;34m(\u001b[0m\u001b[0mX\u001b[0m\u001b[0;34m,\u001b[0m \u001b[0my\u001b[0m\u001b[0;34m,\u001b[0m \u001b[0mgroups\u001b[0m\u001b[0;34m)\u001b[0m\u001b[0;34m\u001b[0m\u001b[0;34m\u001b[0m\u001b[0m\n\u001b[0m\u001b[1;32m    284\u001b[0m     )\n\u001b[1;32m    285\u001b[0m \u001b[0;34m\u001b[0m\u001b[0m\n",
      "\u001b[0;32m~/opt/anaconda3/lib/python3.7/site-packages/joblib/parallel.py\u001b[0m in \u001b[0;36m__call__\u001b[0;34m(self, iterable)\u001b[0m\n\u001b[1;32m   1041\u001b[0m             \u001b[0;31m# remaining jobs.\u001b[0m\u001b[0;34m\u001b[0m\u001b[0;34m\u001b[0m\u001b[0;34m\u001b[0m\u001b[0m\n\u001b[1;32m   1042\u001b[0m             \u001b[0mself\u001b[0m\u001b[0;34m.\u001b[0m\u001b[0m_iterating\u001b[0m \u001b[0;34m=\u001b[0m \u001b[0;32mFalse\u001b[0m\u001b[0;34m\u001b[0m\u001b[0;34m\u001b[0m\u001b[0m\n\u001b[0;32m-> 1043\u001b[0;31m             \u001b[0;32mif\u001b[0m \u001b[0mself\u001b[0m\u001b[0;34m.\u001b[0m\u001b[0mdispatch_one_batch\u001b[0m\u001b[0;34m(\u001b[0m\u001b[0miterator\u001b[0m\u001b[0;34m)\u001b[0m\u001b[0;34m:\u001b[0m\u001b[0;34m\u001b[0m\u001b[0;34m\u001b[0m\u001b[0m\n\u001b[0m\u001b[1;32m   1044\u001b[0m                 \u001b[0mself\u001b[0m\u001b[0;34m.\u001b[0m\u001b[0m_iterating\u001b[0m \u001b[0;34m=\u001b[0m \u001b[0mself\u001b[0m\u001b[0;34m.\u001b[0m\u001b[0m_original_iterator\u001b[0m \u001b[0;32mis\u001b[0m \u001b[0;32mnot\u001b[0m \u001b[0;32mNone\u001b[0m\u001b[0;34m\u001b[0m\u001b[0;34m\u001b[0m\u001b[0m\n\u001b[1;32m   1045\u001b[0m \u001b[0;34m\u001b[0m\u001b[0m\n",
      "\u001b[0;32m~/opt/anaconda3/lib/python3.7/site-packages/joblib/parallel.py\u001b[0m in \u001b[0;36mdispatch_one_batch\u001b[0;34m(self, iterator)\u001b[0m\n\u001b[1;32m    859\u001b[0m                 \u001b[0;32mreturn\u001b[0m \u001b[0;32mFalse\u001b[0m\u001b[0;34m\u001b[0m\u001b[0;34m\u001b[0m\u001b[0m\n\u001b[1;32m    860\u001b[0m             \u001b[0;32melse\u001b[0m\u001b[0;34m:\u001b[0m\u001b[0;34m\u001b[0m\u001b[0;34m\u001b[0m\u001b[0m\n\u001b[0;32m--> 861\u001b[0;31m                 \u001b[0mself\u001b[0m\u001b[0;34m.\u001b[0m\u001b[0m_dispatch\u001b[0m\u001b[0;34m(\u001b[0m\u001b[0mtasks\u001b[0m\u001b[0;34m)\u001b[0m\u001b[0;34m\u001b[0m\u001b[0;34m\u001b[0m\u001b[0m\n\u001b[0m\u001b[1;32m    862\u001b[0m                 \u001b[0;32mreturn\u001b[0m \u001b[0;32mTrue\u001b[0m\u001b[0;34m\u001b[0m\u001b[0;34m\u001b[0m\u001b[0m\n\u001b[1;32m    863\u001b[0m \u001b[0;34m\u001b[0m\u001b[0m\n",
      "\u001b[0;32m~/opt/anaconda3/lib/python3.7/site-packages/joblib/parallel.py\u001b[0m in \u001b[0;36m_dispatch\u001b[0;34m(self, batch)\u001b[0m\n\u001b[1;32m    777\u001b[0m         \u001b[0;32mwith\u001b[0m \u001b[0mself\u001b[0m\u001b[0;34m.\u001b[0m\u001b[0m_lock\u001b[0m\u001b[0;34m:\u001b[0m\u001b[0;34m\u001b[0m\u001b[0;34m\u001b[0m\u001b[0m\n\u001b[1;32m    778\u001b[0m             \u001b[0mjob_idx\u001b[0m \u001b[0;34m=\u001b[0m \u001b[0mlen\u001b[0m\u001b[0;34m(\u001b[0m\u001b[0mself\u001b[0m\u001b[0;34m.\u001b[0m\u001b[0m_jobs\u001b[0m\u001b[0;34m)\u001b[0m\u001b[0;34m\u001b[0m\u001b[0;34m\u001b[0m\u001b[0m\n\u001b[0;32m--> 779\u001b[0;31m             \u001b[0mjob\u001b[0m \u001b[0;34m=\u001b[0m \u001b[0mself\u001b[0m\u001b[0;34m.\u001b[0m\u001b[0m_backend\u001b[0m\u001b[0;34m.\u001b[0m\u001b[0mapply_async\u001b[0m\u001b[0;34m(\u001b[0m\u001b[0mbatch\u001b[0m\u001b[0;34m,\u001b[0m \u001b[0mcallback\u001b[0m\u001b[0;34m=\u001b[0m\u001b[0mcb\u001b[0m\u001b[0;34m)\u001b[0m\u001b[0;34m\u001b[0m\u001b[0;34m\u001b[0m\u001b[0m\n\u001b[0m\u001b[1;32m    780\u001b[0m             \u001b[0;31m# A job can complete so quickly than its callback is\u001b[0m\u001b[0;34m\u001b[0m\u001b[0;34m\u001b[0m\u001b[0;34m\u001b[0m\u001b[0m\n\u001b[1;32m    781\u001b[0m             \u001b[0;31m# called before we get here, causing self._jobs to\u001b[0m\u001b[0;34m\u001b[0m\u001b[0;34m\u001b[0m\u001b[0;34m\u001b[0m\u001b[0m\n",
      "\u001b[0;32m~/opt/anaconda3/lib/python3.7/site-packages/joblib/_parallel_backends.py\u001b[0m in \u001b[0;36mapply_async\u001b[0;34m(self, func, callback)\u001b[0m\n\u001b[1;32m    206\u001b[0m     \u001b[0;32mdef\u001b[0m \u001b[0mapply_async\u001b[0m\u001b[0;34m(\u001b[0m\u001b[0mself\u001b[0m\u001b[0;34m,\u001b[0m \u001b[0mfunc\u001b[0m\u001b[0;34m,\u001b[0m \u001b[0mcallback\u001b[0m\u001b[0;34m=\u001b[0m\u001b[0;32mNone\u001b[0m\u001b[0;34m)\u001b[0m\u001b[0;34m:\u001b[0m\u001b[0;34m\u001b[0m\u001b[0;34m\u001b[0m\u001b[0m\n\u001b[1;32m    207\u001b[0m         \u001b[0;34m\"\"\"Schedule a func to be run\"\"\"\u001b[0m\u001b[0;34m\u001b[0m\u001b[0;34m\u001b[0m\u001b[0m\n\u001b[0;32m--> 208\u001b[0;31m         \u001b[0mresult\u001b[0m \u001b[0;34m=\u001b[0m \u001b[0mImmediateResult\u001b[0m\u001b[0;34m(\u001b[0m\u001b[0mfunc\u001b[0m\u001b[0;34m)\u001b[0m\u001b[0;34m\u001b[0m\u001b[0;34m\u001b[0m\u001b[0m\n\u001b[0m\u001b[1;32m    209\u001b[0m         \u001b[0;32mif\u001b[0m \u001b[0mcallback\u001b[0m\u001b[0;34m:\u001b[0m\u001b[0;34m\u001b[0m\u001b[0;34m\u001b[0m\u001b[0m\n\u001b[1;32m    210\u001b[0m             \u001b[0mcallback\u001b[0m\u001b[0;34m(\u001b[0m\u001b[0mresult\u001b[0m\u001b[0;34m)\u001b[0m\u001b[0;34m\u001b[0m\u001b[0;34m\u001b[0m\u001b[0m\n",
      "\u001b[0;32m~/opt/anaconda3/lib/python3.7/site-packages/joblib/_parallel_backends.py\u001b[0m in \u001b[0;36m__init__\u001b[0;34m(self, batch)\u001b[0m\n\u001b[1;32m    570\u001b[0m         \u001b[0;31m# Don't delay the application, to avoid keeping the input\u001b[0m\u001b[0;34m\u001b[0m\u001b[0;34m\u001b[0m\u001b[0;34m\u001b[0m\u001b[0m\n\u001b[1;32m    571\u001b[0m         \u001b[0;31m# arguments in memory\u001b[0m\u001b[0;34m\u001b[0m\u001b[0;34m\u001b[0m\u001b[0;34m\u001b[0m\u001b[0m\n\u001b[0;32m--> 572\u001b[0;31m         \u001b[0mself\u001b[0m\u001b[0;34m.\u001b[0m\u001b[0mresults\u001b[0m \u001b[0;34m=\u001b[0m \u001b[0mbatch\u001b[0m\u001b[0;34m(\u001b[0m\u001b[0;34m)\u001b[0m\u001b[0;34m\u001b[0m\u001b[0;34m\u001b[0m\u001b[0m\n\u001b[0m\u001b[1;32m    573\u001b[0m \u001b[0;34m\u001b[0m\u001b[0m\n\u001b[1;32m    574\u001b[0m     \u001b[0;32mdef\u001b[0m \u001b[0mget\u001b[0m\u001b[0;34m(\u001b[0m\u001b[0mself\u001b[0m\u001b[0;34m)\u001b[0m\u001b[0;34m:\u001b[0m\u001b[0;34m\u001b[0m\u001b[0;34m\u001b[0m\u001b[0m\n",
      "\u001b[0;32m~/opt/anaconda3/lib/python3.7/site-packages/joblib/parallel.py\u001b[0m in \u001b[0;36m__call__\u001b[0;34m(self)\u001b[0m\n\u001b[1;32m    261\u001b[0m         \u001b[0;32mwith\u001b[0m \u001b[0mparallel_backend\u001b[0m\u001b[0;34m(\u001b[0m\u001b[0mself\u001b[0m\u001b[0;34m.\u001b[0m\u001b[0m_backend\u001b[0m\u001b[0;34m,\u001b[0m \u001b[0mn_jobs\u001b[0m\u001b[0;34m=\u001b[0m\u001b[0mself\u001b[0m\u001b[0;34m.\u001b[0m\u001b[0m_n_jobs\u001b[0m\u001b[0;34m)\u001b[0m\u001b[0;34m:\u001b[0m\u001b[0;34m\u001b[0m\u001b[0;34m\u001b[0m\u001b[0m\n\u001b[1;32m    262\u001b[0m             return [func(*args, **kwargs)\n\u001b[0;32m--> 263\u001b[0;31m                     for func, args, kwargs in self.items]\n\u001b[0m\u001b[1;32m    264\u001b[0m \u001b[0;34m\u001b[0m\u001b[0m\n\u001b[1;32m    265\u001b[0m     \u001b[0;32mdef\u001b[0m \u001b[0m__reduce__\u001b[0m\u001b[0;34m(\u001b[0m\u001b[0mself\u001b[0m\u001b[0;34m)\u001b[0m\u001b[0;34m:\u001b[0m\u001b[0;34m\u001b[0m\u001b[0;34m\u001b[0m\u001b[0m\n",
      "\u001b[0;32m~/opt/anaconda3/lib/python3.7/site-packages/joblib/parallel.py\u001b[0m in \u001b[0;36m<listcomp>\u001b[0;34m(.0)\u001b[0m\n\u001b[1;32m    261\u001b[0m         \u001b[0;32mwith\u001b[0m \u001b[0mparallel_backend\u001b[0m\u001b[0;34m(\u001b[0m\u001b[0mself\u001b[0m\u001b[0;34m.\u001b[0m\u001b[0m_backend\u001b[0m\u001b[0;34m,\u001b[0m \u001b[0mn_jobs\u001b[0m\u001b[0;34m=\u001b[0m\u001b[0mself\u001b[0m\u001b[0;34m.\u001b[0m\u001b[0m_n_jobs\u001b[0m\u001b[0;34m)\u001b[0m\u001b[0;34m:\u001b[0m\u001b[0;34m\u001b[0m\u001b[0;34m\u001b[0m\u001b[0m\n\u001b[1;32m    262\u001b[0m             return [func(*args, **kwargs)\n\u001b[0;32m--> 263\u001b[0;31m                     for func, args, kwargs in self.items]\n\u001b[0m\u001b[1;32m    264\u001b[0m \u001b[0;34m\u001b[0m\u001b[0m\n\u001b[1;32m    265\u001b[0m     \u001b[0;32mdef\u001b[0m \u001b[0m__reduce__\u001b[0m\u001b[0;34m(\u001b[0m\u001b[0mself\u001b[0m\u001b[0;34m)\u001b[0m\u001b[0;34m:\u001b[0m\u001b[0;34m\u001b[0m\u001b[0;34m\u001b[0m\u001b[0m\n",
      "\u001b[0;32m~/opt/anaconda3/lib/python3.7/site-packages/sklearn/utils/fixes.py\u001b[0m in \u001b[0;36m__call__\u001b[0;34m(self, *args, **kwargs)\u001b[0m\n\u001b[1;32m    214\u001b[0m     \u001b[0;32mdef\u001b[0m \u001b[0m__call__\u001b[0m\u001b[0;34m(\u001b[0m\u001b[0mself\u001b[0m\u001b[0;34m,\u001b[0m \u001b[0;34m*\u001b[0m\u001b[0margs\u001b[0m\u001b[0;34m,\u001b[0m \u001b[0;34m**\u001b[0m\u001b[0mkwargs\u001b[0m\u001b[0;34m)\u001b[0m\u001b[0;34m:\u001b[0m\u001b[0;34m\u001b[0m\u001b[0;34m\u001b[0m\u001b[0m\n\u001b[1;32m    215\u001b[0m         \u001b[0;32mwith\u001b[0m \u001b[0mconfig_context\u001b[0m\u001b[0;34m(\u001b[0m\u001b[0;34m**\u001b[0m\u001b[0mself\u001b[0m\u001b[0;34m.\u001b[0m\u001b[0mconfig\u001b[0m\u001b[0;34m)\u001b[0m\u001b[0;34m:\u001b[0m\u001b[0;34m\u001b[0m\u001b[0;34m\u001b[0m\u001b[0m\n\u001b[0;32m--> 216\u001b[0;31m             \u001b[0;32mreturn\u001b[0m \u001b[0mself\u001b[0m\u001b[0;34m.\u001b[0m\u001b[0mfunction\u001b[0m\u001b[0;34m(\u001b[0m\u001b[0;34m*\u001b[0m\u001b[0margs\u001b[0m\u001b[0;34m,\u001b[0m \u001b[0;34m**\u001b[0m\u001b[0mkwargs\u001b[0m\u001b[0;34m)\u001b[0m\u001b[0;34m\u001b[0m\u001b[0;34m\u001b[0m\u001b[0m\n\u001b[0m\u001b[1;32m    217\u001b[0m \u001b[0;34m\u001b[0m\u001b[0m\n\u001b[1;32m    218\u001b[0m \u001b[0;34m\u001b[0m\u001b[0m\n",
      "\u001b[0;32m~/opt/anaconda3/lib/python3.7/site-packages/sklearn/model_selection/_validation.py\u001b[0m in \u001b[0;36m_fit_and_score\u001b[0;34m(estimator, X, y, scorer, train, test, verbose, parameters, fit_params, return_train_score, return_parameters, return_n_test_samples, return_times, return_estimator, split_progress, candidate_progress, error_score)\u001b[0m\n\u001b[1;32m    678\u001b[0m             \u001b[0mestimator\u001b[0m\u001b[0;34m.\u001b[0m\u001b[0mfit\u001b[0m\u001b[0;34m(\u001b[0m\u001b[0mX_train\u001b[0m\u001b[0;34m,\u001b[0m \u001b[0;34m**\u001b[0m\u001b[0mfit_params\u001b[0m\u001b[0;34m)\u001b[0m\u001b[0;34m\u001b[0m\u001b[0;34m\u001b[0m\u001b[0m\n\u001b[1;32m    679\u001b[0m         \u001b[0;32melse\u001b[0m\u001b[0;34m:\u001b[0m\u001b[0;34m\u001b[0m\u001b[0;34m\u001b[0m\u001b[0m\n\u001b[0;32m--> 680\u001b[0;31m             \u001b[0mestimator\u001b[0m\u001b[0;34m.\u001b[0m\u001b[0mfit\u001b[0m\u001b[0;34m(\u001b[0m\u001b[0mX_train\u001b[0m\u001b[0;34m,\u001b[0m \u001b[0my_train\u001b[0m\u001b[0;34m,\u001b[0m \u001b[0;34m**\u001b[0m\u001b[0mfit_params\u001b[0m\u001b[0;34m)\u001b[0m\u001b[0;34m\u001b[0m\u001b[0;34m\u001b[0m\u001b[0m\n\u001b[0m\u001b[1;32m    681\u001b[0m \u001b[0;34m\u001b[0m\u001b[0m\n\u001b[1;32m    682\u001b[0m     \u001b[0;32mexcept\u001b[0m \u001b[0mException\u001b[0m\u001b[0;34m:\u001b[0m\u001b[0;34m\u001b[0m\u001b[0;34m\u001b[0m\u001b[0m\n",
      "\u001b[0;32m~/opt/anaconda3/lib/python3.7/site-packages/sklearn/svm/_base.py\u001b[0m in \u001b[0;36mfit\u001b[0;34m(self, X, y, sample_weight)\u001b[0m\n\u001b[1;32m    253\u001b[0m \u001b[0;34m\u001b[0m\u001b[0m\n\u001b[1;32m    254\u001b[0m         \u001b[0mseed\u001b[0m \u001b[0;34m=\u001b[0m \u001b[0mrnd\u001b[0m\u001b[0;34m.\u001b[0m\u001b[0mrandint\u001b[0m\u001b[0;34m(\u001b[0m\u001b[0mnp\u001b[0m\u001b[0;34m.\u001b[0m\u001b[0miinfo\u001b[0m\u001b[0;34m(\u001b[0m\u001b[0;34m\"i\"\u001b[0m\u001b[0;34m)\u001b[0m\u001b[0;34m.\u001b[0m\u001b[0mmax\u001b[0m\u001b[0;34m)\u001b[0m\u001b[0;34m\u001b[0m\u001b[0;34m\u001b[0m\u001b[0m\n\u001b[0;32m--> 255\u001b[0;31m         \u001b[0mfit\u001b[0m\u001b[0;34m(\u001b[0m\u001b[0mX\u001b[0m\u001b[0;34m,\u001b[0m \u001b[0my\u001b[0m\u001b[0;34m,\u001b[0m \u001b[0msample_weight\u001b[0m\u001b[0;34m,\u001b[0m \u001b[0msolver_type\u001b[0m\u001b[0;34m,\u001b[0m \u001b[0mkernel\u001b[0m\u001b[0;34m,\u001b[0m \u001b[0mrandom_seed\u001b[0m\u001b[0;34m=\u001b[0m\u001b[0mseed\u001b[0m\u001b[0;34m)\u001b[0m\u001b[0;34m\u001b[0m\u001b[0;34m\u001b[0m\u001b[0m\n\u001b[0m\u001b[1;32m    256\u001b[0m         \u001b[0;31m# see comment on the other call to np.iinfo in this file\u001b[0m\u001b[0;34m\u001b[0m\u001b[0;34m\u001b[0m\u001b[0;34m\u001b[0m\u001b[0m\n\u001b[1;32m    257\u001b[0m \u001b[0;34m\u001b[0m\u001b[0m\n",
      "\u001b[0;32m~/opt/anaconda3/lib/python3.7/site-packages/sklearn/svm/_base.py\u001b[0m in \u001b[0;36m_dense_fit\u001b[0;34m(self, X, y, sample_weight, solver_type, kernel, random_seed)\u001b[0m\n\u001b[1;32m    331\u001b[0m             \u001b[0mepsilon\u001b[0m\u001b[0;34m=\u001b[0m\u001b[0mself\u001b[0m\u001b[0;34m.\u001b[0m\u001b[0mepsilon\u001b[0m\u001b[0;34m,\u001b[0m\u001b[0;34m\u001b[0m\u001b[0;34m\u001b[0m\u001b[0m\n\u001b[1;32m    332\u001b[0m             \u001b[0mmax_iter\u001b[0m\u001b[0;34m=\u001b[0m\u001b[0mself\u001b[0m\u001b[0;34m.\u001b[0m\u001b[0mmax_iter\u001b[0m\u001b[0;34m,\u001b[0m\u001b[0;34m\u001b[0m\u001b[0;34m\u001b[0m\u001b[0m\n\u001b[0;32m--> 333\u001b[0;31m             \u001b[0mrandom_seed\u001b[0m\u001b[0;34m=\u001b[0m\u001b[0mrandom_seed\u001b[0m\u001b[0;34m,\u001b[0m\u001b[0;34m\u001b[0m\u001b[0;34m\u001b[0m\u001b[0m\n\u001b[0m\u001b[1;32m    334\u001b[0m         )\n\u001b[1;32m    335\u001b[0m \u001b[0;34m\u001b[0m\u001b[0m\n",
      "\u001b[0;31mKeyboardInterrupt\u001b[0m: "
     ]
    }
   ],
   "source": [
    "degree = [1, 2, 3, 4, 5, 6, 7, 8]\n",
    "accuracy = []\n",
    "\n",
    "for i in range(len(degree)):\n",
    "    svm_linear = SVC(C=0.01, kernel = 'poly', degree = degree[i], gamma = 'auto')\n",
    "    svm_scores = cross_val_score (svm_linear, embedding, Y, cv = 10, scoring = 'f1')\n",
    "    accuracy.append(svm_scores.mean())\n",
    "    \n",
    "plt.plot(degree, accuracy, color = \"g\")\n",
    "plt.title(\"D. SVM (polynomial)\")\n",
    "plt.xlabel(\"degree\")\n",
    "plt.ylabel(\"F1 score\")\n",
    "plt.show()"
   ]
  },
  {
   "cell_type": "code",
   "execution_count": null,
   "metadata": {},
   "outputs": [],
   "source": [
    "degree = [1, 2, 3, 4, 5, 6, 7, 8]\n",
    "accuracy = []\n",
    "\n",
    "for i in range(len(degree)):\n",
    "    svm_linear = SVC(C=0.01, kernel = 'poly', degree = degree[i], gamma = 'auto')\n",
    "    svm_scores = cross_val_score (svm_linear, embedding, Y, cv = 10, scoring = 'roc_auc')\n",
    "    accuracy.append(svm_scores.mean())\n",
    "    \n",
    "plt.plot(degree, accuracy, color = \"orange\")\n",
    "plt.title(\"D. SVM (polynomial)\")\n",
    "plt.xlabel(\"degree\")\n",
    "plt.ylabel(\"AUC\")\n",
    "plt.show()"
   ]
  },
  {
   "cell_type": "markdown",
   "metadata": {},
   "source": [
    "### e. Random Forest"
   ]
  },
  {
   "cell_type": "code",
   "execution_count": 76,
   "metadata": {},
   "outputs": [],
   "source": [
    "# Import the model we are using\n",
    "from sklearn.ensemble import RandomForestClassifier"
   ]
  },
  {
   "cell_type": "code",
   "execution_count": 77,
   "metadata": {},
   "outputs": [
    {
     "data": {
      "text/plain": [
       "[0.9037767048670062, 0.06198077289925428]"
      ]
     },
     "execution_count": 77,
     "metadata": {},
     "output_type": "execute_result"
    }
   ],
   "source": [
    "# Instantiate model with 100 decision trees\n",
    "rf = RandomForestClassifier(n_estimators = 200, #### number of trees in the forest\n",
    "                            random_state = 42, \n",
    "                            max_features = 'sqrt', #bootstrap=True, \n",
    "                            max_depth=10, \n",
    "                            #min_samples_split = 0.01, min_samples_leaf = 0.01\n",
    "                           )\n",
    "# Evaluation - Cross Validation\n",
    "rf_scores = cross_val_score(rf, embedding, Y, cv = 10, scoring = \"roc_auc\")\n",
    "[rf_scores.mean(), rf_scores.std()]"
   ]
  },
  {
   "cell_type": "code",
   "execution_count": 78,
   "metadata": {},
   "outputs": [
    {
     "data": {
      "text/plain": [
       "[0.7919243415566946, 0.08366866656455171]"
      ]
     },
     "execution_count": 78,
     "metadata": {},
     "output_type": "execute_result"
    }
   ],
   "source": [
    "# Instantiate model with 100 decision trees\n",
    "rf = RandomForestClassifier(n_estimators = 200, #### number of trees in the forest\n",
    "                            random_state = 42, \n",
    "                            max_features = 'sqrt', #bootstrap=True, \n",
    "                            max_depth=10, \n",
    "                            #min_samples_split = 0.01, min_samples_leaf = 0.01\n",
    "                           )\n",
    "# Evaluation - Cross Validation\n",
    "rf_scores = cross_val_score(rf, embedding, Y, cv = 10, scoring = \"f1\")\n",
    "[rf_scores.mean(), rf_scores.std()]"
   ]
  },
  {
   "cell_type": "code",
   "execution_count": 79,
   "metadata": {},
   "outputs": [
    {
     "data": {
      "text/plain": [
       "[0.8380000000000001, 0.07400000000000001]"
      ]
     },
     "execution_count": 79,
     "metadata": {},
     "output_type": "execute_result"
    }
   ],
   "source": [
    "###### Accuracy!!!!\n",
    "# Instantiate model with 100 decision trees\n",
    "rf = RandomForestClassifier(n_estimators = 200, #### number of trees in the forest\n",
    "                            random_state = 42, \n",
    "                            max_features = 'sqrt', #bootstrap=True, \n",
    "                            max_depth=10, \n",
    "                            #min_samples_split = 0.01, min_samples_leaf = 0.01\n",
    "                           )\n",
    "# Evaluation - Cross Validation\n",
    "rf_scores = cross_val_score(rf, embedding, Y, cv = 10, scoring = \"accuracy\")\n",
    "[rf_scores.mean(), rf_scores.std()]"
   ]
  },
  {
   "cell_type": "code",
   "execution_count": null,
   "metadata": {},
   "outputs": [],
   "source": [
    "n_estimators = [10, 20, 50, 100, 200, 300, 400, 500]\n",
    "accuracy = []\n",
    "\n",
    "for i in range(len(n_estimators)):\n",
    "    rf = RandomForestClassifier(n_estimators = n_estimators[i], #### number of trees in the forest\n",
    "                            random_state = 42, \n",
    "                            max_features = 'sqrt', #bootstrap=True, \n",
    "                            max_depth=10\n",
    "                            #min_samples_split = 0.01, #min_samples_leaf = 0.01\n",
    "                               )\n",
    "    rf_scores = cross_val_score (rf, embedding, Y, cv = 10, scoring = 'accuracy')\n",
    "    accuracy.append(rf_scores.mean())\n",
    "    \n",
    "plt.plot(n_estimators, accuracy)\n",
    "plt.title(\"E. Random Forest\")\n",
    "plt.xlabel(\"number of trees in the forest\")\n",
    "plt.ylabel(\"Accuracy\")\n",
    "plt.show()"
   ]
  },
  {
   "cell_type": "code",
   "execution_count": null,
   "metadata": {},
   "outputs": [],
   "source": [
    "n_estimators = [10, 20, 50, 100, 200, 300, 400, 500]\n",
    "accuracy = []\n",
    "\n",
    "for i in range(len(n_estimators)):\n",
    "    rf = RandomForestClassifier(n_estimators = n_estimators[i], #### number of trees in the forest\n",
    "                            random_state = 42, \n",
    "                            max_features = 'sqrt', #bootstrap=True, \n",
    "                            max_depth=10\n",
    "                            #min_samples_split = 0.01, #min_samples_leaf = 0.01\n",
    "                               )\n",
    "    rf_scores = cross_val_score (rf, embedding, Y, cv = 10, scoring = 'f1')\n",
    "    accuracy.append(rf_scores.mean())\n",
    "    \n",
    "plt.plot(n_estimators, accuracy, color = \"g\")\n",
    "plt.title(\"E. Random Forest\")\n",
    "plt.xlabel(\"number of trees in the forest\")\n",
    "plt.ylabel(\"F1 score\")\n",
    "plt.show()"
   ]
  },
  {
   "cell_type": "code",
   "execution_count": null,
   "metadata": {},
   "outputs": [],
   "source": [
    "n_estimators = [10, 20, 50, 100, 200, 300, 400, 500]\n",
    "accuracy = []\n",
    "\n",
    "for i in range(len(n_estimators)):\n",
    "    rf = RandomForestClassifier(n_estimators = n_estimators[i], #### number of trees in the forest\n",
    "                            random_state = 42, \n",
    "                            max_features = 'sqrt', #bootstrap=True, \n",
    "                            max_depth=10\n",
    "                            #min_samples_split = 0.01, #min_samples_leaf = 0.01\n",
    "                               )\n",
    "    rf_scores = cross_val_score (rf, embedding, Y, cv = 10, scoring = 'roc_auc')\n",
    "    accuracy.append(rf_scores.mean())\n",
    "    \n",
    "plt.plot(n_estimators, accuracy, color = \"orange\")\n",
    "plt.title(\"E. Random Forest\")\n",
    "plt.xlabel(\"number of trees in the forest\")\n",
    "plt.ylabel(\"AUC\")\n",
    "plt.show()"
   ]
  },
  {
   "cell_type": "markdown",
   "metadata": {},
   "source": [
    "### f. Logistic Regression"
   ]
  },
  {
   "cell_type": "code",
   "execution_count": 80,
   "metadata": {},
   "outputs": [],
   "source": [
    "from sklearn.linear_model import LogisticRegression\n",
    "from sklearn.metrics import confusion_matrix"
   ]
  },
  {
   "cell_type": "code",
   "execution_count": 81,
   "metadata": {},
   "outputs": [
    {
     "data": {
      "text/plain": [
       "[0.9068530701754387, 0.0629691305232763]"
      ]
     },
     "execution_count": 81,
     "metadata": {},
     "output_type": "execute_result"
    }
   ],
   "source": [
    "#LR = LogisticRegression(C=0.01, solver='liblinear').fit(X,Y)\n",
    "LR = LogisticRegression(C=0.2, solver='liblinear') # random_state=0\n",
    "LR_scores = cross_val_score(LR, embedding, Y, cv = 10, scoring = \"roc_auc\")\n",
    "[LR_scores.mean(), LR_scores.std()]"
   ]
  },
  {
   "cell_type": "code",
   "execution_count": 82,
   "metadata": {},
   "outputs": [
    {
     "data": {
      "text/plain": [
       "[0.7558721794765979, 0.07556788969344497]"
      ]
     },
     "execution_count": 82,
     "metadata": {},
     "output_type": "execute_result"
    }
   ],
   "source": [
    "#LR = LogisticRegression(C=0.01, solver='liblinear').fit(X,Y)\n",
    "LR = LogisticRegression(C=0.2, solver='liblinear') # random_state=0\n",
    "LR_scores = cross_val_score(LR, embedding, Y, cv = 10, scoring = \"f1\")\n",
    "[LR_scores.mean(), LR_scores.std()]"
   ]
  },
  {
   "cell_type": "code",
   "execution_count": 83,
   "metadata": {},
   "outputs": [
    {
     "data": {
      "text/plain": [
       "[0.8099999999999999, 0.06999999999999999]"
      ]
     },
     "execution_count": 83,
     "metadata": {},
     "output_type": "execute_result"
    }
   ],
   "source": [
    "###### Accuracy!!!!\n",
    "\n",
    "#LR = LogisticRegression(C=0.01, solver='liblinear').fit(X,Y)\n",
    "LR = LogisticRegression(C=0.2, solver='liblinear') # random_state=0\n",
    "LR_scores = cross_val_score(LR, embedding, Y, cv = 10, scoring = \"accuracy\")\n",
    "[LR_scores.mean(), LR_scores.std()]"
   ]
  },
  {
   "cell_type": "code",
   "execution_count": null,
   "metadata": {},
   "outputs": [],
   "source": [
    "C = [0.0005, 0.0007, 0.001, 0.01, 0.1, 0.2, 0.3, 0.4, 0.5, 0.6]\n",
    "accuracy = []\n",
    "\n",
    "for i in range(len(C)):\n",
    "    LR = LogisticRegression(C=C[i], solver='liblinear') # random_state=0\n",
    "    LR_scores = cross_val_score (LR, embedding, Y, cv = 10, scoring = 'accuracy')\n",
    "    accuracy.append(LR_scores.mean())\n",
    "    \n",
    "plt.plot(C, accuracy)\n",
    "plt.title(\"F. Logistic Regression\")\n",
    "plt.xlabel(\"C value\")\n",
    "plt.ylabel(\"Accuracy\")\n",
    "plt.show()"
   ]
  },
  {
   "cell_type": "code",
   "execution_count": null,
   "metadata": {},
   "outputs": [],
   "source": [
    "C = [0.0005, 0.0007, 0.001, 0.01, 0.1, 0.2, 0.3, 0.4, 0.5, 0.6]\n",
    "accuracy = []\n",
    "\n",
    "for i in range(len(C)):\n",
    "    LR = LogisticRegression(C=C[i], solver='liblinear') # random_state=0\n",
    "    LR_scores = cross_val_score (LR, embedding, Y, cv = 10, scoring = 'f1')\n",
    "    accuracy.append(LR_scores.mean())\n",
    "    \n",
    "plt.plot(C, accuracy, color = \"g\")\n",
    "plt.title(\"F. Logistic Regression\")\n",
    "plt.xlabel(\"C value\")\n",
    "plt.ylabel(\"F1 score\")\n",
    "plt.show()"
   ]
  },
  {
   "cell_type": "code",
   "execution_count": null,
   "metadata": {},
   "outputs": [],
   "source": [
    "C = [0.0005, 0.0007, 0.001, 0.01, 0.1, 0.2, 0.3, 0.4, 0.5, 0.6]\n",
    "accuracy = []\n",
    "\n",
    "for i in range(len(C)):\n",
    "    LR = LogisticRegression(C=C[i], solver='liblinear') # random_state=0\n",
    "    LR_scores = cross_val_score (LR, embedding, Y, cv = 10, scoring = 'roc_auc')\n",
    "    accuracy.append(LR_scores.mean())\n",
    "    \n",
    "plt.plot(C, accuracy, color = \"orange\")\n",
    "plt.title(\"F. Logistic Regression\")\n",
    "plt.xlabel(\"C value\")\n",
    "plt.ylabel(\"AUC\")\n",
    "plt.show()"
   ]
  },
  {
   "cell_type": "markdown",
   "metadata": {},
   "source": [
    "# Step 5: Plot the decision boundary"
   ]
  },
  {
   "cell_type": "code",
   "execution_count": null,
   "metadata": {},
   "outputs": [],
   "source": []
  }
 ],
 "metadata": {
  "kernelspec": {
   "display_name": "Python 3 (ipykernel)",
   "language": "python",
   "name": "python3"
  },
  "language_info": {
   "codemirror_mode": {
    "name": "ipython",
    "version": 3
   },
   "file_extension": ".py",
   "mimetype": "text/x-python",
   "name": "python",
   "nbconvert_exporter": "python",
   "pygments_lexer": "ipython3",
   "version": "3.7.4"
  }
 },
 "nbformat": 4,
 "nbformat_minor": 2
}
