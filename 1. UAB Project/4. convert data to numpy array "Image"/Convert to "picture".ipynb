{
 "cells": [
  {
   "cell_type": "markdown",
   "id": "792e2f0a",
   "metadata": {},
   "source": [
    "# Convert UAB VF data to \"picture\""
   ]
  },
  {
   "cell_type": "code",
   "execution_count": 1,
   "id": "58f8444a",
   "metadata": {},
   "outputs": [
    {
     "name": "stdout",
     "output_type": "stream",
     "text": [
      "The shape of df is: (301, 304)\n"
     ]
    },
    {
     "data": {
      "text/html": [
       "<div>\n",
       "<style scoped>\n",
       "    .dataframe tbody tr th:only-of-type {\n",
       "        vertical-align: middle;\n",
       "    }\n",
       "\n",
       "    .dataframe tbody tr th {\n",
       "        vertical-align: top;\n",
       "    }\n",
       "\n",
       "    .dataframe thead th {\n",
       "        text-align: right;\n",
       "    }\n",
       "</style>\n",
       "<table border=\"1\" class=\"dataframe\">\n",
       "  <thead>\n",
       "    <tr style=\"text-align: right;\">\n",
       "      <th></th>\n",
       "      <th>record_id</th>\n",
       "      <th>ptid</th>\n",
       "      <th>vstdate</th>\n",
       "      <th>OD_flag</th>\n",
       "      <th>ptid_OD</th>\n",
       "      <th>ptid_OD_SIM</th>\n",
       "      <th>Eye</th>\n",
       "      <th>sad</th>\n",
       "      <th>iad</th>\n",
       "      <th>dad</th>\n",
       "      <th>...</th>\n",
       "      <th>PD_NUM_45</th>\n",
       "      <th>PD_NUM_46</th>\n",
       "      <th>PD_NUM_47</th>\n",
       "      <th>PD_NUM_48</th>\n",
       "      <th>PD_NUM_49</th>\n",
       "      <th>PD_NUM_50</th>\n",
       "      <th>PD_NUM_51</th>\n",
       "      <th>PD_NUM_52</th>\n",
       "      <th>PD_NUM_53</th>\n",
       "      <th>PD_NUM_54</th>\n",
       "    </tr>\n",
       "  </thead>\n",
       "  <tbody>\n",
       "    <tr>\n",
       "      <th>0</th>\n",
       "      <td>1</td>\n",
       "      <td>T0005</td>\n",
       "      <td>4/21/14</td>\n",
       "      <td>od</td>\n",
       "      <td>T0005_od</td>\n",
       "      <td>NaN</td>\n",
       "      <td>Right</td>\n",
       "      <td>0.0</td>\n",
       "      <td>0.0</td>\n",
       "      <td>0.0</td>\n",
       "      <td>...</td>\n",
       "      <td>0.0</td>\n",
       "      <td>1.0</td>\n",
       "      <td>1.0</td>\n",
       "      <td>0.0</td>\n",
       "      <td>0.0</td>\n",
       "      <td>0.0</td>\n",
       "      <td>0.0</td>\n",
       "      <td>0.0</td>\n",
       "      <td>0.0</td>\n",
       "      <td>0.0</td>\n",
       "    </tr>\n",
       "    <tr>\n",
       "      <th>1</th>\n",
       "      <td>1</td>\n",
       "      <td>T0005</td>\n",
       "      <td>4/21/14</td>\n",
       "      <td>os</td>\n",
       "      <td>T0005_os</td>\n",
       "      <td>NaN</td>\n",
       "      <td>Left</td>\n",
       "      <td>0.0</td>\n",
       "      <td>0.0</td>\n",
       "      <td>0.0</td>\n",
       "      <td>...</td>\n",
       "      <td>0.0</td>\n",
       "      <td>0.0</td>\n",
       "      <td>0.0</td>\n",
       "      <td>3.0</td>\n",
       "      <td>0.0</td>\n",
       "      <td>1.0</td>\n",
       "      <td>1.0</td>\n",
       "      <td>3.0</td>\n",
       "      <td>2.0</td>\n",
       "      <td>0.0</td>\n",
       "    </tr>\n",
       "    <tr>\n",
       "      <th>2</th>\n",
       "      <td>2</td>\n",
       "      <td>T0007</td>\n",
       "      <td>5/15/14</td>\n",
       "      <td>od</td>\n",
       "      <td>T0007_od</td>\n",
       "      <td>NaN</td>\n",
       "      <td>Right</td>\n",
       "      <td>1.0</td>\n",
       "      <td>0.0</td>\n",
       "      <td>0.0</td>\n",
       "      <td>...</td>\n",
       "      <td>4.0</td>\n",
       "      <td>0.0</td>\n",
       "      <td>4.0</td>\n",
       "      <td>0.0</td>\n",
       "      <td>0.0</td>\n",
       "      <td>0.0</td>\n",
       "      <td>4.0</td>\n",
       "      <td>4.0</td>\n",
       "      <td>4.0</td>\n",
       "      <td>1.0</td>\n",
       "    </tr>\n",
       "    <tr>\n",
       "      <th>3</th>\n",
       "      <td>2</td>\n",
       "      <td>T0007</td>\n",
       "      <td>5/15/14</td>\n",
       "      <td>os</td>\n",
       "      <td>T0007_os</td>\n",
       "      <td>NaN</td>\n",
       "      <td>Left</td>\n",
       "      <td>1.0</td>\n",
       "      <td>1.0</td>\n",
       "      <td>1.0</td>\n",
       "      <td>...</td>\n",
       "      <td>1.0</td>\n",
       "      <td>0.0</td>\n",
       "      <td>0.0</td>\n",
       "      <td>4.0</td>\n",
       "      <td>4.0</td>\n",
       "      <td>4.0</td>\n",
       "      <td>4.0</td>\n",
       "      <td>4.0</td>\n",
       "      <td>4.0</td>\n",
       "      <td>4.0</td>\n",
       "    </tr>\n",
       "    <tr>\n",
       "      <th>4</th>\n",
       "      <td>3</td>\n",
       "      <td>T0008</td>\n",
       "      <td>12/10/13</td>\n",
       "      <td>od</td>\n",
       "      <td>T0008_od</td>\n",
       "      <td>NaN</td>\n",
       "      <td>Right</td>\n",
       "      <td>0.0</td>\n",
       "      <td>0.0</td>\n",
       "      <td>0.0</td>\n",
       "      <td>...</td>\n",
       "      <td>0.0</td>\n",
       "      <td>2.0</td>\n",
       "      <td>4.0</td>\n",
       "      <td>0.0</td>\n",
       "      <td>0.0</td>\n",
       "      <td>0.0</td>\n",
       "      <td>3.0</td>\n",
       "      <td>4.0</td>\n",
       "      <td>0.0</td>\n",
       "      <td>0.0</td>\n",
       "    </tr>\n",
       "  </tbody>\n",
       "</table>\n",
       "<p>5 rows × 304 columns</p>\n",
       "</div>"
      ],
      "text/plain": [
       "   record_id   ptid   vstdate OD_flag   ptid_OD  ptid_OD_SIM    Eye  sad  iad  \\\n",
       "0          1  T0005   4/21/14      od  T0005_od          NaN  Right  0.0  0.0   \n",
       "1          1  T0005   4/21/14      os  T0005_os          NaN   Left  0.0  0.0   \n",
       "2          2  T0007   5/15/14      od  T0007_od          NaN  Right  1.0  0.0   \n",
       "3          2  T0007   5/15/14      os  T0007_os          NaN   Left  1.0  1.0   \n",
       "4          3  T0008  12/10/13      od  T0008_od          NaN  Right  0.0  0.0   \n",
       "\n",
       "   dad  ...  PD_NUM_45  PD_NUM_46  PD_NUM_47  PD_NUM_48  PD_NUM_49  PD_NUM_50  \\\n",
       "0  0.0  ...        0.0        1.0        1.0        0.0        0.0        0.0   \n",
       "1  0.0  ...        0.0        0.0        0.0        3.0        0.0        1.0   \n",
       "2  0.0  ...        4.0        0.0        4.0        0.0        0.0        0.0   \n",
       "3  1.0  ...        1.0        0.0        0.0        4.0        4.0        4.0   \n",
       "4  0.0  ...        0.0        2.0        4.0        0.0        0.0        0.0   \n",
       "\n",
       "   PD_NUM_51  PD_NUM_52  PD_NUM_53  PD_NUM_54  \n",
       "0        0.0        0.0        0.0        0.0  \n",
       "1        1.0        3.0        2.0        0.0  \n",
       "2        4.0        4.0        4.0        1.0  \n",
       "3        4.0        4.0        4.0        4.0  \n",
       "4        3.0        4.0        0.0        0.0  \n",
       "\n",
       "[5 rows x 304 columns]"
      ]
     },
     "execution_count": 1,
     "metadata": {},
     "output_type": "execute_result"
    }
   ],
   "source": [
    "import pandas as pd\n",
    "df = pd.read_csv(\"15. Grader1_labels_VF (normal + S.I.D corrected).csv\")\n",
    "print(\"The shape of df is:\", df.shape)\n",
    "df.head()"
   ]
  },
  {
   "cell_type": "markdown",
   "id": "538b177b",
   "metadata": {},
   "source": [
    "# Construct X"
   ]
  },
  {
   "cell_type": "code",
   "execution_count": 2,
   "id": "08330980",
   "metadata": {},
   "outputs": [
    {
     "data": {
      "text/plain": [
       "Index(['Threshold_1', 'Threshold_2', 'Threshold_3', 'Threshold_4',\n",
       "       'Threshold_5', 'Threshold_6', 'Threshold_7', 'Threshold_8',\n",
       "       'Threshold_9', 'Threshold_10', 'Threshold_11', 'Threshold_12',\n",
       "       'Threshold_13', 'Threshold_14', 'Threshold_15', 'Threshold_16',\n",
       "       'Threshold_17', 'Threshold_18', 'Threshold_19', 'Threshold_20',\n",
       "       'Threshold_21', 'Threshold_22', 'Threshold_23', 'Threshold_24',\n",
       "       'Threshold_25', 'Threshold_26', 'Threshold_27', 'Threshold_28',\n",
       "       'Threshold_29', 'Threshold_30', 'Threshold_31', 'Threshold_32',\n",
       "       'Threshold_33', 'Threshold_34', 'Threshold_35', 'Threshold_36',\n",
       "       'Threshold_37', 'Threshold_38', 'Threshold_39', 'Threshold_40',\n",
       "       'Threshold_41', 'Threshold_42', 'Threshold_43', 'Threshold_44',\n",
       "       'Threshold_45', 'Threshold_46', 'Threshold_47', 'Threshold_48',\n",
       "       'Threshold_49', 'Threshold_50', 'Threshold_51', 'Threshold_52',\n",
       "       'Threshold_53', 'Threshold_54'],\n",
       "      dtype='object')"
      ]
     },
     "execution_count": 2,
     "metadata": {},
     "output_type": "execute_result"
    }
   ],
   "source": [
    "df.columns[34:88]"
   ]
  },
  {
   "cell_type": "code",
   "execution_count": 3,
   "id": "c52183d7",
   "metadata": {},
   "outputs": [
    {
     "data": {
      "text/plain": [
       "54"
      ]
     },
     "execution_count": 3,
     "metadata": {},
     "output_type": "execute_result"
    }
   ],
   "source": [
    "l = ['Threshold_1', 'Threshold_2', 'Threshold_3', 'Threshold_4',\n",
    "       'Threshold_5', 'Threshold_6', 'Threshold_7', 'Threshold_8',\n",
    "       'Threshold_9', 'Threshold_10', 'Threshold_11', 'Threshold_12',\n",
    "       'Threshold_13', 'Threshold_14', 'Threshold_15', 'Threshold_16',\n",
    "       'Threshold_17', 'Threshold_18', 'Threshold_19', 'Threshold_20',\n",
    "       'Threshold_21', 'Threshold_22', 'Threshold_23', 'Threshold_24',\n",
    "       'Threshold_25', 'Threshold_26', 'Threshold_27', 'Threshold_28',\n",
    "       'Threshold_29', 'Threshold_30', 'Threshold_31', 'Threshold_32',\n",
    "       'Threshold_33', 'Threshold_34', 'Threshold_35', 'Threshold_36',\n",
    "       'Threshold_37', 'Threshold_38', 'Threshold_39', 'Threshold_40',\n",
    "       'Threshold_41', 'Threshold_42', 'Threshold_43', 'Threshold_44',\n",
    "       'Threshold_45', 'Threshold_46', 'Threshold_47', 'Threshold_48',\n",
    "       'Threshold_49', 'Threshold_50', 'Threshold_51', 'Threshold_52',\n",
    "       'Threshold_53', 'Threshold_54']\n",
    "\n",
    "len(l)"
   ]
  },
  {
   "cell_type": "code",
   "execution_count": 4,
   "id": "2407c4b8",
   "metadata": {},
   "outputs": [
    {
     "name": "stdout",
     "output_type": "stream",
     "text": [
      "The shape of thr_UAB is (301, 54)\n"
     ]
    },
    {
     "data": {
      "text/html": [
       "<div>\n",
       "<style scoped>\n",
       "    .dataframe tbody tr th:only-of-type {\n",
       "        vertical-align: middle;\n",
       "    }\n",
       "\n",
       "    .dataframe tbody tr th {\n",
       "        vertical-align: top;\n",
       "    }\n",
       "\n",
       "    .dataframe thead th {\n",
       "        text-align: right;\n",
       "    }\n",
       "</style>\n",
       "<table border=\"1\" class=\"dataframe\">\n",
       "  <thead>\n",
       "    <tr style=\"text-align: right;\">\n",
       "      <th></th>\n",
       "      <th>Threshold_1</th>\n",
       "      <th>Threshold_2</th>\n",
       "      <th>Threshold_3</th>\n",
       "      <th>Threshold_4</th>\n",
       "      <th>Threshold_5</th>\n",
       "      <th>Threshold_6</th>\n",
       "      <th>Threshold_7</th>\n",
       "      <th>Threshold_8</th>\n",
       "      <th>Threshold_9</th>\n",
       "      <th>Threshold_10</th>\n",
       "      <th>...</th>\n",
       "      <th>Threshold_45</th>\n",
       "      <th>Threshold_46</th>\n",
       "      <th>Threshold_47</th>\n",
       "      <th>Threshold_48</th>\n",
       "      <th>Threshold_49</th>\n",
       "      <th>Threshold_50</th>\n",
       "      <th>Threshold_51</th>\n",
       "      <th>Threshold_52</th>\n",
       "      <th>Threshold_53</th>\n",
       "      <th>Threshold_54</th>\n",
       "    </tr>\n",
       "  </thead>\n",
       "  <tbody>\n",
       "    <tr>\n",
       "      <th>0</th>\n",
       "      <td>31.75</td>\n",
       "      <td>24.62</td>\n",
       "      <td>28.1</td>\n",
       "      <td>23.47</td>\n",
       "      <td>29.93</td>\n",
       "      <td>28.80</td>\n",
       "      <td>25.24</td>\n",
       "      <td>25.28</td>\n",
       "      <td>26.81</td>\n",
       "      <td>26.50</td>\n",
       "      <td>...</td>\n",
       "      <td>28.08</td>\n",
       "      <td>27.59</td>\n",
       "      <td>27.95</td>\n",
       "      <td>30.08</td>\n",
       "      <td>31.63</td>\n",
       "      <td>30.16</td>\n",
       "      <td>26.81</td>\n",
       "      <td>28.74</td>\n",
       "      <td>29.07</td>\n",
       "      <td>27.02</td>\n",
       "    </tr>\n",
       "    <tr>\n",
       "      <th>1</th>\n",
       "      <td>26.20</td>\n",
       "      <td>25.90</td>\n",
       "      <td>21.4</td>\n",
       "      <td>26.85</td>\n",
       "      <td>31.83</td>\n",
       "      <td>30.27</td>\n",
       "      <td>28.57</td>\n",
       "      <td>24.48</td>\n",
       "      <td>28.15</td>\n",
       "      <td>23.93</td>\n",
       "      <td>...</td>\n",
       "      <td>27.31</td>\n",
       "      <td>29.07</td>\n",
       "      <td>30.72</td>\n",
       "      <td>26.92</td>\n",
       "      <td>29.62</td>\n",
       "      <td>26.94</td>\n",
       "      <td>24.83</td>\n",
       "      <td>24.02</td>\n",
       "      <td>25.14</td>\n",
       "      <td>28.10</td>\n",
       "    </tr>\n",
       "    <tr>\n",
       "      <th>2</th>\n",
       "      <td>6.13</td>\n",
       "      <td>-2.00</td>\n",
       "      <td>-2.0</td>\n",
       "      <td>-2.00</td>\n",
       "      <td>11.46</td>\n",
       "      <td>5.14</td>\n",
       "      <td>13.49</td>\n",
       "      <td>1.40</td>\n",
       "      <td>5.13</td>\n",
       "      <td>-2.00</td>\n",
       "      <td>...</td>\n",
       "      <td>10.79</td>\n",
       "      <td>27.26</td>\n",
       "      <td>15.92</td>\n",
       "      <td>27.68</td>\n",
       "      <td>28.44</td>\n",
       "      <td>28.16</td>\n",
       "      <td>-2.00</td>\n",
       "      <td>2.12</td>\n",
       "      <td>10.25</td>\n",
       "      <td>23.52</td>\n",
       "    </tr>\n",
       "    <tr>\n",
       "      <th>3</th>\n",
       "      <td>-2.00</td>\n",
       "      <td>-2.00</td>\n",
       "      <td>-2.0</td>\n",
       "      <td>-2.00</td>\n",
       "      <td>13.51</td>\n",
       "      <td>9.67</td>\n",
       "      <td>14.95</td>\n",
       "      <td>2.49</td>\n",
       "      <td>14.47</td>\n",
       "      <td>-0.00</td>\n",
       "      <td>...</td>\n",
       "      <td>22.81</td>\n",
       "      <td>26.64</td>\n",
       "      <td>27.89</td>\n",
       "      <td>18.12</td>\n",
       "      <td>6.31</td>\n",
       "      <td>16.64</td>\n",
       "      <td>11.96</td>\n",
       "      <td>-2.00</td>\n",
       "      <td>-2.00</td>\n",
       "      <td>-0.00</td>\n",
       "    </tr>\n",
       "    <tr>\n",
       "      <th>4</th>\n",
       "      <td>49.63</td>\n",
       "      <td>46.56</td>\n",
       "      <td>39.8</td>\n",
       "      <td>41.30</td>\n",
       "      <td>49.63</td>\n",
       "      <td>49.35</td>\n",
       "      <td>49.56</td>\n",
       "      <td>49.42</td>\n",
       "      <td>47.30</td>\n",
       "      <td>41.39</td>\n",
       "      <td>...</td>\n",
       "      <td>49.78</td>\n",
       "      <td>46.43</td>\n",
       "      <td>41.81</td>\n",
       "      <td>49.49</td>\n",
       "      <td>49.43</td>\n",
       "      <td>49.80</td>\n",
       "      <td>40.91</td>\n",
       "      <td>31.30</td>\n",
       "      <td>46.59</td>\n",
       "      <td>49.74</td>\n",
       "    </tr>\n",
       "  </tbody>\n",
       "</table>\n",
       "<p>5 rows × 54 columns</p>\n",
       "</div>"
      ],
      "text/plain": [
       "   Threshold_1  Threshold_2  Threshold_3  Threshold_4  Threshold_5  \\\n",
       "0        31.75        24.62         28.1        23.47        29.93   \n",
       "1        26.20        25.90         21.4        26.85        31.83   \n",
       "2         6.13        -2.00         -2.0        -2.00        11.46   \n",
       "3        -2.00        -2.00         -2.0        -2.00        13.51   \n",
       "4        49.63        46.56         39.8        41.30        49.63   \n",
       "\n",
       "   Threshold_6  Threshold_7  Threshold_8  Threshold_9  Threshold_10  ...  \\\n",
       "0        28.80        25.24        25.28        26.81         26.50  ...   \n",
       "1        30.27        28.57        24.48        28.15         23.93  ...   \n",
       "2         5.14        13.49         1.40         5.13         -2.00  ...   \n",
       "3         9.67        14.95         2.49        14.47         -0.00  ...   \n",
       "4        49.35        49.56        49.42        47.30         41.39  ...   \n",
       "\n",
       "   Threshold_45  Threshold_46  Threshold_47  Threshold_48  Threshold_49  \\\n",
       "0         28.08         27.59         27.95         30.08         31.63   \n",
       "1         27.31         29.07         30.72         26.92         29.62   \n",
       "2         10.79         27.26         15.92         27.68         28.44   \n",
       "3         22.81         26.64         27.89         18.12          6.31   \n",
       "4         49.78         46.43         41.81         49.49         49.43   \n",
       "\n",
       "   Threshold_50  Threshold_51  Threshold_52  Threshold_53  Threshold_54  \n",
       "0         30.16         26.81         28.74         29.07         27.02  \n",
       "1         26.94         24.83         24.02         25.14         28.10  \n",
       "2         28.16         -2.00          2.12         10.25         23.52  \n",
       "3         16.64         11.96         -2.00         -2.00         -0.00  \n",
       "4         49.80         40.91         31.30         46.59         49.74  \n",
       "\n",
       "[5 rows x 54 columns]"
      ]
     },
     "execution_count": 4,
     "metadata": {},
     "output_type": "execute_result"
    }
   ],
   "source": [
    "thr_UAB = df[l]\n",
    "print(\"The shape of thr_UAB is\", thr_UAB.shape)\n",
    "thr_UAB.head()"
   ]
  },
  {
   "cell_type": "code",
   "execution_count": 5,
   "id": "27b83e8d",
   "metadata": {},
   "outputs": [
    {
     "name": "stdout",
     "output_type": "stream",
     "text": [
      "The shape of thr_UAB is (301, 55)\n"
     ]
    },
    {
     "name": "stderr",
     "output_type": "stream",
     "text": [
      "/Users/yuhuicao/opt/anaconda3/lib/python3.7/site-packages/ipykernel_launcher.py:1: SettingWithCopyWarning: \n",
      "A value is trying to be set on a copy of a slice from a DataFrame.\n",
      "Try using .loc[row_indexer,col_indexer] = value instead\n",
      "\n",
      "See the caveats in the documentation: https://pandas.pydata.org/pandas-docs/stable/user_guide/indexing.html#returning-a-view-versus-a-copy\n",
      "  \"\"\"Entry point for launching an IPython kernel.\n"
     ]
    },
    {
     "data": {
      "text/html": [
       "<div>\n",
       "<style scoped>\n",
       "    .dataframe tbody tr th:only-of-type {\n",
       "        vertical-align: middle;\n",
       "    }\n",
       "\n",
       "    .dataframe tbody tr th {\n",
       "        vertical-align: top;\n",
       "    }\n",
       "\n",
       "    .dataframe thead th {\n",
       "        text-align: right;\n",
       "    }\n",
       "</style>\n",
       "<table border=\"1\" class=\"dataframe\">\n",
       "  <thead>\n",
       "    <tr style=\"text-align: right;\">\n",
       "      <th></th>\n",
       "      <th>Threshold_1</th>\n",
       "      <th>Threshold_2</th>\n",
       "      <th>Threshold_3</th>\n",
       "      <th>Threshold_4</th>\n",
       "      <th>Threshold_5</th>\n",
       "      <th>Threshold_6</th>\n",
       "      <th>Threshold_7</th>\n",
       "      <th>Threshold_8</th>\n",
       "      <th>Threshold_9</th>\n",
       "      <th>Threshold_10</th>\n",
       "      <th>...</th>\n",
       "      <th>Threshold_46</th>\n",
       "      <th>Threshold_47</th>\n",
       "      <th>Threshold_48</th>\n",
       "      <th>Threshold_49</th>\n",
       "      <th>Threshold_50</th>\n",
       "      <th>Threshold_51</th>\n",
       "      <th>Threshold_52</th>\n",
       "      <th>Threshold_53</th>\n",
       "      <th>Threshold_54</th>\n",
       "      <th>2D</th>\n",
       "    </tr>\n",
       "  </thead>\n",
       "  <tbody>\n",
       "    <tr>\n",
       "      <th>0</th>\n",
       "      <td>31.75</td>\n",
       "      <td>24.62</td>\n",
       "      <td>28.1</td>\n",
       "      <td>23.47</td>\n",
       "      <td>29.93</td>\n",
       "      <td>28.80</td>\n",
       "      <td>25.24</td>\n",
       "      <td>25.28</td>\n",
       "      <td>26.81</td>\n",
       "      <td>26.50</td>\n",
       "      <td>...</td>\n",
       "      <td>27.59</td>\n",
       "      <td>27.95</td>\n",
       "      <td>30.08</td>\n",
       "      <td>31.63</td>\n",
       "      <td>30.16</td>\n",
       "      <td>26.81</td>\n",
       "      <td>28.74</td>\n",
       "      <td>29.07</td>\n",
       "      <td>27.02</td>\n",
       "      <td>None</td>\n",
       "    </tr>\n",
       "    <tr>\n",
       "      <th>1</th>\n",
       "      <td>26.20</td>\n",
       "      <td>25.90</td>\n",
       "      <td>21.4</td>\n",
       "      <td>26.85</td>\n",
       "      <td>31.83</td>\n",
       "      <td>30.27</td>\n",
       "      <td>28.57</td>\n",
       "      <td>24.48</td>\n",
       "      <td>28.15</td>\n",
       "      <td>23.93</td>\n",
       "      <td>...</td>\n",
       "      <td>29.07</td>\n",
       "      <td>30.72</td>\n",
       "      <td>26.92</td>\n",
       "      <td>29.62</td>\n",
       "      <td>26.94</td>\n",
       "      <td>24.83</td>\n",
       "      <td>24.02</td>\n",
       "      <td>25.14</td>\n",
       "      <td>28.10</td>\n",
       "      <td>None</td>\n",
       "    </tr>\n",
       "    <tr>\n",
       "      <th>2</th>\n",
       "      <td>6.13</td>\n",
       "      <td>-2.00</td>\n",
       "      <td>-2.0</td>\n",
       "      <td>-2.00</td>\n",
       "      <td>11.46</td>\n",
       "      <td>5.14</td>\n",
       "      <td>13.49</td>\n",
       "      <td>1.40</td>\n",
       "      <td>5.13</td>\n",
       "      <td>-2.00</td>\n",
       "      <td>...</td>\n",
       "      <td>27.26</td>\n",
       "      <td>15.92</td>\n",
       "      <td>27.68</td>\n",
       "      <td>28.44</td>\n",
       "      <td>28.16</td>\n",
       "      <td>-2.00</td>\n",
       "      <td>2.12</td>\n",
       "      <td>10.25</td>\n",
       "      <td>23.52</td>\n",
       "      <td>None</td>\n",
       "    </tr>\n",
       "    <tr>\n",
       "      <th>3</th>\n",
       "      <td>-2.00</td>\n",
       "      <td>-2.00</td>\n",
       "      <td>-2.0</td>\n",
       "      <td>-2.00</td>\n",
       "      <td>13.51</td>\n",
       "      <td>9.67</td>\n",
       "      <td>14.95</td>\n",
       "      <td>2.49</td>\n",
       "      <td>14.47</td>\n",
       "      <td>-0.00</td>\n",
       "      <td>...</td>\n",
       "      <td>26.64</td>\n",
       "      <td>27.89</td>\n",
       "      <td>18.12</td>\n",
       "      <td>6.31</td>\n",
       "      <td>16.64</td>\n",
       "      <td>11.96</td>\n",
       "      <td>-2.00</td>\n",
       "      <td>-2.00</td>\n",
       "      <td>-0.00</td>\n",
       "      <td>None</td>\n",
       "    </tr>\n",
       "    <tr>\n",
       "      <th>4</th>\n",
       "      <td>49.63</td>\n",
       "      <td>46.56</td>\n",
       "      <td>39.8</td>\n",
       "      <td>41.30</td>\n",
       "      <td>49.63</td>\n",
       "      <td>49.35</td>\n",
       "      <td>49.56</td>\n",
       "      <td>49.42</td>\n",
       "      <td>47.30</td>\n",
       "      <td>41.39</td>\n",
       "      <td>...</td>\n",
       "      <td>46.43</td>\n",
       "      <td>41.81</td>\n",
       "      <td>49.49</td>\n",
       "      <td>49.43</td>\n",
       "      <td>49.80</td>\n",
       "      <td>40.91</td>\n",
       "      <td>31.30</td>\n",
       "      <td>46.59</td>\n",
       "      <td>49.74</td>\n",
       "      <td>None</td>\n",
       "    </tr>\n",
       "  </tbody>\n",
       "</table>\n",
       "<p>5 rows × 55 columns</p>\n",
       "</div>"
      ],
      "text/plain": [
       "   Threshold_1  Threshold_2  Threshold_3  Threshold_4  Threshold_5  \\\n",
       "0        31.75        24.62         28.1        23.47        29.93   \n",
       "1        26.20        25.90         21.4        26.85        31.83   \n",
       "2         6.13        -2.00         -2.0        -2.00        11.46   \n",
       "3        -2.00        -2.00         -2.0        -2.00        13.51   \n",
       "4        49.63        46.56         39.8        41.30        49.63   \n",
       "\n",
       "   Threshold_6  Threshold_7  Threshold_8  Threshold_9  Threshold_10  ...  \\\n",
       "0        28.80        25.24        25.28        26.81         26.50  ...   \n",
       "1        30.27        28.57        24.48        28.15         23.93  ...   \n",
       "2         5.14        13.49         1.40         5.13         -2.00  ...   \n",
       "3         9.67        14.95         2.49        14.47         -0.00  ...   \n",
       "4        49.35        49.56        49.42        47.30         41.39  ...   \n",
       "\n",
       "   Threshold_46  Threshold_47  Threshold_48  Threshold_49  Threshold_50  \\\n",
       "0         27.59         27.95         30.08         31.63         30.16   \n",
       "1         29.07         30.72         26.92         29.62         26.94   \n",
       "2         27.26         15.92         27.68         28.44         28.16   \n",
       "3         26.64         27.89         18.12          6.31         16.64   \n",
       "4         46.43         41.81         49.49         49.43         49.80   \n",
       "\n",
       "   Threshold_51  Threshold_52  Threshold_53  Threshold_54    2D  \n",
       "0         26.81         28.74         29.07         27.02  None  \n",
       "1         24.83         24.02         25.14         28.10  None  \n",
       "2         -2.00          2.12         10.25         23.52  None  \n",
       "3         11.96         -2.00         -2.00         -0.00  None  \n",
       "4         40.91         31.30         46.59         49.74  None  \n",
       "\n",
       "[5 rows x 55 columns]"
      ]
     },
     "execution_count": 5,
     "metadata": {},
     "output_type": "execute_result"
    }
   ],
   "source": [
    "thr_UAB['2D'] = None\n",
    "print(\"The shape of thr_UAB is\", thr_UAB.shape)\n",
    "thr_UAB.head()"
   ]
  },
  {
   "cell_type": "code",
   "execution_count": 6,
   "id": "0194d620",
   "metadata": {},
   "outputs": [
    {
     "name": "stderr",
     "output_type": "stream",
     "text": [
      "/Users/yuhuicao/opt/anaconda3/lib/python3.7/site-packages/ipykernel_launcher.py:4: SettingWithCopyWarning: \n",
      "A value is trying to be set on a copy of a slice from a DataFrame\n",
      "\n",
      "See the caveats in the documentation: https://pandas.pydata.org/pandas-docs/stable/user_guide/indexing.html#returning-a-view-versus-a-copy\n",
      "  after removing the cwd from sys.path.\n"
     ]
    }
   ],
   "source": [
    "import numpy as np\n",
    "\n",
    "for i in range(thr_UAB.shape[0]):\n",
    "    thr_UAB['2D'][i] = np.zeros((10, 10))\n",
    "    \n",
    "    # row 2\n",
    "    thr_UAB['2D'][i][1, 3] = thr_UAB.iloc[i, 0]\n",
    "    thr_UAB['2D'][i][1, 4] = thr_UAB.iloc[i, 1]\n",
    "    thr_UAB['2D'][i][1, 5] = thr_UAB.iloc[i, 2]\n",
    "    thr_UAB['2D'][i][1, 6] = thr_UAB.iloc[i, 3]\n",
    "    \n",
    "    # row 3\n",
    "    thr_UAB['2D'][i][2, 2] = thr_UAB.iloc[i, 4]\n",
    "    thr_UAB['2D'][i][2, 3] = thr_UAB.iloc[i, 5]\n",
    "    thr_UAB['2D'][i][2, 4] = thr_UAB.iloc[i, 6]\n",
    "    thr_UAB['2D'][i][2, 5] = thr_UAB.iloc[i, 7]\n",
    "    thr_UAB['2D'][i][2, 6] = thr_UAB.iloc[i, 8]\n",
    "    thr_UAB['2D'][i][2, 7] = thr_UAB.iloc[i, 9]\n",
    "    \n",
    "    # row 4\n",
    "    thr_UAB['2D'][i][3, 1] = thr_UAB.iloc[i, 10]\n",
    "    thr_UAB['2D'][i][3, 2] = thr_UAB.iloc[i, 11]\n",
    "    thr_UAB['2D'][i][3, 3] = thr_UAB.iloc[i, 12]\n",
    "    thr_UAB['2D'][i][3, 4] = thr_UAB.iloc[i, 13]\n",
    "    thr_UAB['2D'][i][3, 5] = thr_UAB.iloc[i, 14]\n",
    "    thr_UAB['2D'][i][3, 6] = thr_UAB.iloc[i, 15]\n",
    "    thr_UAB['2D'][i][3, 7] = thr_UAB.iloc[i, 16]\n",
    "    thr_UAB['2D'][i][3, 8] = thr_UAB.iloc[i, 17]\n",
    "    \n",
    "    # row 5\n",
    "    thr_UAB['2D'][i][4, 0] = thr_UAB.iloc[i, 18]\n",
    "    thr_UAB['2D'][i][4, 1] = thr_UAB.iloc[i, 19]\n",
    "    thr_UAB['2D'][i][4, 2] = thr_UAB.iloc[i, 20]\n",
    "    thr_UAB['2D'][i][4, 3] = thr_UAB.iloc[i, 21]\n",
    "    thr_UAB['2D'][i][4, 4] = thr_UAB.iloc[i, 22]\n",
    "    thr_UAB['2D'][i][4, 5] = thr_UAB.iloc[i, 23]\n",
    "    thr_UAB['2D'][i][4, 6] = thr_UAB.iloc[i, 24]\n",
    "    thr_UAB['2D'][i][4, 7] = thr_UAB.iloc[i, 25]\n",
    "    thr_UAB['2D'][i][4, 8] = thr_UAB.iloc[i, 26]\n",
    "    \n",
    "    # row 6\n",
    "    thr_UAB['2D'][i][5, 0] = thr_UAB.iloc[i, 27]\n",
    "    thr_UAB['2D'][i][5, 1] = thr_UAB.iloc[i, 28]\n",
    "    thr_UAB['2D'][i][5, 2] = thr_UAB.iloc[i, 29]\n",
    "    thr_UAB['2D'][i][5, 3] = thr_UAB.iloc[i, 30]\n",
    "    thr_UAB['2D'][i][5, 4] = thr_UAB.iloc[i, 31] \n",
    "    thr_UAB['2D'][i][5, 5] = thr_UAB.iloc[i, 32]\n",
    "    thr_UAB['2D'][i][5, 6] = thr_UAB.iloc[i, 33]\n",
    "    thr_UAB['2D'][i][5, 7] = thr_UAB.iloc[i, 34]\n",
    "    thr_UAB['2D'][i][5, 8] = thr_UAB.iloc[i, 35]\n",
    "    \n",
    "    # row 7\n",
    "    thr_UAB['2D'][i][6, 1] = thr_UAB.iloc[i, 36]\n",
    "    thr_UAB['2D'][i][6, 2] = thr_UAB.iloc[i, 37]\n",
    "    thr_UAB['2D'][i][6, 3] = thr_UAB.iloc[i, 38]\n",
    "    thr_UAB['2D'][i][6, 4] = thr_UAB.iloc[i, 39]\n",
    "    thr_UAB['2D'][i][6, 5] = thr_UAB.iloc[i, 40]\n",
    "    thr_UAB['2D'][i][6, 6] = thr_UAB.iloc[i, 41]\n",
    "    thr_UAB['2D'][i][6, 7] = thr_UAB.iloc[i, 42]\n",
    "    thr_UAB['2D'][i][6, 8] = thr_UAB.iloc[i, 43]\n",
    "    \n",
    "    # row 8\n",
    "    thr_UAB['2D'][i][7, 2] = thr_UAB.iloc[i, 44]\n",
    "    thr_UAB['2D'][i][7, 3] = thr_UAB.iloc[i, 45]\n",
    "    thr_UAB['2D'][i][7, 4] = thr_UAB.iloc[i, 46]\n",
    "    thr_UAB['2D'][i][7, 5] = thr_UAB.iloc[i, 47]\n",
    "    thr_UAB['2D'][i][7, 6] = thr_UAB.iloc[i, 48]\n",
    "    thr_UAB['2D'][i][7, 7] = thr_UAB.iloc[i, 49]\n",
    "    \n",
    "    # row 9\n",
    "    thr_UAB['2D'][i][8, 3] = thr_UAB.iloc[i, 50]\n",
    "    thr_UAB['2D'][i][8, 4] = thr_UAB.iloc[i, 51]\n",
    "    thr_UAB['2D'][i][8, 5] = thr_UAB.iloc[i, 52]\n",
    "    thr_UAB['2D'][i][8, 6] = thr_UAB.iloc[i, 53]"
   ]
  },
  {
   "cell_type": "code",
   "execution_count": 7,
   "id": "9a6c10de",
   "metadata": {},
   "outputs": [
    {
     "data": {
      "text/plain": [
       "0      [[0.0, 0.0, 0.0, 0.0, 0.0, 0.0, 0.0, 0.0, 0.0,...\n",
       "1      [[0.0, 0.0, 0.0, 0.0, 0.0, 0.0, 0.0, 0.0, 0.0,...\n",
       "2      [[0.0, 0.0, 0.0, 0.0, 0.0, 0.0, 0.0, 0.0, 0.0,...\n",
       "3      [[0.0, 0.0, 0.0, 0.0, 0.0, 0.0, 0.0, 0.0, 0.0,...\n",
       "4      [[0.0, 0.0, 0.0, 0.0, 0.0, 0.0, 0.0, 0.0, 0.0,...\n",
       "                             ...                        \n",
       "296    [[0.0, 0.0, 0.0, 0.0, 0.0, 0.0, 0.0, 0.0, 0.0,...\n",
       "297    [[0.0, 0.0, 0.0, 0.0, 0.0, 0.0, 0.0, 0.0, 0.0,...\n",
       "298    [[0.0, 0.0, 0.0, 0.0, 0.0, 0.0, 0.0, 0.0, 0.0,...\n",
       "299    [[0.0, 0.0, 0.0, 0.0, 0.0, 0.0, 0.0, 0.0, 0.0,...\n",
       "300    [[0.0, 0.0, 0.0, 0.0, 0.0, 0.0, 0.0, 0.0, 0.0,...\n",
       "Name: 2D, Length: 301, dtype: object"
      ]
     },
     "execution_count": 7,
     "metadata": {},
     "output_type": "execute_result"
    }
   ],
   "source": [
    "thr_UAB['2D']"
   ]
  },
  {
   "cell_type": "code",
   "execution_count": 8,
   "id": "bbca5fbf",
   "metadata": {},
   "outputs": [
    {
     "data": {
      "text/plain": [
       "array([[ 0.  ,  0.  ,  0.  ,  0.  ,  0.  ,  0.  ,  0.  ,  0.  ,  0.  ,\n",
       "         0.  ],\n",
       "       [ 0.  ,  0.  ,  0.  , 31.75, 24.62, 28.1 , 23.47,  0.  ,  0.  ,\n",
       "         0.  ],\n",
       "       [ 0.  ,  0.  , 29.93, 28.8 , 25.24, 25.28, 26.81, 26.5 ,  0.  ,\n",
       "         0.  ],\n",
       "       [ 0.  , 28.97, 31.57, 28.73, 29.52, 28.9 , 27.29, 29.66, 28.12,\n",
       "         0.  ],\n",
       "       [26.17, 27.92, 33.32, 29.77, 30.19, 31.76, 31.62, 25.  , 27.34,\n",
       "         0.  ],\n",
       "       [27.95, 30.31, 30.36, 30.96, 31.35, 31.6 , 31.2 , -2.  , 27.43,\n",
       "         0.  ],\n",
       "       [ 0.  , 25.8 , 29.83, 29.81, 31.64, 31.22, 31.6 , 30.2 , 30.8 ,\n",
       "         0.  ],\n",
       "       [ 0.  ,  0.  , 28.08, 27.59, 27.95, 30.08, 31.63, 30.16,  0.  ,\n",
       "         0.  ],\n",
       "       [ 0.  ,  0.  ,  0.  , 26.81, 28.74, 29.07, 27.02,  0.  ,  0.  ,\n",
       "         0.  ],\n",
       "       [ 0.  ,  0.  ,  0.  ,  0.  ,  0.  ,  0.  ,  0.  ,  0.  ,  0.  ,\n",
       "         0.  ]])"
      ]
     },
     "execution_count": 8,
     "metadata": {},
     "output_type": "execute_result"
    }
   ],
   "source": [
    "X_UAB = thr_UAB['2D']\n",
    "X_UAB[0]"
   ]
  },
  {
   "cell_type": "code",
   "execution_count": 9,
   "id": "707d779a",
   "metadata": {},
   "outputs": [
    {
     "data": {
      "text/plain": [
       "(301,)"
      ]
     },
     "execution_count": 9,
     "metadata": {},
     "output_type": "execute_result"
    }
   ],
   "source": [
    "X_UAB.shape"
   ]
  },
  {
   "cell_type": "markdown",
   "id": "68e302fc",
   "metadata": {},
   "source": [
    "### Important step"
   ]
  },
  {
   "cell_type": "code",
   "execution_count": 10,
   "id": "8ed3f9b6",
   "metadata": {},
   "outputs": [
    {
     "name": "stdout",
     "output_type": "stream",
     "text": [
      "The length of list is 301\n"
     ]
    },
    {
     "data": {
      "text/plain": [
       "(10, 10)"
      ]
     },
     "execution_count": 10,
     "metadata": {},
     "output_type": "execute_result"
    }
   ],
   "source": [
    "list_UAB = []\n",
    "for i in range(thr_UAB.shape[0]):\n",
    "    list_UAB.append(thr_UAB['2D'][i])\n",
    "\n",
    "print(\"The length of list is\", len(list_UAB))\n",
    "list_UAB[1].shape"
   ]
  },
  {
   "cell_type": "code",
   "execution_count": 11,
   "id": "176f96e3",
   "metadata": {},
   "outputs": [
    {
     "data": {
      "text/plain": [
       "(301, 10, 10)"
      ]
     },
     "execution_count": 11,
     "metadata": {},
     "output_type": "execute_result"
    }
   ],
   "source": [
    "X_UAB = np.array(list_UAB)\n",
    "X_UAB.shape"
   ]
  },
  {
   "cell_type": "code",
   "execution_count": 12,
   "id": "4e539016",
   "metadata": {},
   "outputs": [
    {
     "data": {
      "text/plain": [
       "array([[ 0.  ,  0.  ,  0.  ,  0.  ,  0.  ,  0.  ,  0.  ,  0.  ,  0.  ,\n",
       "         0.  ],\n",
       "       [ 0.  ,  0.  ,  0.  , 31.75, 24.62, 28.1 , 23.47,  0.  ,  0.  ,\n",
       "         0.  ],\n",
       "       [ 0.  ,  0.  , 29.93, 28.8 , 25.24, 25.28, 26.81, 26.5 ,  0.  ,\n",
       "         0.  ],\n",
       "       [ 0.  , 28.97, 31.57, 28.73, 29.52, 28.9 , 27.29, 29.66, 28.12,\n",
       "         0.  ],\n",
       "       [26.17, 27.92, 33.32, 29.77, 30.19, 31.76, 31.62, 25.  , 27.34,\n",
       "         0.  ],\n",
       "       [27.95, 30.31, 30.36, 30.96, 31.35, 31.6 , 31.2 , -2.  , 27.43,\n",
       "         0.  ],\n",
       "       [ 0.  , 25.8 , 29.83, 29.81, 31.64, 31.22, 31.6 , 30.2 , 30.8 ,\n",
       "         0.  ],\n",
       "       [ 0.  ,  0.  , 28.08, 27.59, 27.95, 30.08, 31.63, 30.16,  0.  ,\n",
       "         0.  ],\n",
       "       [ 0.  ,  0.  ,  0.  , 26.81, 28.74, 29.07, 27.02,  0.  ,  0.  ,\n",
       "         0.  ],\n",
       "       [ 0.  ,  0.  ,  0.  ,  0.  ,  0.  ,  0.  ,  0.  ,  0.  ,  0.  ,\n",
       "         0.  ]])"
      ]
     },
     "execution_count": 12,
     "metadata": {},
     "output_type": "execute_result"
    }
   ],
   "source": [
    "X_UAB[0]"
   ]
  },
  {
   "cell_type": "code",
   "execution_count": 13,
   "id": "de9893ac",
   "metadata": {},
   "outputs": [
    {
     "data": {
      "text/plain": [
       "(301, 10, 10, 1)"
      ]
     },
     "execution_count": 13,
     "metadata": {},
     "output_type": "execute_result"
    }
   ],
   "source": [
    "X_UAB = X_UAB.reshape(301, 10, 10, 1).astype('float32')\n",
    "X_UAB.shape"
   ]
  },
  {
   "cell_type": "markdown",
   "id": "aedf150f",
   "metadata": {},
   "source": [
    "### Visualization"
   ]
  },
  {
   "cell_type": "code",
   "execution_count": 14,
   "id": "9216d601",
   "metadata": {},
   "outputs": [
    {
     "data": {
      "text/plain": [
       "Text(0.5, 1.0, '2nd')"
      ]
     },
     "execution_count": 14,
     "metadata": {},
     "output_type": "execute_result"
    },
    {
     "data": {
      "image/png": "[encoded data removed]",
      "text/plain": [
       "<Figure size 432x288 with 2 Axes>"
      ]
     },
     "metadata": {
      "needs_background": "light"
     },
     "output_type": "display_data"
    }
   ],
   "source": [
    "import matplotlib.pyplot as plt\n",
    "# matplotlib.pyplot (plt)\n",
    "#### subplots (plt.subplots)\n",
    "\n",
    "figure, (ax1, ax2)= plt.subplots(1, 2)\n",
    "figure.suptitle(\"Visualization of fist 2 examples (UAB)\")\n",
    "\n",
    "ax1.imshow(X_UAB[0])\n",
    "ax1.set_title(\"1st\")\n",
    "\n",
    "ax2.imshow(X_UAB[1])\n",
    "ax2.set_title(\"2nd\")"
   ]
  },
  {
   "cell_type": "markdown",
   "id": "11a099a9",
   "metadata": {},
   "source": [
    "# Construct Y"
   ]
  },
  {
   "cell_type": "code",
   "execution_count": 15,
   "id": "6d1a3dfe",
   "metadata": {},
   "outputs": [
    {
     "data": {
      "text/plain": [
       "46.0"
      ]
     },
     "execution_count": 15,
     "metadata": {},
     "output_type": "execute_result"
    }
   ],
   "source": [
    "Y_UAB = df[\"normal\"].to_numpy()\n",
    "Y_UAB.sum()"
   ]
  },
  {
   "cell_type": "code",
   "execution_count": 16,
   "id": "414c6b53",
   "metadata": {},
   "outputs": [],
   "source": [
    "from keras.utils import to_categorical\n",
    "Y_UAB = to_categorical(Y_UAB)\n",
    "\n",
    "num_classes = Y_UAB.shape[1] # number of categories"
   ]
  },
  {
   "cell_type": "code",
   "execution_count": 17,
   "id": "4ccb35bc",
   "metadata": {},
   "outputs": [
    {
     "data": {
      "text/plain": [
       "2"
      ]
     },
     "execution_count": 17,
     "metadata": {},
     "output_type": "execute_result"
    }
   ],
   "source": [
    "num_classes"
   ]
  },
  {
   "cell_type": "code",
   "execution_count": 18,
   "id": "9d0e89c1",
   "metadata": {},
   "outputs": [
    {
     "data": {
      "text/plain": [
       "(301, 2)"
      ]
     },
     "execution_count": 18,
     "metadata": {},
     "output_type": "execute_result"
    }
   ],
   "source": [
    "Y_UAB.shape"
   ]
  },
  {
   "cell_type": "code",
   "execution_count": null,
   "id": "11583cc2",
   "metadata": {},
   "outputs": [],
   "source": []
  }
 ],
 "metadata": {
  "kernelspec": {
   "display_name": "Python 3 (ipykernel)",
   "language": "python",
   "name": "python3"
  },
  "language_info": {
   "codemirror_mode": {
    "name": "ipython",
    "version": 3
   },
   "file_extension": ".py",
   "mimetype": "text/x-python",
   "name": "python",
   "nbconvert_exporter": "python",
   "pygments_lexer": "ipython3",
   "version": "3.7.4"
  }
 },
 "nbformat": 4,
 "nbformat_minor": 5
}
