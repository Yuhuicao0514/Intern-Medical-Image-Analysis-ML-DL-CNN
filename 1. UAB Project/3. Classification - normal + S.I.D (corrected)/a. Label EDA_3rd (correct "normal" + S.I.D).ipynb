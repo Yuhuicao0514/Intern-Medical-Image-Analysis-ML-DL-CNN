{
 "cells": [
  {
   "cell_type": "markdown",
   "metadata": {},
   "source": [
    "# Label EDA _ 3rd (correct with \"normal\")\n",
    "\n",
    "### 1. Correction\n",
    "- correct \"normal\" with \"nf\"\n",
    "- correct **Arcuate Defect (ad)**: Superior ad, Inferior ad and Double ad\n",
    "\n",
    "### 2. Input Files\n",
    "- 11. Grader1_labels_VF.csv\n",
    "- 12. Grader2_labels_VF.csv\n",
    "- 13. OR_labels_VF.csv\n",
    "- 14. AND_labels_VF.csv\n",
    "\n",
    "### 3. Output Files\n",
    "- 15.\n",
    "- 16.\n",
    "- 17.\n",
    "- 18."
   ]
  },
  {
   "cell_type": "code",
   "execution_count": 1,
   "metadata": {},
   "outputs": [],
   "source": [
    "import pandas as pd"
   ]
  },
  {
   "cell_type": "code",
   "execution_count": 2,
   "metadata": {},
   "outputs": [],
   "source": [
    "label_g1 = pd.read_csv(\"11. Grader1_labels_VF.csv\")\n",
    "label_g2 = pd.read_csv(\"12. Grader2_labels_VF.csv\")\n",
    "label_OR = pd.read_csv(\"13. OR_labels_VF.csv\")\n",
    "label_AND = pd.read_csv(\"14. AND_labels_VF.csv\")"
   ]
  },
  {
   "cell_type": "code",
   "execution_count": 3,
   "metadata": {},
   "outputs": [
    {
     "name": "stdout",
     "output_type": "stream",
     "text": [
      "The shape of label_g1 is (301, 302)\n",
      "The shape of label_g2 is (301, 302)\n",
      "The shape of label_OR is (301, 302)\n",
      "The shape of label_AND is (301, 302)\n"
     ]
    }
   ],
   "source": [
    "print(\"The shape of label_g1 is\", label_g1.shape)\n",
    "print(\"The shape of label_g2 is\", label_g2.shape)\n",
    "print(\"The shape of label_OR is\", label_OR.shape)\n",
    "print(\"The shape of label_AND is\", label_AND.shape)"
   ]
  },
  {
   "cell_type": "markdown",
   "metadata": {},
   "source": [
    "### Clean NaN: Drop 8 columns\n",
    "- drop columns (8)\n",
    "label_g1 = label_g1.dropna(axis = 1)\n",
    "label_g1.shape"
   ]
  },
  {
   "cell_type": "markdown",
   "metadata": {},
   "source": [
    "# ===============================\n",
    "# Step 1: Correct \"normal\" with \"nf\" (and the other 4 artifacts)\n",
    "- \"normal = 1\" conflicts with \"nf = 1\", \"apcre = 1\", \"efp = 1\", \"efth = 1\" and \"tld = 1\"\n",
    "- change data with \"normal=1\" that also have \"nf=1\" to \"normal = 0\"\n",
    "1. nf\n",
    "2. apcre\n",
    "3. efp\n",
    "4. efth\n",
    "5. tld"
   ]
  },
  {
   "cell_type": "code",
   "execution_count": 4,
   "metadata": {},
   "outputs": [
    {
     "data": {
      "text/plain": [
       "170.0"
      ]
     },
     "execution_count": 4,
     "metadata": {},
     "output_type": "execute_result"
    }
   ],
   "source": [
    "label_g1.normal.sum()"
   ]
  },
  {
   "cell_type": "code",
   "execution_count": 5,
   "metadata": {},
   "outputs": [
    {
     "data": {
      "text/plain": [
       "(170, 302)"
      ]
     },
     "execution_count": 5,
     "metadata": {},
     "output_type": "execute_result"
    }
   ],
   "source": [
    "label_g1[label_g1.normal==1].shape"
   ]
  },
  {
   "cell_type": "code",
   "execution_count": 6,
   "metadata": {
    "scrolled": false
   },
   "outputs": [
    {
     "name": "stdout",
     "output_type": "stream",
     "text": [
      "Positive of normal before correction is 170.0\n",
      "Positive of normal ater correction is 59.0\n"
     ]
    },
    {
     "name": "stderr",
     "output_type": "stream",
     "text": [
      "/Users/yuhuicao/opt/anaconda3/lib/python3.7/site-packages/ipykernel_launcher.py:8: SettingWithCopyWarning: \n",
      "A value is trying to be set on a copy of a slice from a DataFrame\n",
      "\n",
      "See the caveats in the documentation: https://pandas.pydata.org/pandas-docs/stable/user_guide/indexing.html#returning-a-view-versus-a-copy\n",
      "  \n"
     ]
    }
   ],
   "source": [
    "#### 1. nf\n",
    "print(\"Positive of normal before correction is\", label_g1[\"normal\"].sum())\n",
    "# write a FOR LOOP to correct \"normal\" label:\n",
    "# for \"normal = 1\", if \"nf = 1\", then change to \"normal = 0\"\n",
    "\n",
    "for i in range(label_g1.shape[0]):\n",
    "    if label_g1[\"nf\"][i] == 1.0 and label_g1[\"normal\"][i] == 1.0:\n",
    "        label_g1[\"normal\"][i] = 0.0\n",
    "\n",
    "print(\"Positive of normal ater correction is\", label_g1[\"normal\"].sum())"
   ]
  },
  {
   "cell_type": "code",
   "execution_count": 7,
   "metadata": {},
   "outputs": [
    {
     "name": "stdout",
     "output_type": "stream",
     "text": [
      "Positive of normal before correction is 59.0\n",
      "Positive of normal ater correction is 54.0\n"
     ]
    },
    {
     "name": "stderr",
     "output_type": "stream",
     "text": [
      "/Users/yuhuicao/opt/anaconda3/lib/python3.7/site-packages/ipykernel_launcher.py:8: SettingWithCopyWarning: \n",
      "A value is trying to be set on a copy of a slice from a DataFrame\n",
      "\n",
      "See the caveats in the documentation: https://pandas.pydata.org/pandas-docs/stable/user_guide/indexing.html#returning-a-view-versus-a-copy\n",
      "  \n"
     ]
    }
   ],
   "source": [
    "#### 2. apcre\n",
    "print(\"Positive of normal before correction is\", label_g1[\"normal\"].sum())\n",
    "# write a FOR LOOP to correct \"normal\" label:\n",
    "# for \"normal = 1\", if \"nf = 1\", then change to \"normal = 0\"\n",
    "\n",
    "for i in range(label_g1.shape[0]):\n",
    "    if label_g1[\"apcre\"][i] == 1 and label_g1[\"normal\"][i] == 1:\n",
    "        label_g1[\"normal\"][i] = 0\n",
    "\n",
    "print(\"Positive of normal ater correction is\", label_g1[\"normal\"].sum())"
   ]
  },
  {
   "cell_type": "code",
   "execution_count": 8,
   "metadata": {},
   "outputs": [
    {
     "name": "stdout",
     "output_type": "stream",
     "text": [
      "Positive of normal before correction is 54.0\n",
      "Positive of normal ater correction is 50.0\n"
     ]
    },
    {
     "name": "stderr",
     "output_type": "stream",
     "text": [
      "/Users/yuhuicao/opt/anaconda3/lib/python3.7/site-packages/ipykernel_launcher.py:8: SettingWithCopyWarning: \n",
      "A value is trying to be set on a copy of a slice from a DataFrame\n",
      "\n",
      "See the caveats in the documentation: https://pandas.pydata.org/pandas-docs/stable/user_guide/indexing.html#returning-a-view-versus-a-copy\n",
      "  \n"
     ]
    }
   ],
   "source": [
    "#### 3. efp\n",
    "print(\"Positive of normal before correction is\", label_g1[\"normal\"].sum())\n",
    "# write a FOR LOOP to correct \"normal\" label:\n",
    "# for \"normal = 1\", if \"nf = 1\", then change to \"normal = 0\"\n",
    "\n",
    "for i in range(label_g1.shape[0]):\n",
    "    if label_g1[\"efp\"][i] == 1 and label_g1[\"normal\"][i] == 1:\n",
    "        label_g1[\"normal\"][i] = 0\n",
    "\n",
    "print(\"Positive of normal ater correction is\", label_g1[\"normal\"].sum())"
   ]
  },
  {
   "cell_type": "code",
   "execution_count": 9,
   "metadata": {},
   "outputs": [
    {
     "name": "stdout",
     "output_type": "stream",
     "text": [
      "Positive of normal before correction is 50.0\n",
      "Positive of normal ater correction is 48.0\n"
     ]
    },
    {
     "name": "stderr",
     "output_type": "stream",
     "text": [
      "/Users/yuhuicao/opt/anaconda3/lib/python3.7/site-packages/ipykernel_launcher.py:8: SettingWithCopyWarning: \n",
      "A value is trying to be set on a copy of a slice from a DataFrame\n",
      "\n",
      "See the caveats in the documentation: https://pandas.pydata.org/pandas-docs/stable/user_guide/indexing.html#returning-a-view-versus-a-copy\n",
      "  \n"
     ]
    }
   ],
   "source": [
    "#### 4. efth\n",
    "print(\"Positive of normal before correction is\", label_g1[\"normal\"].sum())\n",
    "# write a FOR LOOP to correct \"normal\" label:\n",
    "# for \"normal = 1\", if \"nf = 1\", then change to \"normal = 0\"\n",
    "\n",
    "for i in range(label_g1.shape[0]):\n",
    "    if label_g1[\"efth\"][i] == 1 and label_g1[\"normal\"][i] == 1:\n",
    "        label_g1[\"normal\"][i] = 0\n",
    "\n",
    "print(\"Positive of normal ater correction is\", label_g1[\"normal\"].sum())"
   ]
  },
  {
   "cell_type": "code",
   "execution_count": 10,
   "metadata": {},
   "outputs": [
    {
     "name": "stdout",
     "output_type": "stream",
     "text": [
      "Positive of normal before correction is 48.0\n",
      "Positive of normal ater correction is 46.0\n"
     ]
    },
    {
     "name": "stderr",
     "output_type": "stream",
     "text": [
      "/Users/yuhuicao/opt/anaconda3/lib/python3.7/site-packages/ipykernel_launcher.py:8: SettingWithCopyWarning: \n",
      "A value is trying to be set on a copy of a slice from a DataFrame\n",
      "\n",
      "See the caveats in the documentation: https://pandas.pydata.org/pandas-docs/stable/user_guide/indexing.html#returning-a-view-versus-a-copy\n",
      "  \n"
     ]
    }
   ],
   "source": [
    "#### 5. tld\n",
    "print(\"Positive of normal before correction is\", label_g1[\"normal\"].sum())\n",
    "# write a FOR LOOP to correct \"normal\" label:\n",
    "# for \"normal = 1\", if \"nf = 1\", then change to \"normal = 0\"\n",
    "\n",
    "for i in range(label_g1.shape[0]):\n",
    "    if label_g1[\"tld\"][i] == 1 and label_g1[\"normal\"][i] == 1:\n",
    "        label_g1[\"normal\"][i] = 0\n",
    "\n",
    "print(\"Positive of normal ater correction is\", label_g1[\"normal\"].sum())"
   ]
  },
  {
   "cell_type": "code",
   "execution_count": 11,
   "metadata": {},
   "outputs": [
    {
     "name": "stdout",
     "output_type": "stream",
     "text": [
      "The proportion of corrected normal is 46/301 = 0.15282392026578073\n"
     ]
    }
   ],
   "source": [
    "print(\"The proportion of corrected normal is 46/301 =\", \n",
    "      label_g1[\"normal\"].sum()/label_g1.shape[0])"
   ]
  },
  {
   "cell_type": "code",
   "execution_count": 12,
   "metadata": {},
   "outputs": [
    {
     "data": {
      "text/plain": [
       "0.15282392026578073"
      ]
     },
     "execution_count": 12,
     "metadata": {},
     "output_type": "execute_result"
    }
   ],
   "source": [
    "46/301"
   ]
  },
  {
   "cell_type": "code",
   "execution_count": 14,
   "metadata": {},
   "outputs": [
    {
     "data": {
      "text/plain": [
       "sad    float64\n",
       "iad    float64\n",
       "dad    float64\n",
       "dtype: object"
      ]
     },
     "execution_count": 14,
     "metadata": {},
     "output_type": "execute_result"
    }
   ],
   "source": [
    "label_g1[[\"sad\", \"iad\", \"dad\"]].dtypes"
   ]
  },
  {
   "cell_type": "markdown",
   "metadata": {},
   "source": [
    "# ===============================\n",
    "# Step 2: Correct Arcuate Defect (ad)\n",
    "- Superior ad\n",
    "- Inferior ad\n",
    "- Double ad"
   ]
  },
  {
   "cell_type": "code",
   "execution_count": 13,
   "metadata": {},
   "outputs": [
    {
     "data": {
      "text/html": [
       "<div>\n",
       "<style scoped>\n",
       "    .dataframe tbody tr th:only-of-type {\n",
       "        vertical-align: middle;\n",
       "    }\n",
       "\n",
       "    .dataframe tbody tr th {\n",
       "        vertical-align: top;\n",
       "    }\n",
       "\n",
       "    .dataframe thead th {\n",
       "        text-align: right;\n",
       "    }\n",
       "</style>\n",
       "<table border=\"1\" class=\"dataframe\">\n",
       "  <thead>\n",
       "    <tr style=\"text-align: right;\">\n",
       "      <th></th>\n",
       "      <th>record_id</th>\n",
       "      <th>ptid</th>\n",
       "      <th>vstdate</th>\n",
       "      <th>OD_flag</th>\n",
       "      <th>Eye</th>\n",
       "      <th>sad</th>\n",
       "      <th>iad</th>\n",
       "      <th>dad</th>\n",
       "      <th>sns</th>\n",
       "      <th>ins</th>\n",
       "      <th>...</th>\n",
       "      <th>PD_NUM_45</th>\n",
       "      <th>PD_NUM_46</th>\n",
       "      <th>PD_NUM_47</th>\n",
       "      <th>PD_NUM_48</th>\n",
       "      <th>PD_NUM_49</th>\n",
       "      <th>PD_NUM_50</th>\n",
       "      <th>PD_NUM_51</th>\n",
       "      <th>PD_NUM_52</th>\n",
       "      <th>PD_NUM_53</th>\n",
       "      <th>PD_NUM_54</th>\n",
       "    </tr>\n",
       "  </thead>\n",
       "  <tbody>\n",
       "    <tr>\n",
       "      <th>0</th>\n",
       "      <td>1</td>\n",
       "      <td>T0005</td>\n",
       "      <td>4/21/14</td>\n",
       "      <td>od</td>\n",
       "      <td>Right</td>\n",
       "      <td>0.0</td>\n",
       "      <td>0.0</td>\n",
       "      <td>0.0</td>\n",
       "      <td>0.0</td>\n",
       "      <td>0.0</td>\n",
       "      <td>...</td>\n",
       "      <td>0.0</td>\n",
       "      <td>1.0</td>\n",
       "      <td>1.0</td>\n",
       "      <td>0.0</td>\n",
       "      <td>0.0</td>\n",
       "      <td>0.0</td>\n",
       "      <td>0.0</td>\n",
       "      <td>0.0</td>\n",
       "      <td>0.0</td>\n",
       "      <td>0.0</td>\n",
       "    </tr>\n",
       "    <tr>\n",
       "      <th>1</th>\n",
       "      <td>1</td>\n",
       "      <td>T0005</td>\n",
       "      <td>4/21/14</td>\n",
       "      <td>os</td>\n",
       "      <td>Left</td>\n",
       "      <td>0.0</td>\n",
       "      <td>0.0</td>\n",
       "      <td>0.0</td>\n",
       "      <td>0.0</td>\n",
       "      <td>0.0</td>\n",
       "      <td>...</td>\n",
       "      <td>0.0</td>\n",
       "      <td>0.0</td>\n",
       "      <td>0.0</td>\n",
       "      <td>3.0</td>\n",
       "      <td>0.0</td>\n",
       "      <td>1.0</td>\n",
       "      <td>1.0</td>\n",
       "      <td>3.0</td>\n",
       "      <td>2.0</td>\n",
       "      <td>0.0</td>\n",
       "    </tr>\n",
       "    <tr>\n",
       "      <th>2</th>\n",
       "      <td>2</td>\n",
       "      <td>T0007</td>\n",
       "      <td>5/15/14</td>\n",
       "      <td>od</td>\n",
       "      <td>Right</td>\n",
       "      <td>1.0</td>\n",
       "      <td>0.0</td>\n",
       "      <td>0.0</td>\n",
       "      <td>0.0</td>\n",
       "      <td>1.0</td>\n",
       "      <td>...</td>\n",
       "      <td>4.0</td>\n",
       "      <td>0.0</td>\n",
       "      <td>4.0</td>\n",
       "      <td>0.0</td>\n",
       "      <td>0.0</td>\n",
       "      <td>0.0</td>\n",
       "      <td>4.0</td>\n",
       "      <td>4.0</td>\n",
       "      <td>4.0</td>\n",
       "      <td>1.0</td>\n",
       "    </tr>\n",
       "    <tr>\n",
       "      <th>3</th>\n",
       "      <td>2</td>\n",
       "      <td>T0007</td>\n",
       "      <td>5/15/14</td>\n",
       "      <td>os</td>\n",
       "      <td>Left</td>\n",
       "      <td>0.0</td>\n",
       "      <td>0.0</td>\n",
       "      <td>1.0</td>\n",
       "      <td>0.0</td>\n",
       "      <td>0.0</td>\n",
       "      <td>...</td>\n",
       "      <td>1.0</td>\n",
       "      <td>0.0</td>\n",
       "      <td>0.0</td>\n",
       "      <td>4.0</td>\n",
       "      <td>4.0</td>\n",
       "      <td>4.0</td>\n",
       "      <td>4.0</td>\n",
       "      <td>4.0</td>\n",
       "      <td>4.0</td>\n",
       "      <td>4.0</td>\n",
       "    </tr>\n",
       "    <tr>\n",
       "      <th>4</th>\n",
       "      <td>3</td>\n",
       "      <td>T0008</td>\n",
       "      <td>12/10/13</td>\n",
       "      <td>od</td>\n",
       "      <td>Right</td>\n",
       "      <td>0.0</td>\n",
       "      <td>0.0</td>\n",
       "      <td>0.0</td>\n",
       "      <td>0.0</td>\n",
       "      <td>0.0</td>\n",
       "      <td>...</td>\n",
       "      <td>0.0</td>\n",
       "      <td>2.0</td>\n",
       "      <td>4.0</td>\n",
       "      <td>0.0</td>\n",
       "      <td>0.0</td>\n",
       "      <td>0.0</td>\n",
       "      <td>3.0</td>\n",
       "      <td>4.0</td>\n",
       "      <td>0.0</td>\n",
       "      <td>0.0</td>\n",
       "    </tr>\n",
       "  </tbody>\n",
       "</table>\n",
       "<p>5 rows × 302 columns</p>\n",
       "</div>"
      ],
      "text/plain": [
       "   record_id   ptid   vstdate OD_flag    Eye  sad  iad  dad  sns  ins  ...  \\\n",
       "0          1  T0005   4/21/14      od  Right  0.0  0.0  0.0  0.0  0.0  ...   \n",
       "1          1  T0005   4/21/14      os   Left  0.0  0.0  0.0  0.0  0.0  ...   \n",
       "2          2  T0007   5/15/14      od  Right  1.0  0.0  0.0  0.0  1.0  ...   \n",
       "3          2  T0007   5/15/14      os   Left  0.0  0.0  1.0  0.0  0.0  ...   \n",
       "4          3  T0008  12/10/13      od  Right  0.0  0.0  0.0  0.0  0.0  ...   \n",
       "\n",
       "   PD_NUM_45  PD_NUM_46  PD_NUM_47  PD_NUM_48  PD_NUM_49  PD_NUM_50  \\\n",
       "0        0.0        1.0        1.0        0.0        0.0        0.0   \n",
       "1        0.0        0.0        0.0        3.0        0.0        1.0   \n",
       "2        4.0        0.0        4.0        0.0        0.0        0.0   \n",
       "3        1.0        0.0        0.0        4.0        4.0        4.0   \n",
       "4        0.0        2.0        4.0        0.0        0.0        0.0   \n",
       "\n",
       "   PD_NUM_51  PD_NUM_52  PD_NUM_53  PD_NUM_54  \n",
       "0        0.0        0.0        0.0        0.0  \n",
       "1        1.0        3.0        2.0        0.0  \n",
       "2        4.0        4.0        4.0        1.0  \n",
       "3        4.0        4.0        4.0        4.0  \n",
       "4        3.0        4.0        0.0        0.0  \n",
       "\n",
       "[5 rows x 302 columns]"
      ]
     },
     "execution_count": 13,
     "metadata": {},
     "output_type": "execute_result"
    }
   ],
   "source": [
    "label_g1.head()"
   ]
  },
  {
   "cell_type": "code",
   "execution_count": 14,
   "metadata": {},
   "outputs": [
    {
     "data": {
      "text/plain": [
       "sad    44.0\n",
       "iad    18.0\n",
       "dad    18.0\n",
       "dtype: float64"
      ]
     },
     "execution_count": 14,
     "metadata": {},
     "output_type": "execute_result"
    }
   ],
   "source": [
    "label_g1[[\"sad\", \"iad\", \"dad\"]].sum()"
   ]
  },
  {
   "cell_type": "code",
   "execution_count": 15,
   "metadata": {},
   "outputs": [
    {
     "data": {
      "text/plain": [
       "sad  iad  dad\n",
       "0.0  0.0  0.0    224\n",
       "1.0  0.0  0.0     41\n",
       "0.0  0.0  1.0     18\n",
       "     1.0  0.0     15\n",
       "1.0  1.0  0.0      3\n",
       "dtype: int64"
      ]
     },
     "execution_count": 15,
     "metadata": {},
     "output_type": "execute_result"
    }
   ],
   "source": [
    "label_g1[['sad', 'iad', 'dad']].value_counts()"
   ]
  },
  {
   "cell_type": "code",
   "execution_count": 16,
   "metadata": {},
   "outputs": [
    {
     "data": {
      "text/plain": [
       "301"
      ]
     },
     "execution_count": 16,
     "metadata": {},
     "output_type": "execute_result"
    }
   ],
   "source": [
    "224 + 41 + 18 + 15 + 3"
   ]
  },
  {
   "cell_type": "code",
   "execution_count": 17,
   "metadata": {},
   "outputs": [
    {
     "data": {
      "text/plain": [
       "(301, 302)"
      ]
     },
     "execution_count": 17,
     "metadata": {},
     "output_type": "execute_result"
    }
   ],
   "source": [
    "label_g1.shape"
   ]
  },
  {
   "cell_type": "code",
   "execution_count": 18,
   "metadata": {},
   "outputs": [
    {
     "name": "stdout",
     "output_type": "stream",
     "text": [
      "Positive of dad before correction is 18.0\n",
      "Positive of dad ater correction is 21.0\n"
     ]
    },
    {
     "name": "stderr",
     "output_type": "stream",
     "text": [
      "/Users/yuhuicao/opt/anaconda3/lib/python3.7/site-packages/ipykernel_launcher.py:6: SettingWithCopyWarning: \n",
      "A value is trying to be set on a copy of a slice from a DataFrame\n",
      "\n",
      "See the caveats in the documentation: https://pandas.pydata.org/pandas-docs/stable/user_guide/indexing.html#returning-a-view-versus-a-copy\n",
      "  \n"
     ]
    }
   ],
   "source": [
    "### 1. correct for \"dad\"\n",
    "print(\"Positive of dad before correction is\", label_g1[\"dad\"].sum())\n",
    "\n",
    "for i in range(label_g1.shape[0]):\n",
    "    if label_g1[\"sad\"][i] == 1 and label_g1[\"iad\"][i] == 1:\n",
    "        label_g1[\"dad\"][i] = 1\n",
    "\n",
    "print(\"Positive of dad ater correction is\", label_g1[\"dad\"].sum())"
   ]
  },
  {
   "cell_type": "code",
   "execution_count": 19,
   "metadata": {
    "scrolled": true
   },
   "outputs": [
    {
     "name": "stdout",
     "output_type": "stream",
     "text": [
      "Positive of sad before correction is 44.0\n",
      "Positive of iad before correction is 18.0\n",
      "Positive of sad ater correction is 62.0\n",
      "Positive of iad ater correction is 36.0\n"
     ]
    },
    {
     "name": "stderr",
     "output_type": "stream",
     "text": [
      "/Users/yuhuicao/opt/anaconda3/lib/python3.7/site-packages/ipykernel_launcher.py:7: SettingWithCopyWarning: \n",
      "A value is trying to be set on a copy of a slice from a DataFrame\n",
      "\n",
      "See the caveats in the documentation: https://pandas.pydata.org/pandas-docs/stable/user_guide/indexing.html#returning-a-view-versus-a-copy\n",
      "  import sys\n",
      "/Users/yuhuicao/opt/anaconda3/lib/python3.7/site-packages/ipykernel_launcher.py:11: SettingWithCopyWarning: \n",
      "A value is trying to be set on a copy of a slice from a DataFrame\n",
      "\n",
      "See the caveats in the documentation: https://pandas.pydata.org/pandas-docs/stable/user_guide/indexing.html#returning-a-view-versus-a-copy\n",
      "  # This is added back by InteractiveShellApp.init_path()\n"
     ]
    }
   ],
   "source": [
    "### 2. correct for \"sad\" and \"iad\"\n",
    "print(\"Positive of sad before correction is\", label_g1[\"sad\"].sum())\n",
    "print(\"Positive of iad before correction is\", label_g1[\"iad\"].sum())\n",
    "\n",
    "for i in range(label_g1.shape[0]):\n",
    "    if label_g1[\"dad\"][i] == 1:\n",
    "        label_g1[\"sad\"][i] = 1\n",
    "\n",
    "for i in range(label_g1.shape[0]):\n",
    "    if label_g1.loc[:, (\"dad\")][i] == 1:\n",
    "        label_g1.loc[:, (\"iad\")][i] = 1\n",
    "\n",
    "print(\"Positive of sad ater correction is\", label_g1[\"sad\"].sum())\n",
    "print(\"Positive of iad ater correction is\", label_g1[\"iad\"].sum())"
   ]
  },
  {
   "cell_type": "markdown",
   "metadata": {},
   "source": [
    "# ===============================\n",
    "# Step 3: Add 2 columns for simulation"
   ]
  },
  {
   "cell_type": "code",
   "execution_count": 20,
   "metadata": {},
   "outputs": [
    {
     "data": {
      "text/html": [
       "<div>\n",
       "<style scoped>\n",
       "    .dataframe tbody tr th:only-of-type {\n",
       "        vertical-align: middle;\n",
       "    }\n",
       "\n",
       "    .dataframe tbody tr th {\n",
       "        vertical-align: top;\n",
       "    }\n",
       "\n",
       "    .dataframe thead th {\n",
       "        text-align: right;\n",
       "    }\n",
       "</style>\n",
       "<table border=\"1\" class=\"dataframe\">\n",
       "  <thead>\n",
       "    <tr style=\"text-align: right;\">\n",
       "      <th></th>\n",
       "      <th>record_id</th>\n",
       "      <th>ptid</th>\n",
       "      <th>vstdate</th>\n",
       "      <th>OD_flag</th>\n",
       "      <th>Eye</th>\n",
       "      <th>sad</th>\n",
       "      <th>iad</th>\n",
       "      <th>dad</th>\n",
       "      <th>sns</th>\n",
       "      <th>ins</th>\n",
       "      <th>...</th>\n",
       "      <th>PD_NUM_45</th>\n",
       "      <th>PD_NUM_46</th>\n",
       "      <th>PD_NUM_47</th>\n",
       "      <th>PD_NUM_48</th>\n",
       "      <th>PD_NUM_49</th>\n",
       "      <th>PD_NUM_50</th>\n",
       "      <th>PD_NUM_51</th>\n",
       "      <th>PD_NUM_52</th>\n",
       "      <th>PD_NUM_53</th>\n",
       "      <th>PD_NUM_54</th>\n",
       "    </tr>\n",
       "  </thead>\n",
       "  <tbody>\n",
       "    <tr>\n",
       "      <th>0</th>\n",
       "      <td>1</td>\n",
       "      <td>T0005</td>\n",
       "      <td>4/21/14</td>\n",
       "      <td>od</td>\n",
       "      <td>Right</td>\n",
       "      <td>0.0</td>\n",
       "      <td>0.0</td>\n",
       "      <td>0.0</td>\n",
       "      <td>0.0</td>\n",
       "      <td>0.0</td>\n",
       "      <td>...</td>\n",
       "      <td>0.0</td>\n",
       "      <td>1.0</td>\n",
       "      <td>1.0</td>\n",
       "      <td>0.0</td>\n",
       "      <td>0.0</td>\n",
       "      <td>0.0</td>\n",
       "      <td>0.0</td>\n",
       "      <td>0.0</td>\n",
       "      <td>0.0</td>\n",
       "      <td>0.0</td>\n",
       "    </tr>\n",
       "    <tr>\n",
       "      <th>1</th>\n",
       "      <td>1</td>\n",
       "      <td>T0005</td>\n",
       "      <td>4/21/14</td>\n",
       "      <td>os</td>\n",
       "      <td>Left</td>\n",
       "      <td>0.0</td>\n",
       "      <td>0.0</td>\n",
       "      <td>0.0</td>\n",
       "      <td>0.0</td>\n",
       "      <td>0.0</td>\n",
       "      <td>...</td>\n",
       "      <td>0.0</td>\n",
       "      <td>0.0</td>\n",
       "      <td>0.0</td>\n",
       "      <td>3.0</td>\n",
       "      <td>0.0</td>\n",
       "      <td>1.0</td>\n",
       "      <td>1.0</td>\n",
       "      <td>3.0</td>\n",
       "      <td>2.0</td>\n",
       "      <td>0.0</td>\n",
       "    </tr>\n",
       "    <tr>\n",
       "      <th>2</th>\n",
       "      <td>2</td>\n",
       "      <td>T0007</td>\n",
       "      <td>5/15/14</td>\n",
       "      <td>od</td>\n",
       "      <td>Right</td>\n",
       "      <td>1.0</td>\n",
       "      <td>0.0</td>\n",
       "      <td>0.0</td>\n",
       "      <td>0.0</td>\n",
       "      <td>1.0</td>\n",
       "      <td>...</td>\n",
       "      <td>4.0</td>\n",
       "      <td>0.0</td>\n",
       "      <td>4.0</td>\n",
       "      <td>0.0</td>\n",
       "      <td>0.0</td>\n",
       "      <td>0.0</td>\n",
       "      <td>4.0</td>\n",
       "      <td>4.0</td>\n",
       "      <td>4.0</td>\n",
       "      <td>1.0</td>\n",
       "    </tr>\n",
       "    <tr>\n",
       "      <th>3</th>\n",
       "      <td>2</td>\n",
       "      <td>T0007</td>\n",
       "      <td>5/15/14</td>\n",
       "      <td>os</td>\n",
       "      <td>Left</td>\n",
       "      <td>1.0</td>\n",
       "      <td>1.0</td>\n",
       "      <td>1.0</td>\n",
       "      <td>0.0</td>\n",
       "      <td>0.0</td>\n",
       "      <td>...</td>\n",
       "      <td>1.0</td>\n",
       "      <td>0.0</td>\n",
       "      <td>0.0</td>\n",
       "      <td>4.0</td>\n",
       "      <td>4.0</td>\n",
       "      <td>4.0</td>\n",
       "      <td>4.0</td>\n",
       "      <td>4.0</td>\n",
       "      <td>4.0</td>\n",
       "      <td>4.0</td>\n",
       "    </tr>\n",
       "    <tr>\n",
       "      <th>4</th>\n",
       "      <td>3</td>\n",
       "      <td>T0008</td>\n",
       "      <td>12/10/13</td>\n",
       "      <td>od</td>\n",
       "      <td>Right</td>\n",
       "      <td>0.0</td>\n",
       "      <td>0.0</td>\n",
       "      <td>0.0</td>\n",
       "      <td>0.0</td>\n",
       "      <td>0.0</td>\n",
       "      <td>...</td>\n",
       "      <td>0.0</td>\n",
       "      <td>2.0</td>\n",
       "      <td>4.0</td>\n",
       "      <td>0.0</td>\n",
       "      <td>0.0</td>\n",
       "      <td>0.0</td>\n",
       "      <td>3.0</td>\n",
       "      <td>4.0</td>\n",
       "      <td>0.0</td>\n",
       "      <td>0.0</td>\n",
       "    </tr>\n",
       "  </tbody>\n",
       "</table>\n",
       "<p>5 rows × 302 columns</p>\n",
       "</div>"
      ],
      "text/plain": [
       "   record_id   ptid   vstdate OD_flag    Eye  sad  iad  dad  sns  ins  ...  \\\n",
       "0          1  T0005   4/21/14      od  Right  0.0  0.0  0.0  0.0  0.0  ...   \n",
       "1          1  T0005   4/21/14      os   Left  0.0  0.0  0.0  0.0  0.0  ...   \n",
       "2          2  T0007   5/15/14      od  Right  1.0  0.0  0.0  0.0  1.0  ...   \n",
       "3          2  T0007   5/15/14      os   Left  1.0  1.0  1.0  0.0  0.0  ...   \n",
       "4          3  T0008  12/10/13      od  Right  0.0  0.0  0.0  0.0  0.0  ...   \n",
       "\n",
       "   PD_NUM_45  PD_NUM_46  PD_NUM_47  PD_NUM_48  PD_NUM_49  PD_NUM_50  \\\n",
       "0        0.0        1.0        1.0        0.0        0.0        0.0   \n",
       "1        0.0        0.0        0.0        3.0        0.0        1.0   \n",
       "2        4.0        0.0        4.0        0.0        0.0        0.0   \n",
       "3        1.0        0.0        0.0        4.0        4.0        4.0   \n",
       "4        0.0        2.0        4.0        0.0        0.0        0.0   \n",
       "\n",
       "   PD_NUM_51  PD_NUM_52  PD_NUM_53  PD_NUM_54  \n",
       "0        0.0        0.0        0.0        0.0  \n",
       "1        1.0        3.0        2.0        0.0  \n",
       "2        4.0        4.0        4.0        1.0  \n",
       "3        4.0        4.0        4.0        4.0  \n",
       "4        3.0        4.0        0.0        0.0  \n",
       "\n",
       "[5 rows x 302 columns]"
      ]
     },
     "execution_count": 20,
     "metadata": {},
     "output_type": "execute_result"
    }
   ],
   "source": [
    "label_g1.head()"
   ]
  },
  {
   "cell_type": "code",
   "execution_count": 21,
   "metadata": {},
   "outputs": [
    {
     "data": {
      "text/html": [
       "<div>\n",
       "<style scoped>\n",
       "    .dataframe tbody tr th:only-of-type {\n",
       "        vertical-align: middle;\n",
       "    }\n",
       "\n",
       "    .dataframe tbody tr th {\n",
       "        vertical-align: top;\n",
       "    }\n",
       "\n",
       "    .dataframe thead th {\n",
       "        text-align: right;\n",
       "    }\n",
       "</style>\n",
       "<table border=\"1\" class=\"dataframe\">\n",
       "  <thead>\n",
       "    <tr style=\"text-align: right;\">\n",
       "      <th></th>\n",
       "      <th>record_id</th>\n",
       "      <th>ptid</th>\n",
       "      <th>vstdate</th>\n",
       "      <th>OD_flag</th>\n",
       "      <th>ptid_OD</th>\n",
       "      <th>Eye</th>\n",
       "      <th>sad</th>\n",
       "      <th>iad</th>\n",
       "      <th>dad</th>\n",
       "      <th>sns</th>\n",
       "      <th>...</th>\n",
       "      <th>PD_NUM_45</th>\n",
       "      <th>PD_NUM_46</th>\n",
       "      <th>PD_NUM_47</th>\n",
       "      <th>PD_NUM_48</th>\n",
       "      <th>PD_NUM_49</th>\n",
       "      <th>PD_NUM_50</th>\n",
       "      <th>PD_NUM_51</th>\n",
       "      <th>PD_NUM_52</th>\n",
       "      <th>PD_NUM_53</th>\n",
       "      <th>PD_NUM_54</th>\n",
       "    </tr>\n",
       "  </thead>\n",
       "  <tbody>\n",
       "    <tr>\n",
       "      <th>0</th>\n",
       "      <td>1</td>\n",
       "      <td>T0005</td>\n",
       "      <td>4/21/14</td>\n",
       "      <td>od</td>\n",
       "      <td>T0005_od</td>\n",
       "      <td>Right</td>\n",
       "      <td>0.0</td>\n",
       "      <td>0.0</td>\n",
       "      <td>0.0</td>\n",
       "      <td>0.0</td>\n",
       "      <td>...</td>\n",
       "      <td>0.0</td>\n",
       "      <td>1.0</td>\n",
       "      <td>1.0</td>\n",
       "      <td>0.0</td>\n",
       "      <td>0.0</td>\n",
       "      <td>0.0</td>\n",
       "      <td>0.0</td>\n",
       "      <td>0.0</td>\n",
       "      <td>0.0</td>\n",
       "      <td>0.0</td>\n",
       "    </tr>\n",
       "    <tr>\n",
       "      <th>1</th>\n",
       "      <td>1</td>\n",
       "      <td>T0005</td>\n",
       "      <td>4/21/14</td>\n",
       "      <td>os</td>\n",
       "      <td>T0005_os</td>\n",
       "      <td>Left</td>\n",
       "      <td>0.0</td>\n",
       "      <td>0.0</td>\n",
       "      <td>0.0</td>\n",
       "      <td>0.0</td>\n",
       "      <td>...</td>\n",
       "      <td>0.0</td>\n",
       "      <td>0.0</td>\n",
       "      <td>0.0</td>\n",
       "      <td>3.0</td>\n",
       "      <td>0.0</td>\n",
       "      <td>1.0</td>\n",
       "      <td>1.0</td>\n",
       "      <td>3.0</td>\n",
       "      <td>2.0</td>\n",
       "      <td>0.0</td>\n",
       "    </tr>\n",
       "    <tr>\n",
       "      <th>2</th>\n",
       "      <td>2</td>\n",
       "      <td>T0007</td>\n",
       "      <td>5/15/14</td>\n",
       "      <td>od</td>\n",
       "      <td>T0007_od</td>\n",
       "      <td>Right</td>\n",
       "      <td>1.0</td>\n",
       "      <td>0.0</td>\n",
       "      <td>0.0</td>\n",
       "      <td>0.0</td>\n",
       "      <td>...</td>\n",
       "      <td>4.0</td>\n",
       "      <td>0.0</td>\n",
       "      <td>4.0</td>\n",
       "      <td>0.0</td>\n",
       "      <td>0.0</td>\n",
       "      <td>0.0</td>\n",
       "      <td>4.0</td>\n",
       "      <td>4.0</td>\n",
       "      <td>4.0</td>\n",
       "      <td>1.0</td>\n",
       "    </tr>\n",
       "    <tr>\n",
       "      <th>3</th>\n",
       "      <td>2</td>\n",
       "      <td>T0007</td>\n",
       "      <td>5/15/14</td>\n",
       "      <td>os</td>\n",
       "      <td>T0007_os</td>\n",
       "      <td>Left</td>\n",
       "      <td>1.0</td>\n",
       "      <td>1.0</td>\n",
       "      <td>1.0</td>\n",
       "      <td>0.0</td>\n",
       "      <td>...</td>\n",
       "      <td>1.0</td>\n",
       "      <td>0.0</td>\n",
       "      <td>0.0</td>\n",
       "      <td>4.0</td>\n",
       "      <td>4.0</td>\n",
       "      <td>4.0</td>\n",
       "      <td>4.0</td>\n",
       "      <td>4.0</td>\n",
       "      <td>4.0</td>\n",
       "      <td>4.0</td>\n",
       "    </tr>\n",
       "    <tr>\n",
       "      <th>4</th>\n",
       "      <td>3</td>\n",
       "      <td>T0008</td>\n",
       "      <td>12/10/13</td>\n",
       "      <td>od</td>\n",
       "      <td>T0008_od</td>\n",
       "      <td>Right</td>\n",
       "      <td>0.0</td>\n",
       "      <td>0.0</td>\n",
       "      <td>0.0</td>\n",
       "      <td>0.0</td>\n",
       "      <td>...</td>\n",
       "      <td>0.0</td>\n",
       "      <td>2.0</td>\n",
       "      <td>4.0</td>\n",
       "      <td>0.0</td>\n",
       "      <td>0.0</td>\n",
       "      <td>0.0</td>\n",
       "      <td>3.0</td>\n",
       "      <td>4.0</td>\n",
       "      <td>0.0</td>\n",
       "      <td>0.0</td>\n",
       "    </tr>\n",
       "  </tbody>\n",
       "</table>\n",
       "<p>5 rows × 303 columns</p>\n",
       "</div>"
      ],
      "text/plain": [
       "   record_id   ptid   vstdate OD_flag   ptid_OD    Eye  sad  iad  dad  sns  \\\n",
       "0          1  T0005   4/21/14      od  T0005_od  Right  0.0  0.0  0.0  0.0   \n",
       "1          1  T0005   4/21/14      os  T0005_os   Left  0.0  0.0  0.0  0.0   \n",
       "2          2  T0007   5/15/14      od  T0007_od  Right  1.0  0.0  0.0  0.0   \n",
       "3          2  T0007   5/15/14      os  T0007_os   Left  1.0  1.0  1.0  0.0   \n",
       "4          3  T0008  12/10/13      od  T0008_od  Right  0.0  0.0  0.0  0.0   \n",
       "\n",
       "   ...  PD_NUM_45  PD_NUM_46  PD_NUM_47  PD_NUM_48  PD_NUM_49  PD_NUM_50  \\\n",
       "0  ...        0.0        1.0        1.0        0.0        0.0        0.0   \n",
       "1  ...        0.0        0.0        0.0        3.0        0.0        1.0   \n",
       "2  ...        4.0        0.0        4.0        0.0        0.0        0.0   \n",
       "3  ...        1.0        0.0        0.0        4.0        4.0        4.0   \n",
       "4  ...        0.0        2.0        4.0        0.0        0.0        0.0   \n",
       "\n",
       "   PD_NUM_51  PD_NUM_52  PD_NUM_53  PD_NUM_54  \n",
       "0        0.0        0.0        0.0        0.0  \n",
       "1        1.0        3.0        2.0        0.0  \n",
       "2        4.0        4.0        4.0        1.0  \n",
       "3        4.0        4.0        4.0        4.0  \n",
       "4        3.0        4.0        0.0        0.0  \n",
       "\n",
       "[5 rows x 303 columns]"
      ]
     },
     "execution_count": 21,
     "metadata": {},
     "output_type": "execute_result"
    }
   ],
   "source": [
    "df1 = label_g1[\"ptid\"] + \"_\" + label_g1[\"OD_flag\"]\n",
    "label_g1.insert(4, 'ptid_OD', df1)\n",
    "label_g1.head()"
   ]
  },
  {
   "cell_type": "code",
   "execution_count": 22,
   "metadata": {},
   "outputs": [
    {
     "data": {
      "text/plain": [
       "301"
      ]
     },
     "execution_count": 22,
     "metadata": {},
     "output_type": "execute_result"
    }
   ],
   "source": [
    "label_g1.shape[0]"
   ]
  },
  {
   "cell_type": "code",
   "execution_count": 23,
   "metadata": {},
   "outputs": [
    {
     "data": {
      "text/plain": [
       "301"
      ]
     },
     "execution_count": 23,
     "metadata": {},
     "output_type": "execute_result"
    }
   ],
   "source": [
    "import numpy as np\n",
    "df2 = [np.NaN] * label_g1.shape[0]\n",
    "len(df2)"
   ]
  },
  {
   "cell_type": "code",
   "execution_count": 24,
   "metadata": {},
   "outputs": [
    {
     "data": {
      "text/html": [
       "<div>\n",
       "<style scoped>\n",
       "    .dataframe tbody tr th:only-of-type {\n",
       "        vertical-align: middle;\n",
       "    }\n",
       "\n",
       "    .dataframe tbody tr th {\n",
       "        vertical-align: top;\n",
       "    }\n",
       "\n",
       "    .dataframe thead th {\n",
       "        text-align: right;\n",
       "    }\n",
       "</style>\n",
       "<table border=\"1\" class=\"dataframe\">\n",
       "  <thead>\n",
       "    <tr style=\"text-align: right;\">\n",
       "      <th></th>\n",
       "      <th>record_id</th>\n",
       "      <th>ptid</th>\n",
       "      <th>vstdate</th>\n",
       "      <th>OD_flag</th>\n",
       "      <th>ptid_OD</th>\n",
       "      <th>ptid_OD_SIM</th>\n",
       "      <th>Eye</th>\n",
       "      <th>sad</th>\n",
       "      <th>iad</th>\n",
       "      <th>dad</th>\n",
       "      <th>...</th>\n",
       "      <th>PD_NUM_45</th>\n",
       "      <th>PD_NUM_46</th>\n",
       "      <th>PD_NUM_47</th>\n",
       "      <th>PD_NUM_48</th>\n",
       "      <th>PD_NUM_49</th>\n",
       "      <th>PD_NUM_50</th>\n",
       "      <th>PD_NUM_51</th>\n",
       "      <th>PD_NUM_52</th>\n",
       "      <th>PD_NUM_53</th>\n",
       "      <th>PD_NUM_54</th>\n",
       "    </tr>\n",
       "  </thead>\n",
       "  <tbody>\n",
       "    <tr>\n",
       "      <th>0</th>\n",
       "      <td>1</td>\n",
       "      <td>T0005</td>\n",
       "      <td>4/21/14</td>\n",
       "      <td>od</td>\n",
       "      <td>T0005_od</td>\n",
       "      <td>NaN</td>\n",
       "      <td>Right</td>\n",
       "      <td>0.0</td>\n",
       "      <td>0.0</td>\n",
       "      <td>0.0</td>\n",
       "      <td>...</td>\n",
       "      <td>0.0</td>\n",
       "      <td>1.0</td>\n",
       "      <td>1.0</td>\n",
       "      <td>0.0</td>\n",
       "      <td>0.0</td>\n",
       "      <td>0.0</td>\n",
       "      <td>0.0</td>\n",
       "      <td>0.0</td>\n",
       "      <td>0.0</td>\n",
       "      <td>0.0</td>\n",
       "    </tr>\n",
       "    <tr>\n",
       "      <th>1</th>\n",
       "      <td>1</td>\n",
       "      <td>T0005</td>\n",
       "      <td>4/21/14</td>\n",
       "      <td>os</td>\n",
       "      <td>T0005_os</td>\n",
       "      <td>NaN</td>\n",
       "      <td>Left</td>\n",
       "      <td>0.0</td>\n",
       "      <td>0.0</td>\n",
       "      <td>0.0</td>\n",
       "      <td>...</td>\n",
       "      <td>0.0</td>\n",
       "      <td>0.0</td>\n",
       "      <td>0.0</td>\n",
       "      <td>3.0</td>\n",
       "      <td>0.0</td>\n",
       "      <td>1.0</td>\n",
       "      <td>1.0</td>\n",
       "      <td>3.0</td>\n",
       "      <td>2.0</td>\n",
       "      <td>0.0</td>\n",
       "    </tr>\n",
       "    <tr>\n",
       "      <th>2</th>\n",
       "      <td>2</td>\n",
       "      <td>T0007</td>\n",
       "      <td>5/15/14</td>\n",
       "      <td>od</td>\n",
       "      <td>T0007_od</td>\n",
       "      <td>NaN</td>\n",
       "      <td>Right</td>\n",
       "      <td>1.0</td>\n",
       "      <td>0.0</td>\n",
       "      <td>0.0</td>\n",
       "      <td>...</td>\n",
       "      <td>4.0</td>\n",
       "      <td>0.0</td>\n",
       "      <td>4.0</td>\n",
       "      <td>0.0</td>\n",
       "      <td>0.0</td>\n",
       "      <td>0.0</td>\n",
       "      <td>4.0</td>\n",
       "      <td>4.0</td>\n",
       "      <td>4.0</td>\n",
       "      <td>1.0</td>\n",
       "    </tr>\n",
       "    <tr>\n",
       "      <th>3</th>\n",
       "      <td>2</td>\n",
       "      <td>T0007</td>\n",
       "      <td>5/15/14</td>\n",
       "      <td>os</td>\n",
       "      <td>T0007_os</td>\n",
       "      <td>NaN</td>\n",
       "      <td>Left</td>\n",
       "      <td>1.0</td>\n",
       "      <td>1.0</td>\n",
       "      <td>1.0</td>\n",
       "      <td>...</td>\n",
       "      <td>1.0</td>\n",
       "      <td>0.0</td>\n",
       "      <td>0.0</td>\n",
       "      <td>4.0</td>\n",
       "      <td>4.0</td>\n",
       "      <td>4.0</td>\n",
       "      <td>4.0</td>\n",
       "      <td>4.0</td>\n",
       "      <td>4.0</td>\n",
       "      <td>4.0</td>\n",
       "    </tr>\n",
       "    <tr>\n",
       "      <th>4</th>\n",
       "      <td>3</td>\n",
       "      <td>T0008</td>\n",
       "      <td>12/10/13</td>\n",
       "      <td>od</td>\n",
       "      <td>T0008_od</td>\n",
       "      <td>NaN</td>\n",
       "      <td>Right</td>\n",
       "      <td>0.0</td>\n",
       "      <td>0.0</td>\n",
       "      <td>0.0</td>\n",
       "      <td>...</td>\n",
       "      <td>0.0</td>\n",
       "      <td>2.0</td>\n",
       "      <td>4.0</td>\n",
       "      <td>0.0</td>\n",
       "      <td>0.0</td>\n",
       "      <td>0.0</td>\n",
       "      <td>3.0</td>\n",
       "      <td>4.0</td>\n",
       "      <td>0.0</td>\n",
       "      <td>0.0</td>\n",
       "    </tr>\n",
       "  </tbody>\n",
       "</table>\n",
       "<p>5 rows × 304 columns</p>\n",
       "</div>"
      ],
      "text/plain": [
       "   record_id   ptid   vstdate OD_flag   ptid_OD  ptid_OD_SIM    Eye  sad  iad  \\\n",
       "0          1  T0005   4/21/14      od  T0005_od          NaN  Right  0.0  0.0   \n",
       "1          1  T0005   4/21/14      os  T0005_os          NaN   Left  0.0  0.0   \n",
       "2          2  T0007   5/15/14      od  T0007_od          NaN  Right  1.0  0.0   \n",
       "3          2  T0007   5/15/14      os  T0007_os          NaN   Left  1.0  1.0   \n",
       "4          3  T0008  12/10/13      od  T0008_od          NaN  Right  0.0  0.0   \n",
       "\n",
       "   dad  ...  PD_NUM_45  PD_NUM_46  PD_NUM_47  PD_NUM_48  PD_NUM_49  PD_NUM_50  \\\n",
       "0  0.0  ...        0.0        1.0        1.0        0.0        0.0        0.0   \n",
       "1  0.0  ...        0.0        0.0        0.0        3.0        0.0        1.0   \n",
       "2  0.0  ...        4.0        0.0        4.0        0.0        0.0        0.0   \n",
       "3  1.0  ...        1.0        0.0        0.0        4.0        4.0        4.0   \n",
       "4  0.0  ...        0.0        2.0        4.0        0.0        0.0        0.0   \n",
       "\n",
       "   PD_NUM_51  PD_NUM_52  PD_NUM_53  PD_NUM_54  \n",
       "0        0.0        0.0        0.0        0.0  \n",
       "1        1.0        3.0        2.0        0.0  \n",
       "2        4.0        4.0        4.0        1.0  \n",
       "3        4.0        4.0        4.0        4.0  \n",
       "4        3.0        4.0        0.0        0.0  \n",
       "\n",
       "[5 rows x 304 columns]"
      ]
     },
     "execution_count": 24,
     "metadata": {},
     "output_type": "execute_result"
    }
   ],
   "source": [
    "label_g1.insert(5, 'ptid_OD_SIM', df2)\n",
    "label_g1.head()"
   ]
  },
  {
   "cell_type": "markdown",
   "metadata": {},
   "source": [
    "# ===============================\n",
    "# Step 4: Save to csv file"
   ]
  },
  {
   "cell_type": "code",
   "execution_count": 25,
   "metadata": {},
   "outputs": [],
   "source": [
    "label_g1.to_csv('/Users/yuhuicao/Desktop/3. Classification - normal + S.I.D (corrected)/15. Grader1_labels_VF (normal + S.I.D corrected).csv', index = False)\n"
   ]
  },
  {
   "cell_type": "code",
   "execution_count": null,
   "metadata": {},
   "outputs": [],
   "source": []
  }
 ],
 "metadata": {
  "kernelspec": {
   "display_name": "Python 3 (ipykernel)",
   "language": "python",
   "name": "python3"
  },
  "language_info": {
   "codemirror_mode": {
    "name": "ipython",
    "version": 3
   },
   "file_extension": ".py",
   "mimetype": "text/x-python",
   "name": "python",
   "nbconvert_exporter": "python",
   "pygments_lexer": "ipython3",
   "version": "3.7.4"
  }
 },
 "nbformat": 4,
 "nbformat_minor": 2
}
