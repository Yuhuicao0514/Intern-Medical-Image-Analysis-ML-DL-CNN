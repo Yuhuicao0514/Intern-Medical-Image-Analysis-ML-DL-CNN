{
 "cells": [
  {
   "cell_type": "markdown",
   "metadata": {},
   "source": [
    "# a. Classification\n",
    "\n",
    "**Step 1: Construction of 265 features**\n",
    "   - MD, PSD, VFI (3)\n",
    "   - Thresholds (54)\n",
    "   - TD (52)\n",
    "   - PD (52)\n",
    "   - TD_NUM (52)\n",
    "   - PD_NUM (52)\n",
    "\n",
    "**Step 2: Classification**\n",
    "   - Decision Tree\n",
    "   - KNN (K Nearest Neighbors)\n",
    "   \n",
    "**Step 3: UMAP - reduce dimension to 2D**\n",
    "   - for plotting the decision boundary\n",
    "\n",
    "**Step 4: Evaluation UMAP**\n",
    "   - use 2D-feature to refit classifiers\n",
    "   \n",
    "**Step 5: Plot the decision boundary**"
   ]
  },
  {
   "cell_type": "code",
   "execution_count": 1,
   "metadata": {
    "scrolled": true
   },
   "outputs": [
    {
     "name": "stdout",
     "output_type": "stream",
     "text": [
      "Collecting package metadata (current_repodata.json): done\n",
      "Solving environment: done\n",
      "\n",
      "## Package Plan ##\n",
      "\n",
      "  environment location: /Users/yuhuicao/opt/anaconda3\n",
      "\n",
      "  added / updated specs:\n",
      "    - anaconda\n",
      "\n",
      "\n",
      "The following packages will be downloaded:\n",
      "\n",
      "    package                    |            build\n",
      "    ---------------------------|-----------------\n",
      "    altair-4.1.0               |             py_1         484 KB\n",
      "    anaconda-client-1.10.0     |   py37hecd8cb5_0         148 KB\n",
      "    anaconda-project-0.10.2    |     pyhd3eb1b0_0         218 KB\n",
      "    anyio-3.5.0                |   py37hecd8cb5_0         165 KB\n",
      "    appdirs-1.4.4              |     pyhd3eb1b0_0          12 KB\n",
      "    appnope-0.1.2              |py37hecd8cb5_1001          10 KB\n",
      "    appscript-1.1.2            |   py37h9ed2024_0         130 KB\n",
      "    argon2-cffi-21.3.0         |     pyhd3eb1b0_0          15 KB\n",
      "    argon2-cffi-bindings-21.2.0|   py37hca72f7f_0          32 KB\n",
      "    asn1crypto-1.5.1           |   py37hecd8cb5_0         167 KB\n",
      "    astroid-2.9.0              |   py37hecd8cb5_0         335 KB\n",
      "    astropy-4.3.1              |   py37hf9932de_0         6.3 MB\n",
      "    atomicwrites-1.4.0         |             py_0          11 KB\n",
      "    attrs-21.4.0               |     pyhd3eb1b0_0          51 KB\n",
      "    babel-2.9.1                |     pyhd3eb1b0_0         5.5 MB\n",
      "    backcall-0.2.0             |     pyhd3eb1b0_0          13 KB\n",
      "    backports-1.1              |     pyhd3eb1b0_0           4 KB\n",
      "    backports.functools_lru_cache-1.6.4|     pyhd3eb1b0_0           9 KB\n",
      "    backports.os-0.1.1         |py37hecd8cb5_1000          16 KB\n",
      "    backports.shutil_get_terminal_size-1.0.0|     pyhd3eb1b0_3          10 KB\n",
      "    backports.tempfile-1.0     |     pyhd3eb1b0_1          11 KB\n",
      "    beautifulsoup4-4.11.1      |   py37hecd8cb5_0         188 KB\n",
      "    bitarray-2.5.1             |   py37hca72f7f_0         151 KB\n",
      "    bkcharts-0.2               |   py37hecd8cb5_1         132 KB\n",
      "    black-19.10b0              |             py_0          86 KB\n",
      "    bleach-4.1.0               |     pyhd3eb1b0_0         123 KB\n",
      "    blosc-1.21.0               |       h8346a28_1          52 KB\n",
      "    bokeh-2.4.3                |   py37hecd8cb5_0         7.6 MB\n",
      "    bottleneck-1.3.5           |   py37h67323c0_0         112 KB\n",
      "    brotli-1.0.9               |       hb1e8313_2         398 KB\n",
      "    brotlipy-0.7.0             |py37h9ed2024_1003         333 KB\n",
      "    c-ares-1.18.1              |       hca72f7f_0         100 KB\n",
      "    ca-certificates-2022.4.26  |       hecd8cb5_0         124 KB\n",
      "    cairo-1.16.0               |       h691a603_2         935 KB\n",
      "    certifi-2022.6.15          |   py37hecd8cb5_0         153 KB\n",
      "    cffi-1.15.0                |   py37hc55c11b_1         217 KB\n",
      "    chardet-4.0.0              |py37hecd8cb5_1003         194 KB\n",
      "    charset-normalizer-2.0.4   |     pyhd3eb1b0_0          35 KB\n",
      "    click-8.0.4                |   py37hecd8cb5_0         150 KB\n",
      "    cloudpickle-2.0.0          |     pyhd3eb1b0_0          32 KB\n",
      "    colorama-0.4.5             |   py37hecd8cb5_0          28 KB\n",
      "    conda-4.13.0               |   py37hecd8cb5_0         900 KB\n",
      "    conda-pack-0.6.0           |     pyhd3eb1b0_0          29 KB\n",
      "    conda-package-handling-1.8.1|   py37hca72f7f_0         1.5 MB\n",
      "    contextlib2-0.6.0.post1    |     pyhd3eb1b0_0          13 KB\n",
      "    coverage-6.3.2             |   py37hca72f7f_0         241 KB\n",
      "    cryptography-37.0.1        |   py37hf6deb26_0         1.1 MB\n",
      "    curl-7.82.0                |       hca72f7f_0          84 KB\n",
      "    cycler-0.11.0              |     pyhd3eb1b0_0          12 KB\n",
      "    cython-0.29.30             |   py37he9d5cce_0         1.8 MB\n",
      "    cytoolz-0.11.0             |   py37haf1e3a3_0         289 KB\n",
      "    dataclasses-0.8            |     pyh6d0b6a4_7           8 KB\n",
      "    dbus-1.13.18               |       h18a8e69_0         445 KB\n",
      "    debugpy-1.5.1              |   py37he9d5cce_0         1.7 MB\n",
      "    decorator-5.1.1            |     pyhd3eb1b0_0          12 KB\n",
      "    defusedxml-0.7.1           |     pyhd3eb1b0_0          23 KB\n",
      "    docutils-0.18.1            |   py37hecd8cb5_3         664 KB\n",
      "    entrypoints-0.4            |   py37hecd8cb5_0          16 KB\n",
      "    et_xmlfile-1.1.0           |   py37hecd8cb5_0          10 KB\n",
      "    expat-2.4.4                |       he9d5cce_0         123 KB\n",
      "    filelock-3.6.0             |     pyhd3eb1b0_0          12 KB\n",
      "    flask-2.0.3                |     pyhd3eb1b0_0          76 KB\n",
      "    font-ttf-dejavu-sans-mono-2.37|       hd3eb1b0_0         335 KB\n",
      "    font-ttf-inconsolata-2.001 |       hcb22688_0          83 KB\n",
      "    font-ttf-source-code-pro-2.030|       hd3eb1b0_0         654 KB\n",
      "    font-ttf-ubuntu-0.83       |       h8b1ccd4_0         1.5 MB\n",
      "    fontconfig-2.13.1          |       ha9ee91d_0         211 KB\n",
      "    fonts-anaconda-1           |       h8fa9717_0           3 KB\n",
      "    fonts-conda-ecosystem-1    |       hd3eb1b0_0           5 KB\n",
      "    fonttools-4.25.0           |     pyhd3eb1b0_0         632 KB\n",
      "    freetype-2.11.0            |       hd8bbffd_0         589 KB\n",
      "    fribidi-1.0.10             |       haf1e3a3_0          63 KB\n",
      "    fsspec-2022.3.0            |   py37hecd8cb5_0         199 KB\n",
      "    future-0.18.2              |           py37_1         630 KB\n",
      "    gdk-pixbuf-2.42.8          |       hec4cd9e_0         531 KB\n",
      "    gettext-0.21.0             |       h7535e17_0         2.6 MB\n",
      "    gevent-21.8.0              |   py37h9ed2024_1         1.4 MB\n",
      "    giflib-5.2.1               |       haf1e3a3_0          70 KB\n",
      "    glib-2.69.1                |       h8346a28_1         2.7 MB\n",
      "    glob2-0.7                  |     pyhd3eb1b0_0          12 KB\n",
      "    gmp-6.2.1                  |       he9d5cce_3         525 KB\n",
      "    gmpy2-2.1.2                |   py37hd5de756_0         149 KB\n",
      "    graphite2-1.3.14           |       he9d5cce_1          82 KB\n",
      "    graphviz-2.50.0            |       h196fa6a_0         2.4 MB\n",
      "    greenlet-1.1.1             |   py37h23ab428_0          77 KB\n",
      "    gts-0.7.6                  |       h6759243_3         276 KB\n",
      "    h5py-2.10.0                |   py37h3134771_0         810 KB\n",
      "    harfbuzz-4.3.0             |       h3f129a2_0         1.0 MB\n",
      "    heapdict-1.0.1             |     pyhd3eb1b0_0           8 KB\n",
      "    html5lib-1.1               |     pyhd3eb1b0_0          91 KB\n",
      "    hypothesis-6.29.3          |     pyhd3eb1b0_0         257 KB\n",
      "    icu-58.2                   |       h0a44026_3        10.1 MB\n",
      "    idna-3.3                   |     pyhd3eb1b0_0          49 KB\n",
      "    imageio-2.9.0              |     pyhd3eb1b0_0         3.0 MB\n",
      "    imagesize-1.4.1            |   py37hecd8cb5_0          14 KB\n",
      "    importlib-metadata-4.11.3  |   py37hecd8cb5_0          40 KB\n",
      "    importlib_metadata-4.11.3  |       hd3eb1b0_0          12 KB\n",
      "    importlib_resources-5.2.0  |     pyhd3eb1b0_1          21 KB\n",
      "    iniconfig-1.1.1            |     pyhd3eb1b0_0           8 KB\n",
      "    intel-openmp-2021.4.0      |    hecd8cb5_3538         961 KB\n",
      "    ipykernel-6.9.1            |   py37hecd8cb5_0         199 KB\n",
      "    ipython-7.31.1             |   py37hecd8cb5_0        1015 KB\n",
      "    ipython_genutils-0.2.0     |     pyhd3eb1b0_1          27 KB\n",
      "    ipywidgets-7.6.5           |     pyhd3eb1b0_1         105 KB\n",
      "    isort-5.9.3                |     pyhd3eb1b0_0          83 KB\n",
      "    itsdangerous-2.0.1         |     pyhd3eb1b0_0          18 KB\n",
      "    jdcal-1.4.1                |     pyhd3eb1b0_0          10 KB\n",
      "    jedi-0.18.1                |   py37hecd8cb5_1         978 KB\n",
      "    jinja2-3.0.3               |     pyhd3eb1b0_0         106 KB\n",
      "    joblib-1.1.0               |     pyhd3eb1b0_0         211 KB\n",
      "    jpeg-9e                    |       hca72f7f_0         225 KB\n",
      "    json5-0.9.6                |     pyhd3eb1b0_0          21 KB\n",
      "    jsonschema-4.4.0           |   py37hecd8cb5_0         120 KB\n",
      "    jupyter_client-7.2.2       |   py37hecd8cb5_0         192 KB\n",
      "    jupyter_console-6.4.3      |     pyhd3eb1b0_0          23 KB\n",
      "    jupyter_core-4.10.0        |   py37hecd8cb5_0          77 KB\n",
      "    jupyter_server-1.17.1      |   py37hecd8cb5_0         353 KB\n",
      "    jupyterlab-3.3.2           |     pyhd3eb1b0_0         3.6 MB\n",
      "    jupyterlab_pygments-0.1.2  |             py_0           8 KB\n",
      "    jupyterlab_server-2.12.0   |   py37hecd8cb5_0          77 KB\n",
      "    jupyterlab_widgets-1.0.0   |     pyhd3eb1b0_1         109 KB\n",
      "    keyring-23.4.0             |   py37hecd8cb5_0          55 KB\n",
      "    kiwisolver-1.4.2           |   py37he9d5cce_0          55 KB\n",
      "    krb5-1.19.2                |       hcd88c3b_0         1.1 MB\n",
      "    lazy-object-proxy-1.6.0    |   py37h9ed2024_0          28 KB\n",
      "    lcms2-2.12                 |       hf1fd2bf_0         284 KB\n",
      "    libarchive-3.5.2           |       ha0e9c3a_0         713 KB\n",
      "    libcurl-7.82.0             |       h6dfd666_0         314 KB\n",
      "    libcxx-12.0.0              |       h2f01273_0         805 KB\n",
      "    libedit-3.1.20210910       |       hca72f7f_0         139 KB\n",
      "    libev-4.33                 |       h9ed2024_1         106 KB\n",
      "    libffi-3.3                 |       hb1e8313_2          44 KB\n",
      "    libgd-2.3.3                |       he7e2580_1         198 KB\n",
      "    libiconv-1.16              |       hca72f7f_2         695 KB\n",
      "    liblief-0.11.5             |       he9d5cce_1         1.6 MB\n",
      "    libnghttp2-1.46.0          |       ha29bfda_0         687 KB\n",
      "    librsvg-2.54.4             |       h52d90eb_0         4.3 MB\n",
      "    libsodium-1.0.18           |       h1de35cc_0         236 KB\n",
      "    libssh2-1.10.0             |       h0a4fc7d_0         258 KB\n",
      "    libtiff-4.2.0              |       hdb42f99_1         429 KB\n",
      "    libtool-2.4.6              |    he9d5cce_1008         390 KB\n",
      "    libuv-1.40.0               |       haf1e3a3_0         334 KB\n",
      "    libwebp-1.2.2              |       h56c3ce4_0          72 KB\n",
      "    libwebp-base-1.2.2         |       hca72f7f_0         393 KB\n",
      "    libxml2-2.9.14             |       hbf8cd5e_0         641 KB\n",
      "    libxslt-1.1.35             |       h5b33f42_0         420 KB\n",
      "    llvm-openmp-12.0.0         |       h0dcd299_1         262 KB\n",
      "    locket-1.0.0               |   py37hecd8cb5_0          12 KB\n",
      "    lxml-4.9.1                 |   py37h65b224f_0         1.1 MB\n",
      "    lz4-c-1.9.3                |       h23ab428_1         140 KB\n",
      "    lzo-2.10                   |       haf1e3a3_2         141 KB\n",
      "    markupsafe-2.1.1           |   py37hca72f7f_0          21 KB\n",
      "    matplotlib-3.5.1           |   py37hecd8cb5_1           7 KB\n",
      "    matplotlib-base-3.5.1      |   py37hfb0c5b7_1         5.6 MB\n",
      "    matplotlib-inline-0.1.2    |     pyhd3eb1b0_2          12 KB\n",
      "    mccabe-0.7.0               |     pyhd3eb1b0_0          11 KB\n",
      "    mkl-2021.4.0               |     hecd8cb5_637       101.0 MB\n",
      "    mkl-service-2.4.0          |   py37h9ed2024_0          44 KB\n",
      "    mkl_fft-1.3.1              |   py37h4ab4a9b_0         161 KB\n",
      "    mkl_random-1.2.2           |   py37hb2f4e1b_0         263 KB\n",
      "    mock-4.0.3                 |     pyhd3eb1b0_0          29 KB\n",
      "    more-itertools-8.12.0      |     pyhd3eb1b0_0          49 KB\n",
      "    mpfr-4.0.2                 |       h9066e36_1         433 KB\n",
      "    mpmath-1.2.1               |   py37hecd8cb5_0         765 KB\n",
      "    msgpack-python-1.0.3       |   py37haf03e11_0          74 KB\n",
      "    munkres-1.1.4              |             py_0          13 KB\n",
      "    mypy_extensions-0.4.3      |   py37hecd8cb5_1          10 KB\n",
      "    nbclassic-0.3.5            |     pyhd3eb1b0_0          22 KB\n",
      "    nbclient-0.5.13            |   py37hecd8cb5_0          90 KB\n",
      "    nbconvert-6.4.4            |   py37hecd8cb5_0         495 KB\n",
      "    nbformat-5.3.0             |   py37hecd8cb5_0         130 KB\n",
      "    ncurses-6.3                |       hca72f7f_3         857 KB\n",
      "    nest-asyncio-1.5.5         |   py37hecd8cb5_0          16 KB\n",
      "    ninja-1.10.2               |       hecd8cb5_5           9 KB\n",
      "    ninja-base-1.10.2          |       haf03e11_5         118 KB\n",
      "    nltk-3.7                   |     pyhd3eb1b0_0        1010 KB\n",
      "    nose-1.3.7                 |  pyhd3eb1b0_1008         142 KB\n",
      "    notebook-6.4.11            |   py37hecd8cb5_0         4.2 MB\n",
      "    numexpr-2.8.3              |   py37h2e5f0a9_0         121 KB\n",
      "    numpy-1.21.5               |   py37h2e5f0a9_3          11 KB\n",
      "    numpy-base-1.21.5          |   py37h3b1a694_3         4.7 MB\n",
      "    numpydoc-1.4.0             |   py37hecd8cb5_0          85 KB\n",
      "    openpyxl-3.0.10            |   py37hca72f7f_0         499 KB\n",
      "    openssl-1.1.1q             |       hca72f7f_0         2.2 MB\n",
      "    packaging-21.3             |     pyhd3eb1b0_0          36 KB\n",
      "    pandas-1.3.5               |   py37h743cdd8_0         8.9 MB\n",
      "    pandoc-2.12                |       hecd8cb5_0        11.0 MB\n",
      "    pandocfilters-1.5.0        |     pyhd3eb1b0_0          11 KB\n",
      "    pango-1.50.7               |       h80fe9ab_0         523 KB\n",
      "    parso-0.8.3                |     pyhd3eb1b0_0          70 KB\n",
      "    partd-1.2.0                |     pyhd3eb1b0_1          18 KB\n",
      "    path-16.2.0                |     pyhd3eb1b0_0          23 KB\n",
      "    path.py-12.5.0             |       hd3eb1b0_0           4 KB\n",
      "    pathlib2-2.3.6             |   py37hecd8cb5_2          36 KB\n",
      "    pathspec-0.7.0             |             py_0          26 KB\n",
      "    patsy-0.5.2                |   py37hecd8cb5_1         275 KB\n",
      "    pcre-8.45                  |       h23ab428_0         181 KB\n",
      "    pep8-1.7.1                 |   py37hecd8cb5_1          54 KB\n",
      "    pexpect-4.8.0              |     pyhd3eb1b0_3          53 KB\n",
      "    pickleshare-0.7.5          |  pyhd3eb1b0_1003          13 KB\n",
      "    pillow-9.2.0               |   py37hde71d04_1         623 KB\n",
      "    pip-22.1.2                 |   py37hecd8cb5_0         2.4 MB\n",
      "    pixman-0.40.0              |       h9ed2024_1         341 KB\n",
      "    pkginfo-1.8.2              |     pyhd3eb1b0_0          27 KB\n",
      "    platformdirs-2.4.0         |     pyhd3eb1b0_0          16 KB\n",
      "    pluggy-1.0.0               |   py37hecd8cb5_1          29 KB\n",
      "    prometheus_client-0.13.1   |     pyhd3eb1b0_0          47 KB\n",
      "    prompt-toolkit-3.0.20      |     pyhd3eb1b0_0         259 KB\n",
      "    prompt_toolkit-3.0.20      |       hd3eb1b0_0          12 KB\n",
      "    psutil-5.9.0               |   py37hca72f7f_0         337 KB\n",
      "    ptyprocess-0.7.0           |     pyhd3eb1b0_2          17 KB\n",
      "    py-1.11.0                  |     pyhd3eb1b0_0          76 KB\n",
      "    py-lief-0.11.5             |   py37he9d5cce_1         905 KB\n",
      "    pycodestyle-2.8.0          |     pyhd3eb1b0_0          41 KB\n",
      "    pycosat-0.6.3              |   py37h9ed2024_0          86 KB\n",
      "    pycparser-2.21             |     pyhd3eb1b0_0          94 KB\n",
      "    pycrypto-2.6.1             |  py37haf1e3a3_10         365 KB\n",
      "    pycurl-7.45.1              |   py37h0a4fc7d_0         122 KB\n",
      "    pyerfa-2.0.0               |   py37h9ed2024_0         356 KB\n",
      "    pyflakes-2.4.0             |     pyhd3eb1b0_0          60 KB\n",
      "    pygments-2.11.2            |     pyhd3eb1b0_0         759 KB\n",
      "    pylint-2.12.2              |   py37hecd8cb5_1         543 KB\n",
      "    pyodbc-4.0.32              |   py37he9d5cce_1          68 KB\n",
      "    pyopenssl-22.0.0           |     pyhd3eb1b0_0          50 KB\n",
      "    pyparsing-3.0.4            |     pyhd3eb1b0_0          81 KB\n",
      "    pyrsistent-0.18.0          |   py37hca72f7f_0          93 KB\n",
      "    pysocks-1.7.1              |   py37hecd8cb5_0          31 KB\n",
      "    pytables-3.6.1             |   py37h5bccee9_0         1.1 MB\n",
      "    pytest-7.1.2               |   py37hecd8cb5_0         441 KB\n",
      "    pytest-arraydiff-0.3       |   py37h01d92e1_0          16 KB\n",
      "    pytest-astropy-0.10.0      |   py37hecd8cb5_0          11 KB\n",
      "    pytest-astropy-header-0.1.2|     pyhd3eb1b0_0          10 KB\n",
      "    pytest-cov-3.0.0           |     pyhd3eb1b0_0          22 KB\n",
      "    pytest-doctestplus-0.11.1  |     pyhd3eb1b0_0          24 KB\n",
      "    pytest-filter-subpackage-0.1.1|     pyhd3eb1b0_0           9 KB\n",
      "    pytest-mock-3.7.0          |   py37hecd8cb5_0          28 KB\n",
      "    pytest-openfiles-0.5.0     |     pyhd3eb1b0_0          10 KB\n",
      "    python-dateutil-2.8.2      |     pyhd3eb1b0_0         233 KB\n",
      "    python-fastjsonschema-2.15.1|     pyhd3eb1b0_0          29 KB\n",
      "    python-libarchive-c-2.9    |     pyhd3eb1b0_1          47 KB\n",
      "    pytz-2022.1                |   py37hecd8cb5_0         196 KB\n",
      "    pywavelets-1.3.0           |   py37hca72f7f_0         3.4 MB\n",
      "    pyyaml-6.0                 |   py37hca72f7f_1         155 KB\n",
      "    pyzmq-23.2.0               |   py37he9d5cce_0         410 KB\n",
      "    qtawesome-1.0.3            |     pyhd3eb1b0_0         761 KB\n",
      "    qtconsole-5.3.1            |   py37hecd8cb5_0         177 KB\n",
      "    qtpy-2.0.1                 |     pyhd3eb1b0_0          40 KB\n",
      "    regex-2022.3.15            |   py37hca72f7f_0         324 KB\n",
      "    requests-2.28.1            |   py37hecd8cb5_0          93 KB\n",
      "    ripgrep-12.1.1             |                0         1.3 MB\n",
      "    rope-0.22.0                |     pyhd3eb1b0_0         129 KB\n",
      "    ruamel_yaml-0.15.100       |   py37h9ed2024_0         243 KB\n",
      "    scikit-learn-1.0.2         |   py37hae1ba45_1         5.1 MB\n",
      "    scipy-1.7.3                |   py37h8c7af03_0        15.5 MB\n",
      "    send2trash-1.8.0           |     pyhd3eb1b0_1          19 KB\n",
      "    setuptools-61.2.0          |   py37hecd8cb5_0        1008 KB\n",
      "    singledispatch-3.7.0       |  pyhd3eb1b0_1001          12 KB\n",
      "    six-1.16.0                 |     pyhd3eb1b0_1          18 KB\n",
      "    snappy-1.1.9               |       he9d5cce_0         978 KB\n",
      "    sniffio-1.2.0              |   py37hecd8cb5_1          14 KB\n",
      "    snowballstemmer-2.2.0      |     pyhd3eb1b0_0          61 KB\n",
      "    sortedcollections-2.1.0    |     pyhd3eb1b0_0          12 KB\n",
      "    sortedcontainers-2.4.0     |     pyhd3eb1b0_0          26 KB\n",
      "    soupsieve-2.3.1            |     pyhd3eb1b0_0          34 KB\n",
      "    sphinx-5.0.2               |   py37hecd8cb5_0         1.7 MB\n",
      "    sphinxcontrib-applehelp-1.0.2|     pyhd3eb1b0_0          29 KB\n",
      "    sphinxcontrib-devhelp-1.0.2|     pyhd3eb1b0_0          23 KB\n",
      "    sphinxcontrib-htmlhelp-2.0.0|     pyhd3eb1b0_0          32 KB\n",
      "    sphinxcontrib-jsmath-1.0.1 |     pyhd3eb1b0_0           8 KB\n",
      "    sphinxcontrib-qthelp-1.0.3 |     pyhd3eb1b0_0          26 KB\n",
      "    sphinxcontrib-serializinghtml-1.1.5|     pyhd3eb1b0_0          25 KB\n",
      "    sphinxcontrib-websupport-1.2.4|             py_0          34 KB\n",
      "    sqlalchemy-1.4.39          |   py37hca72f7f_0         1.9 MB\n",
      "    statsmodels-0.13.2         |   py37hca72f7f_0         8.3 MB\n",
      "    sympy-1.10.1               |   py37hecd8cb5_0         9.3 MB\n",
      "    tblib-1.7.0                |     pyhd3eb1b0_0          15 KB\n",
      "    terminado-0.13.1           |   py37hecd8cb5_0          30 KB\n",
      "    testpath-0.6.0             |   py37hecd8cb5_0          86 KB\n",
      "    threadpoolctl-2.2.0        |     pyh0d69192_0          16 KB\n",
      "    tk-8.6.12                  |       h5d9f67b_0         3.1 MB\n",
      "    toml-0.10.2                |     pyhd3eb1b0_0          20 KB\n",
      "    tomli-2.0.1                |   py37hecd8cb5_0          25 KB\n",
      "    toolz-0.11.2               |     pyhd3eb1b0_0          49 KB\n",
      "    tornado-6.1                |   py37h9ed2024_0         588 KB\n",
      "    tqdm-4.64.0                |   py37hecd8cb5_0         125 KB\n",
      "    traitlets-5.1.1            |     pyhd3eb1b0_0          84 KB\n",
      "    typed-ast-1.4.3            |   py37h9ed2024_1         180 KB\n",
      "    typing-extensions-4.1.1    |       hd3eb1b0_0           8 KB\n",
      "    typing_extensions-4.1.1    |     pyh06a4308_0          28 KB\n",
      "    unixodbc-2.3.9             |       haf1e3a3_0         251 KB\n",
      "    urllib3-1.26.9             |   py37hecd8cb5_0         182 KB\n",
      "    wcwidth-0.2.5              |     pyhd3eb1b0_0          26 KB\n",
      "    websocket-client-0.58.0    |   py37hecd8cb5_4          67 KB\n",
      "    werkzeug-2.0.3             |     pyhd3eb1b0_0         221 KB\n",
      "    wheel-0.37.1               |     pyhd3eb1b0_0          33 KB\n",
      "    widgetsnbextension-3.5.2   |   py37hecd8cb5_0         650 KB\n",
      "    wrapt-1.13.3               |   py37hca72f7f_2          47 KB\n",
      "    wurlitzer-3.0.2            |   py37hecd8cb5_0          15 KB\n",
      "    xlsxwriter-3.0.3           |     pyhd3eb1b0_0         113 KB\n",
      "    xlwings-0.24.9             |   py37hecd8cb5_0         583 KB\n",
      "    xz-5.2.5                   |       hca72f7f_1         244 KB\n",
      "    yaml-0.2.5                 |       haf1e3a3_0          72 KB\n",
      "    zeromq-4.3.4               |       h23ab428_0         289 KB\n",
      "    zict-2.1.0                 |   py37hecd8cb5_0          20 KB\n",
      "    zipp-3.8.0                 |   py37hecd8cb5_0          16 KB\n",
      "    zlib-1.2.12                |       h4dc903c_2          94 KB\n",
      "    zope-1.0                   |           py37_1           4 KB\n",
      "    zope.event-4.5.0           |           py37_0         209 KB\n",
      "    zope.interface-5.4.0       |   py37h9ed2024_0         299 KB\n",
      "    zstd-1.5.2                 |       hcb37349_0         473 KB\n",
      "    ------------------------------------------------------------\n",
      "                                           Total:       302.2 MB\n",
      "\n",
      "The following NEW packages will be INSTALLED:\n",
      "\n",
      "  anyio              pkgs/main/osx-64::anyio-3.5.0-py37hecd8cb5_0\n",
      "  appdirs            pkgs/main/noarch::appdirs-1.4.4-pyhd3eb1b0_0\n",
      "  argon2-cffi        pkgs/main/noarch::argon2-cffi-21.3.0-pyhd3eb1b0_0\n",
      "  argon2-cffi-bindi~ pkgs/main/osx-64::argon2-cffi-bindings-21.2.0-py37hca72f7f_0\n",
      "  black              pkgs/main/noarch::black-19.10b0-py_0\n",
      "  brotli             pkgs/main/osx-64::brotli-1.0.9-hb1e8313_2\n",
      "  brotlipy           pkgs/main/osx-64::brotlipy-0.7.0-py37h9ed2024_1003\n",
      "  c-ares             pkgs/main/osx-64::c-ares-1.18.1-hca72f7f_0\n",
      "  charset-normalizer pkgs/main/noarch::charset-normalizer-2.0.4-pyhd3eb1b0_0\n",
      "  conda-pack         pkgs/main/noarch::conda-pack-0.6.0-pyhd3eb1b0_0\n",
      "  coverage           pkgs/main/osx-64::coverage-6.3.2-py37hca72f7f_0\n",
      "  dataclasses        pkgs/main/noarch::dataclasses-0.8-pyh6d0b6a4_7\n",
      "  debugpy            pkgs/main/osx-64::debugpy-1.5.1-py37he9d5cce_0\n",
      "  font-ttf-dejavu-s~ pkgs/main/noarch::font-ttf-dejavu-sans-mono-2.37-hd3eb1b0_0\n",
      "  font-ttf-inconsol~ pkgs/main/noarch::font-ttf-inconsolata-2.001-hcb22688_0\n",
      "  font-ttf-source-c~ pkgs/main/noarch::font-ttf-source-code-pro-2.030-hd3eb1b0_0\n",
      "  font-ttf-ubuntu    pkgs/main/noarch::font-ttf-ubuntu-0.83-h8b1ccd4_0\n",
      "  fonts-anaconda     pkgs/main/noarch::fonts-anaconda-1-h8fa9717_0\n",
      "  fonts-conda-ecosy~ pkgs/main/noarch::fonts-conda-ecosystem-1-hd3eb1b0_0\n",
      "  fonttools          pkgs/main/noarch::fonttools-4.25.0-pyhd3eb1b0_0\n",
      "  gdk-pixbuf         pkgs/main/osx-64::gdk-pixbuf-2.42.8-hec4cd9e_0\n",
      "  giflib             pkgs/main/osx-64::giflib-5.2.1-haf1e3a3_0\n",
      "  gts                pkgs/main/osx-64::gts-0.7.6-h6759243_3\n",
      "  hypothesis         pkgs/main/noarch::hypothesis-6.29.3-pyhd3eb1b0_0\n",
      "  importlib-metadata pkgs/main/osx-64::importlib-metadata-4.11.3-py37hecd8cb5_0\n",
      "  importlib_resourc~ pkgs/main/noarch::importlib_resources-5.2.0-pyhd3eb1b0_1\n",
      "  iniconfig          pkgs/main/noarch::iniconfig-1.1.1-pyhd3eb1b0_0\n",
      "  jupyter_server     pkgs/main/osx-64::jupyter_server-1.17.1-py37hecd8cb5_0\n",
      "  jupyterlab_pygmen~ pkgs/main/noarch::jupyterlab_pygments-0.1.2-py_0\n",
      "  jupyterlab_widgets pkgs/main/noarch::jupyterlab_widgets-1.0.0-pyhd3eb1b0_1\n",
      "  lcms2              pkgs/main/osx-64::lcms2-2.12-hf1fd2bf_0\n",
      "  libev              pkgs/main/osx-64::libev-4.33-h9ed2024_1\n",
      "  libgd              pkgs/main/osx-64::libgd-2.3.3-he7e2580_1\n",
      "  libnghttp2         pkgs/main/osx-64::libnghttp2-1.46.0-ha29bfda_0\n",
      "  librsvg            pkgs/main/osx-64::librsvg-2.54.4-h52d90eb_0\n",
      "  libtool            pkgs/main/osx-64::libtool-2.4.6-he9d5cce_1008\n",
      "  libuv              pkgs/main/osx-64::libuv-1.40.0-haf1e3a3_0\n",
      "  libwebp            pkgs/main/osx-64::libwebp-1.2.2-h56c3ce4_0\n",
      "  libwebp-base       pkgs/main/osx-64::libwebp-base-1.2.2-hca72f7f_0\n",
      "  matplotlib-base    pkgs/main/osx-64::matplotlib-base-3.5.1-py37hfb0c5b7_1\n",
      "  matplotlib-inline  pkgs/main/noarch::matplotlib-inline-0.1.2-pyhd3eb1b0_2\n",
      "  munkres            pkgs/main/noarch::munkres-1.1.4-py_0\n",
      "  mypy_extensions    pkgs/main/osx-64::mypy_extensions-0.4.3-py37hecd8cb5_1\n",
      "  nbclassic          pkgs/main/noarch::nbclassic-0.3.5-pyhd3eb1b0_0\n",
      "  nbclient           pkgs/main/osx-64::nbclient-0.5.13-py37hecd8cb5_0\n",
      "  nest-asyncio       pkgs/main/osx-64::nest-asyncio-1.5.5-py37hecd8cb5_0\n",
      "  ninja-base         pkgs/main/osx-64::ninja-base-1.10.2-haf03e11_5\n",
      "  path               pkgs/main/noarch::path-16.2.0-pyhd3eb1b0_0\n",
      "  pathspec           pkgs/main/noarch::pathspec-0.7.0-py_0\n",
      "  platformdirs       pkgs/main/noarch::platformdirs-2.4.0-pyhd3eb1b0_0\n",
      "  prompt-toolkit     pkgs/main/noarch::prompt-toolkit-3.0.20-pyhd3eb1b0_0\n",
      "  pyerfa             pkgs/main/osx-64::pyerfa-2.0.0-py37h9ed2024_0\n",
      "  pytest-astropy-he~ pkgs/main/noarch::pytest-astropy-header-0.1.2-pyhd3eb1b0_0\n",
      "  pytest-cov         pkgs/main/noarch::pytest-cov-3.0.0-pyhd3eb1b0_0\n",
      "  pytest-filter-sub~ pkgs/main/noarch::pytest-filter-subpackage-0.1.1-pyhd3eb1b0_0\n",
      "  pytest-mock        pkgs/main/osx-64::pytest-mock-3.7.0-py37hecd8cb5_0\n",
      "  python-fastjsonsc~ pkgs/main/noarch::python-fastjsonschema-2.15.1-pyhd3eb1b0_0\n",
      "  regex              pkgs/main/osx-64::regex-2022.3.15-py37hca72f7f_0\n",
      "  sniffio            pkgs/main/osx-64::sniffio-1.2.0-py37hecd8cb5_1\n",
      "  threadpoolctl      pkgs/main/noarch::threadpoolctl-2.2.0-pyh0d69192_0\n",
      "  toml               pkgs/main/noarch::toml-0.10.2-pyhd3eb1b0_0\n",
      "  tomli              pkgs/main/osx-64::tomli-2.0.1-py37hecd8cb5_0\n",
      "  typed-ast          pkgs/main/osx-64::typed-ast-1.4.3-py37h9ed2024_1\n",
      "  typing-extensions  pkgs/main/noarch::typing-extensions-4.1.1-hd3eb1b0_0\n",
      "  typing_extensions  pkgs/main/noarch::typing_extensions-4.1.1-pyh06a4308_0\n",
      "  websocket-client   pkgs/main/osx-64::websocket-client-0.58.0-py37hecd8cb5_4\n",
      "  zope               pkgs/main/osx-64::zope-1.0-py37_1\n",
      "  zope.event         pkgs/main/osx-64::zope.event-4.5.0-py37_0\n",
      "  zope.interface     pkgs/main/osx-64::zope.interface-5.4.0-py37h9ed2024_0\n",
      "\n",
      "The following packages will be UPDATED:\n",
      "\n",
      "  anaconda-client                              1.7.2-py37_0 --> 1.10.0-py37hecd8cb5_0\n",
      "  anaconda-project                               0.8.3-py_0 --> 0.10.2-pyhd3eb1b0_0\n",
      "  appnope                                      0.1.0-py37_0 --> 0.1.2-py37hecd8cb5_1001\n",
      "  appscript                            1.1.0-py37h1de35cc_0 --> 1.1.2-py37h9ed2024_0\n",
      "  asn1crypto                                   1.0.1-py37_0 --> 1.5.1-py37hecd8cb5_0\n",
      "  astroid                                      2.3.1-py37_0 --> 2.9.0-py37hecd8cb5_0\n",
      "  astropy                              3.2.2-py37h1de35cc_0 --> 4.3.1-py37hf9932de_0\n",
      "  atomicwrites       pkgs/main/osx-64::atomicwrites-1.3.0-~ --> pkgs/main/noarch::atomicwrites-1.4.0-py_0\n",
      "  attrs                                         19.2.0-py_0 --> 21.4.0-pyhd3eb1b0_0\n",
      "  babel                                          2.7.0-py_0 --> 2.9.1-pyhd3eb1b0_0\n",
      "  backcall           pkgs/main/osx-64::backcall-0.1.0-py37~ --> pkgs/main/noarch::backcall-0.2.0-pyhd3eb1b0_0\n",
      "  backports                                        1.0-py_2 --> 1.1-pyhd3eb1b0_0\n",
      "  backports.functoo~                               1.5-py_2 --> 1.6.4-pyhd3eb1b0_0\n",
      "  backports.os                                 0.1.1-py37_0 --> 0.1.1-py37hecd8cb5_1000\n",
      "  backports.shutil_~ pkgs/main/osx-64::backports.shutil_ge~ --> pkgs/main/noarch::backports.shutil_get_terminal_size-1.0.0-pyhd3eb1b0_3\n",
      "  beautifulsoup4                               4.8.0-py37_0 --> 4.11.1-py37hecd8cb5_0\n",
      "  bitarray                             1.0.1-py37h1de35cc_0 --> 2.5.1-py37hca72f7f_0\n",
      "  bkcharts                                       0.2-py37_0 --> 0.2-py37hecd8cb5_1\n",
      "  bleach              pkgs/main/osx-64::bleach-3.1.0-py37_0 --> pkgs/main/noarch::bleach-4.1.0-pyhd3eb1b0_0\n",
      "  blosc                                   1.16.3-hd9629dc_0 --> 1.21.0-h8346a28_1\n",
      "  bokeh                                        1.3.4-py37_0 --> 2.4.3-py37hecd8cb5_0\n",
      "  bottleneck                           1.2.1-py37h1d22016_1 --> 1.3.5-py37h67323c0_0\n",
      "  cairo              conda-forge::cairo-1.14.12-h9d4d9ac_1~ --> pkgs/main::cairo-1.16.0-h691a603_2\n",
      "  cffi                                1.12.3-py37hb5b8e2f_0 --> 1.15.0-py37hc55c11b_1\n",
      "  chardet                                   3.0.4-py37_1003 --> 4.0.0-py37hecd8cb5_1003\n",
      "  click                                          7.0-py37_0 --> 8.0.4-py37hecd8cb5_0\n",
      "  cloudpickle                                    1.2.2-py_0 --> 2.0.0-pyhd3eb1b0_0\n",
      "  colorama                                     0.4.1-py37_0 --> 0.4.5-py37hecd8cb5_0\n",
      "  conda-package-han~                   1.6.0-py37h1de35cc_0 --> 1.8.1-py37hca72f7f_0\n",
      "  contextlib2                                    0.6.0-py_0 --> 0.6.0.post1-pyhd3eb1b0_0\n",
      "  cryptography                           2.7-py37ha12b0ac_0 --> 37.0.1-py37hf6deb26_0\n",
      "  curl                                    7.65.3-ha441bb4_0 --> 7.82.0-hca72f7f_0\n",
      "  cycler             pkgs/main/osx-64::cycler-0.10.0-py37_0 --> pkgs/main/noarch::cycler-0.11.0-pyhd3eb1b0_0\n",
      "  cython                             0.29.13-py37h0a44026_0 --> 0.29.30-py37he9d5cce_0\n",
      "  cytoolz                             0.10.0-py37h1de35cc_0 --> 0.11.0-py37haf1e3a3_0\n",
      "  dbus                                    1.13.6-h90a0687_0 --> 1.13.18-h18a8e69_0\n",
      "  decorator          pkgs/main/osx-64::decorator-4.4.0-py3~ --> pkgs/main/noarch::decorator-5.1.1-pyhd3eb1b0_0\n",
      "  defusedxml                                     0.6.0-py_0 --> 0.7.1-pyhd3eb1b0_0\n",
      "  docutils                                    0.15.2-py37_0 --> 0.18.1-py37hecd8cb5_3\n",
      "  entrypoints                                    0.3-py37_0 --> 0.4-py37hecd8cb5_0\n",
      "  et_xmlfile                                   1.0.1-py37_0 --> 1.1.0-py37hecd8cb5_0\n",
      "  expat                                    2.2.6-h0a44026_0 --> 2.4.4-he9d5cce_0\n",
      "  filelock                                      3.0.12-py_0 --> 3.6.0-pyhd3eb1b0_0\n",
      "  flask                                          1.1.1-py_0 --> 2.0.3-pyhd3eb1b0_0\n",
      "  freetype                                 2.9.1-hb4e5f40_0 --> 2.11.0-hd8bbffd_0\n",
      "  fribidi             conda-forge::fribidi-1.0.9-h0b31af3_0 --> pkgs/main::fribidi-1.0.10-haf1e3a3_0\n",
      "  fsspec                pkgs/main/noarch::fsspec-0.5.2-py_0 --> pkgs/main/osx-64::fsspec-2022.3.0-py37hecd8cb5_0\n",
      "  future                                      0.17.1-py37_0 --> 0.18.2-py37_1\n",
      "  gettext                               0.19.8.1-h15daf44_3 --> 0.21.0-h7535e17_0\n",
      "  gevent                               1.4.0-py37h1de35cc_0 --> 21.8.0-py37h9ed2024_1\n",
      "  glib                                    2.56.2-hd9629dc_0 --> 2.69.1-h8346a28_1\n",
      "  gmp                                      6.1.2-hb37e062_1 --> 6.2.1-he9d5cce_3\n",
      "  gmpy2                                2.0.8-py37h6ef4df4_2 --> 2.1.2-py37hd5de756_0\n",
      "  graphite2          conda-forge::graphite2-1.3.13-h2098e5~ --> pkgs/main::graphite2-1.3.14-he9d5cce_1\n",
      "  graphviz                                2.40.1-hefbbd9a_2 --> 2.50.0-h196fa6a_0\n",
      "  greenlet                            0.4.15-py37h1de35cc_0 --> 1.1.1-py37h23ab428_0\n",
      "  h5py               conda-forge::h5py-2.9.0-nompi_py37h3d~ --> pkgs/main::h5py-2.10.0-py37h3134771_0\n",
      "  harfbuzz                                 1.8.8-hb8d4a28_0 --> 4.3.0-h3f129a2_0\n",
      "  html5lib           pkgs/main/osx-64::html5lib-1.0.1-py37~ --> pkgs/main/noarch::html5lib-1.1-pyhd3eb1b0_0\n",
      "  icu                                       58.2-h4b95b61_1 --> 58.2-h0a44026_3\n",
      "  idna                    pkgs/main/osx-64::idna-2.8-py37_0 --> pkgs/main/noarch::idna-3.3-pyhd3eb1b0_0\n",
      "  imageio            pkgs/main/osx-64::imageio-2.6.0-py37_0 --> pkgs/main/noarch::imageio-2.9.0-pyhd3eb1b0_0\n",
      "  imagesize                                    1.1.0-py37_0 --> 1.4.1-py37hecd8cb5_0\n",
      "  importlib_metadata pkgs/main/osx-64::importlib_metadata-~ --> pkgs/main/noarch::importlib_metadata-4.11.3-hd3eb1b0_0\n",
      "  intel-openmp                                   2019.4-233 --> 2021.4.0-hecd8cb5_3538\n",
      "  ipykernel                            5.1.2-py37h39e3cac_0 --> 6.9.1-py37hecd8cb5_0\n",
      "  ipython                              7.8.0-py37h39e3cac_0 --> 7.31.1-py37hecd8cb5_0\n",
      "  ipython_genutils   pkgs/main/osx-64::ipython_genutils-0.~ --> pkgs/main/noarch::ipython_genutils-0.2.0-pyhd3eb1b0_1\n",
      "  ipywidgets                                     7.5.1-py_0 --> 7.6.5-pyhd3eb1b0_1\n",
      "  isort               pkgs/main/osx-64::isort-4.3.21-py37_0 --> pkgs/main/noarch::isort-5.9.3-pyhd3eb1b0_0\n",
      "  itsdangerous       pkgs/main/osx-64::itsdangerous-1.1.0-~ --> pkgs/main/noarch::itsdangerous-2.0.1-pyhd3eb1b0_0\n",
      "  jedi                                        0.15.1-py37_0 --> 0.18.1-py37hecd8cb5_1\n",
      "  jinja2                                        2.10.3-py_0 --> 3.0.3-pyhd3eb1b0_0\n",
      "  joblib             pkgs/main/osx-64::joblib-0.13.2-py37_0 --> pkgs/main/noarch::joblib-1.1.0-pyhd3eb1b0_0\n",
      "  jpeg                                        9b-he5867d9_2 --> 9e-hca72f7f_0\n",
      "  json5                                          0.8.5-py_0 --> 0.9.6-pyhd3eb1b0_0\n",
      "  jsonschema                                   3.0.2-py37_0 --> 4.4.0-py37hecd8cb5_0\n",
      "  jupyter_client                               5.3.3-py37_1 --> 7.2.2-py37hecd8cb5_0\n",
      "  jupyter_console    pkgs/main/osx-64::jupyter_console-6.0~ --> pkgs/main/noarch::jupyter_console-6.4.3-pyhd3eb1b0_0\n",
      "  jupyter_core       pkgs/main/noarch::jupyter_core-4.5.0-~ --> pkgs/main/osx-64::jupyter_core-4.10.0-py37hecd8cb5_0\n",
      "  jupyterlab                             1.1.4-pyhf63ae98_0 --> 3.3.2-pyhd3eb1b0_0\n",
      "  jupyterlab_server  pkgs/main/noarch::jupyterlab_server-1~ --> pkgs/main/osx-64::jupyterlab_server-2.12.0-py37hecd8cb5_0\n",
      "  keyring                                     18.0.0-py37_0 --> 23.4.0-py37hecd8cb5_0\n",
      "  kiwisolver                           1.1.0-py37h0a44026_0 --> 1.4.2-py37he9d5cce_0\n",
      "  krb5                                    1.16.1-hddcf347_7 --> 1.19.2-hcd88c3b_0\n",
      "  lazy-object-proxy                    1.4.2-py37h1de35cc_0 --> 1.6.0-py37h9ed2024_0\n",
      "  libarchive                               3.3.3-h786848e_5 --> 3.5.2-ha0e9c3a_0\n",
      "  libcurl                                 7.65.3-h051b688_0 --> 7.82.0-h6dfd666_0\n",
      "  libcxx                                   4.0.1-hcfea43d_1 --> 12.0.0-h2f01273_0\n",
      "  libedit                           3.1.20181209-hb402a30_0 --> 3.1.20210910-hca72f7f_0\n",
      "  libffi                                   3.2.1-h475c297_4 --> 3.3-hb1e8313_2\n",
      "  libiconv                                  1.15-hdd342a3_7 --> 1.16-hca72f7f_2\n",
      "  liblief                                  0.9.0-h2a1bed3_2 --> 0.11.5-he9d5cce_1\n",
      "  libsodium                               1.0.16-h3efe00b_0 --> 1.0.18-h1de35cc_0\n",
      "  libssh2                                  1.8.2-ha12b0ac_0 --> 1.10.0-h0a4fc7d_0\n",
      "  libtiff                                 4.0.10-hcb84e12_2 --> 4.2.0-hdb42f99_1\n",
      "  libxml2                                  2.9.9-hf6e021a_1 --> 2.9.14-hbf8cd5e_0\n",
      "  libxslt                                 1.1.33-h33a18ac_0 --> 1.1.35-h5b33f42_0\n",
      "  llvm-openmp                              4.0.1-hcfea43d_1 --> 12.0.0-h0dcd299_1\n",
      "  locket                                       0.2.0-py37_1 --> 1.0.0-py37hecd8cb5_0\n",
      "  lxml                                 4.4.1-py37hef8c89e_0 --> 4.9.1-py37h65b224f_0\n",
      "  lz4-c                                  1.8.1.2-h1de35cc_0 --> 1.9.3-h23ab428_1\n",
      "  markupsafe                           1.1.1-py37h1de35cc_0 --> 2.1.1-py37hca72f7f_0\n",
      "  matplotlib                           3.1.1-py37h54f8f79_0 --> 3.5.1-py37hecd8cb5_1\n",
      "  mccabe              pkgs/main/osx-64::mccabe-0.6.1-py37_1 --> pkgs/main/noarch::mccabe-0.7.0-pyhd3eb1b0_0\n",
      "  mkl                                            2019.4-233 --> 2021.4.0-hecd8cb5_637\n",
      "  mkl-service                          2.3.0-py37hfbe908c_0 --> 2.4.0-py37h9ed2024_0\n",
      "  mkl_fft                             1.0.14-py37h5e564d8_0 --> 1.3.1-py37h4ab4a9b_0\n",
      "  mkl_random                           1.1.0-py37ha771720_0 --> 1.2.2-py37hb2f4e1b_0\n",
      "  mock                  pkgs/main/osx-64::mock-3.0.5-py37_0 --> pkgs/main/noarch::mock-4.0.3-pyhd3eb1b0_0\n",
      "  more-itertools     pkgs/main/osx-64::more-itertools-7.2.~ --> pkgs/main/noarch::more-itertools-8.12.0-pyhd3eb1b0_0\n",
      "  mpfr                                     4.0.1-h3018a27_3 --> 4.0.2-h9066e36_1\n",
      "  mpmath                                       1.1.0-py37_0 --> 1.2.1-py37hecd8cb5_0\n",
      "  msgpack-python                       0.6.1-py37h04f5b5a_1 --> 1.0.3-py37haf03e11_0\n",
      "  nbconvert                                    5.6.0-py37_1 --> 6.4.4-py37hecd8cb5_0\n",
      "  nbformat                                     4.4.0-py37_0 --> 5.3.0-py37hecd8cb5_0\n",
      "  ncurses                                    6.1-h0a44026_1 --> 6.3-hca72f7f_3\n",
      "  ninja                                1.9.0-py37h04f5b5a_0 --> 1.10.2-hecd8cb5_5\n",
      "  nltk                  pkgs/main/osx-64::nltk-3.4.5-py37_0 --> pkgs/main/noarch::nltk-3.7-pyhd3eb1b0_0\n",
      "  nose                  pkgs/main/osx-64::nose-1.3.7-py37_2 --> pkgs/main/noarch::nose-1.3.7-pyhd3eb1b0_1008\n",
      "  notebook                                     6.0.1-py37_0 --> 6.4.11-py37hecd8cb5_0\n",
      "  numexpr                              2.7.0-py37h7413580_0 --> 2.8.3-py37h2e5f0a9_0\n",
      "  numpy                               1.17.2-py37h99e6662_0 --> 1.21.5-py37h2e5f0a9_3\n",
      "  numpy-base                          1.17.2-py37h6575580_0 --> 1.21.5-py37h3b1a694_3\n",
      "  numpydoc            pkgs/main/noarch::numpydoc-0.9.1-py_0 --> pkgs/main/osx-64::numpydoc-1.4.0-py37hecd8cb5_0\n",
      "  openpyxl            pkgs/main/noarch::openpyxl-3.0.0-py_0 --> pkgs/main/osx-64::openpyxl-3.0.10-py37hca72f7f_0\n",
      "  packaging                                       19.2-py_0 --> 21.3-pyhd3eb1b0_0\n",
      "  pandas             conda-forge::pandas-0.25.1-py37h86efe~ --> pkgs/main::pandas-1.3.5-py37h743cdd8_0\n",
      "  pandoc                                          2.2.3.2-0 --> 2.12-hecd8cb5_0\n",
      "  pandocfilters      pkgs/main/osx-64::pandocfilters-1.4.2~ --> pkgs/main/noarch::pandocfilters-1.5.0-pyhd3eb1b0_0\n",
      "  pango                                   1.42.4-h060686c_0 --> 1.50.7-h80fe9ab_0\n",
      "  parso                                          0.5.1-py_0 --> 0.8.3-pyhd3eb1b0_0\n",
      "  partd                                          1.0.0-py_0 --> 1.2.0-pyhd3eb1b0_1\n",
      "  path.py                                       12.0.1-py_0 --> 12.5.0-hd3eb1b0_0\n",
      "  pathlib2                                     2.3.5-py37_0 --> 2.3.6-py37hecd8cb5_2\n",
      "  patsy                                        0.5.1-py37_0 --> 0.5.2-py37hecd8cb5_1\n",
      "  pcre                                      8.43-h0a44026_0 --> 8.45-h23ab428_0\n",
      "  pep8                                         1.7.1-py37_0 --> 1.7.1-py37hecd8cb5_1\n",
      "  pexpect            pkgs/main/osx-64::pexpect-4.7.0-py37_0 --> pkgs/main/noarch::pexpect-4.8.0-pyhd3eb1b0_3\n",
      "  pickleshare        pkgs/main/osx-64::pickleshare-0.7.5-p~ --> pkgs/main/noarch::pickleshare-0.7.5-pyhd3eb1b0_1003\n",
      "  pillow                               6.2.0-py37hb68e598_0 --> 9.2.0-py37hde71d04_1\n",
      "  pip                                         19.2.3-py37_0 --> 22.1.2-py37hecd8cb5_0\n",
      "  pixman             conda-forge::pixman-0.34.0-h1de35cc_1~ --> pkgs/main::pixman-0.40.0-h9ed2024_1\n",
      "  pkginfo            pkgs/main/osx-64::pkginfo-1.5.0.1-py3~ --> pkgs/main/noarch::pkginfo-1.8.2-pyhd3eb1b0_0\n",
      "  pluggy                                      0.13.0-py37_0 --> 1.0.0-py37hecd8cb5_1\n",
      "  prometheus_client                              0.7.1-py_0 --> 0.13.1-pyhd3eb1b0_0\n",
      "  prompt_toolkit                                2.0.10-py_0 --> 3.0.20-hd3eb1b0_0\n",
      "  psutil                               5.6.3-py37h1de35cc_0 --> 5.9.0-py37hca72f7f_0\n",
      "  ptyprocess         pkgs/main/osx-64::ptyprocess-0.6.0-py~ --> pkgs/main/noarch::ptyprocess-0.7.0-pyhd3eb1b0_2\n",
      "  py                      pkgs/main/osx-64::py-1.8.0-py37_0 --> pkgs/main/noarch::py-1.11.0-pyhd3eb1b0_0\n",
      "  py-lief                              0.9.0-py37h1413db1_2 --> 0.11.5-py37he9d5cce_1\n",
      "  pycodestyle        pkgs/main/osx-64::pycodestyle-2.5.0-p~ --> pkgs/main/noarch::pycodestyle-2.8.0-pyhd3eb1b0_0\n",
      "  pycparser          pkgs/main/osx-64::pycparser-2.19-py37~ --> pkgs/main/noarch::pycparser-2.21-pyhd3eb1b0_0\n",
      "  pycrypto                             2.6.1-py37h1de35cc_9 --> 2.6.1-py37haf1e3a3_10\n",
      "  pycurl                            7.43.0.3-py37ha12b0ac_0 --> 7.45.1-py37h0a4fc7d_0\n",
      "  pyflakes           pkgs/main/osx-64::pyflakes-2.1.1-py37~ --> pkgs/main/noarch::pyflakes-2.4.0-pyhd3eb1b0_0\n",
      "  pygments                                       2.4.2-py_0 --> 2.11.2-pyhd3eb1b0_0\n",
      "  pylint                                       2.4.2-py37_0 --> 2.12.2-py37hecd8cb5_1\n",
      "  pyodbc                              4.0.27-py37h0a44026_0 --> 4.0.32-py37he9d5cce_1\n",
      "  pyopenssl          pkgs/main/osx-64::pyopenssl-19.0.0-py~ --> pkgs/main/noarch::pyopenssl-22.0.0-pyhd3eb1b0_0\n",
      "  pyparsing                                      2.4.2-py_0 --> 3.0.4-pyhd3eb1b0_0\n",
      "  pyrsistent                          0.15.4-py37h1de35cc_0 --> 0.18.0-py37hca72f7f_0\n",
      "  pytables                             3.5.2-py37h5bccee9_1 --> 3.6.1-py37h5bccee9_0\n",
      "  pytest                                       5.2.1-py37_0 --> 7.1.2-py37hecd8cb5_0\n",
      "  pytest-astropy                               0.5.0-py37_0 --> 0.10.0-py37hecd8cb5_0\n",
      "  pytest-doctestplus                             0.4.0-py_0 --> 0.11.1-pyhd3eb1b0_0\n",
      "  pytest-openfiles                               0.4.0-py_0 --> 0.5.0-pyhd3eb1b0_0\n",
      "  python-dateutil    pkgs/main/osx-64::python-dateutil-2.8~ --> pkgs/main/noarch::python-dateutil-2.8.2-pyhd3eb1b0_0\n",
      "  python-libarchive~ pkgs/main/osx-64::python-libarchive-c~ --> pkgs/main/noarch::python-libarchive-c-2.9-pyhd3eb1b0_1\n",
      "  pytz                   pkgs/main/noarch::pytz-2019.3-py_0 --> pkgs/main/osx-64::pytz-2022.1-py37hecd8cb5_0\n",
      "  pywavelets                           1.0.3-py37h1d22016_1 --> 1.3.0-py37hca72f7f_0\n",
      "  pyyaml                               5.1.2-py37h1de35cc_0 --> 6.0-py37hca72f7f_1\n",
      "  pyzmq                               18.1.0-py37h0a44026_0 --> 23.2.0-py37he9d5cce_0\n",
      "  qtawesome                                      0.6.0-py_0 --> 1.0.3-pyhd3eb1b0_0\n",
      "  qtconsole          pkgs/main/noarch::qtconsole-4.5.5-py_0 --> pkgs/main/osx-64::qtconsole-5.3.1-py37hecd8cb5_0\n",
      "  qtpy                                           1.9.0-py_0 --> 2.0.1-pyhd3eb1b0_0\n",
      "  requests                                    2.22.0-py37_0 --> 2.28.1-py37hecd8cb5_0\n",
      "  ripgrep                                 0.10.0-hc07d326_0 --> 12.1.1-0\n",
      "  rope                                          0.14.0-py_0 --> 0.22.0-pyhd3eb1b0_0\n",
      "  ruamel_yaml                        0.15.46-py37h1de35cc_0 --> 0.15.100-py37h9ed2024_0\n",
      "  scikit-learn                        0.21.3-py37h27c97d8_0 --> 1.0.2-py37hae1ba45_1\n",
      "  scipy                                1.4.1-py37h9fa6033_0 --> 1.7.3-py37h8c7af03_0\n",
      "  send2trash         pkgs/main/osx-64::send2trash-1.5.0-py~ --> pkgs/main/noarch::send2trash-1.8.0-pyhd3eb1b0_1\n",
      "  setuptools                                  41.4.0-py37_0 --> 61.2.0-py37hecd8cb5_0\n",
      "  singledispatch     pkgs/main/osx-64::singledispatch-3.4.~ --> pkgs/main/noarch::singledispatch-3.7.0-pyhd3eb1b0_1001\n",
      "  six                   pkgs/main/osx-64::six-1.12.0-py37_0 --> pkgs/main/noarch::six-1.16.0-pyhd3eb1b0_1\n",
      "  snappy                                   1.1.7-he62c110_3 --> 1.1.9-he9d5cce_0\n",
      "  snowballstemmer                                2.0.0-py_0 --> 2.2.0-pyhd3eb1b0_0\n",
      "  sortedcollections  pkgs/main/osx-64::sortedcollections-1~ --> pkgs/main/noarch::sortedcollections-2.1.0-pyhd3eb1b0_0\n",
      "  sortedcontainers   pkgs/main/osx-64::sortedcontainers-2.~ --> pkgs/main/noarch::sortedcontainers-2.4.0-pyhd3eb1b0_0\n",
      "  soupsieve          pkgs/main/osx-64::soupsieve-1.9.3-py3~ --> pkgs/main/noarch::soupsieve-2.3.1-pyhd3eb1b0_0\n",
      "  sphinx                pkgs/main/noarch::sphinx-2.2.0-py_0 --> pkgs/main/osx-64::sphinx-5.0.2-py37hecd8cb5_0\n",
      "  sphinxcontrib-app~                             1.0.1-py_0 --> 1.0.2-pyhd3eb1b0_0\n",
      "  sphinxcontrib-dev~                             1.0.1-py_0 --> 1.0.2-pyhd3eb1b0_0\n",
      "  sphinxcontrib-htm~                             1.0.2-py_0 --> 2.0.0-pyhd3eb1b0_0\n",
      "  sphinxcontrib-qth~                             1.0.2-py_0 --> 1.0.3-pyhd3eb1b0_0\n",
      "  sphinxcontrib-ser~                             1.1.3-py_0 --> 1.1.5-pyhd3eb1b0_0\n",
      "  sphinxcontrib-web~                             1.1.2-py_0 --> 1.2.4-py_0\n",
      "  sqlalchemy                           1.3.9-py37h1de35cc_0 --> 1.4.39-py37hca72f7f_0\n",
      "  statsmodels                         0.10.1-py37h1d22016_0 --> 0.13.2-py37hca72f7f_0\n",
      "  sympy                                          1.4-py37_0 --> 1.10.1-py37hecd8cb5_0\n",
      "  tblib                                          1.4.0-py_0 --> 1.7.0-pyhd3eb1b0_0\n",
      "  terminado                                    0.8.2-py37_0 --> 0.13.1-py37hecd8cb5_0\n",
      "  testpath                                     0.4.2-py37_0 --> 0.6.0-py37hecd8cb5_0\n",
      "  tk                                       8.6.8-ha441bb4_0 --> 8.6.12-h5d9f67b_0\n",
      "  toolz                                         0.10.0-py_0 --> 0.11.2-pyhd3eb1b0_0\n",
      "  tornado                              6.0.3-py37h1de35cc_0 --> 6.1-py37h9ed2024_0\n",
      "  tqdm                   pkgs/main/noarch::tqdm-4.36.1-py_0 --> pkgs/main/osx-64::tqdm-4.64.0-py37hecd8cb5_0\n",
      "  traitlets          pkgs/main/osx-64::traitlets-4.3.3-py3~ --> pkgs/main/noarch::traitlets-5.1.1-pyhd3eb1b0_0\n",
      "  unixodbc                                 2.3.7-h1de35cc_0 --> 2.3.9-haf1e3a3_0\n",
      "  urllib3                                     1.24.2-py37_0 --> 1.26.9-py37hecd8cb5_0\n",
      "  wcwidth            pkgs/main/osx-64::wcwidth-0.1.7-py37_0 --> pkgs/main/noarch::wcwidth-0.2.5-pyhd3eb1b0_0\n",
      "  werkzeug                                      0.16.0-py_0 --> 2.0.3-pyhd3eb1b0_0\n",
      "  wheel               pkgs/main/osx-64::wheel-0.33.6-py37_0 --> pkgs/main/noarch::wheel-0.37.1-pyhd3eb1b0_0\n",
      "  widgetsnbextension                           3.5.1-py37_0 --> 3.5.2-py37hecd8cb5_0\n",
      "  wrapt                               1.11.2-py37h1de35cc_0 --> 1.13.3-py37hca72f7f_2\n",
      "  wurlitzer                                    1.0.3-py37_0 --> 3.0.2-py37hecd8cb5_0\n",
      "  xlsxwriter                                     1.2.1-py_0 --> 3.0.3-pyhd3eb1b0_0\n",
      "  xlwings                                    0.15.10-py37_0 --> 0.24.9-py37hecd8cb5_0\n",
      "  xz                                       5.2.4-h1de35cc_4 --> 5.2.5-hca72f7f_1\n",
      "  yaml                                     0.1.7-hc338f04_2 --> 0.2.5-haf1e3a3_0\n",
      "  zeromq                                   4.3.1-h0a44026_3 --> 4.3.4-h23ab428_0\n",
      "  zict                    pkgs/main/noarch::zict-1.0.0-py_0 --> pkgs/main/osx-64::zict-2.1.0-py37hecd8cb5_0\n",
      "  zipp                    pkgs/main/noarch::zipp-0.6.0-py_0 --> pkgs/main/osx-64::zipp-3.8.0-py37hecd8cb5_0\n",
      "  zlib                                    1.2.11-h1de35cc_3 --> 1.2.12-h4dc903c_2\n",
      "  zstd                                     1.3.7-h5bba6e5_0 --> 1.5.2-hcb37349_0\n",
      "\n",
      "The following packages will be SUPERSEDED by a higher-priority channel:\n",
      "\n",
      "  altair                                        conda-forge --> pkgs/main\n",
      "  ca-certificates    conda-forge::ca-certificates-2022.6.1~ --> pkgs/main::ca-certificates-2022.4.26-hecd8cb5_0\n",
      "  certifi            conda-forge::certifi-2022.6.15-py37hf~ --> pkgs/main::certifi-2022.6.15-py37hecd8cb5_0\n",
      "  conda              conda-forge::conda-4.13.0-py37hf98548~ --> pkgs/main::conda-4.13.0-py37hecd8cb5_0\n",
      "  fontconfig         conda-forge::fontconfig-2.13.1-h1027a~ --> pkgs/main::fontconfig-2.13.1-ha9ee91d_0\n",
      "  openssl            conda-forge::openssl-1.1.1q-hfe4f2af_0 --> pkgs/main::openssl-1.1.1q-hca72f7f_0\n",
      "\n",
      "The following packages will be DOWNGRADED:\n",
      "\n",
      "  backports.tempfile                               1.0-py_1 --> 1.0-pyhd3eb1b0_1\n",
      "  glob2                                            0.7-py_0 --> 0.7-pyhd3eb1b0_0\n",
      "  heapdict                                       1.0.1-py_0 --> 1.0.1-pyhd3eb1b0_0\n",
      "  jdcal                                          1.4.1-py_0 --> 1.4.1-pyhd3eb1b0_0\n",
      "  lzo                                       2.10-h362108e_2 --> 2.10-haf1e3a3_2\n",
      "  pycosat                              0.6.3-py37h1de35cc_0 --> 0.6.3-py37h9ed2024_0\n",
      "  pysocks                                      1.7.1-py37_0 --> 1.7.1-py37hecd8cb5_0\n",
      "  pytest-arraydiff                       0.3-py37h39e3cac_0 --> 0.3-py37h01d92e1_0\n",
      "  sphinxcontrib-jsm~                             1.0.1-py_0 --> 1.0.1-pyhd3eb1b0_0\n",
      "\n",
      "\n",
      "\n",
      "Downloading and Extracting Packages\n"
     ]
    },
    {
     "name": "stdout",
     "output_type": "stream",
     "text": [
      "sortedcontainers-2.4 | 26 KB     | ##################################### | 100% \n",
      "freetype-2.11.0      | 589 KB    | ##################################### | 100% \n",
      "isort-5.9.3          | 83 KB     | ##################################### | 100% \n",
      "numexpr-2.8.3        | 121 KB    | ##################################### | 100% \n",
      "matplotlib-inline-0. | 12 KB     | ##################################### | 100% \n",
      "joblib-1.1.0         | 211 KB    | ##################################### | 100% \n",
      "entrypoints-0.4      | 16 KB     | ##################################### | 100% \n",
      "xlsxwriter-3.0.3     | 113 KB    | ##################################### | 100% \n",
      "glob2-0.7            | 12 KB     | ##################################### | 100% \n",
      "libgd-2.3.3          | 198 KB    | ##################################### | 100% \n",
      "mock-4.0.3           | 29 KB     | ##################################### | 100% \n",
      "fonts-anaconda-1     | 3 KB      | ##################################### | 100% \n",
      "importlib_resources- | 21 KB     | ##################################### | 100% \n",
      "patsy-0.5.2          | 275 KB    | ##################################### | 100% \n",
      "ipython_genutils-0.2 | 27 KB     | ##################################### | 100% \n",
      "hypothesis-6.29.3    | 257 KB    | ##################################### | 100% \n",
      "libuv-1.40.0         | 334 KB    | ##################################### | 100% \n",
      "zope-1.0             | 4 KB      | ##################################### | 100% \n",
      "jdcal-1.4.1          | 10 KB     | ##################################### | 100% \n",
      "zstd-1.5.2           | 473 KB    | ##################################### | 100% \n",
      "tk-8.6.12            | 3.1 MB    | ##################################### | 100% \n",
      "graphviz-2.50.0      | 2.4 MB    | ##################################### | 100% \n",
      "font-ttf-inconsolata | 83 KB     | ##################################### | 100% \n",
      "pyzmq-23.2.0         | 410 KB    | ##################################### | 100% \n",
      "threadpoolctl-2.2.0  | 16 KB     | ##################################### | 100% \n",
      "python-fastjsonschem | 29 KB     | ##################################### | 100% \n",
      "fonttools-4.25.0     | 632 KB    | ##################################### | 100% \n",
      "platformdirs-2.4.0   | 16 KB     | ##################################### | 100% \n",
      "qtawesome-1.0.3      | 761 KB    | ##################################### | 100% \n",
      "pysocks-1.7.1        | 31 KB     | ##################################### | 100% \n",
      "blosc-1.21.0         | 52 KB     | ##################################### | 100% \n",
      "libwebp-base-1.2.2   | 393 KB    | ##################################### | 100% \n",
      "munkres-1.1.4        | 13 KB     | ##################################### | 100% \n",
      "font-ttf-ubuntu-0.83 | 1.5 MB    | ##################################### | 100% \n",
      "pytz-2022.1          | 196 KB    | ##################################### | 100% \n",
      "backports.shutil_get | 10 KB     | ##################################### | 100% \n",
      "pyyaml-6.0           | 155 KB    | ##################################### | 100% \n",
      "tornado-6.1          | 588 KB    | ##################################### | 100% \n",
      "jupyter_client-7.2.2 | 192 KB    | ##################################### | 100% \n",
      "argon2-cffi-21.3.0   | 15 KB     | ##################################### | 100% \n",
      "nest-asyncio-1.5.5   | 16 KB     | ##################################### | 100% \n",
      "mkl_random-1.2.2     | 263 KB    | ##################################### | 100% \n",
      "sphinxcontrib-devhel | 23 KB     | ##################################### | 100% \n",
      "backcall-0.2.0       | 13 KB     | ##################################### | 100% \n",
      "py-1.11.0            | 76 KB     | ##################################### | 100% \n",
      "ruamel_yaml-0.15.100 | 243 KB    | ##################################### | 100% \n",
      "kiwisolver-1.4.2     | 55 KB     | ##################################### | 100% \n",
      "pytables-3.6.1       | 1.1 MB    | ##################################### | 100% \n",
      "black-19.10b0        | 86 KB     | ##################################### | 100% \n",
      "gts-0.7.6            | 276 KB    | ##################################### | 100% \n",
      "sphinxcontrib-appleh | 29 KB     | ##################################### | 100% \n",
      "ninja-1.10.2         | 9 KB      | ##################################### | 100% \n",
      "jupyterlab_widgets-1 | 109 KB    | ##################################### | 100% \n",
      "h5py-2.10.0          | 810 KB    | ##################################### | 100% \n",
      "backports.tempfile-1 | 11 KB     | ##################################### | 100% \n",
      "pyerfa-2.0.0         | 356 KB    | ##################################### | 100% \n",
      "curl-7.82.0          | 84 KB     | ##################################### | 100% \n",
      "docutils-0.18.1      | 664 KB    | ##################################### | 100% \n",
      "werkzeug-2.0.3       | 221 KB    | ##################################### | 100% \n",
      "pytest-7.1.2         | 441 KB    | ##################################### | 100% \n",
      "pycrypto-2.6.1       | 365 KB    | ##################################### | 100% \n",
      "json5-0.9.6          | 21 KB     | ##################################### | 100% \n",
      "lazy-object-proxy-1. | 28 KB     | ##################################### | 100% \n",
      "pexpect-4.8.0        | 53 KB     | ##################################### | 100% \n",
      "pickleshare-0.7.5    | 13 KB     | ##################################### | 100% \n",
      "jinja2-3.0.3         | 106 KB    | ##################################### | 100% \n",
      "pathlib2-2.3.6       | 36 KB     | ##################################### | 100% \n",
      "altair-4.1.0         | 484 KB    | ##################################### | 100% \n",
      "jupyter_server-1.17. | 353 KB    | ##################################### | 100% \n",
      "tqdm-4.64.0          | 125 KB    | ##################################### | 100% \n",
      "graphite2-1.3.14     | 82 KB     | ##################################### | 100% \n",
      "requests-2.28.1      | 93 KB     | ##################################### | 100% \n",
      "et_xmlfile-1.1.0     | 10 KB     | ##################################### | 100% \n",
      "libarchive-3.5.2     | 713 KB    | ##################################### | 100% \n",
      "yaml-0.2.5           | 72 KB     | ##################################### | 100% \n",
      "mypy_extensions-0.4. | 10 KB     | ##################################### | 100% \n",
      "contextlib2-0.6.0.po | 13 KB     | ##################################### | 100% \n",
      "zeromq-4.3.4         | 289 KB    | ##################################### | 100% \n",
      "lz4-c-1.9.3          | 140 KB    | ##################################### | 100% \n",
      "dbus-1.13.18         | 445 KB    | ##################################### | 100% \n",
      "typing_extensions-4. | 28 KB     | ##################################### | 100% \n",
      "sphinxcontrib-htmlhe | 32 KB     | ##################################### | 100% \n",
      "keyring-23.4.0       | 55 KB     | ##################################### | 100% \n",
      "cython-0.29.30       | 1.8 MB    | ##################################### | 100% \n",
      "snowballstemmer-2.2. | 61 KB     | ##################################### | 100% \n",
      "pytest-astropy-heade | 10 KB     | ##################################### | 100% \n",
      "matplotlib-3.5.1     | 7 KB      | ##################################### | 100% \n",
      "matplotlib-base-3.5. | 5.6 MB    | ##################################### | 100% \n",
      "imageio-2.9.0        | 3.0 MB    | ##################################### | 100% \n",
      "setuptools-61.2.0    | 1008 KB   | ##################################### | 100% \n",
      "openpyxl-3.0.10      | 499 KB    | ##################################### | 100% \n",
      "pip-22.1.2           | 2.4 MB    | ##################################### | 100% \n",
      "libxslt-1.1.35       | 420 KB    | ##################################### | 100% \n",
      "prompt-toolkit-3.0.2 | 259 KB    | ##################################### | 100% \n",
      "chardet-4.0.0        | 194 KB    | ##################################### | 100% \n",
      "websocket-client-0.5 | 67 KB     | ##################################### | 100% \n",
      "flask-2.0.3          | 76 KB     | ##################################### | 100% \n",
      "jupyterlab_server-2. | 77 KB     | ##################################### | 100% \n",
      "harfbuzz-4.3.0       | 1.0 MB    | ##################################### | 100% \n",
      "snappy-1.1.9         | 978 KB    | ##################################### | 100% \n",
      "six-1.16.0           | 18 KB     | ##################################### | 100% \n",
      "more-itertools-8.12. | 49 KB     | ##################################### | 100% \n",
      "soupsieve-2.3.1      | 34 KB     | ##################################### | 100% \n",
      "icu-58.2             | 10.1 MB   | ##################################### | 100% \n",
      "idna-3.3             | 49 KB     | ##################################### | 100% \n",
      "debugpy-1.5.1        | 1.7 MB    | ##################################### | 100% \n",
      "ninja-base-1.10.2    | 118 KB    | ##################################### | 100% \n",
      "prompt_toolkit-3.0.2 | 12 KB     | ##################################### | 100% \n",
      "pygments-2.11.2      | 759 KB    | ##################################### | 100% \n",
      "giflib-5.2.1         | 70 KB     | ##################################### | 100% \n",
      "pycosat-0.6.3        | 86 KB     | ##################################### | 100% \n",
      "libssh2-1.10.0       | 258 KB    | ##################################### | 100% \n",
      "singledispatch-3.7.0 | 12 KB     | ##################################### | 100% \n",
      "widgetsnbextension-3 | 650 KB    | ##################################### | 100% \n",
      "sqlalchemy-1.4.39    | 1.9 MB    | ##################################### | 100% \n",
      "pixman-0.40.0        | 341 KB    | ##################################### | 100% \n",
      "glib-2.69.1          | 2.7 MB    | ##################################### | 100% \n",
      "sympy-1.10.1         | 9.3 MB    | ##################################### | 100% \n",
      "librsvg-2.54.4       | 4.3 MB    | ##################################### | 100% \n",
      "pandoc-2.12          | 11.0 MB   | ##################################### | 100% \n",
      "markupsafe-2.1.1     | 21 KB     | ##################################### | 100% \n",
      "atomicwrites-1.4.0   | 11 KB     | ##################################### | 100% \n",
      "python-dateutil-2.8. | 233 KB    | ##################################### | 100% \n",
      "openssl-1.1.1q       | 2.2 MB    | ##################################### | 100% \n",
      "jupyterlab-3.3.2     | 3.6 MB    | ##################################### | 100% \n",
      "gmp-6.2.1            | 525 KB    | ##################################### | 100% \n",
      "pathspec-0.7.0       | 26 KB     | ##################################### | 100% \n",
      "traitlets-5.1.1      | 84 KB     | ##################################### | 100% \n",
      "ptyprocess-0.7.0     | 17 KB     | ##################################### | 100% \n",
      "ipython-7.31.1       | 1015 KB   | ##################################### | 100% \n",
      "zlib-1.2.12          | 94 KB     | ##################################### | 100% \n",
      "conda-4.13.0         | 900 KB    | ##################################### | 100% \n",
      "jedi-0.18.1          | 978 KB    | ##################################### | 100% \n",
      "wheel-0.37.1         | 33 KB     | ##################################### | 100% \n",
      "pandocfilters-1.5.0  | 11 KB     | ##################################### | 100% \n",
      "scipy-1.7.3          | 15.5 MB   | ##################################### | 100% \n",
      "sortedcollections-2. | 12 KB     | ##################################### | 100% \n",
      "backports.os-0.1.1   | 16 KB     | ##################################### | 100% \n",
      "psutil-5.9.0         | 337 KB    | ##################################### | 100% \n",
      "pywavelets-1.3.0     | 3.4 MB    | ##################################### | 100% \n",
      "libev-4.33           | 106 KB    | ##################################### | 100% \n",
      "bottleneck-1.3.5     | 112 KB    | ##################################### | 100% \n",
      "html5lib-1.1         | 91 KB     | ##################################### | 100% \n",
      "mpmath-1.2.1         | 765 KB    | ##################################### | 100% \n",
      "unixodbc-2.3.9       | 251 KB    | ##################################### | 100% \n",
      "pylint-2.12.2        | 543 KB    | ##################################### | 100% \n",
      "pytest-doctestplus-0 | 24 KB     | ##################################### | 100% \n",
      "mkl-2021.4.0         | 101.0 MB  | ##################################### | 100% \n",
      "pep8-1.7.1           | 54 KB     | ##################################### | 100% \n",
      "mccabe-0.7.0         | 11 KB     | ##################################### | 100% \n",
      "msgpack-python-1.0.3 | 74 KB     | ##################################### | 100% \n",
      "conda-pack-0.6.0     | 29 KB     | ##################################### | 100% \n",
      "xz-5.2.5             | 244 KB    | ##################################### | 100% \n",
      "pyrsistent-0.18.0    | 93 KB     | ##################################### | 100% \n",
      "terminado-0.13.1     | 30 KB     | ##################################### | 100% \n",
      "appscript-1.1.2      | 130 KB    | ##################################### | 100% \n",
      "pytest-filter-subpac | 9 KB      | ##################################### | 100% \n",
      "zope.interface-5.4.0 | 299 KB    | ##################################### | 100% \n",
      "pytest-astropy-0.10. | 11 KB     | ##################################### | 100% \n",
      "conda-package-handli | 1.5 MB    | ##################################### | 100% \n",
      "anyio-3.5.0          | 165 KB    | ##################################### | 100% \n",
      "libiconv-1.16        | 695 KB    | ##################################### | 100% \n",
      "backports.functools_ | 9 KB      | ##################################### | 100% \n",
      "pluggy-1.0.0         | 29 KB     | ##################################### | 100% \n",
      "cloudpickle-2.0.0    | 32 KB     | ##################################### | 100% \n",
      "bleach-4.1.0         | 123 KB    | ##################################### | 100% \n",
      "krb5-1.19.2          | 1.1 MB    | ##################################### | 100% \n",
      "regex-2022.3.15      | 324 KB    | ##################################### | 100% \n",
      "statsmodels-0.13.2   | 8.3 MB    | ##################################### | 100% \n",
      "libtiff-4.2.0        | 429 KB    | ##################################### | 100% \n",
      "python-libarchive-c- | 47 KB     | ##################################### | 100% \n",
      "nbconvert-6.4.4      | 495 KB    | ##################################### | 100% \n",
      "c-ares-1.18.1        | 100 KB    | ##################################### | 100% \n",
      "imagesize-1.4.1      | 14 KB     | ##################################### | 100% \n",
      "pillow-9.2.0         | 623 KB    | ##################################### | 100% \n",
      "pyodbc-4.0.32        | 68 KB     | ##################################### | 100% \n",
      "anaconda-project-0.1 | 218 KB    | ##################################### | 100% \n",
      "gevent-21.8.0        | 1.4 MB    | ##################################### | 100% \n",
      "coverage-6.3.2       | 241 KB    | ##################################### | 100% \n",
      "zict-2.1.0           | 20 KB     | ##################################### | 100% \n",
      "numpydoc-1.4.0       | 85 KB     | ##################################### | 100% \n",
      "sphinxcontrib-jsmath | 8 KB      | ##################################### | 100% \n",
      "sphinxcontrib-serial | 25 KB     | ##################################### | 100% \n",
      "pycodestyle-2.8.0    | 41 KB     | ##################################### | 100% \n",
      "jsonschema-4.4.0     | 120 KB    | ##################################### | 100% \n",
      "expat-2.4.4          | 123 KB    | ##################################### | 100% \n",
      "locket-1.0.0         | 12 KB     | ##################################### | 100% \n",
      "nbclassic-0.3.5      | 22 KB     | ##################################### | 100% \n",
      "cairo-1.16.0         | 935 KB    | ##################################### | 100% \n",
      "fonts-conda-ecosyste | 5 KB      | ##################################### | 100% \n",
      "zope.event-4.5.0     | 209 KB    | ##################################### | 100% \n",
      "font-ttf-dejavu-sans | 335 KB    | ##################################### | 100% \n",
      "pycparser-2.21       | 94 KB     | ##################################### | 100% \n",
      "tomli-2.0.1          | 25 KB     | ##################################### | 100% \n",
      "packaging-21.3       | 36 KB     | ##################################### | 100% \n",
      "sphinx-5.0.2         | 1.7 MB    | ##################################### | 100% \n",
      "sphinxcontrib-websup | 34 KB     | ##################################### | 100% \n",
      "cycler-0.11.0        | 12 KB     | ##################################### | 100% \n",
      "heapdict-1.0.1       | 8 KB      | ##################################### | 100% \n",
      "wrapt-1.13.3         | 47 KB     | ##################################### | 100% \n",
      "asn1crypto-1.5.1     | 167 KB    | ##################################### | 100% \n",
      "libcurl-7.82.0       | 314 KB    | ##################################### | 100% \n"
     ]
    },
    {
     "name": "stdout",
     "output_type": "stream",
     "text": [
      "pytest-openfiles-0.5 | 10 KB     | ##################################### | 100% \n",
      "libwebp-1.2.2        | 72 KB     | ##################################### | 100% \n",
      "jupyterlab_pygments- | 8 KB      | ##################################### | 100% \n",
      "defusedxml-0.7.1     | 23 KB     | ##################################### | 100% \n",
      "lzo-2.10             | 141 KB    | ##################################### | 100% \n",
      "libcxx-12.0.0        | 805 KB    | ##################################### | 100% \n",
      "rope-0.22.0          | 129 KB    | ##################################### | 100% \n",
      "sphinxcontrib-qthelp | 26 KB     | ##################################### | 100% \n",
      "path-16.2.0          | 23 KB     | ##################################### | 100% \n",
      "babel-2.9.1          | 5.5 MB    | ##################################### | 100% \n",
      "importlib-metadata-4 | 40 KB     | ##################################### | 100% \n",
      "pytest-cov-3.0.0     | 22 KB     | ##################################### | 100% \n",
      "anaconda-client-1.10 | 148 KB    | ##################################### | 100% \n",
      "dataclasses-0.8      | 8 KB      | ##################################### | 100% \n",
      "fribidi-1.0.10       | 63 KB     | ##################################### | 100% \n",
      "toolz-0.11.2         | 49 KB     | ##################################### | 100% \n",
      "numpy-base-1.21.5    | 4.7 MB    | ##################################### | 100% \n",
      "lcms2-2.12           | 284 KB    | ##################################### | 100% \n",
      "font-ttf-source-code | 654 KB    | ##################################### | 100% \n",
      "pyopenssl-22.0.0     | 50 KB     | ##################################### | 100% \n",
      "brotli-1.0.9         | 398 KB    | ##################################### | 100% \n",
      "importlib_metadata-4 | 12 KB     | ##################################### | 100% \n",
      "notebook-6.4.11      | 4.2 MB    | ##################################### | 100% \n",
      "liblief-0.11.5       | 1.6 MB    | ##################################### | 100% \n",
      "wurlitzer-3.0.2      | 15 KB     | ##################################### | 100% \n",
      "astroid-2.9.0        | 335 KB    | ##################################### | 100% \n",
      "partd-1.2.0          | 18 KB     | ##################################### | 100% \n",
      "bokeh-2.4.3          | 7.6 MB    | ##################################### | 100% \n",
      "py-lief-0.11.5       | 905 KB    | ##################################### | 100% \n",
      "nltk-3.7             | 1010 KB   | ##################################### | 100% \n",
      "pkginfo-1.8.2        | 27 KB     | ##################################### | 100% \n",
      "attrs-21.4.0         | 51 KB     | ##################################### | 100% \n",
      "beautifulsoup4-4.11. | 188 KB    | ##################################### | 100% \n",
      "ca-certificates-2022 | 124 KB    | ##################################### | 100% \n",
      "send2trash-1.8.0     | 19 KB     | ##################################### | 100% \n",
      "libnghttp2-1.46.0    | 687 KB    | ##################################### | 100% \n",
      "gettext-0.21.0       | 2.6 MB    | ##################################### | 100% \n",
      "path.py-12.5.0       | 4 KB      | ##################################### | 100% \n",
      "nbclient-0.5.13      | 90 KB     | ##################################### | 100% \n",
      "pytest-mock-3.7.0    | 28 KB     | ##################################### | 100% \n",
      "brotlipy-0.7.0       | 333 KB    | ##################################### | 100% \n",
      "zipp-3.8.0           | 16 KB     | ##################################### | 100% \n",
      "pycurl-7.45.1        | 122 KB    | ##################################### | 100% \n",
      "pcre-8.45            | 181 KB    | ##################################### | 100% \n",
      "future-0.18.2        | 630 KB    | ##################################### | 100% \n",
      "certifi-2022.6.15    | 153 KB    | ##################################### | 100% \n",
      "numpy-1.21.5         | 11 KB     | ##################################### | 100% \n",
      "pango-1.50.7         | 523 KB    | ##################################### | 100% \n",
      "iniconfig-1.1.1      | 8 KB      | ##################################### | 100% \n",
      "intel-openmp-2021.4. | 961 KB    | ##################################### | 100% \n",
      "jupyter_console-6.4. | 23 KB     | ##################################### | 100% \n",
      "libsodium-1.0.18     | 236 KB    | ##################################### | 100% \n",
      "pytest-arraydiff-0.3 | 16 KB     | ##################################### | 100% \n",
      "libedit-3.1.20210910 | 139 KB    | ##################################### | 100% \n",
      "filelock-3.6.0       | 12 KB     | ##################################### | 100% \n",
      "toml-0.10.2          | 20 KB     | ##################################### | 100% \n",
      "wcwidth-0.2.5        | 26 KB     | ##################################### | 100% \n",
      "urllib3-1.26.9       | 182 KB    | ##################################### | 100% \n",
      "sniffio-1.2.0        | 14 KB     | ##################################### | 100% \n",
      "libxml2-2.9.14       | 641 KB    | ##################################### | 100% \n",
      "appnope-0.1.2        | 10 KB     | ##################################### | 100% \n",
      "mpfr-4.0.2           | 433 KB    | ##################################### | 100% \n",
      "cytoolz-0.11.0       | 289 KB    | ##################################### | 100% \n",
      "ncurses-6.3          | 857 KB    | ##################################### | 100% \n",
      "itsdangerous-2.0.1   | 18 KB     | ##################################### | 100% \n",
      "prometheus_client-0. | 47 KB     | ##################################### | 100% \n",
      "backports-1.1        | 4 KB      | ##################################### | 100% \n",
      "argon2-cffi-bindings | 32 KB     | ##################################### | 100% \n",
      "mkl_fft-1.3.1        | 161 KB    | ##################################### | 100% \n",
      "mkl-service-2.4.0    | 44 KB     | ##################################### | 100% \n",
      "charset-normalizer-2 | 35 KB     | ##################################### | 100% \n",
      "libffi-3.3           | 44 KB     | ##################################### | 100% \n",
      "gdk-pixbuf-2.42.8    | 531 KB    | ##################################### | 100% \n",
      "parso-0.8.3          | 70 KB     | ##################################### | 100% \n",
      "nbformat-5.3.0       | 130 KB    | ##################################### | 100% \n",
      "decorator-5.1.1      | 12 KB     | ##################################### | 100% \n",
      "ipywidgets-7.6.5     | 105 KB    | ##################################### | 100% \n",
      "qtconsole-5.3.1      | 177 KB    | ##################################### | 100% \n",
      "testpath-0.6.0       | 86 KB     | ##################################### | 100% \n",
      "bitarray-2.5.1       | 151 KB    | ##################################### | 100% \n",
      "jpeg-9e              | 225 KB    | ##################################### | 100% \n",
      "lxml-4.9.1           | 1.1 MB    | ##################################### | 100% \n",
      "tblib-1.7.0          | 15 KB     | ##################################### | 100% \n",
      "typing-extensions-4. | 8 KB      | ##################################### | 100% \n",
      "scikit-learn-1.0.2   | 5.1 MB    | ##################################### | 100% \n",
      "jupyter_core-4.10.0  | 77 KB     | ##################################### | 100% \n",
      "xlwings-0.24.9       | 583 KB    | ##################################### | 100% \n",
      "colorama-0.4.5       | 28 KB     | ##################################### | 100% \n",
      "cffi-1.15.0          | 217 KB    | ##################################### | 100% \n",
      "cryptography-37.0.1  | 1.1 MB    | ##################################### | 100% \n",
      "ripgrep-12.1.1       | 1.3 MB    | ##################################### | 100% \n",
      "pyparsing-3.0.4      | 81 KB     | ##################################### | 100% \n",
      "fsspec-2022.3.0      | 199 KB    | ##################################### | 100% \n",
      "appdirs-1.4.4        | 12 KB     | ##################################### | 100% \n",
      "ipykernel-6.9.1      | 199 KB    | ##################################### | 100% \n",
      "pandas-1.3.5         | 8.9 MB    | ##################################### | 100% \n",
      "llvm-openmp-12.0.0   | 262 KB    | ##################################### | 100% \n",
      "click-8.0.4          | 150 KB    | ##################################### | 100% \n",
      "typed-ast-1.4.3      | 180 KB    | ##################################### | 100% \n",
      "libtool-2.4.6        | 390 KB    | ##################################### | 100% \n",
      "greenlet-1.1.1       | 77 KB     | ##################################### | 100% \n",
      "nose-1.3.7           | 142 KB    | ##################################### | 100% \n",
      "astropy-4.3.1        | 6.3 MB    | ##################################### | 100% \n",
      "qtpy-2.0.1           | 40 KB     | ##################################### | 100% \n",
      "pyflakes-2.4.0       | 60 KB     | ##################################### | 100% \n",
      "gmpy2-2.1.2          | 149 KB    | ##################################### | 100% \n",
      "bkcharts-0.2         | 132 KB    | ##################################### | 100% \n",
      "fontconfig-2.13.1    | 211 KB    | ##################################### | 100% \n",
      "Preparing transaction: done\n",
      "Verifying transaction: done\n",
      "Executing transaction: \\ \n",
      "\n",
      "    Installed package of scikit-learn can be accelerated using scikit-learn-intelex.\n",
      "    More details are available here: https://intel.github.io/scikit-learn-intelex\n",
      "\n",
      "    For example:\n",
      "\n",
      "        $ conda install scikit-learn-intelex\n",
      "        $ python -m sklearnex my_application.py\n",
      "\n",
      "    \n",
      "\n",
      "done\n",
      "\n",
      "Note: you may need to restart the kernel to use updated packages.\n"
     ]
    }
   ],
   "source": [
    "# conda update anaconda"
   ]
  },
  {
   "cell_type": "markdown",
   "metadata": {},
   "source": [
    "# Step 1: Construction of 265 features"
   ]
  },
  {
   "cell_type": "code",
   "execution_count": 1,
   "metadata": {},
   "outputs": [
    {
     "name": "stdout",
     "output_type": "stream",
     "text": [
      "The version of numpy is 1.21.5\n",
      "The version of pandas is 1.3.5\n"
     ]
    }
   ],
   "source": [
    "# conda update anaconda   ### in jupyter notebook\n",
    "# pip install -U numpy    ### in terminal\n",
    "\n",
    "import numpy as np\n",
    "\n",
    "print(\"The version of numpy is\", np.__version__)\n",
    "\n",
    "import pandas as pd\n",
    "print(\"The version of pandas is\", pd.__version__)"
   ]
  },
  {
   "cell_type": "code",
   "execution_count": 2,
   "metadata": {},
   "outputs": [
    {
     "name": "stdout",
     "output_type": "stream",
     "text": [
      "The shape of Grader1_labels_VF is  (301, 304)\n"
     ]
    },
    {
     "data": {
      "text/html": [
       "<div>\n",
       "<style scoped>\n",
       "    .dataframe tbody tr th:only-of-type {\n",
       "        vertical-align: middle;\n",
       "    }\n",
       "\n",
       "    .dataframe tbody tr th {\n",
       "        vertical-align: top;\n",
       "    }\n",
       "\n",
       "    .dataframe thead th {\n",
       "        text-align: right;\n",
       "    }\n",
       "</style>\n",
       "<table border=\"1\" class=\"dataframe\">\n",
       "  <thead>\n",
       "    <tr style=\"text-align: right;\">\n",
       "      <th></th>\n",
       "      <th>record_id</th>\n",
       "      <th>ptid</th>\n",
       "      <th>vstdate</th>\n",
       "      <th>OD_flag</th>\n",
       "      <th>ptid_OD</th>\n",
       "      <th>ptid_OD_SIM</th>\n",
       "      <th>Eye</th>\n",
       "      <th>sad</th>\n",
       "      <th>iad</th>\n",
       "      <th>dad</th>\n",
       "      <th>...</th>\n",
       "      <th>PD_NUM_45</th>\n",
       "      <th>PD_NUM_46</th>\n",
       "      <th>PD_NUM_47</th>\n",
       "      <th>PD_NUM_48</th>\n",
       "      <th>PD_NUM_49</th>\n",
       "      <th>PD_NUM_50</th>\n",
       "      <th>PD_NUM_51</th>\n",
       "      <th>PD_NUM_52</th>\n",
       "      <th>PD_NUM_53</th>\n",
       "      <th>PD_NUM_54</th>\n",
       "    </tr>\n",
       "  </thead>\n",
       "  <tbody>\n",
       "    <tr>\n",
       "      <th>0</th>\n",
       "      <td>1</td>\n",
       "      <td>T0005</td>\n",
       "      <td>4/21/14</td>\n",
       "      <td>od</td>\n",
       "      <td>T0005_od</td>\n",
       "      <td>NaN</td>\n",
       "      <td>Right</td>\n",
       "      <td>0.0</td>\n",
       "      <td>0.0</td>\n",
       "      <td>0.0</td>\n",
       "      <td>...</td>\n",
       "      <td>0.0</td>\n",
       "      <td>1.0</td>\n",
       "      <td>1.0</td>\n",
       "      <td>0.0</td>\n",
       "      <td>0.0</td>\n",
       "      <td>0.0</td>\n",
       "      <td>0.0</td>\n",
       "      <td>0.0</td>\n",
       "      <td>0.0</td>\n",
       "      <td>0.0</td>\n",
       "    </tr>\n",
       "    <tr>\n",
       "      <th>1</th>\n",
       "      <td>1</td>\n",
       "      <td>T0005</td>\n",
       "      <td>4/21/14</td>\n",
       "      <td>os</td>\n",
       "      <td>T0005_os</td>\n",
       "      <td>NaN</td>\n",
       "      <td>Left</td>\n",
       "      <td>0.0</td>\n",
       "      <td>0.0</td>\n",
       "      <td>0.0</td>\n",
       "      <td>...</td>\n",
       "      <td>0.0</td>\n",
       "      <td>0.0</td>\n",
       "      <td>0.0</td>\n",
       "      <td>3.0</td>\n",
       "      <td>0.0</td>\n",
       "      <td>1.0</td>\n",
       "      <td>1.0</td>\n",
       "      <td>3.0</td>\n",
       "      <td>2.0</td>\n",
       "      <td>0.0</td>\n",
       "    </tr>\n",
       "    <tr>\n",
       "      <th>2</th>\n",
       "      <td>2</td>\n",
       "      <td>T0007</td>\n",
       "      <td>5/15/14</td>\n",
       "      <td>od</td>\n",
       "      <td>T0007_od</td>\n",
       "      <td>NaN</td>\n",
       "      <td>Right</td>\n",
       "      <td>1.0</td>\n",
       "      <td>0.0</td>\n",
       "      <td>0.0</td>\n",
       "      <td>...</td>\n",
       "      <td>4.0</td>\n",
       "      <td>0.0</td>\n",
       "      <td>4.0</td>\n",
       "      <td>0.0</td>\n",
       "      <td>0.0</td>\n",
       "      <td>0.0</td>\n",
       "      <td>4.0</td>\n",
       "      <td>4.0</td>\n",
       "      <td>4.0</td>\n",
       "      <td>1.0</td>\n",
       "    </tr>\n",
       "    <tr>\n",
       "      <th>3</th>\n",
       "      <td>2</td>\n",
       "      <td>T0007</td>\n",
       "      <td>5/15/14</td>\n",
       "      <td>os</td>\n",
       "      <td>T0007_os</td>\n",
       "      <td>NaN</td>\n",
       "      <td>Left</td>\n",
       "      <td>1.0</td>\n",
       "      <td>1.0</td>\n",
       "      <td>1.0</td>\n",
       "      <td>...</td>\n",
       "      <td>1.0</td>\n",
       "      <td>0.0</td>\n",
       "      <td>0.0</td>\n",
       "      <td>4.0</td>\n",
       "      <td>4.0</td>\n",
       "      <td>4.0</td>\n",
       "      <td>4.0</td>\n",
       "      <td>4.0</td>\n",
       "      <td>4.0</td>\n",
       "      <td>4.0</td>\n",
       "    </tr>\n",
       "    <tr>\n",
       "      <th>4</th>\n",
       "      <td>3</td>\n",
       "      <td>T0008</td>\n",
       "      <td>12/10/13</td>\n",
       "      <td>od</td>\n",
       "      <td>T0008_od</td>\n",
       "      <td>NaN</td>\n",
       "      <td>Right</td>\n",
       "      <td>0.0</td>\n",
       "      <td>0.0</td>\n",
       "      <td>0.0</td>\n",
       "      <td>...</td>\n",
       "      <td>0.0</td>\n",
       "      <td>2.0</td>\n",
       "      <td>4.0</td>\n",
       "      <td>0.0</td>\n",
       "      <td>0.0</td>\n",
       "      <td>0.0</td>\n",
       "      <td>3.0</td>\n",
       "      <td>4.0</td>\n",
       "      <td>0.0</td>\n",
       "      <td>0.0</td>\n",
       "    </tr>\n",
       "  </tbody>\n",
       "</table>\n",
       "<p>5 rows × 304 columns</p>\n",
       "</div>"
      ],
      "text/plain": [
       "   record_id   ptid   vstdate OD_flag   ptid_OD  ptid_OD_SIM    Eye  sad  iad  \\\n",
       "0          1  T0005   4/21/14      od  T0005_od          NaN  Right  0.0  0.0   \n",
       "1          1  T0005   4/21/14      os  T0005_os          NaN   Left  0.0  0.0   \n",
       "2          2  T0007   5/15/14      od  T0007_od          NaN  Right  1.0  0.0   \n",
       "3          2  T0007   5/15/14      os  T0007_os          NaN   Left  1.0  1.0   \n",
       "4          3  T0008  12/10/13      od  T0008_od          NaN  Right  0.0  0.0   \n",
       "\n",
       "   dad  ...  PD_NUM_45  PD_NUM_46  PD_NUM_47  PD_NUM_48  PD_NUM_49  PD_NUM_50  \\\n",
       "0  0.0  ...        0.0        1.0        1.0        0.0        0.0        0.0   \n",
       "1  0.0  ...        0.0        0.0        0.0        3.0        0.0        1.0   \n",
       "2  0.0  ...        4.0        0.0        4.0        0.0        0.0        0.0   \n",
       "3  1.0  ...        1.0        0.0        0.0        4.0        4.0        4.0   \n",
       "4  0.0  ...        0.0        2.0        4.0        0.0        0.0        0.0   \n",
       "\n",
       "   PD_NUM_51  PD_NUM_52  PD_NUM_53  PD_NUM_54  \n",
       "0        0.0        0.0        0.0        0.0  \n",
       "1        1.0        3.0        2.0        0.0  \n",
       "2        4.0        4.0        4.0        1.0  \n",
       "3        4.0        4.0        4.0        4.0  \n",
       "4        3.0        4.0        0.0        0.0  \n",
       "\n",
       "[5 rows x 304 columns]"
      ]
     },
     "execution_count": 2,
     "metadata": {},
     "output_type": "execute_result"
    }
   ],
   "source": [
    "Grader1_labels_VF = pd.read_csv(\"15. Grader1_labels_VF (normal + S.I.D corrected).csv\")\n",
    "             #(\"11. Grader1_labels_VF.csv\")\n",
    "print(\"The shape of Grader1_labels_VF is \", Grader1_labels_VF.shape)\n",
    "Grader1_labels_VF.head()"
   ]
  },
  {
   "cell_type": "code",
   "execution_count": 3,
   "metadata": {},
   "outputs": [
    {
     "data": {
      "text/plain": [
       "46.0"
      ]
     },
     "execution_count": 3,
     "metadata": {},
     "output_type": "execute_result"
    }
   ],
   "source": [
    "Grader1_labels_VF['normal'].sum()"
   ]
  },
  {
   "cell_type": "code",
   "execution_count": 4,
   "metadata": {},
   "outputs": [
    {
     "data": {
      "text/plain": [
       "Index(['record_id', 'ptid', 'vstdate', 'OD_flag', 'ptid_OD', 'ptid_OD_SIM',\n",
       "       'Eye', 'sad', 'iad', 'dad', 'sns', 'ins', 'cd', 'ci', 'tw', 'ls',\n",
       "       'ahfl', 'nhfl', 'apcre', 'efp', 'efth', 'tld', 'nf', 'normal',\n",
       "       'abnormal', 'md', 'ms', 'BirthDate', 'Age', 'TestStrategy',\n",
       "       'TestPattern', 'MD', 'PSD', 'VFI', 'Threshold_1'],\n",
       "      dtype='object')"
      ]
     },
     "execution_count": 4,
     "metadata": {},
     "output_type": "execute_result"
    }
   ],
   "source": [
    "Grader1_labels_VF.columns[:35]"
   ]
  },
  {
   "cell_type": "code",
   "execution_count": 5,
   "metadata": {},
   "outputs": [
    {
     "data": {
      "text/plain": [
       "Index(['MD', 'PSD', 'VFI', 'Threshold_1', 'Threshold_2', 'Threshold_3',\n",
       "       'Threshold_4', 'Threshold_5', 'Threshold_6', 'Threshold_7',\n",
       "       ...\n",
       "       'PD_NUM_45', 'PD_NUM_46', 'PD_NUM_47', 'PD_NUM_48', 'PD_NUM_49',\n",
       "       'PD_NUM_50', 'PD_NUM_51', 'PD_NUM_52', 'PD_NUM_53', 'PD_NUM_54'],\n",
       "      dtype='object', length=273)"
      ]
     },
     "execution_count": 5,
     "metadata": {},
     "output_type": "execute_result"
    }
   ],
   "source": [
    "Grader1_labels_VF.columns[31:]      #### 29"
   ]
  },
  {
   "cell_type": "markdown",
   "metadata": {},
   "source": [
    "## 1. Construct features, vf1"
   ]
  },
  {
   "cell_type": "code",
   "execution_count": 6,
   "metadata": {},
   "outputs": [
    {
     "name": "stdout",
     "output_type": "stream",
     "text": [
      "The shape of vf is (301, 273)\n"
     ]
    },
    {
     "data": {
      "text/html": [
       "<div>\n",
       "<style scoped>\n",
       "    .dataframe tbody tr th:only-of-type {\n",
       "        vertical-align: middle;\n",
       "    }\n",
       "\n",
       "    .dataframe tbody tr th {\n",
       "        vertical-align: top;\n",
       "    }\n",
       "\n",
       "    .dataframe thead th {\n",
       "        text-align: right;\n",
       "    }\n",
       "</style>\n",
       "<table border=\"1\" class=\"dataframe\">\n",
       "  <thead>\n",
       "    <tr style=\"text-align: right;\">\n",
       "      <th></th>\n",
       "      <th>MD</th>\n",
       "      <th>PSD</th>\n",
       "      <th>VFI</th>\n",
       "      <th>Threshold_1</th>\n",
       "      <th>Threshold_2</th>\n",
       "      <th>Threshold_3</th>\n",
       "      <th>Threshold_4</th>\n",
       "      <th>Threshold_5</th>\n",
       "      <th>Threshold_6</th>\n",
       "      <th>Threshold_7</th>\n",
       "      <th>...</th>\n",
       "      <th>PD_NUM_45</th>\n",
       "      <th>PD_NUM_46</th>\n",
       "      <th>PD_NUM_47</th>\n",
       "      <th>PD_NUM_48</th>\n",
       "      <th>PD_NUM_49</th>\n",
       "      <th>PD_NUM_50</th>\n",
       "      <th>PD_NUM_51</th>\n",
       "      <th>PD_NUM_52</th>\n",
       "      <th>PD_NUM_53</th>\n",
       "      <th>PD_NUM_54</th>\n",
       "    </tr>\n",
       "  </thead>\n",
       "  <tbody>\n",
       "    <tr>\n",
       "      <th>0</th>\n",
       "      <td>-0.765912</td>\n",
       "      <td>1.666142</td>\n",
       "      <td>98.864300</td>\n",
       "      <td>31.75</td>\n",
       "      <td>24.62</td>\n",
       "      <td>28.1</td>\n",
       "      <td>23.47</td>\n",
       "      <td>29.93</td>\n",
       "      <td>28.80</td>\n",
       "      <td>25.24</td>\n",
       "      <td>...</td>\n",
       "      <td>0.0</td>\n",
       "      <td>1.0</td>\n",
       "      <td>1.0</td>\n",
       "      <td>0.0</td>\n",
       "      <td>0.0</td>\n",
       "      <td>0.0</td>\n",
       "      <td>0.0</td>\n",
       "      <td>0.0</td>\n",
       "      <td>0.0</td>\n",
       "      <td>0.0</td>\n",
       "    </tr>\n",
       "    <tr>\n",
       "      <th>1</th>\n",
       "      <td>-1.316483</td>\n",
       "      <td>1.901828</td>\n",
       "      <td>97.375084</td>\n",
       "      <td>26.20</td>\n",
       "      <td>25.90</td>\n",
       "      <td>21.4</td>\n",
       "      <td>26.85</td>\n",
       "      <td>31.83</td>\n",
       "      <td>30.27</td>\n",
       "      <td>28.57</td>\n",
       "      <td>...</td>\n",
       "      <td>0.0</td>\n",
       "      <td>0.0</td>\n",
       "      <td>0.0</td>\n",
       "      <td>3.0</td>\n",
       "      <td>0.0</td>\n",
       "      <td>1.0</td>\n",
       "      <td>1.0</td>\n",
       "      <td>3.0</td>\n",
       "      <td>2.0</td>\n",
       "      <td>0.0</td>\n",
       "    </tr>\n",
       "    <tr>\n",
       "      <th>2</th>\n",
       "      <td>-12.213348</td>\n",
       "      <td>11.677065</td>\n",
       "      <td>69.167710</td>\n",
       "      <td>6.13</td>\n",
       "      <td>-2.00</td>\n",
       "      <td>-2.0</td>\n",
       "      <td>-2.00</td>\n",
       "      <td>11.46</td>\n",
       "      <td>5.14</td>\n",
       "      <td>13.49</td>\n",
       "      <td>...</td>\n",
       "      <td>4.0</td>\n",
       "      <td>0.0</td>\n",
       "      <td>4.0</td>\n",
       "      <td>0.0</td>\n",
       "      <td>0.0</td>\n",
       "      <td>0.0</td>\n",
       "      <td>4.0</td>\n",
       "      <td>4.0</td>\n",
       "      <td>4.0</td>\n",
       "      <td>1.0</td>\n",
       "    </tr>\n",
       "    <tr>\n",
       "      <th>3</th>\n",
       "      <td>-13.520290</td>\n",
       "      <td>11.892563</td>\n",
       "      <td>64.562647</td>\n",
       "      <td>-2.00</td>\n",
       "      <td>-2.00</td>\n",
       "      <td>-2.0</td>\n",
       "      <td>-2.00</td>\n",
       "      <td>13.51</td>\n",
       "      <td>9.67</td>\n",
       "      <td>14.95</td>\n",
       "      <td>...</td>\n",
       "      <td>1.0</td>\n",
       "      <td>0.0</td>\n",
       "      <td>0.0</td>\n",
       "      <td>4.0</td>\n",
       "      <td>4.0</td>\n",
       "      <td>4.0</td>\n",
       "      <td>4.0</td>\n",
       "      <td>4.0</td>\n",
       "      <td>4.0</td>\n",
       "      <td>4.0</td>\n",
       "    </tr>\n",
       "    <tr>\n",
       "      <th>4</th>\n",
       "      <td>17.245180</td>\n",
       "      <td>4.580455</td>\n",
       "      <td>82.474727</td>\n",
       "      <td>49.63</td>\n",
       "      <td>46.56</td>\n",
       "      <td>39.8</td>\n",
       "      <td>41.30</td>\n",
       "      <td>49.63</td>\n",
       "      <td>49.35</td>\n",
       "      <td>49.56</td>\n",
       "      <td>...</td>\n",
       "      <td>0.0</td>\n",
       "      <td>2.0</td>\n",
       "      <td>4.0</td>\n",
       "      <td>0.0</td>\n",
       "      <td>0.0</td>\n",
       "      <td>0.0</td>\n",
       "      <td>3.0</td>\n",
       "      <td>4.0</td>\n",
       "      <td>0.0</td>\n",
       "      <td>0.0</td>\n",
       "    </tr>\n",
       "  </tbody>\n",
       "</table>\n",
       "<p>5 rows × 273 columns</p>\n",
       "</div>"
      ],
      "text/plain": [
       "          MD        PSD        VFI  Threshold_1  Threshold_2  Threshold_3  \\\n",
       "0  -0.765912   1.666142  98.864300        31.75        24.62         28.1   \n",
       "1  -1.316483   1.901828  97.375084        26.20        25.90         21.4   \n",
       "2 -12.213348  11.677065  69.167710         6.13        -2.00         -2.0   \n",
       "3 -13.520290  11.892563  64.562647        -2.00        -2.00         -2.0   \n",
       "4  17.245180   4.580455  82.474727        49.63        46.56         39.8   \n",
       "\n",
       "   Threshold_4  Threshold_5  Threshold_6  Threshold_7  ...  PD_NUM_45  \\\n",
       "0        23.47        29.93        28.80        25.24  ...        0.0   \n",
       "1        26.85        31.83        30.27        28.57  ...        0.0   \n",
       "2        -2.00        11.46         5.14        13.49  ...        4.0   \n",
       "3        -2.00        13.51         9.67        14.95  ...        1.0   \n",
       "4        41.30        49.63        49.35        49.56  ...        0.0   \n",
       "\n",
       "   PD_NUM_46  PD_NUM_47  PD_NUM_48  PD_NUM_49  PD_NUM_50  PD_NUM_51  \\\n",
       "0        1.0        1.0        0.0        0.0        0.0        0.0   \n",
       "1        0.0        0.0        3.0        0.0        1.0        1.0   \n",
       "2        0.0        4.0        0.0        0.0        0.0        4.0   \n",
       "3        0.0        0.0        4.0        4.0        4.0        4.0   \n",
       "4        2.0        4.0        0.0        0.0        0.0        3.0   \n",
       "\n",
       "   PD_NUM_52  PD_NUM_53  PD_NUM_54  \n",
       "0        0.0        0.0        0.0  \n",
       "1        3.0        2.0        0.0  \n",
       "2        4.0        4.0        1.0  \n",
       "3        4.0        4.0        4.0  \n",
       "4        4.0        0.0        0.0  \n",
       "\n",
       "[5 rows x 273 columns]"
      ]
     },
     "execution_count": 6,
     "metadata": {},
     "output_type": "execute_result"
    }
   ],
   "source": [
    "l1 = Grader1_labels_VF.columns[31:]   #### 29\n",
    "\n",
    "vf1 = Grader1_labels_VF[l1]\n",
    "print(\"The shape of vf is\", vf1.shape)\n",
    "vf1.head()"
   ]
  },
  {
   "cell_type": "code",
   "execution_count": 7,
   "metadata": {},
   "outputs": [
    {
     "name": "stdout",
     "output_type": "stream",
     "text": [
      "Contains NaN? True\n",
      "Number of NaN: 2408\n"
     ]
    }
   ],
   "source": [
    "print(\"Contains NaN?\", vf1.isnull().values.any())\n",
    "print(\"Number of NaN:\", vf1.isnull().sum().sum())"
   ]
  },
  {
   "cell_type": "code",
   "execution_count": 8,
   "metadata": {},
   "outputs": [
    {
     "data": {
      "text/plain": [
       "8.0"
      ]
     },
     "execution_count": 8,
     "metadata": {},
     "output_type": "execute_result"
    }
   ],
   "source": [
    "2408/301"
   ]
  },
  {
   "cell_type": "markdown",
   "metadata": {},
   "source": [
    "### Clean NaN: Drop 8 columns"
   ]
  },
  {
   "cell_type": "code",
   "execution_count": 9,
   "metadata": {},
   "outputs": [
    {
     "name": "stdout",
     "output_type": "stream",
     "text": [
      "The shape of vf1 before drop NaN is (301, 273)\n",
      "The shape of vf1 after drop NaN is (301, 265)\n"
     ]
    }
   ],
   "source": [
    "### drop columns (8)\n",
    "print(\"The shape of vf1 before drop NaN is\", vf1.shape)\n",
    "vf1 = vf1.dropna(axis = 1)\n",
    "print(\"The shape of vf1 after drop NaN is\", vf1.shape)"
   ]
  },
  {
   "cell_type": "code",
   "execution_count": 10,
   "metadata": {},
   "outputs": [
    {
     "data": {
      "text/plain": [
       "8"
      ]
     },
     "execution_count": 10,
     "metadata": {},
     "output_type": "execute_result"
    }
   ],
   "source": [
    "273-265"
   ]
  },
  {
   "cell_type": "code",
   "execution_count": 11,
   "metadata": {},
   "outputs": [
    {
     "name": "stdout",
     "output_type": "stream",
     "text": [
      "Contains NaN? False\n",
      "Number of NaN: 0\n"
     ]
    }
   ],
   "source": [
    "print(\"Contains NaN?\", vf1.isnull().values.any())\n",
    "print(\"Number of NaN:\", vf1.isnull().sum().sum())"
   ]
  },
  {
   "cell_type": "markdown",
   "metadata": {},
   "source": [
    "## 2. Construct label, vf2"
   ]
  },
  {
   "cell_type": "code",
   "execution_count": 12,
   "metadata": {},
   "outputs": [
    {
     "name": "stdout",
     "output_type": "stream",
     "text": [
      "The shape of vf is (301, 20)\n"
     ]
    },
    {
     "data": {
      "text/html": [
       "<div>\n",
       "<style scoped>\n",
       "    .dataframe tbody tr th:only-of-type {\n",
       "        vertical-align: middle;\n",
       "    }\n",
       "\n",
       "    .dataframe tbody tr th {\n",
       "        vertical-align: top;\n",
       "    }\n",
       "\n",
       "    .dataframe thead th {\n",
       "        text-align: right;\n",
       "    }\n",
       "</style>\n",
       "<table border=\"1\" class=\"dataframe\">\n",
       "  <thead>\n",
       "    <tr style=\"text-align: right;\">\n",
       "      <th></th>\n",
       "      <th>sad</th>\n",
       "      <th>iad</th>\n",
       "      <th>dad</th>\n",
       "      <th>sns</th>\n",
       "      <th>ins</th>\n",
       "      <th>cd</th>\n",
       "      <th>ci</th>\n",
       "      <th>tw</th>\n",
       "      <th>ls</th>\n",
       "      <th>ahfl</th>\n",
       "      <th>nhfl</th>\n",
       "      <th>apcre</th>\n",
       "      <th>efp</th>\n",
       "      <th>efth</th>\n",
       "      <th>tld</th>\n",
       "      <th>nf</th>\n",
       "      <th>normal</th>\n",
       "      <th>abnormal</th>\n",
       "      <th>md</th>\n",
       "      <th>ms</th>\n",
       "    </tr>\n",
       "  </thead>\n",
       "  <tbody>\n",
       "    <tr>\n",
       "      <th>0</th>\n",
       "      <td>0.0</td>\n",
       "      <td>0.0</td>\n",
       "      <td>0.0</td>\n",
       "      <td>0.0</td>\n",
       "      <td>0.0</td>\n",
       "      <td>0.0</td>\n",
       "      <td>0.0</td>\n",
       "      <td>0.0</td>\n",
       "      <td>0.0</td>\n",
       "      <td>0.0</td>\n",
       "      <td>0.0</td>\n",
       "      <td>0.0</td>\n",
       "      <td>0.0</td>\n",
       "      <td>0.0</td>\n",
       "      <td>0.0</td>\n",
       "      <td>1.0</td>\n",
       "      <td>0.0</td>\n",
       "      <td>0.0</td>\n",
       "      <td>0.0</td>\n",
       "      <td>0.0</td>\n",
       "    </tr>\n",
       "    <tr>\n",
       "      <th>1</th>\n",
       "      <td>0.0</td>\n",
       "      <td>0.0</td>\n",
       "      <td>0.0</td>\n",
       "      <td>0.0</td>\n",
       "      <td>0.0</td>\n",
       "      <td>0.0</td>\n",
       "      <td>0.0</td>\n",
       "      <td>0.0</td>\n",
       "      <td>0.0</td>\n",
       "      <td>0.0</td>\n",
       "      <td>0.0</td>\n",
       "      <td>0.0</td>\n",
       "      <td>0.0</td>\n",
       "      <td>0.0</td>\n",
       "      <td>0.0</td>\n",
       "      <td>1.0</td>\n",
       "      <td>0.0</td>\n",
       "      <td>0.0</td>\n",
       "      <td>0.0</td>\n",
       "      <td>0.0</td>\n",
       "    </tr>\n",
       "    <tr>\n",
       "      <th>2</th>\n",
       "      <td>1.0</td>\n",
       "      <td>0.0</td>\n",
       "      <td>0.0</td>\n",
       "      <td>0.0</td>\n",
       "      <td>1.0</td>\n",
       "      <td>0.0</td>\n",
       "      <td>0.0</td>\n",
       "      <td>0.0</td>\n",
       "      <td>0.0</td>\n",
       "      <td>0.0</td>\n",
       "      <td>0.0</td>\n",
       "      <td>0.0</td>\n",
       "      <td>0.0</td>\n",
       "      <td>0.0</td>\n",
       "      <td>0.0</td>\n",
       "      <td>0.0</td>\n",
       "      <td>0.0</td>\n",
       "      <td>0.0</td>\n",
       "      <td>0.0</td>\n",
       "      <td>0.0</td>\n",
       "    </tr>\n",
       "    <tr>\n",
       "      <th>3</th>\n",
       "      <td>1.0</td>\n",
       "      <td>1.0</td>\n",
       "      <td>1.0</td>\n",
       "      <td>0.0</td>\n",
       "      <td>0.0</td>\n",
       "      <td>0.0</td>\n",
       "      <td>0.0</td>\n",
       "      <td>0.0</td>\n",
       "      <td>0.0</td>\n",
       "      <td>0.0</td>\n",
       "      <td>0.0</td>\n",
       "      <td>0.0</td>\n",
       "      <td>0.0</td>\n",
       "      <td>0.0</td>\n",
       "      <td>0.0</td>\n",
       "      <td>0.0</td>\n",
       "      <td>0.0</td>\n",
       "      <td>0.0</td>\n",
       "      <td>0.0</td>\n",
       "      <td>0.0</td>\n",
       "    </tr>\n",
       "    <tr>\n",
       "      <th>4</th>\n",
       "      <td>0.0</td>\n",
       "      <td>0.0</td>\n",
       "      <td>0.0</td>\n",
       "      <td>0.0</td>\n",
       "      <td>0.0</td>\n",
       "      <td>0.0</td>\n",
       "      <td>0.0</td>\n",
       "      <td>0.0</td>\n",
       "      <td>0.0</td>\n",
       "      <td>0.0</td>\n",
       "      <td>0.0</td>\n",
       "      <td>0.0</td>\n",
       "      <td>0.0</td>\n",
       "      <td>1.0</td>\n",
       "      <td>0.0</td>\n",
       "      <td>1.0</td>\n",
       "      <td>0.0</td>\n",
       "      <td>0.0</td>\n",
       "      <td>0.0</td>\n",
       "      <td>0.0</td>\n",
       "    </tr>\n",
       "  </tbody>\n",
       "</table>\n",
       "</div>"
      ],
      "text/plain": [
       "   sad  iad  dad  sns  ins   cd   ci   tw   ls  ahfl  nhfl  apcre  efp  efth  \\\n",
       "0  0.0  0.0  0.0  0.0  0.0  0.0  0.0  0.0  0.0   0.0   0.0    0.0  0.0   0.0   \n",
       "1  0.0  0.0  0.0  0.0  0.0  0.0  0.0  0.0  0.0   0.0   0.0    0.0  0.0   0.0   \n",
       "2  1.0  0.0  0.0  0.0  1.0  0.0  0.0  0.0  0.0   0.0   0.0    0.0  0.0   0.0   \n",
       "3  1.0  1.0  1.0  0.0  0.0  0.0  0.0  0.0  0.0   0.0   0.0    0.0  0.0   0.0   \n",
       "4  0.0  0.0  0.0  0.0  0.0  0.0  0.0  0.0  0.0   0.0   0.0    0.0  0.0   1.0   \n",
       "\n",
       "   tld   nf  normal  abnormal   md   ms  \n",
       "0  0.0  1.0     0.0       0.0  0.0  0.0  \n",
       "1  0.0  1.0     0.0       0.0  0.0  0.0  \n",
       "2  0.0  0.0     0.0       0.0  0.0  0.0  \n",
       "3  0.0  0.0     0.0       0.0  0.0  0.0  \n",
       "4  0.0  1.0     0.0       0.0  0.0  0.0  "
      ]
     },
     "execution_count": 12,
     "metadata": {},
     "output_type": "execute_result"
    }
   ],
   "source": [
    "l2 = Grader1_labels_VF.columns[7:27]    ## [5:25]\n",
    "\n",
    "vf2 = Grader1_labels_VF[l2]\n",
    "print(\"The shape of vf is\", vf2.shape)\n",
    "vf2.head()"
   ]
  },
  {
   "cell_type": "code",
   "execution_count": 13,
   "metadata": {},
   "outputs": [
    {
     "name": "stdout",
     "output_type": "stream",
     "text": [
      "The shape of vf is (301, 287)\n"
     ]
    },
    {
     "data": {
      "text/html": [
       "<div>\n",
       "<style scoped>\n",
       "    .dataframe tbody tr th:only-of-type {\n",
       "        vertical-align: middle;\n",
       "    }\n",
       "\n",
       "    .dataframe tbody tr th {\n",
       "        vertical-align: top;\n",
       "    }\n",
       "\n",
       "    .dataframe thead th {\n",
       "        text-align: right;\n",
       "    }\n",
       "</style>\n",
       "<table border=\"1\" class=\"dataframe\">\n",
       "  <thead>\n",
       "    <tr style=\"text-align: right;\">\n",
       "      <th></th>\n",
       "      <th>MD</th>\n",
       "      <th>PSD</th>\n",
       "      <th>VFI</th>\n",
       "      <th>Threshold_1</th>\n",
       "      <th>Threshold_2</th>\n",
       "      <th>Threshold_3</th>\n",
       "      <th>Threshold_4</th>\n",
       "      <th>Threshold_5</th>\n",
       "      <th>Threshold_6</th>\n",
       "      <th>Threshold_7</th>\n",
       "      <th>...</th>\n",
       "      <th>efp</th>\n",
       "      <th>efth</th>\n",
       "      <th>tld</th>\n",
       "      <th>nf</th>\n",
       "      <th>normal</th>\n",
       "      <th>abnormal</th>\n",
       "      <th>md</th>\n",
       "      <th>ms</th>\n",
       "      <th>ptid</th>\n",
       "      <th>Eye</th>\n",
       "    </tr>\n",
       "  </thead>\n",
       "  <tbody>\n",
       "    <tr>\n",
       "      <th>0</th>\n",
       "      <td>-0.765912</td>\n",
       "      <td>1.666142</td>\n",
       "      <td>98.864300</td>\n",
       "      <td>31.75</td>\n",
       "      <td>24.62</td>\n",
       "      <td>28.1</td>\n",
       "      <td>23.47</td>\n",
       "      <td>29.93</td>\n",
       "      <td>28.80</td>\n",
       "      <td>25.24</td>\n",
       "      <td>...</td>\n",
       "      <td>0.0</td>\n",
       "      <td>0.0</td>\n",
       "      <td>0.0</td>\n",
       "      <td>1.0</td>\n",
       "      <td>0.0</td>\n",
       "      <td>0.0</td>\n",
       "      <td>0.0</td>\n",
       "      <td>0.0</td>\n",
       "      <td>T0005</td>\n",
       "      <td>Right</td>\n",
       "    </tr>\n",
       "    <tr>\n",
       "      <th>1</th>\n",
       "      <td>-1.316483</td>\n",
       "      <td>1.901828</td>\n",
       "      <td>97.375084</td>\n",
       "      <td>26.20</td>\n",
       "      <td>25.90</td>\n",
       "      <td>21.4</td>\n",
       "      <td>26.85</td>\n",
       "      <td>31.83</td>\n",
       "      <td>30.27</td>\n",
       "      <td>28.57</td>\n",
       "      <td>...</td>\n",
       "      <td>0.0</td>\n",
       "      <td>0.0</td>\n",
       "      <td>0.0</td>\n",
       "      <td>1.0</td>\n",
       "      <td>0.0</td>\n",
       "      <td>0.0</td>\n",
       "      <td>0.0</td>\n",
       "      <td>0.0</td>\n",
       "      <td>T0005</td>\n",
       "      <td>Left</td>\n",
       "    </tr>\n",
       "    <tr>\n",
       "      <th>2</th>\n",
       "      <td>-12.213348</td>\n",
       "      <td>11.677065</td>\n",
       "      <td>69.167710</td>\n",
       "      <td>6.13</td>\n",
       "      <td>-2.00</td>\n",
       "      <td>-2.0</td>\n",
       "      <td>-2.00</td>\n",
       "      <td>11.46</td>\n",
       "      <td>5.14</td>\n",
       "      <td>13.49</td>\n",
       "      <td>...</td>\n",
       "      <td>0.0</td>\n",
       "      <td>0.0</td>\n",
       "      <td>0.0</td>\n",
       "      <td>0.0</td>\n",
       "      <td>0.0</td>\n",
       "      <td>0.0</td>\n",
       "      <td>0.0</td>\n",
       "      <td>0.0</td>\n",
       "      <td>T0007</td>\n",
       "      <td>Right</td>\n",
       "    </tr>\n",
       "    <tr>\n",
       "      <th>3</th>\n",
       "      <td>-13.520290</td>\n",
       "      <td>11.892563</td>\n",
       "      <td>64.562647</td>\n",
       "      <td>-2.00</td>\n",
       "      <td>-2.00</td>\n",
       "      <td>-2.0</td>\n",
       "      <td>-2.00</td>\n",
       "      <td>13.51</td>\n",
       "      <td>9.67</td>\n",
       "      <td>14.95</td>\n",
       "      <td>...</td>\n",
       "      <td>0.0</td>\n",
       "      <td>0.0</td>\n",
       "      <td>0.0</td>\n",
       "      <td>0.0</td>\n",
       "      <td>0.0</td>\n",
       "      <td>0.0</td>\n",
       "      <td>0.0</td>\n",
       "      <td>0.0</td>\n",
       "      <td>T0007</td>\n",
       "      <td>Left</td>\n",
       "    </tr>\n",
       "    <tr>\n",
       "      <th>4</th>\n",
       "      <td>17.245180</td>\n",
       "      <td>4.580455</td>\n",
       "      <td>82.474727</td>\n",
       "      <td>49.63</td>\n",
       "      <td>46.56</td>\n",
       "      <td>39.8</td>\n",
       "      <td>41.30</td>\n",
       "      <td>49.63</td>\n",
       "      <td>49.35</td>\n",
       "      <td>49.56</td>\n",
       "      <td>...</td>\n",
       "      <td>0.0</td>\n",
       "      <td>1.0</td>\n",
       "      <td>0.0</td>\n",
       "      <td>1.0</td>\n",
       "      <td>0.0</td>\n",
       "      <td>0.0</td>\n",
       "      <td>0.0</td>\n",
       "      <td>0.0</td>\n",
       "      <td>T0008</td>\n",
       "      <td>Right</td>\n",
       "    </tr>\n",
       "  </tbody>\n",
       "</table>\n",
       "<p>5 rows × 287 columns</p>\n",
       "</div>"
      ],
      "text/plain": [
       "          MD        PSD        VFI  Threshold_1  Threshold_2  Threshold_3  \\\n",
       "0  -0.765912   1.666142  98.864300        31.75        24.62         28.1   \n",
       "1  -1.316483   1.901828  97.375084        26.20        25.90         21.4   \n",
       "2 -12.213348  11.677065  69.167710         6.13        -2.00         -2.0   \n",
       "3 -13.520290  11.892563  64.562647        -2.00        -2.00         -2.0   \n",
       "4  17.245180   4.580455  82.474727        49.63        46.56         39.8   \n",
       "\n",
       "   Threshold_4  Threshold_5  Threshold_6  Threshold_7  ...  efp  efth  tld  \\\n",
       "0        23.47        29.93        28.80        25.24  ...  0.0   0.0  0.0   \n",
       "1        26.85        31.83        30.27        28.57  ...  0.0   0.0  0.0   \n",
       "2        -2.00        11.46         5.14        13.49  ...  0.0   0.0  0.0   \n",
       "3        -2.00        13.51         9.67        14.95  ...  0.0   0.0  0.0   \n",
       "4        41.30        49.63        49.35        49.56  ...  0.0   1.0  0.0   \n",
       "\n",
       "    nf  normal  abnormal   md   ms   ptid    Eye  \n",
       "0  1.0     0.0       0.0  0.0  0.0  T0005  Right  \n",
       "1  1.0     0.0       0.0  0.0  0.0  T0005   Left  \n",
       "2  0.0     0.0       0.0  0.0  0.0  T0007  Right  \n",
       "3  0.0     0.0       0.0  0.0  0.0  T0007   Left  \n",
       "4  1.0     0.0       0.0  0.0  0.0  T0008  Right  \n",
       "\n",
       "[5 rows x 287 columns]"
      ]
     },
     "execution_count": 13,
     "metadata": {},
     "output_type": "execute_result"
    }
   ],
   "source": [
    "vf = pd.concat([vf1, vf2], axis = 1)\n",
    "\n",
    "vf['ptid'] = Grader1_labels_VF['ptid']\n",
    "vf['Eye'] = Grader1_labels_VF['Eye']\n",
    "\n",
    "print(\"The shape of vf is\", vf.shape)\n",
    "vf.head()"
   ]
  },
  {
   "cell_type": "markdown",
   "metadata": {},
   "source": [
    "# Step 2: Classification"
   ]
  },
  {
   "cell_type": "code",
   "execution_count": 14,
   "metadata": {},
   "outputs": [],
   "source": [
    "import numpy as np\n",
    "\n",
    "#Plotting packages\n",
    "import matplotlib.pyplot as plt\n",
    "import seaborn as sns\n",
    "\n",
    "#Classification Algorithms\n",
    "from sklearn.tree import DecisionTreeClassifier\n",
    "from sklearn.neighbors import KNeighborsClassifier\n",
    "from sklearn.naive_bayes import GaussianNB\n",
    "from sklearn.svm import SVC\n",
    "\n",
    "#Ensemble Methods\n",
    "#from sklearn.ensemble import BaggingClassifier\n",
    "#from sklearn.ensemble import BaggingRegressor\n",
    "from sklearn.model_selection import cross_val_score, train_test_split\n",
    "#from sklearn.ensemble import AdaBoostClassifier\n",
    "\n",
    "# 在terminal里run\n",
    "# pip uninstall scikit-learn\n",
    "# pip install scikit-learn==0.18.2"
   ]
  },
  {
   "cell_type": "code",
   "execution_count": 15,
   "metadata": {},
   "outputs": [
    {
     "name": "stdout",
     "output_type": "stream",
     "text": [
      "The shape of X is  (301, 265)\n",
      "The shape of Y is  (301,)\n"
     ]
    }
   ],
   "source": [
    "X = vf1.to_numpy()\n",
    "Y = vf[\"normal\"].to_numpy()\n",
    "print(\"The shape of X is \", X.shape)\n",
    "print(\"The shape of Y is \", Y.shape)"
   ]
  },
  {
   "cell_type": "code",
   "execution_count": 16,
   "metadata": {},
   "outputs": [
    {
     "data": {
      "text/html": [
       "<div>\n",
       "<style scoped>\n",
       "    .dataframe tbody tr th:only-of-type {\n",
       "        vertical-align: middle;\n",
       "    }\n",
       "\n",
       "    .dataframe tbody tr th {\n",
       "        vertical-align: top;\n",
       "    }\n",
       "\n",
       "    .dataframe thead th {\n",
       "        text-align: right;\n",
       "    }\n",
       "</style>\n",
       "<table border=\"1\" class=\"dataframe\">\n",
       "  <thead>\n",
       "    <tr style=\"text-align: right;\">\n",
       "      <th></th>\n",
       "      <th>MD</th>\n",
       "      <th>PSD</th>\n",
       "      <th>VFI</th>\n",
       "      <th>Threshold_1</th>\n",
       "      <th>Threshold_2</th>\n",
       "      <th>Threshold_3</th>\n",
       "      <th>Threshold_4</th>\n",
       "      <th>Threshold_5</th>\n",
       "      <th>Threshold_6</th>\n",
       "      <th>Threshold_7</th>\n",
       "      <th>...</th>\n",
       "      <th>PD_NUM_45</th>\n",
       "      <th>PD_NUM_46</th>\n",
       "      <th>PD_NUM_47</th>\n",
       "      <th>PD_NUM_48</th>\n",
       "      <th>PD_NUM_49</th>\n",
       "      <th>PD_NUM_50</th>\n",
       "      <th>PD_NUM_51</th>\n",
       "      <th>PD_NUM_52</th>\n",
       "      <th>PD_NUM_53</th>\n",
       "      <th>PD_NUM_54</th>\n",
       "    </tr>\n",
       "  </thead>\n",
       "  <tbody>\n",
       "    <tr>\n",
       "      <th>count</th>\n",
       "      <td>301.000000</td>\n",
       "      <td>301.000000</td>\n",
       "      <td>301.000000</td>\n",
       "      <td>301.000000</td>\n",
       "      <td>301.000000</td>\n",
       "      <td>301.000000</td>\n",
       "      <td>301.000000</td>\n",
       "      <td>301.000000</td>\n",
       "      <td>301.000000</td>\n",
       "      <td>301.000000</td>\n",
       "      <td>...</td>\n",
       "      <td>301.000000</td>\n",
       "      <td>301.000000</td>\n",
       "      <td>301.000000</td>\n",
       "      <td>301.000000</td>\n",
       "      <td>301.000000</td>\n",
       "      <td>301.000000</td>\n",
       "      <td>301.000000</td>\n",
       "      <td>301.000000</td>\n",
       "      <td>301.000000</td>\n",
       "      <td>301.000000</td>\n",
       "    </tr>\n",
       "    <tr>\n",
       "      <th>mean</th>\n",
       "      <td>-3.813006</td>\n",
       "      <td>3.494330</td>\n",
       "      <td>91.296396</td>\n",
       "      <td>20.795482</td>\n",
       "      <td>20.901927</td>\n",
       "      <td>20.324917</td>\n",
       "      <td>20.294850</td>\n",
       "      <td>23.193522</td>\n",
       "      <td>24.684485</td>\n",
       "      <td>24.117973</td>\n",
       "      <td>...</td>\n",
       "      <td>0.657807</td>\n",
       "      <td>0.491694</td>\n",
       "      <td>0.770764</td>\n",
       "      <td>0.521595</td>\n",
       "      <td>0.289037</td>\n",
       "      <td>0.471761</td>\n",
       "      <td>0.877076</td>\n",
       "      <td>0.980066</td>\n",
       "      <td>0.830565</td>\n",
       "      <td>0.691030</td>\n",
       "    </tr>\n",
       "    <tr>\n",
       "      <th>std</th>\n",
       "      <td>5.410805</td>\n",
       "      <td>2.911504</td>\n",
       "      <td>15.403329</td>\n",
       "      <td>8.560558</td>\n",
       "      <td>8.598235</td>\n",
       "      <td>8.722208</td>\n",
       "      <td>8.669506</td>\n",
       "      <td>8.157705</td>\n",
       "      <td>7.504720</td>\n",
       "      <td>8.225993</td>\n",
       "      <td>...</td>\n",
       "      <td>1.285501</td>\n",
       "      <td>1.176477</td>\n",
       "      <td>1.328135</td>\n",
       "      <td>1.118197</td>\n",
       "      <td>0.944905</td>\n",
       "      <td>1.121026</td>\n",
       "      <td>1.417100</td>\n",
       "      <td>1.465015</td>\n",
       "      <td>1.449550</td>\n",
       "      <td>1.314364</td>\n",
       "    </tr>\n",
       "    <tr>\n",
       "      <th>min</th>\n",
       "      <td>-32.163725</td>\n",
       "      <td>0.933648</td>\n",
       "      <td>0.000000</td>\n",
       "      <td>-2.000000</td>\n",
       "      <td>-2.000000</td>\n",
       "      <td>-2.000000</td>\n",
       "      <td>-2.000000</td>\n",
       "      <td>-2.000000</td>\n",
       "      <td>-2.000000</td>\n",
       "      <td>-2.000000</td>\n",
       "      <td>...</td>\n",
       "      <td>0.000000</td>\n",
       "      <td>0.000000</td>\n",
       "      <td>0.000000</td>\n",
       "      <td>0.000000</td>\n",
       "      <td>0.000000</td>\n",
       "      <td>0.000000</td>\n",
       "      <td>0.000000</td>\n",
       "      <td>0.000000</td>\n",
       "      <td>0.000000</td>\n",
       "      <td>0.000000</td>\n",
       "    </tr>\n",
       "    <tr>\n",
       "      <th>25%</th>\n",
       "      <td>-5.029382</td>\n",
       "      <td>1.703477</td>\n",
       "      <td>91.557924</td>\n",
       "      <td>17.860000</td>\n",
       "      <td>18.450000</td>\n",
       "      <td>17.840000</td>\n",
       "      <td>17.450000</td>\n",
       "      <td>21.500000</td>\n",
       "      <td>23.350000</td>\n",
       "      <td>22.640000</td>\n",
       "      <td>...</td>\n",
       "      <td>0.000000</td>\n",
       "      <td>0.000000</td>\n",
       "      <td>0.000000</td>\n",
       "      <td>0.000000</td>\n",
       "      <td>0.000000</td>\n",
       "      <td>0.000000</td>\n",
       "      <td>0.000000</td>\n",
       "      <td>0.000000</td>\n",
       "      <td>0.000000</td>\n",
       "      <td>0.000000</td>\n",
       "    </tr>\n",
       "    <tr>\n",
       "      <th>50%</th>\n",
       "      <td>-2.389565</td>\n",
       "      <td>2.275021</td>\n",
       "      <td>97.058072</td>\n",
       "      <td>23.300000</td>\n",
       "      <td>23.210000</td>\n",
       "      <td>22.750000</td>\n",
       "      <td>22.750000</td>\n",
       "      <td>25.600000</td>\n",
       "      <td>26.970000</td>\n",
       "      <td>26.570000</td>\n",
       "      <td>...</td>\n",
       "      <td>0.000000</td>\n",
       "      <td>0.000000</td>\n",
       "      <td>0.000000</td>\n",
       "      <td>0.000000</td>\n",
       "      <td>0.000000</td>\n",
       "      <td>0.000000</td>\n",
       "      <td>0.000000</td>\n",
       "      <td>0.000000</td>\n",
       "      <td>0.000000</td>\n",
       "      <td>0.000000</td>\n",
       "    </tr>\n",
       "    <tr>\n",
       "      <th>75%</th>\n",
       "      <td>-0.765912</td>\n",
       "      <td>4.119056</td>\n",
       "      <td>98.860954</td>\n",
       "      <td>26.180000</td>\n",
       "      <td>26.510000</td>\n",
       "      <td>25.810000</td>\n",
       "      <td>26.130000</td>\n",
       "      <td>28.120000</td>\n",
       "      <td>29.000000</td>\n",
       "      <td>28.770000</td>\n",
       "      <td>...</td>\n",
       "      <td>1.000000</td>\n",
       "      <td>0.000000</td>\n",
       "      <td>1.000000</td>\n",
       "      <td>0.000000</td>\n",
       "      <td>0.000000</td>\n",
       "      <td>0.000000</td>\n",
       "      <td>1.000000</td>\n",
       "      <td>2.000000</td>\n",
       "      <td>1.000000</td>\n",
       "      <td>1.000000</td>\n",
       "    </tr>\n",
       "    <tr>\n",
       "      <th>max</th>\n",
       "      <td>17.245180</td>\n",
       "      <td>16.453277</td>\n",
       "      <td>100.000000</td>\n",
       "      <td>49.630000</td>\n",
       "      <td>46.560000</td>\n",
       "      <td>39.800000</td>\n",
       "      <td>41.300000</td>\n",
       "      <td>49.630000</td>\n",
       "      <td>49.350000</td>\n",
       "      <td>49.560000</td>\n",
       "      <td>...</td>\n",
       "      <td>4.000000</td>\n",
       "      <td>4.000000</td>\n",
       "      <td>4.000000</td>\n",
       "      <td>4.000000</td>\n",
       "      <td>4.000000</td>\n",
       "      <td>4.000000</td>\n",
       "      <td>4.000000</td>\n",
       "      <td>4.000000</td>\n",
       "      <td>4.000000</td>\n",
       "      <td>4.000000</td>\n",
       "    </tr>\n",
       "  </tbody>\n",
       "</table>\n",
       "<p>8 rows × 265 columns</p>\n",
       "</div>"
      ],
      "text/plain": [
       "               MD         PSD         VFI  Threshold_1  Threshold_2  \\\n",
       "count  301.000000  301.000000  301.000000   301.000000   301.000000   \n",
       "mean    -3.813006    3.494330   91.296396    20.795482    20.901927   \n",
       "std      5.410805    2.911504   15.403329     8.560558     8.598235   \n",
       "min    -32.163725    0.933648    0.000000    -2.000000    -2.000000   \n",
       "25%     -5.029382    1.703477   91.557924    17.860000    18.450000   \n",
       "50%     -2.389565    2.275021   97.058072    23.300000    23.210000   \n",
       "75%     -0.765912    4.119056   98.860954    26.180000    26.510000   \n",
       "max     17.245180   16.453277  100.000000    49.630000    46.560000   \n",
       "\n",
       "       Threshold_3  Threshold_4  Threshold_5  Threshold_6  Threshold_7  ...  \\\n",
       "count   301.000000   301.000000   301.000000   301.000000   301.000000  ...   \n",
       "mean     20.324917    20.294850    23.193522    24.684485    24.117973  ...   \n",
       "std       8.722208     8.669506     8.157705     7.504720     8.225993  ...   \n",
       "min      -2.000000    -2.000000    -2.000000    -2.000000    -2.000000  ...   \n",
       "25%      17.840000    17.450000    21.500000    23.350000    22.640000  ...   \n",
       "50%      22.750000    22.750000    25.600000    26.970000    26.570000  ...   \n",
       "75%      25.810000    26.130000    28.120000    29.000000    28.770000  ...   \n",
       "max      39.800000    41.300000    49.630000    49.350000    49.560000  ...   \n",
       "\n",
       "        PD_NUM_45   PD_NUM_46   PD_NUM_47   PD_NUM_48   PD_NUM_49   PD_NUM_50  \\\n",
       "count  301.000000  301.000000  301.000000  301.000000  301.000000  301.000000   \n",
       "mean     0.657807    0.491694    0.770764    0.521595    0.289037    0.471761   \n",
       "std      1.285501    1.176477    1.328135    1.118197    0.944905    1.121026   \n",
       "min      0.000000    0.000000    0.000000    0.000000    0.000000    0.000000   \n",
       "25%      0.000000    0.000000    0.000000    0.000000    0.000000    0.000000   \n",
       "50%      0.000000    0.000000    0.000000    0.000000    0.000000    0.000000   \n",
       "75%      1.000000    0.000000    1.000000    0.000000    0.000000    0.000000   \n",
       "max      4.000000    4.000000    4.000000    4.000000    4.000000    4.000000   \n",
       "\n",
       "        PD_NUM_51   PD_NUM_52   PD_NUM_53   PD_NUM_54  \n",
       "count  301.000000  301.000000  301.000000  301.000000  \n",
       "mean     0.877076    0.980066    0.830565    0.691030  \n",
       "std      1.417100    1.465015    1.449550    1.314364  \n",
       "min      0.000000    0.000000    0.000000    0.000000  \n",
       "25%      0.000000    0.000000    0.000000    0.000000  \n",
       "50%      0.000000    0.000000    0.000000    0.000000  \n",
       "75%      1.000000    2.000000    1.000000    1.000000  \n",
       "max      4.000000    4.000000    4.000000    4.000000  \n",
       "\n",
       "[8 rows x 265 columns]"
      ]
     },
     "execution_count": 16,
     "metadata": {},
     "output_type": "execute_result"
    }
   ],
   "source": [
    "vf1.describe()"
   ]
  },
  {
   "cell_type": "markdown",
   "metadata": {},
   "source": [
    "### Model Evaluation Matrics\n",
    "Let's see what model evaluation matrics we have/can use.\n",
    "- from scikit-learn package"
   ]
  },
  {
   "cell_type": "code",
   "execution_count": 17,
   "metadata": {},
   "outputs": [
    {
     "data": {
      "text/plain": [
       "['accuracy',\n",
       " 'adjusted_mutual_info_score',\n",
       " 'adjusted_rand_score',\n",
       " 'average_precision',\n",
       " 'balanced_accuracy',\n",
       " 'completeness_score',\n",
       " 'explained_variance',\n",
       " 'f1',\n",
       " 'f1_macro',\n",
       " 'f1_micro',\n",
       " 'f1_samples',\n",
       " 'f1_weighted',\n",
       " 'fowlkes_mallows_score',\n",
       " 'homogeneity_score',\n",
       " 'jaccard',\n",
       " 'jaccard_macro',\n",
       " 'jaccard_micro',\n",
       " 'jaccard_samples',\n",
       " 'jaccard_weighted',\n",
       " 'max_error',\n",
       " 'mutual_info_score',\n",
       " 'neg_brier_score',\n",
       " 'neg_log_loss',\n",
       " 'neg_mean_absolute_error',\n",
       " 'neg_mean_absolute_percentage_error',\n",
       " 'neg_mean_gamma_deviance',\n",
       " 'neg_mean_poisson_deviance',\n",
       " 'neg_mean_squared_error',\n",
       " 'neg_mean_squared_log_error',\n",
       " 'neg_median_absolute_error',\n",
       " 'neg_root_mean_squared_error',\n",
       " 'normalized_mutual_info_score',\n",
       " 'precision',\n",
       " 'precision_macro',\n",
       " 'precision_micro',\n",
       " 'precision_samples',\n",
       " 'precision_weighted',\n",
       " 'r2',\n",
       " 'rand_score',\n",
       " 'recall',\n",
       " 'recall_macro',\n",
       " 'recall_micro',\n",
       " 'recall_samples',\n",
       " 'recall_weighted',\n",
       " 'roc_auc',\n",
       " 'roc_auc_ovo',\n",
       " 'roc_auc_ovo_weighted',\n",
       " 'roc_auc_ovr',\n",
       " 'roc_auc_ovr_weighted',\n",
       " 'top_k_accuracy',\n",
       " 'v_measure_score']"
      ]
     },
     "execution_count": 17,
     "metadata": {},
     "output_type": "execute_result"
    }
   ],
   "source": [
    "import sklearn\n",
    "sorted(sklearn.metrics.SCORERS.keys())"
   ]
  },
  {
   "cell_type": "markdown",
   "metadata": {},
   "source": [
    "### Let's see if the data is balanced or not?\n",
    "- \"normal\""
   ]
  },
  {
   "cell_type": "code",
   "execution_count": 18,
   "metadata": {},
   "outputs": [
    {
     "name": "stdout",
     "output_type": "stream",
     "text": [
      "The number of normal is 46.0\n",
      "The proportion of normal is 0.15282392026578073\n"
     ]
    }
   ],
   "source": [
    "print(\"The number of normal is\", Y.sum())\n",
    "print(\"The proportion of normal is\", Y.sum()/len(Y))"
   ]
  },
  {
   "cell_type": "markdown",
   "metadata": {},
   "source": [
    "**Summary**: The label \"normal\" is **not balanced.**"
   ]
  },
  {
   "cell_type": "markdown",
   "metadata": {},
   "source": [
    "### a. Decision Tree"
   ]
  },
  {
   "cell_type": "code",
   "execution_count": 19,
   "metadata": {},
   "outputs": [
    {
     "data": {
      "text/plain": [
       "[0.8745115384615383, 0.08750413016456988]"
      ]
     },
     "execution_count": 19,
     "metadata": {},
     "output_type": "execute_result"
    }
   ],
   "source": [
    "dt1 = DecisionTreeClassifier (max_depth=2)\n",
    "dt1_scores = cross_val_score (dt1, X, Y, cv = 10, scoring = 'roc_auc') \n",
    "[dt1_scores.mean(), dt1_scores.std()]"
   ]
  },
  {
   "cell_type": "code",
   "execution_count": 20,
   "metadata": {},
   "outputs": [
    {
     "data": {
      "text/plain": [
       "[0.7388383838383838, 0.10804621602568806]"
      ]
     },
     "execution_count": 20,
     "metadata": {},
     "output_type": "execute_result"
    }
   ],
   "source": [
    "dt1 = DecisionTreeClassifier (max_depth=2)\n",
    "dt1_scores = cross_val_score (dt1, X, Y, cv = 10, scoring = 'f1') \n",
    "[dt1_scores.mean(), dt1_scores.std()]"
   ]
  },
  {
   "cell_type": "code",
   "execution_count": 21,
   "metadata": {},
   "outputs": [
    {
     "data": {
      "text/plain": [
       "[0.9267741935483871, 0.029208742753749458]"
      ]
     },
     "execution_count": 21,
     "metadata": {},
     "output_type": "execute_result"
    }
   ],
   "source": [
    "###### Accuracy!!!!\n",
    "dt1 = DecisionTreeClassifier (max_depth=2)\n",
    "dt1_scores = cross_val_score (dt1, X, Y, cv = 10, scoring = 'accuracy') \n",
    "[dt1_scores.mean(), dt1_scores.std()]"
   ]
  },
  {
   "cell_type": "code",
   "execution_count": 22,
   "metadata": {
    "scrolled": false
   },
   "outputs": [
    {
     "data": {
      "image/png": "[encoded data removed]",
      "text/plain": [
       "<Figure size 432x288 with 1 Axes>"
      ]
     },
     "metadata": {
      "needs_background": "light"
     },
     "output_type": "display_data"
    }
   ],
   "source": [
    "depth = [1, 2, 4, 6, 8, 10, 12, 14, 16, 18, 20]\n",
    "accuracy = []\n",
    "\n",
    "for i in range(len(depth)):\n",
    "    dt = DecisionTreeClassifier (max_depth = depth[i])\n",
    "    dt_scores = cross_val_score (dt, X, Y, cv = 10, scoring = 'accuracy')\n",
    "    accuracy.append(dt_scores.mean())\n",
    "    \n",
    "plt.plot(depth, accuracy)\n",
    "plt.title(\"A. Decision Tree\")\n",
    "plt.xlabel(\"max depth of tree\")\n",
    "plt.ylabel(\"Accuracy\")\n",
    "plt.show()"
   ]
  },
  {
   "cell_type": "code",
   "execution_count": 23,
   "metadata": {},
   "outputs": [
    {
     "data": {
      "image/png": "[encoded data removed]",
      "text/plain": [
       "<Figure size 432x288 with 1 Axes>"
      ]
     },
     "metadata": {
      "needs_background": "light"
     },
     "output_type": "display_data"
    }
   ],
   "source": [
    "depth = [1, 2, 4, 6, 8, 10, 12, 14, 16, 18, 20]\n",
    "accuracy = []\n",
    "\n",
    "for i in range(len(depth)):\n",
    "    dt = DecisionTreeClassifier (max_depth = depth[i])\n",
    "    dt_scores = cross_val_score (dt, X, Y, cv = 10, scoring = 'f1')\n",
    "    accuracy.append(dt_scores.mean())\n",
    "    \n",
    "plt.plot(depth, accuracy, color = \"g\")\n",
    "plt.title(\"A. Decision Tree\")\n",
    "plt.xlabel(\"max depth of tree\")\n",
    "plt.ylabel(\"F1 score\")\n",
    "plt.show()"
   ]
  },
  {
   "cell_type": "code",
   "execution_count": 24,
   "metadata": {},
   "outputs": [
    {
     "data": {
      "image/png": "[encoded data removed]",
      "text/plain": [
       "<Figure size 432x288 with 1 Axes>"
      ]
     },
     "metadata": {
      "needs_background": "light"
     },
     "output_type": "display_data"
    }
   ],
   "source": [
    "depth = [1, 2, 4, 6, 8, 10, 12, 14, 16, 18, 20]\n",
    "accuracy = []\n",
    "\n",
    "for i in range(len(depth)):\n",
    "    dt = DecisionTreeClassifier (max_depth = depth[i])\n",
    "    dt_scores = cross_val_score (dt, X, Y, cv = 10, scoring = 'roc_auc')\n",
    "    accuracy.append(dt_scores.mean())\n",
    "    \n",
    "plt.plot(depth, accuracy, color = \"orange\")\n",
    "plt.title(\"A. Decision Tree\")\n",
    "plt.xlabel(\"max depth of tree\")\n",
    "plt.ylabel(\"AUC\")\n",
    "plt.show()"
   ]
  },
  {
   "cell_type": "markdown",
   "metadata": {},
   "source": [
    "### b. KNN classifier"
   ]
  },
  {
   "cell_type": "code",
   "execution_count": 25,
   "metadata": {},
   "outputs": [
    {
     "data": {
      "text/plain": [
       "[0.9357961538461538, 0.03669751636147318]"
      ]
     },
     "execution_count": 25,
     "metadata": {},
     "output_type": "execute_result"
    }
   ],
   "source": [
    "knn1 = KNeighborsClassifier(n_neighbors=4)\n",
    "knn1_scores = cross_val_score(knn1, X, Y, cv=10, scoring = 'roc_auc') \n",
    "[knn1_scores.mean(), knn1_scores.std()]"
   ]
  },
  {
   "cell_type": "code",
   "execution_count": 26,
   "metadata": {},
   "outputs": [
    {
     "data": {
      "text/plain": [
       "[0.6626330532212885, 0.06814858367191849]"
      ]
     },
     "execution_count": 26,
     "metadata": {},
     "output_type": "execute_result"
    }
   ],
   "source": [
    "knn1 = KNeighborsClassifier(n_neighbors=4)\n",
    "knn1_scores = cross_val_score(knn1, X, Y, cv=10, scoring = 'f1') \n",
    "[knn1_scores.mean(), knn1_scores.std()]"
   ]
  },
  {
   "cell_type": "code",
   "execution_count": 27,
   "metadata": {},
   "outputs": [
    {
     "data": {
      "text/plain": [
       "[0.8507526881720431, 0.046448128105047934]"
      ]
     },
     "execution_count": 27,
     "metadata": {},
     "output_type": "execute_result"
    }
   ],
   "source": [
    "###### Accuracy!!!!\n",
    "knn1 = KNeighborsClassifier(n_neighbors=4)\n",
    "knn1_scores = cross_val_score(knn1, X, Y, cv=10, scoring = 'accuracy') \n",
    "[knn1_scores.mean(), knn1_scores.std()]"
   ]
  },
  {
   "cell_type": "code",
   "execution_count": 28,
   "metadata": {},
   "outputs": [
    {
     "data": {
      "image/png": "[encoded data removed]",
      "text/plain": [
       "<Figure size 432x288 with 1 Axes>"
      ]
     },
     "metadata": {
      "needs_background": "light"
     },
     "output_type": "display_data"
    }
   ],
   "source": [
    "n_neighbors = [1,2,3,4,5]\n",
    "accuracy = []\n",
    "\n",
    "for i in range(len(n_neighbors)):\n",
    "    knn = KNeighborsClassifier (n_neighbors = n_neighbors[i])\n",
    "    knn_scores = cross_val_score (knn, X, Y, cv = 10, scoring = 'accuracy')\n",
    "    accuracy.append(knn_scores.mean())\n",
    "    \n",
    "plt.plot(n_neighbors, accuracy)\n",
    "plt.title(\"B. K-Nearest Neighbor (KNN)\")\n",
    "plt.xlabel(\"number of neighbor (K)\")\n",
    "plt.ylabel(\"Accuracy\")\n",
    "plt.show()"
   ]
  },
  {
   "cell_type": "code",
   "execution_count": 29,
   "metadata": {},
   "outputs": [
    {
     "data": {
      "image/png": "[encoded data removed]",
      "text/plain": [
       "<Figure size 432x288 with 1 Axes>"
      ]
     },
     "metadata": {
      "needs_background": "light"
     },
     "output_type": "display_data"
    }
   ],
   "source": [
    "n_neighbors = [1,2,3,4,5]\n",
    "accuracy = []\n",
    "\n",
    "for i in range(len(n_neighbors)):\n",
    "    knn = KNeighborsClassifier (n_neighbors = n_neighbors[i])\n",
    "    knn_scores = cross_val_score (knn, X, Y, cv = 10, scoring = 'f1')\n",
    "    accuracy.append(knn_scores.mean())\n",
    "    \n",
    "plt.plot(n_neighbors, accuracy, color = \"g\")\n",
    "plt.title(\"B. K-Nearest Neighbor (KNN)\")\n",
    "plt.xlabel(\"number of neighbor (K)\")\n",
    "plt.ylabel(\"F1 score\")\n",
    "plt.show()"
   ]
  },
  {
   "cell_type": "code",
   "execution_count": 30,
   "metadata": {},
   "outputs": [
    {
     "data": {
      "image/png": "[encoded data removed]",
      "text/plain": [
       "<Figure size 432x288 with 1 Axes>"
      ]
     },
     "metadata": {
      "needs_background": "light"
     },
     "output_type": "display_data"
    }
   ],
   "source": [
    "n_neighbors = [1,2,3,4,5]\n",
    "accuracy = []\n",
    "\n",
    "for i in range(len(n_neighbors)):\n",
    "    knn = KNeighborsClassifier (n_neighbors = n_neighbors[i])\n",
    "    knn_scores = cross_val_score (knn, X, Y, cv = 10, scoring = 'roc_auc')\n",
    "    accuracy.append(knn_scores.mean())\n",
    "    \n",
    "plt.plot(n_neighbors, accuracy, color = \"orange\")\n",
    "plt.title(\"B. K-Nearest Neighbor (KNN)\")\n",
    "plt.xlabel(\"number of neighbor (K)\")\n",
    "plt.ylabel(\"AUC\")\n",
    "plt.show()"
   ]
  },
  {
   "cell_type": "markdown",
   "metadata": {},
   "source": [
    "### c. Support Vector Machines (Linear)"
   ]
  },
  {
   "cell_type": "code",
   "execution_count": 31,
   "metadata": {},
   "outputs": [
    {
     "data": {
      "text/plain": [
       "[0.9407076923076921, 0.04034146852607423]"
      ]
     },
     "execution_count": 31,
     "metadata": {},
     "output_type": "execute_result"
    }
   ],
   "source": [
    "svm_linear1 = SVC(C=0.01, kernel = 'linear')\n",
    "svm_linear1_scores = cross_val_score(svm_linear1, X, Y, cv = 10, \n",
    "                                     scoring = \"roc_auc\")\n",
    "[svm_linear1_scores.mean(), svm_linear1_scores.std()]"
   ]
  },
  {
   "cell_type": "code",
   "execution_count": 32,
   "metadata": {},
   "outputs": [
    {
     "data": {
      "text/plain": [
       "[0.698181818181818, 0.1125377194189176]"
      ]
     },
     "execution_count": 32,
     "metadata": {},
     "output_type": "execute_result"
    }
   ],
   "source": [
    "svm_linear1 = SVC(C=0.01, kernel = 'linear')\n",
    "svm_linear1_scores = cross_val_score(svm_linear1, X, Y, cv = 10, \n",
    "                                     scoring = \"f1\")\n",
    "[svm_linear1_scores.mean(), svm_linear1_scores.std()]"
   ]
  },
  {
   "cell_type": "code",
   "execution_count": 33,
   "metadata": {},
   "outputs": [
    {
     "data": {
      "text/plain": [
       "[0.9103225806451614, 0.03659138363050668]"
      ]
     },
     "execution_count": 33,
     "metadata": {},
     "output_type": "execute_result"
    }
   ],
   "source": [
    "###### Accuracy!!!!\n",
    "svm_linear1 = SVC(C=0.01, kernel = 'linear')\n",
    "svm_linear1_scores = cross_val_score(svm_linear1, X, Y, cv = 10, \n",
    "                                     scoring = \"accuracy\")\n",
    "[svm_linear1_scores.mean(), svm_linear1_scores.std()]"
   ]
  },
  {
   "cell_type": "code",
   "execution_count": 34,
   "metadata": {},
   "outputs": [
    {
     "data": {
      "image/png": "[encoded data removed]",
      "text/plain": [
       "<Figure size 432x288 with 1 Axes>"
      ]
     },
     "metadata": {
      "needs_background": "light"
     },
     "output_type": "display_data"
    }
   ],
   "source": [
    "C = [0.01, 0.015, 0.05, 0.1, 0.15]\n",
    "accuracy = []\n",
    "\n",
    "for i in range(len(C)):\n",
    "    svm_linear = SVC(C=C[i], kernel = 'linear')\n",
    "    svm_scores = cross_val_score (svm_linear, X, Y, cv = 10, scoring = 'accuracy')\n",
    "    accuracy.append(svm_scores.mean())\n",
    "    \n",
    "plt.plot(C, accuracy)\n",
    "plt.title(\"C. SVM (Linear)\")\n",
    "plt.xlabel(\"C value\")\n",
    "plt.ylabel(\"Accuracy\")\n",
    "plt.show()"
   ]
  },
  {
   "cell_type": "code",
   "execution_count": 35,
   "metadata": {},
   "outputs": [
    {
     "data": {
      "image/png": "[encoded data removed]",
      "text/plain": [
       "<Figure size 432x288 with 1 Axes>"
      ]
     },
     "metadata": {
      "needs_background": "light"
     },
     "output_type": "display_data"
    }
   ],
   "source": [
    "C = [0.01, 0.015, 0.05, 0.1, 0.15]\n",
    "accuracy = []\n",
    "\n",
    "for i in range(len(C)):\n",
    "    svm_linear = SVC(C=C[i], kernel = 'linear')\n",
    "    svm_scores = cross_val_score (svm_linear, X, Y, cv = 10, scoring = 'f1')\n",
    "    accuracy.append(svm_scores.mean())\n",
    "    \n",
    "plt.plot(C, accuracy, color = \"g\")\n",
    "plt.title(\"C. SVM (Linear)\")\n",
    "plt.xlabel(\"C value\")\n",
    "plt.ylabel(\"F1 score\")\n",
    "plt.show()"
   ]
  },
  {
   "cell_type": "code",
   "execution_count": 36,
   "metadata": {},
   "outputs": [
    {
     "data": {
      "image/png": "[encoded data removed]",
      "text/plain": [
       "<Figure size 432x288 with 1 Axes>"
      ]
     },
     "metadata": {
      "needs_background": "light"
     },
     "output_type": "display_data"
    }
   ],
   "source": [
    "C = [0.01, 0.015, 0.05, 0.1, 0.15]\n",
    "accuracy = []\n",
    "\n",
    "for i in range(len(C)):\n",
    "    svm_linear = SVC(C=C[i], kernel = 'linear')\n",
    "    svm_scores = cross_val_score (svm_linear, X, Y, cv = 10, scoring = 'roc_auc')\n",
    "    accuracy.append(svm_scores.mean())\n",
    "    \n",
    "plt.plot(C, accuracy, color = \"orange\")\n",
    "plt.title(\"C. SVM (Linear)\")\n",
    "plt.xlabel(\"C value\")\n",
    "plt.ylabel(\"AUC\")\n",
    "plt.show()"
   ]
  },
  {
   "cell_type": "markdown",
   "metadata": {},
   "source": [
    "### d. Support Vector Machines (Polynomial)"
   ]
  },
  {
   "cell_type": "code",
   "execution_count": 37,
   "metadata": {},
   "outputs": [
    {
     "data": {
      "text/plain": [
       "[0.943046153846154, 0.0358243281194093]"
      ]
     },
     "execution_count": 37,
     "metadata": {},
     "output_type": "execute_result"
    }
   ],
   "source": [
    "svm_poly = SVC(C=0.01, kernel = 'poly', degree = 2, gamma='auto')\n",
    "svm_poly_scores = cross_val_score(svm_poly, X, Y, cv = 10, scoring = 'roc_auc')\n",
    "[svm_poly_scores.mean(), svm_poly_scores.std()]"
   ]
  },
  {
   "cell_type": "code",
   "execution_count": 38,
   "metadata": {},
   "outputs": [
    {
     "data": {
      "text/plain": [
       "[0.7116450216450216, 0.1340499729623749]"
      ]
     },
     "execution_count": 38,
     "metadata": {},
     "output_type": "execute_result"
    }
   ],
   "source": [
    "svm_poly = SVC(C=0.01, kernel = 'poly', degree = 2, gamma='auto')\n",
    "svm_poly_scores = cross_val_score(svm_poly, X, Y, cv = 10, scoring = 'f1')\n",
    "[svm_poly_scores.mean(), svm_poly_scores.std()]"
   ]
  },
  {
   "cell_type": "code",
   "execution_count": 39,
   "metadata": {},
   "outputs": [
    {
     "data": {
      "text/plain": [
       "[0.9104301075268818, 0.04187216062717481]"
      ]
     },
     "execution_count": 39,
     "metadata": {},
     "output_type": "execute_result"
    }
   ],
   "source": [
    "svm_poly = SVC(C=0.01, kernel = 'poly', degree = 2, gamma='auto')\n",
    "svm_poly_scores = cross_val_score(svm_poly, X, Y, cv = 10, scoring = 'accuracy')\n",
    "[svm_poly_scores.mean(), svm_poly_scores.std()]"
   ]
  },
  {
   "cell_type": "code",
   "execution_count": 40,
   "metadata": {},
   "outputs": [
    {
     "data": {
      "image/png": "[encoded data removed]",
      "text/plain": [
       "<Figure size 432x288 with 1 Axes>"
      ]
     },
     "metadata": {
      "needs_background": "light"
     },
     "output_type": "display_data"
    }
   ],
   "source": [
    "degree = [1, 2, 3, 4, 5, 6, 7, 8]\n",
    "accuracy = []\n",
    "\n",
    "for i in range(len(degree)):\n",
    "    svm_linear = SVC(C=0.01, kernel = 'poly', degree = degree[i], gamma = 'auto')\n",
    "    svm_scores = cross_val_score (svm_linear, X, Y, cv = 10, scoring = 'accuracy')\n",
    "    accuracy.append(svm_scores.mean())\n",
    "    \n",
    "plt.plot(degree, accuracy)\n",
    "plt.title(\"D. SVM (polynomial)\")\n",
    "plt.xlabel(\"degree\")\n",
    "plt.ylabel(\"Accuracy\")\n",
    "plt.show()"
   ]
  },
  {
   "cell_type": "code",
   "execution_count": 41,
   "metadata": {},
   "outputs": [
    {
     "data": {
      "image/png": "[encoded data removed]",
      "text/plain": [
       "<Figure size 432x288 with 1 Axes>"
      ]
     },
     "metadata": {
      "needs_background": "light"
     },
     "output_type": "display_data"
    }
   ],
   "source": [
    "degree = [1, 2, 3, 4, 5, 6, 7, 8]\n",
    "accuracy = []\n",
    "\n",
    "for i in range(len(degree)):\n",
    "    svm_linear = SVC(C=0.01, kernel = 'poly', degree = degree[i], gamma = 'auto')\n",
    "    svm_scores = cross_val_score (svm_linear, X, Y, cv = 10, scoring = 'f1')\n",
    "    accuracy.append(svm_scores.mean())\n",
    "    \n",
    "plt.plot(degree, accuracy, color = \"g\")\n",
    "plt.title(\"D. SVM (polynomial)\")\n",
    "plt.xlabel(\"degree\")\n",
    "plt.ylabel(\"F1 score\")\n",
    "plt.show()"
   ]
  },
  {
   "cell_type": "code",
   "execution_count": 42,
   "metadata": {},
   "outputs": [
    {
     "data": {
      "image/png": "[encoded data removed]",
      "text/plain": [
       "<Figure size 432x288 with 1 Axes>"
      ]
     },
     "metadata": {
      "needs_background": "light"
     },
     "output_type": "display_data"
    }
   ],
   "source": [
    "degree = [1, 2, 3, 4, 5, 6, 7, 8]\n",
    "accuracy = []\n",
    "\n",
    "for i in range(len(degree)):\n",
    "    svm_linear = SVC(C=0.01, kernel = 'poly', degree = degree[i], gamma = 'auto')\n",
    "    svm_scores = cross_val_score (svm_linear, X, Y, cv = 10, scoring = 'roc_auc')\n",
    "    accuracy.append(svm_scores.mean())\n",
    "    \n",
    "plt.plot(degree, accuracy, color = \"orange\")\n",
    "plt.title(\"D. SVM (polynomial)\")\n",
    "plt.xlabel(\"degree\")\n",
    "plt.ylabel(\"AUC\")\n",
    "plt.show()"
   ]
  },
  {
   "cell_type": "markdown",
   "metadata": {},
   "source": [
    "### e. Random Forest"
   ]
  },
  {
   "cell_type": "code",
   "execution_count": 43,
   "metadata": {},
   "outputs": [],
   "source": [
    "# Import the model we are using\n",
    "from sklearn.ensemble import RandomForestClassifier"
   ]
  },
  {
   "cell_type": "code",
   "execution_count": 44,
   "metadata": {},
   "outputs": [
    {
     "data": {
      "text/plain": [
       "[0.9600615384615384, 0.035928163039714175]"
      ]
     },
     "execution_count": 44,
     "metadata": {},
     "output_type": "execute_result"
    }
   ],
   "source": [
    "# Instantiate model with 100 decision trees\n",
    "rf = RandomForestClassifier(n_estimators = 200, #### number of trees in the forest\n",
    "                            random_state = 42, \n",
    "                            max_features = 'sqrt', #bootstrap=True, \n",
    "                            max_depth=10, \n",
    "                            #min_samples_split = 0.01, min_samples_leaf = 0.01\n",
    "                           )\n",
    "# Evaluation - Cross Validation\n",
    "rf_scores = cross_val_score(rf, X, Y, cv = 10, scoring = \"roc_auc\")\n",
    "[rf_scores.mean(), rf_scores.std()]"
   ]
  },
  {
   "cell_type": "code",
   "execution_count": 45,
   "metadata": {},
   "outputs": [
    {
     "data": {
      "text/plain": [
       "[0.7873015873015872, 0.14859720302817084]"
      ]
     },
     "execution_count": 45,
     "metadata": {},
     "output_type": "execute_result"
    }
   ],
   "source": [
    "# Instantiate model with 100 decision trees\n",
    "rf = RandomForestClassifier(n_estimators = 200, #### number of trees in the forest\n",
    "                            random_state = 42, \n",
    "                            max_features = 'sqrt', #bootstrap=True, \n",
    "                            max_depth=10, \n",
    "                            #min_samples_split = 0.01, min_samples_leaf = 0.01\n",
    "                           )\n",
    "# Evaluation - Cross Validation\n",
    "rf_scores = cross_val_score(rf, X, Y, cv = 10, scoring = \"f1\")\n",
    "[rf_scores.mean(), rf_scores.std()]"
   ]
  },
  {
   "cell_type": "code",
   "execution_count": 46,
   "metadata": {},
   "outputs": [
    {
     "data": {
      "text/plain": [
       "[0.9466666666666667, 0.03711842908553347]"
      ]
     },
     "execution_count": 46,
     "metadata": {},
     "output_type": "execute_result"
    }
   ],
   "source": [
    "###### Accuracy!!!!\n",
    "# Instantiate model with 100 decision trees\n",
    "rf = RandomForestClassifier(n_estimators = 200, #### number of trees in the forest\n",
    "                            random_state = 42, \n",
    "                            max_features = 'sqrt', #bootstrap=True, \n",
    "                            max_depth=10, \n",
    "                            #min_samples_split = 0.01, min_samples_leaf = 0.01\n",
    "                           )\n",
    "# Evaluation - Cross Validation\n",
    "rf_scores = cross_val_score(rf, X, Y, cv = 10, scoring = \"accuracy\")\n",
    "[rf_scores.mean(), rf_scores.std()]"
   ]
  },
  {
   "cell_type": "code",
   "execution_count": 47,
   "metadata": {},
   "outputs": [
    {
     "data": {
      "image/png": "[encoded data removed]",
      "text/plain": [
       "<Figure size 432x288 with 1 Axes>"
      ]
     },
     "metadata": {
      "needs_background": "light"
     },
     "output_type": "display_data"
    }
   ],
   "source": [
    "n_estimators = [10, 20, 50, 100, 200, 300, 400, 500]\n",
    "accuracy = []\n",
    "\n",
    "for i in range(len(n_estimators)):\n",
    "    rf = RandomForestClassifier(n_estimators = n_estimators[i], #### number of trees in the forest\n",
    "                            random_state = 42, \n",
    "                            max_features = 'sqrt', #bootstrap=True, \n",
    "                            max_depth=10\n",
    "                            #min_samples_split = 0.01, #min_samples_leaf = 0.01\n",
    "                               )\n",
    "    rf_scores = cross_val_score (rf, X, Y, cv = 10, scoring = 'accuracy')\n",
    "    accuracy.append(rf_scores.mean())\n",
    "    \n",
    "plt.plot(n_estimators, accuracy)\n",
    "plt.title(\"E. Random Forest\")\n",
    "plt.xlabel(\"number of trees in the forest\")\n",
    "plt.ylabel(\"Accuracy\")\n",
    "plt.show()"
   ]
  },
  {
   "cell_type": "code",
   "execution_count": 48,
   "metadata": {
    "scrolled": true
   },
   "outputs": [
    {
     "data": {
      "image/png": "[encoded data removed]",
      "text/plain": [
       "<Figure size 432x288 with 1 Axes>"
      ]
     },
     "metadata": {
      "needs_background": "light"
     },
     "output_type": "display_data"
    }
   ],
   "source": [
    "n_estimators = [10, 20, 50, 100, 200, 300, 400, 500]\n",
    "accuracy = []\n",
    "\n",
    "for i in range(len(n_estimators)):\n",
    "    rf = RandomForestClassifier(n_estimators = n_estimators[i], #### number of trees in the forest\n",
    "                            random_state = 42, \n",
    "                            max_features = 'sqrt', #bootstrap=True, \n",
    "                            max_depth=10\n",
    "                            #min_samples_split = 0.01, #min_samples_leaf = 0.01\n",
    "                               )\n",
    "    rf_scores = cross_val_score (rf, X, Y, cv = 10, scoring = 'f1')\n",
    "    accuracy.append(rf_scores.mean())\n",
    "    \n",
    "plt.plot(n_estimators, accuracy, color = \"g\")\n",
    "plt.title(\"E. Random Forest\")\n",
    "plt.xlabel(\"number of trees in the forest\")\n",
    "plt.ylabel(\"F1 score\")\n",
    "plt.show()"
   ]
  },
  {
   "cell_type": "code",
   "execution_count": 49,
   "metadata": {},
   "outputs": [
    {
     "data": {
      "image/png": "[encoded data removed]",
      "text/plain": [
       "<Figure size 432x288 with 1 Axes>"
      ]
     },
     "metadata": {
      "needs_background": "light"
     },
     "output_type": "display_data"
    }
   ],
   "source": [
    "n_estimators = [10, 20, 50, 100, 200, 300, 400, 500]\n",
    "accuracy = []\n",
    "\n",
    "for i in range(len(n_estimators)):\n",
    "    rf = RandomForestClassifier(n_estimators = n_estimators[i], #### number of trees in the forest\n",
    "                            random_state = 42, \n",
    "                            max_features = 'sqrt', #bootstrap=True, \n",
    "                            max_depth=10\n",
    "                            #min_samples_split = 0.01, #min_samples_leaf = 0.01\n",
    "                               )\n",
    "    rf_scores = cross_val_score (rf, X, Y, cv = 10, scoring = 'roc_auc')\n",
    "    accuracy.append(rf_scores.mean())\n",
    "    \n",
    "plt.plot(n_estimators, accuracy, color = \"orange\")\n",
    "plt.title(\"E. Random Forest\")\n",
    "plt.xlabel(\"number of trees in the forest\")\n",
    "plt.ylabel(\"AUC\")\n",
    "plt.show()"
   ]
  },
  {
   "cell_type": "markdown",
   "metadata": {},
   "source": [
    "### f. Logistic Regression"
   ]
  },
  {
   "cell_type": "code",
   "execution_count": 50,
   "metadata": {},
   "outputs": [],
   "source": [
    "from sklearn.linear_model import LogisticRegression\n",
    "from sklearn.metrics import confusion_matrix"
   ]
  },
  {
   "cell_type": "code",
   "execution_count": 51,
   "metadata": {},
   "outputs": [
    {
     "data": {
      "text/plain": [
       "[0.9505846153846154, 0.02326335462995509]"
      ]
     },
     "execution_count": 51,
     "metadata": {},
     "output_type": "execute_result"
    }
   ],
   "source": [
    "#LR = LogisticRegression(C=0.01, solver='liblinear').fit(X,Y)\n",
    "LR = LogisticRegression(C=0.2, solver='liblinear') # random_state=0\n",
    "LR_scores = cross_val_score(LR, X, Y, cv = 10, scoring = \"roc_auc\")\n",
    "[LR_scores.mean(), LR_scores.std()]"
   ]
  },
  {
   "cell_type": "code",
   "execution_count": 52,
   "metadata": {},
   "outputs": [
    {
     "data": {
      "text/plain": [
       "[0.6864357864357864, 0.10355229610333529]"
      ]
     },
     "execution_count": 52,
     "metadata": {},
     "output_type": "execute_result"
    }
   ],
   "source": [
    "#LR = LogisticRegression(C=0.01, solver='liblinear').fit(X,Y)\n",
    "LR = LogisticRegression(C=0.2, solver='liblinear') # random_state=0\n",
    "LR_scores = cross_val_score(LR, X, Y, cv = 10, scoring = \"f1\")\n",
    "[LR_scores.mean(), LR_scores.std()]"
   ]
  },
  {
   "cell_type": "code",
   "execution_count": 53,
   "metadata": {},
   "outputs": [
    {
     "data": {
      "text/plain": [
       "[0.906989247311828, 0.029001377443654656]"
      ]
     },
     "execution_count": 53,
     "metadata": {},
     "output_type": "execute_result"
    }
   ],
   "source": [
    "###### Accuracy!!!!\n",
    "\n",
    "#LR = LogisticRegression(C=0.01, solver='liblinear').fit(X,Y)\n",
    "LR = LogisticRegression(C=0.2, solver='liblinear') # random_state=0\n",
    "LR_scores = cross_val_score(LR, X, Y, cv = 10, scoring = \"accuracy\")\n",
    "[LR_scores.mean(), LR_scores.std()]"
   ]
  },
  {
   "cell_type": "code",
   "execution_count": 54,
   "metadata": {},
   "outputs": [
    {
     "data": {
      "image/png": "[encoded data removed]",
      "text/plain": [
       "<Figure size 432x288 with 1 Axes>"
      ]
     },
     "metadata": {
      "needs_background": "light"
     },
     "output_type": "display_data"
    }
   ],
   "source": [
    "C = [0.0005, 0.0007, 0.001, 0.01, 0.1, 0.2, 0.3, 0.4, 0.5, 0.6]\n",
    "accuracy = []\n",
    "\n",
    "for i in range(len(C)):\n",
    "    LR = LogisticRegression(C=C[i], solver='liblinear') # random_state=0\n",
    "    LR_scores = cross_val_score (LR, X, Y, cv = 10, scoring = 'accuracy')\n",
    "    accuracy.append(LR_scores.mean())\n",
    "    \n",
    "plt.plot(C, accuracy)\n",
    "plt.title(\"F. Logistic Regression\")\n",
    "plt.xlabel(\"C value\")\n",
    "plt.ylabel(\"Accuracy\")\n",
    "plt.show()"
   ]
  },
  {
   "cell_type": "code",
   "execution_count": 55,
   "metadata": {},
   "outputs": [
    {
     "data": {
      "image/png": "[encoded data removed]",
      "text/plain": [
       "<Figure size 432x288 with 1 Axes>"
      ]
     },
     "metadata": {
      "needs_background": "light"
     },
     "output_type": "display_data"
    }
   ],
   "source": [
    "C = [0.0005, 0.0007, 0.001, 0.01, 0.1, 0.2, 0.3, 0.4, 0.5, 0.6]\n",
    "accuracy = []\n",
    "\n",
    "for i in range(len(C)):\n",
    "    LR = LogisticRegression(C=C[i], solver='liblinear') # random_state=0\n",
    "    LR_scores = cross_val_score (LR, X, Y, cv = 10, scoring = 'f1')\n",
    "    accuracy.append(LR_scores.mean())\n",
    "    \n",
    "plt.plot(C, accuracy, color = \"g\")\n",
    "plt.title(\"F. Logistic Regression\")\n",
    "plt.xlabel(\"C value\")\n",
    "plt.ylabel(\"F1 score\")\n",
    "plt.show()"
   ]
  },
  {
   "cell_type": "code",
   "execution_count": 56,
   "metadata": {},
   "outputs": [
    {
     "data": {
      "image/png": "[encoded data removed]",
      "text/plain": [
       "<Figure size 432x288 with 1 Axes>"
      ]
     },
     "metadata": {
      "needs_background": "light"
     },
     "output_type": "display_data"
    }
   ],
   "source": [
    "C = [0.0005, 0.0007, 0.001, 0.01, 0.1, 0.2, 0.3, 0.4, 0.5, 0.6]\n",
    "accuracy = []\n",
    "\n",
    "for i in range(len(C)):\n",
    "    LR = LogisticRegression(C=C[i], solver='liblinear') # random_state=0\n",
    "    LR_scores = cross_val_score (LR, X, Y, cv = 10, scoring = 'roc_auc')\n",
    "    accuracy.append(LR_scores.mean())\n",
    "    \n",
    "plt.plot(C, accuracy, color = \"orange\")\n",
    "plt.title(\"F. Logistic Regression\")\n",
    "plt.xlabel(\"C value\")\n",
    "plt.ylabel(\"AUC\")\n",
    "plt.show()"
   ]
  },
  {
   "cell_type": "markdown",
   "metadata": {},
   "source": [
    "# Step 3: UMAP - reduce dimension to 2D\n",
    "- for plotting the decision boundary"
   ]
  },
  {
   "cell_type": "code",
   "execution_count": 57,
   "metadata": {},
   "outputs": [
    {
     "name": "stdout",
     "output_type": "stream",
     "text": [
      "The version of numba is 0.51.0\n",
      "The version of sklearn is 1.0.2\n"
     ]
    }
   ],
   "source": [
    "# pip install umap-learn\n",
    "\n",
    "# pip uninstall numba\n",
    "# pip install numba==0.51   #### 需要把numba downgrade到更低的版本～\n",
    "\n",
    "import numba\n",
    "import sklearn\n",
    "\n",
    "print(\"The version of numba is\", numba.__version__)\n",
    "print(\"The version of sklearn is\", sklearn.__version__)"
   ]
  },
  {
   "cell_type": "code",
   "execution_count": 58,
   "metadata": {},
   "outputs": [],
   "source": [
    "import umap\n",
    "reducer = umap.UMAP()"
   ]
  },
  {
   "cell_type": "code",
   "execution_count": 59,
   "metadata": {},
   "outputs": [
    {
     "data": {
      "text/plain": [
       "(301, 2)"
      ]
     },
     "execution_count": 59,
     "metadata": {},
     "output_type": "execute_result"
    }
   ],
   "source": [
    "embedding = reducer.fit_transform(X)\n",
    "embedding.shape"
   ]
  },
  {
   "cell_type": "code",
   "execution_count": 60,
   "metadata": {},
   "outputs": [
    {
     "name": "stdout",
     "output_type": "stream",
     "text": [
      "The type of embedding is  <class 'numpy.ndarray'>\n",
      "The type of Y is  <class 'numpy.ndarray'>\n",
      "The shape of embedding is  (301, 2)\n",
      "The shape of Y is  (301,)\n"
     ]
    }
   ],
   "source": [
    "print(\"The type of embedding is \", type(embedding))\n",
    "print(\"The type of Y is \", type(Y))\n",
    "print(\"The shape of embedding is \", embedding.shape)\n",
    "print(\"The shape of Y is \", Y.shape)"
   ]
  },
  {
   "cell_type": "code",
   "execution_count": 61,
   "metadata": {},
   "outputs": [],
   "source": [
    "import matplotlib.pyplot as plt\n",
    "import seaborn as sns"
   ]
  },
  {
   "cell_type": "code",
   "execution_count": 62,
   "metadata": {},
   "outputs": [
    {
     "data": {
      "text/plain": [
       "Text(0.5, 1.0, 'UMAP projection: UAB - 265 features - label \"normal\"')"
      ]
     },
     "execution_count": 62,
     "metadata": {},
     "output_type": "execute_result"
    },
    {
     "data": {
      "image/png": "[encoded data removed]",
      "text/plain": [
       "<Figure size 432x288 with 1 Axes>"
      ]
     },
     "metadata": {
      "needs_background": "light"
     },
     "output_type": "display_data"
    }
   ],
   "source": [
    "plt.scatter(\n",
    "    embedding[:, 0],\n",
    "    embedding[:, 1],\n",
    "    c=[sns.color_palette()[x] for x in vf.normal.map({0.0:0, 1.0:1})])\n",
    "plt.gca().set_aspect('equal', 'datalim')\n",
    "plt.title('UMAP projection: UAB - 265 features - label \"normal\"')"
   ]
  },
  {
   "cell_type": "markdown",
   "metadata": {},
   "source": [
    "# Step 4: Evaluation UMAP: \n",
    "- use 2D-feature to refit classifiers"
   ]
  },
  {
   "cell_type": "markdown",
   "metadata": {},
   "source": [
    "### a. Decision Tree"
   ]
  },
  {
   "cell_type": "code",
   "execution_count": 63,
   "metadata": {},
   "outputs": [
    {
     "data": {
      "text/plain": [
       "[0.8750346153846154, 0.054032661747344606]"
      ]
     },
     "execution_count": 63,
     "metadata": {},
     "output_type": "execute_result"
    }
   ],
   "source": [
    "dt1 = DecisionTreeClassifier (max_depth=2)\n",
    "dt1_scores = cross_val_score (dt1, embedding, Y, cv = 10, scoring = 'roc_auc') \n",
    "[dt1_scores.mean(), dt1_scores.std()]"
   ]
  },
  {
   "cell_type": "code",
   "execution_count": 64,
   "metadata": {},
   "outputs": [
    {
     "data": {
      "text/plain": [
       "[0.15504273504273505, 0.23784904337353535]"
      ]
     },
     "execution_count": 64,
     "metadata": {},
     "output_type": "execute_result"
    }
   ],
   "source": [
    "dt1 = DecisionTreeClassifier (max_depth=2)\n",
    "dt1_scores = cross_val_score (dt1, embedding, Y, cv = 10, scoring = 'f1') \n",
    "[dt1_scores.mean(), dt1_scores.std()]"
   ]
  },
  {
   "cell_type": "code",
   "execution_count": 65,
   "metadata": {},
   "outputs": [
    {
     "data": {
      "text/plain": [
       "[0.8208602150537635, 0.04361192762582968]"
      ]
     },
     "execution_count": 65,
     "metadata": {},
     "output_type": "execute_result"
    }
   ],
   "source": [
    "###### Accuracy!!!!\n",
    "dt1 = DecisionTreeClassifier (max_depth=2)\n",
    "dt1_scores = cross_val_score (dt1, embedding, Y, cv = 10, scoring = 'accuracy') \n",
    "[dt1_scores.mean(), dt1_scores.std()]"
   ]
  },
  {
   "cell_type": "code",
   "execution_count": 66,
   "metadata": {},
   "outputs": [
    {
     "data": {
      "image/png": "[encoded data removed]",
      "text/plain": [
       "<Figure size 432x288 with 1 Axes>"
      ]
     },
     "metadata": {
      "needs_background": "light"
     },
     "output_type": "display_data"
    }
   ],
   "source": [
    "depth = [1, 2, 4, 6, 8, 10, 12, 14, 16, 18, 20]\n",
    "accuracy = []\n",
    "\n",
    "for i in range(len(depth)):\n",
    "    dt = DecisionTreeClassifier (max_depth = depth[i])\n",
    "    dt_scores = cross_val_score (dt, embedding, Y, cv = 10, scoring = 'accuracy')\n",
    "    accuracy.append(dt_scores.mean())\n",
    "    \n",
    "plt.plot(depth, accuracy)\n",
    "plt.title(\"A. Decision Tree\")\n",
    "plt.xlabel(\"max depth of tree\")\n",
    "plt.ylabel(\"Accuracy\")\n",
    "plt.show()"
   ]
  },
  {
   "cell_type": "code",
   "execution_count": 67,
   "metadata": {},
   "outputs": [
    {
     "data": {
      "image/png": "[encoded data removed]",
      "text/plain": [
       "<Figure size 432x288 with 1 Axes>"
      ]
     },
     "metadata": {
      "needs_background": "light"
     },
     "output_type": "display_data"
    }
   ],
   "source": [
    "depth = [1, 2, 4, 6, 8, 10, 12, 14, 16, 18, 20]\n",
    "accuracy = []\n",
    "\n",
    "for i in range(len(depth)):\n",
    "    dt = DecisionTreeClassifier (max_depth = depth[i])\n",
    "    dt_scores = cross_val_score (dt, embedding, Y, cv = 10, scoring = 'f1')\n",
    "    accuracy.append(dt_scores.mean())\n",
    "    \n",
    "plt.plot(depth, accuracy, color = \"g\")\n",
    "plt.title(\"A. Decision Tree\")\n",
    "plt.xlabel(\"max depth of tree\")\n",
    "plt.ylabel(\"F1 score\")\n",
    "plt.show()"
   ]
  },
  {
   "cell_type": "code",
   "execution_count": 68,
   "metadata": {},
   "outputs": [
    {
     "data": {
      "image/png": "[encoded data removed]",
      "text/plain": [
       "<Figure size 432x288 with 1 Axes>"
      ]
     },
     "metadata": {
      "needs_background": "light"
     },
     "output_type": "display_data"
    }
   ],
   "source": [
    "depth = [1, 2, 4, 6, 8, 10, 12, 14, 16, 18, 20]\n",
    "accuracy = []\n",
    "\n",
    "for i in range(len(depth)):\n",
    "    dt = DecisionTreeClassifier (max_depth = depth[i])\n",
    "    dt_scores = cross_val_score (dt, embedding, Y, cv = 10, scoring = 'roc_auc')\n",
    "    accuracy.append(dt_scores.mean())\n",
    "    \n",
    "plt.plot(depth, accuracy, color = \"orange\")\n",
    "plt.title(\"A. Decision Tree\")\n",
    "plt.xlabel(\"max depth of tree\")\n",
    "plt.ylabel(\"AUC\")\n",
    "plt.show()"
   ]
  },
  {
   "cell_type": "markdown",
   "metadata": {},
   "source": [
    "### b. KNN classifier"
   ]
  },
  {
   "cell_type": "code",
   "execution_count": 69,
   "metadata": {},
   "outputs": [
    {
     "data": {
      "text/plain": [
       "[0.8764692307692308, 0.0801500992037244]"
      ]
     },
     "execution_count": 69,
     "metadata": {},
     "output_type": "execute_result"
    }
   ],
   "source": [
    "knn1 = KNeighborsClassifier(n_neighbors=4)\n",
    "knn1_scores = cross_val_score(knn1, embedding, Y, cv=10, scoring = 'roc_auc') \n",
    "[knn1_scores.mean(), knn1_scores.std()]"
   ]
  },
  {
   "cell_type": "code",
   "execution_count": 70,
   "metadata": {},
   "outputs": [
    {
     "data": {
      "text/plain": [
       "[0.29701465201465205, 0.24837669509728136]"
      ]
     },
     "execution_count": 70,
     "metadata": {},
     "output_type": "execute_result"
    }
   ],
   "source": [
    "knn1 = KNeighborsClassifier(n_neighbors=4)\n",
    "knn1_scores = cross_val_score(knn1, embedding, Y, cv=10, scoring = 'f1') \n",
    "[knn1_scores.mean(), knn1_scores.std()]"
   ]
  },
  {
   "cell_type": "code",
   "execution_count": 71,
   "metadata": {},
   "outputs": [
    {
     "data": {
      "text/plain": [
       "[0.8308602150537634, 0.055240045228366744]"
      ]
     },
     "execution_count": 71,
     "metadata": {},
     "output_type": "execute_result"
    }
   ],
   "source": [
    "###### Accuracy!!!!\n",
    "knn1 = KNeighborsClassifier(n_neighbors=4)\n",
    "knn1_scores = cross_val_score(knn1, embedding, Y, cv=10, scoring = 'accuracy') \n",
    "[knn1_scores.mean(), knn1_scores.std()]"
   ]
  },
  {
   "cell_type": "code",
   "execution_count": 72,
   "metadata": {},
   "outputs": [
    {
     "data": {
      "image/png": "[encoded data removed]",
      "text/plain": [
       "<Figure size 432x288 with 1 Axes>"
      ]
     },
     "metadata": {
      "needs_background": "light"
     },
     "output_type": "display_data"
    }
   ],
   "source": [
    "n_neighbors = [1,2,3,4,5]\n",
    "accuracy = []\n",
    "\n",
    "for i in range(len(n_neighbors)):\n",
    "    knn = KNeighborsClassifier (n_neighbors = n_neighbors[i])\n",
    "    knn_scores = cross_val_score (knn, embedding, Y, cv = 10, scoring = 'accuracy')\n",
    "    accuracy.append(knn_scores.mean())\n",
    "    \n",
    "plt.plot(n_neighbors, accuracy)\n",
    "plt.title(\"B. K-Nearest Neighbor (KNN)\")\n",
    "plt.xlabel(\"number of neighbor (K)\")\n",
    "plt.ylabel(\"Accuracy\")\n",
    "plt.show()"
   ]
  },
  {
   "cell_type": "code",
   "execution_count": 73,
   "metadata": {},
   "outputs": [
    {
     "data": {
      "image/png": "[encoded data removed]",
      "text/plain": [
       "<Figure size 432x288 with 1 Axes>"
      ]
     },
     "metadata": {
      "needs_background": "light"
     },
     "output_type": "display_data"
    }
   ],
   "source": [
    "n_neighbors = [1,2,3,4,5]\n",
    "accuracy = []\n",
    "\n",
    "for i in range(len(n_neighbors)):\n",
    "    knn = KNeighborsClassifier (n_neighbors = n_neighbors[i])\n",
    "    knn_scores = cross_val_score (knn, embedding, Y, cv = 10, scoring = 'f1')\n",
    "    accuracy.append(knn_scores.mean())\n",
    "    \n",
    "plt.plot(n_neighbors, accuracy, color = \"g\")\n",
    "plt.title(\"B. K-Nearest Neighbor (KNN)\")\n",
    "plt.xlabel(\"number of neighbor (K)\")\n",
    "plt.ylabel(\"F1 score\")\n",
    "plt.show()"
   ]
  },
  {
   "cell_type": "code",
   "execution_count": 74,
   "metadata": {},
   "outputs": [
    {
     "data": {
      "image/png": "[encoded data removed]",
      "text/plain": [
       "<Figure size 432x288 with 1 Axes>"
      ]
     },
     "metadata": {
      "needs_background": "light"
     },
     "output_type": "display_data"
    }
   ],
   "source": [
    "n_neighbors = [1,2,3,4,5]\n",
    "accuracy = []\n",
    "\n",
    "for i in range(len(n_neighbors)):\n",
    "    knn = KNeighborsClassifier (n_neighbors = n_neighbors[i])\n",
    "    knn_scores = cross_val_score (knn, embedding, Y, cv = 10, scoring = 'roc_auc')\n",
    "    accuracy.append(knn_scores.mean())\n",
    "    \n",
    "plt.plot(n_neighbors, accuracy, color = \"orange\")\n",
    "plt.title(\"B. K-Nearest Neighbor (KNN)\")\n",
    "plt.xlabel(\"number of neighbor (K)\")\n",
    "plt.ylabel(\"AUC\")\n",
    "plt.show()"
   ]
  },
  {
   "cell_type": "markdown",
   "metadata": {},
   "source": [
    "### c. Support Vector Machines (Linear)"
   ]
  },
  {
   "cell_type": "code",
   "execution_count": 75,
   "metadata": {},
   "outputs": [
    {
     "data": {
      "text/plain": [
       "[0.5756769230769232, 0.14040179368027694]"
      ]
     },
     "execution_count": 75,
     "metadata": {},
     "output_type": "execute_result"
    }
   ],
   "source": [
    "svm_linear1 = SVC(C=0.01, kernel = 'linear')\n",
    "svm_linear1_scores = cross_val_score(svm_linear1, embedding, Y, cv = 10, \n",
    "                                     scoring = \"roc_auc\")\n",
    "[svm_linear1_scores.mean(), svm_linear1_scores.std()]"
   ]
  },
  {
   "cell_type": "code",
   "execution_count": 76,
   "metadata": {},
   "outputs": [
    {
     "data": {
      "text/plain": [
       "[0.0, 0.0]"
      ]
     },
     "execution_count": 76,
     "metadata": {},
     "output_type": "execute_result"
    }
   ],
   "source": [
    "svm_linear1 = SVC(C=0.01, kernel = 'linear')\n",
    "svm_linear1_scores = cross_val_score(svm_linear1, embedding, Y, cv = 10, \n",
    "                                     scoring = \"f1\")\n",
    "[svm_linear1_scores.mean(), svm_linear1_scores.std()]"
   ]
  },
  {
   "cell_type": "code",
   "execution_count": 77,
   "metadata": {},
   "outputs": [
    {
     "data": {
      "text/plain": [
       "[0.8472043010752689, 0.015966565251166555]"
      ]
     },
     "execution_count": 77,
     "metadata": {},
     "output_type": "execute_result"
    }
   ],
   "source": [
    "###### Accuracy!!!!\n",
    "svm_linear1 = SVC(C=0.01, kernel = 'linear')\n",
    "svm_linear1_scores = cross_val_score(svm_linear1, embedding, Y, cv = 10, \n",
    "                                     scoring = \"accuracy\")\n",
    "[svm_linear1_scores.mean(), svm_linear1_scores.std()]"
   ]
  },
  {
   "cell_type": "code",
   "execution_count": 78,
   "metadata": {},
   "outputs": [
    {
     "data": {
      "image/png": "[encoded data removed]",
      "text/plain": [
       "<Figure size 432x288 with 1 Axes>"
      ]
     },
     "metadata": {
      "needs_background": "light"
     },
     "output_type": "display_data"
    }
   ],
   "source": [
    "C = [0.01, 0.015, 0.05, 0.1, 0.15]\n",
    "accuracy = []\n",
    "\n",
    "for i in range(len(C)):\n",
    "    svm_linear = SVC(C=C[i], kernel = 'linear')\n",
    "    svm_scores = cross_val_score (svm_linear, embedding, Y, cv = 10, scoring = 'accuracy')\n",
    "    accuracy.append(svm_scores.mean())\n",
    "    \n",
    "plt.plot(C, accuracy)\n",
    "plt.title(\"C. SVM (Linear)\")\n",
    "plt.xlabel(\"C value\")\n",
    "plt.ylabel(\"Accuracy\")\n",
    "plt.show()"
   ]
  },
  {
   "cell_type": "code",
   "execution_count": 79,
   "metadata": {},
   "outputs": [
    {
     "data": {
      "image/png": "[encoded data removed]",
      "text/plain": [
       "<Figure size 432x288 with 1 Axes>"
      ]
     },
     "metadata": {
      "needs_background": "light"
     },
     "output_type": "display_data"
    }
   ],
   "source": [
    "C = [0.01, 0.015, 0.05, 0.1, 0.15]\n",
    "accuracy = []\n",
    "\n",
    "for i in range(len(C)):\n",
    "    svm_linear = SVC(C=C[i], kernel = 'linear')\n",
    "    svm_scores = cross_val_score (svm_linear, embedding, Y, cv = 10, scoring = 'f1')\n",
    "    accuracy.append(svm_scores.mean())\n",
    "    \n",
    "plt.plot(C, accuracy, color = \"g\")\n",
    "plt.title(\"C. SVM (Linear)\")\n",
    "plt.xlabel(\"C value\")\n",
    "plt.ylabel(\"F1 score\")\n",
    "plt.show()"
   ]
  },
  {
   "cell_type": "code",
   "execution_count": 80,
   "metadata": {},
   "outputs": [
    {
     "data": {
      "image/png": "[encoded data removed]",
      "text/plain": [
       "<Figure size 432x288 with 1 Axes>"
      ]
     },
     "metadata": {
      "needs_background": "light"
     },
     "output_type": "display_data"
    }
   ],
   "source": [
    "C = [0.01, 0.015, 0.05, 0.1, 0.15]\n",
    "accuracy = []\n",
    "\n",
    "for i in range(len(C)):\n",
    "    svm_linear = SVC(C=C[i], kernel = 'linear')\n",
    "    svm_scores = cross_val_score (svm_linear, embedding, Y, cv = 10, scoring = 'roc_auc')\n",
    "    accuracy.append(svm_scores.mean())\n",
    "    \n",
    "plt.plot(C, accuracy, color = \"orange\")\n",
    "plt.title(\"C. SVM (Linear)\")\n",
    "plt.xlabel(\"C value\")\n",
    "plt.ylabel(\"AUC\")\n",
    "plt.show()"
   ]
  },
  {
   "cell_type": "markdown",
   "metadata": {},
   "source": [
    "### d. Support Vector Machines (Polynomial)"
   ]
  },
  {
   "cell_type": "code",
   "execution_count": 81,
   "metadata": {},
   "outputs": [
    {
     "data": {
      "text/plain": [
       "[0.7416461538461537, 0.13483751870197014]"
      ]
     },
     "execution_count": 81,
     "metadata": {},
     "output_type": "execute_result"
    }
   ],
   "source": [
    "svm_poly = SVC(C=0.01, kernel = 'poly', degree = 2, gamma='auto')\n",
    "svm_poly_scores = cross_val_score(svm_poly, embedding, Y, cv = 10, scoring = 'roc_auc')\n",
    "[svm_poly_scores.mean(), svm_poly_scores.std()]"
   ]
  },
  {
   "cell_type": "code",
   "execution_count": 82,
   "metadata": {},
   "outputs": [
    {
     "data": {
      "text/plain": [
       "[0.0, 0.0]"
      ]
     },
     "execution_count": 82,
     "metadata": {},
     "output_type": "execute_result"
    }
   ],
   "source": [
    "svm_poly = SVC(C=0.01, kernel = 'poly', degree = 2, gamma='auto')\n",
    "svm_poly_scores = cross_val_score(svm_poly, embedding, Y, cv = 10, scoring = 'f1')\n",
    "[svm_poly_scores.mean(), svm_poly_scores.std()]"
   ]
  },
  {
   "cell_type": "code",
   "execution_count": 83,
   "metadata": {},
   "outputs": [
    {
     "data": {
      "text/plain": [
       "[0.8472043010752689, 0.015966565251166555]"
      ]
     },
     "execution_count": 83,
     "metadata": {},
     "output_type": "execute_result"
    }
   ],
   "source": [
    "svm_poly = SVC(C=0.01, kernel = 'poly', degree = 2, gamma='auto')\n",
    "svm_poly_scores = cross_val_score(svm_poly, embedding, Y, cv = 10, scoring = 'accuracy')\n",
    "[svm_poly_scores.mean(), svm_poly_scores.std()]"
   ]
  },
  {
   "cell_type": "code",
   "execution_count": 84,
   "metadata": {
    "scrolled": true
   },
   "outputs": [
    {
     "ename": "KeyboardInterrupt",
     "evalue": "",
     "output_type": "error",
     "traceback": [
      "\u001b[0;31m---------------------------------------------------------------------------\u001b[0m",
      "\u001b[0;31mKeyboardInterrupt\u001b[0m                         Traceback (most recent call last)",
      "\u001b[0;32m/var/folders/w2/9nsxcgys4yz2d8n0xkjvw2_r0000gn/T/ipykernel_33856/1638029914.py\u001b[0m in \u001b[0;36m<module>\u001b[0;34m\u001b[0m\n\u001b[1;32m      4\u001b[0m \u001b[0;32mfor\u001b[0m \u001b[0mi\u001b[0m \u001b[0;32min\u001b[0m \u001b[0mrange\u001b[0m\u001b[0;34m(\u001b[0m\u001b[0mlen\u001b[0m\u001b[0;34m(\u001b[0m\u001b[0mdegree\u001b[0m\u001b[0;34m)\u001b[0m\u001b[0;34m)\u001b[0m\u001b[0;34m:\u001b[0m\u001b[0;34m\u001b[0m\u001b[0;34m\u001b[0m\u001b[0m\n\u001b[1;32m      5\u001b[0m     \u001b[0msvm_linear\u001b[0m \u001b[0;34m=\u001b[0m \u001b[0mSVC\u001b[0m\u001b[0;34m(\u001b[0m\u001b[0mC\u001b[0m\u001b[0;34m=\u001b[0m\u001b[0;36m0.01\u001b[0m\u001b[0;34m,\u001b[0m \u001b[0mkernel\u001b[0m \u001b[0;34m=\u001b[0m \u001b[0;34m'poly'\u001b[0m\u001b[0;34m,\u001b[0m \u001b[0mdegree\u001b[0m \u001b[0;34m=\u001b[0m \u001b[0mdegree\u001b[0m\u001b[0;34m[\u001b[0m\u001b[0mi\u001b[0m\u001b[0;34m]\u001b[0m\u001b[0;34m,\u001b[0m \u001b[0mgamma\u001b[0m \u001b[0;34m=\u001b[0m \u001b[0;34m'auto'\u001b[0m\u001b[0;34m)\u001b[0m\u001b[0;34m\u001b[0m\u001b[0;34m\u001b[0m\u001b[0m\n\u001b[0;32m----> 6\u001b[0;31m     \u001b[0msvm_scores\u001b[0m \u001b[0;34m=\u001b[0m \u001b[0mcross_val_score\u001b[0m \u001b[0;34m(\u001b[0m\u001b[0msvm_linear\u001b[0m\u001b[0;34m,\u001b[0m \u001b[0membedding\u001b[0m\u001b[0;34m,\u001b[0m \u001b[0mY\u001b[0m\u001b[0;34m,\u001b[0m \u001b[0mcv\u001b[0m \u001b[0;34m=\u001b[0m \u001b[0;36m10\u001b[0m\u001b[0;34m,\u001b[0m \u001b[0mscoring\u001b[0m \u001b[0;34m=\u001b[0m \u001b[0;34m'accuracy'\u001b[0m\u001b[0;34m)\u001b[0m\u001b[0;34m\u001b[0m\u001b[0;34m\u001b[0m\u001b[0m\n\u001b[0m\u001b[1;32m      7\u001b[0m     \u001b[0maccuracy\u001b[0m\u001b[0;34m.\u001b[0m\u001b[0mappend\u001b[0m\u001b[0;34m(\u001b[0m\u001b[0msvm_scores\u001b[0m\u001b[0;34m.\u001b[0m\u001b[0mmean\u001b[0m\u001b[0;34m(\u001b[0m\u001b[0;34m)\u001b[0m\u001b[0;34m)\u001b[0m\u001b[0;34m\u001b[0m\u001b[0;34m\u001b[0m\u001b[0m\n\u001b[1;32m      8\u001b[0m \u001b[0;34m\u001b[0m\u001b[0m\n",
      "\u001b[0;32m~/opt/anaconda3/lib/python3.7/site-packages/sklearn/model_selection/_validation.py\u001b[0m in \u001b[0;36mcross_val_score\u001b[0;34m(estimator, X, y, groups, scoring, cv, n_jobs, verbose, fit_params, pre_dispatch, error_score)\u001b[0m\n\u001b[1;32m    518\u001b[0m         \u001b[0mfit_params\u001b[0m\u001b[0;34m=\u001b[0m\u001b[0mfit_params\u001b[0m\u001b[0;34m,\u001b[0m\u001b[0;34m\u001b[0m\u001b[0;34m\u001b[0m\u001b[0m\n\u001b[1;32m    519\u001b[0m         \u001b[0mpre_dispatch\u001b[0m\u001b[0;34m=\u001b[0m\u001b[0mpre_dispatch\u001b[0m\u001b[0;34m,\u001b[0m\u001b[0;34m\u001b[0m\u001b[0;34m\u001b[0m\u001b[0m\n\u001b[0;32m--> 520\u001b[0;31m         \u001b[0merror_score\u001b[0m\u001b[0;34m=\u001b[0m\u001b[0merror_score\u001b[0m\u001b[0;34m,\u001b[0m\u001b[0;34m\u001b[0m\u001b[0;34m\u001b[0m\u001b[0m\n\u001b[0m\u001b[1;32m    521\u001b[0m     )\n\u001b[1;32m    522\u001b[0m     \u001b[0;32mreturn\u001b[0m \u001b[0mcv_results\u001b[0m\u001b[0;34m[\u001b[0m\u001b[0;34m\"test_score\"\u001b[0m\u001b[0;34m]\u001b[0m\u001b[0;34m\u001b[0m\u001b[0;34m\u001b[0m\u001b[0m\n",
      "\u001b[0;32m~/opt/anaconda3/lib/python3.7/site-packages/sklearn/model_selection/_validation.py\u001b[0m in \u001b[0;36mcross_validate\u001b[0;34m(estimator, X, y, groups, scoring, cv, n_jobs, verbose, fit_params, pre_dispatch, return_train_score, return_estimator, error_score)\u001b[0m\n\u001b[1;32m    281\u001b[0m             \u001b[0merror_score\u001b[0m\u001b[0;34m=\u001b[0m\u001b[0merror_score\u001b[0m\u001b[0;34m,\u001b[0m\u001b[0;34m\u001b[0m\u001b[0;34m\u001b[0m\u001b[0m\n\u001b[1;32m    282\u001b[0m         )\n\u001b[0;32m--> 283\u001b[0;31m         \u001b[0;32mfor\u001b[0m \u001b[0mtrain\u001b[0m\u001b[0;34m,\u001b[0m \u001b[0mtest\u001b[0m \u001b[0;32min\u001b[0m \u001b[0mcv\u001b[0m\u001b[0;34m.\u001b[0m\u001b[0msplit\u001b[0m\u001b[0;34m(\u001b[0m\u001b[0mX\u001b[0m\u001b[0;34m,\u001b[0m \u001b[0my\u001b[0m\u001b[0;34m,\u001b[0m \u001b[0mgroups\u001b[0m\u001b[0;34m)\u001b[0m\u001b[0;34m\u001b[0m\u001b[0;34m\u001b[0m\u001b[0m\n\u001b[0m\u001b[1;32m    284\u001b[0m     )\n\u001b[1;32m    285\u001b[0m \u001b[0;34m\u001b[0m\u001b[0m\n",
      "\u001b[0;32m~/opt/anaconda3/lib/python3.7/site-packages/joblib/parallel.py\u001b[0m in \u001b[0;36m__call__\u001b[0;34m(self, iterable)\u001b[0m\n\u001b[1;32m   1044\u001b[0m                 \u001b[0mself\u001b[0m\u001b[0;34m.\u001b[0m\u001b[0m_iterating\u001b[0m \u001b[0;34m=\u001b[0m \u001b[0mself\u001b[0m\u001b[0;34m.\u001b[0m\u001b[0m_original_iterator\u001b[0m \u001b[0;32mis\u001b[0m \u001b[0;32mnot\u001b[0m \u001b[0;32mNone\u001b[0m\u001b[0;34m\u001b[0m\u001b[0;34m\u001b[0m\u001b[0m\n\u001b[1;32m   1045\u001b[0m \u001b[0;34m\u001b[0m\u001b[0m\n\u001b[0;32m-> 1046\u001b[0;31m             \u001b[0;32mwhile\u001b[0m \u001b[0mself\u001b[0m\u001b[0;34m.\u001b[0m\u001b[0mdispatch_one_batch\u001b[0m\u001b[0;34m(\u001b[0m\u001b[0miterator\u001b[0m\u001b[0;34m)\u001b[0m\u001b[0;34m:\u001b[0m\u001b[0;34m\u001b[0m\u001b[0;34m\u001b[0m\u001b[0m\n\u001b[0m\u001b[1;32m   1047\u001b[0m                 \u001b[0;32mpass\u001b[0m\u001b[0;34m\u001b[0m\u001b[0;34m\u001b[0m\u001b[0m\n\u001b[1;32m   1048\u001b[0m \u001b[0;34m\u001b[0m\u001b[0m\n",
      "\u001b[0;32m~/opt/anaconda3/lib/python3.7/site-packages/joblib/parallel.py\u001b[0m in \u001b[0;36mdispatch_one_batch\u001b[0;34m(self, iterator)\u001b[0m\n\u001b[1;32m    859\u001b[0m                 \u001b[0;32mreturn\u001b[0m \u001b[0;32mFalse\u001b[0m\u001b[0;34m\u001b[0m\u001b[0;34m\u001b[0m\u001b[0m\n\u001b[1;32m    860\u001b[0m             \u001b[0;32melse\u001b[0m\u001b[0;34m:\u001b[0m\u001b[0;34m\u001b[0m\u001b[0;34m\u001b[0m\u001b[0m\n\u001b[0;32m--> 861\u001b[0;31m                 \u001b[0mself\u001b[0m\u001b[0;34m.\u001b[0m\u001b[0m_dispatch\u001b[0m\u001b[0;34m(\u001b[0m\u001b[0mtasks\u001b[0m\u001b[0;34m)\u001b[0m\u001b[0;34m\u001b[0m\u001b[0;34m\u001b[0m\u001b[0m\n\u001b[0m\u001b[1;32m    862\u001b[0m                 \u001b[0;32mreturn\u001b[0m \u001b[0;32mTrue\u001b[0m\u001b[0;34m\u001b[0m\u001b[0;34m\u001b[0m\u001b[0m\n\u001b[1;32m    863\u001b[0m \u001b[0;34m\u001b[0m\u001b[0m\n",
      "\u001b[0;32m~/opt/anaconda3/lib/python3.7/site-packages/joblib/parallel.py\u001b[0m in \u001b[0;36m_dispatch\u001b[0;34m(self, batch)\u001b[0m\n\u001b[1;32m    777\u001b[0m         \u001b[0;32mwith\u001b[0m \u001b[0mself\u001b[0m\u001b[0;34m.\u001b[0m\u001b[0m_lock\u001b[0m\u001b[0;34m:\u001b[0m\u001b[0;34m\u001b[0m\u001b[0;34m\u001b[0m\u001b[0m\n\u001b[1;32m    778\u001b[0m             \u001b[0mjob_idx\u001b[0m \u001b[0;34m=\u001b[0m \u001b[0mlen\u001b[0m\u001b[0;34m(\u001b[0m\u001b[0mself\u001b[0m\u001b[0;34m.\u001b[0m\u001b[0m_jobs\u001b[0m\u001b[0;34m)\u001b[0m\u001b[0;34m\u001b[0m\u001b[0;34m\u001b[0m\u001b[0m\n\u001b[0;32m--> 779\u001b[0;31m             \u001b[0mjob\u001b[0m \u001b[0;34m=\u001b[0m \u001b[0mself\u001b[0m\u001b[0;34m.\u001b[0m\u001b[0m_backend\u001b[0m\u001b[0;34m.\u001b[0m\u001b[0mapply_async\u001b[0m\u001b[0;34m(\u001b[0m\u001b[0mbatch\u001b[0m\u001b[0;34m,\u001b[0m \u001b[0mcallback\u001b[0m\u001b[0;34m=\u001b[0m\u001b[0mcb\u001b[0m\u001b[0;34m)\u001b[0m\u001b[0;34m\u001b[0m\u001b[0;34m\u001b[0m\u001b[0m\n\u001b[0m\u001b[1;32m    780\u001b[0m             \u001b[0;31m# A job can complete so quickly than its callback is\u001b[0m\u001b[0;34m\u001b[0m\u001b[0;34m\u001b[0m\u001b[0;34m\u001b[0m\u001b[0m\n\u001b[1;32m    781\u001b[0m             \u001b[0;31m# called before we get here, causing self._jobs to\u001b[0m\u001b[0;34m\u001b[0m\u001b[0;34m\u001b[0m\u001b[0;34m\u001b[0m\u001b[0m\n",
      "\u001b[0;32m~/opt/anaconda3/lib/python3.7/site-packages/joblib/_parallel_backends.py\u001b[0m in \u001b[0;36mapply_async\u001b[0;34m(self, func, callback)\u001b[0m\n\u001b[1;32m    206\u001b[0m     \u001b[0;32mdef\u001b[0m \u001b[0mapply_async\u001b[0m\u001b[0;34m(\u001b[0m\u001b[0mself\u001b[0m\u001b[0;34m,\u001b[0m \u001b[0mfunc\u001b[0m\u001b[0;34m,\u001b[0m \u001b[0mcallback\u001b[0m\u001b[0;34m=\u001b[0m\u001b[0;32mNone\u001b[0m\u001b[0;34m)\u001b[0m\u001b[0;34m:\u001b[0m\u001b[0;34m\u001b[0m\u001b[0;34m\u001b[0m\u001b[0m\n\u001b[1;32m    207\u001b[0m         \u001b[0;34m\"\"\"Schedule a func to be run\"\"\"\u001b[0m\u001b[0;34m\u001b[0m\u001b[0;34m\u001b[0m\u001b[0m\n\u001b[0;32m--> 208\u001b[0;31m         \u001b[0mresult\u001b[0m \u001b[0;34m=\u001b[0m \u001b[0mImmediateResult\u001b[0m\u001b[0;34m(\u001b[0m\u001b[0mfunc\u001b[0m\u001b[0;34m)\u001b[0m\u001b[0;34m\u001b[0m\u001b[0;34m\u001b[0m\u001b[0m\n\u001b[0m\u001b[1;32m    209\u001b[0m         \u001b[0;32mif\u001b[0m \u001b[0mcallback\u001b[0m\u001b[0;34m:\u001b[0m\u001b[0;34m\u001b[0m\u001b[0;34m\u001b[0m\u001b[0m\n\u001b[1;32m    210\u001b[0m             \u001b[0mcallback\u001b[0m\u001b[0;34m(\u001b[0m\u001b[0mresult\u001b[0m\u001b[0;34m)\u001b[0m\u001b[0;34m\u001b[0m\u001b[0;34m\u001b[0m\u001b[0m\n",
      "\u001b[0;32m~/opt/anaconda3/lib/python3.7/site-packages/joblib/_parallel_backends.py\u001b[0m in \u001b[0;36m__init__\u001b[0;34m(self, batch)\u001b[0m\n\u001b[1;32m    570\u001b[0m         \u001b[0;31m# Don't delay the application, to avoid keeping the input\u001b[0m\u001b[0;34m\u001b[0m\u001b[0;34m\u001b[0m\u001b[0;34m\u001b[0m\u001b[0m\n\u001b[1;32m    571\u001b[0m         \u001b[0;31m# arguments in memory\u001b[0m\u001b[0;34m\u001b[0m\u001b[0;34m\u001b[0m\u001b[0;34m\u001b[0m\u001b[0m\n\u001b[0;32m--> 572\u001b[0;31m         \u001b[0mself\u001b[0m\u001b[0;34m.\u001b[0m\u001b[0mresults\u001b[0m \u001b[0;34m=\u001b[0m \u001b[0mbatch\u001b[0m\u001b[0;34m(\u001b[0m\u001b[0;34m)\u001b[0m\u001b[0;34m\u001b[0m\u001b[0;34m\u001b[0m\u001b[0m\n\u001b[0m\u001b[1;32m    573\u001b[0m \u001b[0;34m\u001b[0m\u001b[0m\n\u001b[1;32m    574\u001b[0m     \u001b[0;32mdef\u001b[0m \u001b[0mget\u001b[0m\u001b[0;34m(\u001b[0m\u001b[0mself\u001b[0m\u001b[0;34m)\u001b[0m\u001b[0;34m:\u001b[0m\u001b[0;34m\u001b[0m\u001b[0;34m\u001b[0m\u001b[0m\n",
      "\u001b[0;32m~/opt/anaconda3/lib/python3.7/site-packages/joblib/parallel.py\u001b[0m in \u001b[0;36m__call__\u001b[0;34m(self)\u001b[0m\n\u001b[1;32m    261\u001b[0m         \u001b[0;32mwith\u001b[0m \u001b[0mparallel_backend\u001b[0m\u001b[0;34m(\u001b[0m\u001b[0mself\u001b[0m\u001b[0;34m.\u001b[0m\u001b[0m_backend\u001b[0m\u001b[0;34m,\u001b[0m \u001b[0mn_jobs\u001b[0m\u001b[0;34m=\u001b[0m\u001b[0mself\u001b[0m\u001b[0;34m.\u001b[0m\u001b[0m_n_jobs\u001b[0m\u001b[0;34m)\u001b[0m\u001b[0;34m:\u001b[0m\u001b[0;34m\u001b[0m\u001b[0;34m\u001b[0m\u001b[0m\n\u001b[1;32m    262\u001b[0m             return [func(*args, **kwargs)\n\u001b[0;32m--> 263\u001b[0;31m                     for func, args, kwargs in self.items]\n\u001b[0m\u001b[1;32m    264\u001b[0m \u001b[0;34m\u001b[0m\u001b[0m\n\u001b[1;32m    265\u001b[0m     \u001b[0;32mdef\u001b[0m \u001b[0m__reduce__\u001b[0m\u001b[0;34m(\u001b[0m\u001b[0mself\u001b[0m\u001b[0;34m)\u001b[0m\u001b[0;34m:\u001b[0m\u001b[0;34m\u001b[0m\u001b[0;34m\u001b[0m\u001b[0m\n",
      "\u001b[0;32m~/opt/anaconda3/lib/python3.7/site-packages/joblib/parallel.py\u001b[0m in \u001b[0;36m<listcomp>\u001b[0;34m(.0)\u001b[0m\n\u001b[1;32m    261\u001b[0m         \u001b[0;32mwith\u001b[0m \u001b[0mparallel_backend\u001b[0m\u001b[0;34m(\u001b[0m\u001b[0mself\u001b[0m\u001b[0;34m.\u001b[0m\u001b[0m_backend\u001b[0m\u001b[0;34m,\u001b[0m \u001b[0mn_jobs\u001b[0m\u001b[0;34m=\u001b[0m\u001b[0mself\u001b[0m\u001b[0;34m.\u001b[0m\u001b[0m_n_jobs\u001b[0m\u001b[0;34m)\u001b[0m\u001b[0;34m:\u001b[0m\u001b[0;34m\u001b[0m\u001b[0;34m\u001b[0m\u001b[0m\n\u001b[1;32m    262\u001b[0m             return [func(*args, **kwargs)\n\u001b[0;32m--> 263\u001b[0;31m                     for func, args, kwargs in self.items]\n\u001b[0m\u001b[1;32m    264\u001b[0m \u001b[0;34m\u001b[0m\u001b[0m\n\u001b[1;32m    265\u001b[0m     \u001b[0;32mdef\u001b[0m \u001b[0m__reduce__\u001b[0m\u001b[0;34m(\u001b[0m\u001b[0mself\u001b[0m\u001b[0;34m)\u001b[0m\u001b[0;34m:\u001b[0m\u001b[0;34m\u001b[0m\u001b[0;34m\u001b[0m\u001b[0m\n",
      "\u001b[0;32m~/opt/anaconda3/lib/python3.7/site-packages/sklearn/utils/fixes.py\u001b[0m in \u001b[0;36m__call__\u001b[0;34m(self, *args, **kwargs)\u001b[0m\n\u001b[1;32m    214\u001b[0m     \u001b[0;32mdef\u001b[0m \u001b[0m__call__\u001b[0m\u001b[0;34m(\u001b[0m\u001b[0mself\u001b[0m\u001b[0;34m,\u001b[0m \u001b[0;34m*\u001b[0m\u001b[0margs\u001b[0m\u001b[0;34m,\u001b[0m \u001b[0;34m**\u001b[0m\u001b[0mkwargs\u001b[0m\u001b[0;34m)\u001b[0m\u001b[0;34m:\u001b[0m\u001b[0;34m\u001b[0m\u001b[0;34m\u001b[0m\u001b[0m\n\u001b[1;32m    215\u001b[0m         \u001b[0;32mwith\u001b[0m \u001b[0mconfig_context\u001b[0m\u001b[0;34m(\u001b[0m\u001b[0;34m**\u001b[0m\u001b[0mself\u001b[0m\u001b[0;34m.\u001b[0m\u001b[0mconfig\u001b[0m\u001b[0;34m)\u001b[0m\u001b[0;34m:\u001b[0m\u001b[0;34m\u001b[0m\u001b[0;34m\u001b[0m\u001b[0m\n\u001b[0;32m--> 216\u001b[0;31m             \u001b[0;32mreturn\u001b[0m \u001b[0mself\u001b[0m\u001b[0;34m.\u001b[0m\u001b[0mfunction\u001b[0m\u001b[0;34m(\u001b[0m\u001b[0;34m*\u001b[0m\u001b[0margs\u001b[0m\u001b[0;34m,\u001b[0m \u001b[0;34m**\u001b[0m\u001b[0mkwargs\u001b[0m\u001b[0;34m)\u001b[0m\u001b[0;34m\u001b[0m\u001b[0;34m\u001b[0m\u001b[0m\n\u001b[0m\u001b[1;32m    217\u001b[0m \u001b[0;34m\u001b[0m\u001b[0m\n\u001b[1;32m    218\u001b[0m \u001b[0;34m\u001b[0m\u001b[0m\n",
      "\u001b[0;32m~/opt/anaconda3/lib/python3.7/site-packages/sklearn/model_selection/_validation.py\u001b[0m in \u001b[0;36m_fit_and_score\u001b[0;34m(estimator, X, y, scorer, train, test, verbose, parameters, fit_params, return_train_score, return_parameters, return_n_test_samples, return_times, return_estimator, split_progress, candidate_progress, error_score)\u001b[0m\n\u001b[1;32m    678\u001b[0m             \u001b[0mestimator\u001b[0m\u001b[0;34m.\u001b[0m\u001b[0mfit\u001b[0m\u001b[0;34m(\u001b[0m\u001b[0mX_train\u001b[0m\u001b[0;34m,\u001b[0m \u001b[0;34m**\u001b[0m\u001b[0mfit_params\u001b[0m\u001b[0;34m)\u001b[0m\u001b[0;34m\u001b[0m\u001b[0;34m\u001b[0m\u001b[0m\n\u001b[1;32m    679\u001b[0m         \u001b[0;32melse\u001b[0m\u001b[0;34m:\u001b[0m\u001b[0;34m\u001b[0m\u001b[0;34m\u001b[0m\u001b[0m\n\u001b[0;32m--> 680\u001b[0;31m             \u001b[0mestimator\u001b[0m\u001b[0;34m.\u001b[0m\u001b[0mfit\u001b[0m\u001b[0;34m(\u001b[0m\u001b[0mX_train\u001b[0m\u001b[0;34m,\u001b[0m \u001b[0my_train\u001b[0m\u001b[0;34m,\u001b[0m \u001b[0;34m**\u001b[0m\u001b[0mfit_params\u001b[0m\u001b[0;34m)\u001b[0m\u001b[0;34m\u001b[0m\u001b[0;34m\u001b[0m\u001b[0m\n\u001b[0m\u001b[1;32m    681\u001b[0m \u001b[0;34m\u001b[0m\u001b[0m\n\u001b[1;32m    682\u001b[0m     \u001b[0;32mexcept\u001b[0m \u001b[0mException\u001b[0m\u001b[0;34m:\u001b[0m\u001b[0;34m\u001b[0m\u001b[0;34m\u001b[0m\u001b[0m\n",
      "\u001b[0;32m~/opt/anaconda3/lib/python3.7/site-packages/sklearn/svm/_base.py\u001b[0m in \u001b[0;36mfit\u001b[0;34m(self, X, y, sample_weight)\u001b[0m\n\u001b[1;32m    253\u001b[0m \u001b[0;34m\u001b[0m\u001b[0m\n\u001b[1;32m    254\u001b[0m         \u001b[0mseed\u001b[0m \u001b[0;34m=\u001b[0m \u001b[0mrnd\u001b[0m\u001b[0;34m.\u001b[0m\u001b[0mrandint\u001b[0m\u001b[0;34m(\u001b[0m\u001b[0mnp\u001b[0m\u001b[0;34m.\u001b[0m\u001b[0miinfo\u001b[0m\u001b[0;34m(\u001b[0m\u001b[0;34m\"i\"\u001b[0m\u001b[0;34m)\u001b[0m\u001b[0;34m.\u001b[0m\u001b[0mmax\u001b[0m\u001b[0;34m)\u001b[0m\u001b[0;34m\u001b[0m\u001b[0;34m\u001b[0m\u001b[0m\n\u001b[0;32m--> 255\u001b[0;31m         \u001b[0mfit\u001b[0m\u001b[0;34m(\u001b[0m\u001b[0mX\u001b[0m\u001b[0;34m,\u001b[0m \u001b[0my\u001b[0m\u001b[0;34m,\u001b[0m \u001b[0msample_weight\u001b[0m\u001b[0;34m,\u001b[0m \u001b[0msolver_type\u001b[0m\u001b[0;34m,\u001b[0m \u001b[0mkernel\u001b[0m\u001b[0;34m,\u001b[0m \u001b[0mrandom_seed\u001b[0m\u001b[0;34m=\u001b[0m\u001b[0mseed\u001b[0m\u001b[0;34m)\u001b[0m\u001b[0;34m\u001b[0m\u001b[0;34m\u001b[0m\u001b[0m\n\u001b[0m\u001b[1;32m    256\u001b[0m         \u001b[0;31m# see comment on the other call to np.iinfo in this file\u001b[0m\u001b[0;34m\u001b[0m\u001b[0;34m\u001b[0m\u001b[0;34m\u001b[0m\u001b[0m\n\u001b[1;32m    257\u001b[0m \u001b[0;34m\u001b[0m\u001b[0m\n",
      "\u001b[0;32m~/opt/anaconda3/lib/python3.7/site-packages/sklearn/svm/_base.py\u001b[0m in \u001b[0;36m_dense_fit\u001b[0;34m(self, X, y, sample_weight, solver_type, kernel, random_seed)\u001b[0m\n\u001b[1;32m    331\u001b[0m             \u001b[0mepsilon\u001b[0m\u001b[0;34m=\u001b[0m\u001b[0mself\u001b[0m\u001b[0;34m.\u001b[0m\u001b[0mepsilon\u001b[0m\u001b[0;34m,\u001b[0m\u001b[0;34m\u001b[0m\u001b[0;34m\u001b[0m\u001b[0m\n\u001b[1;32m    332\u001b[0m             \u001b[0mmax_iter\u001b[0m\u001b[0;34m=\u001b[0m\u001b[0mself\u001b[0m\u001b[0;34m.\u001b[0m\u001b[0mmax_iter\u001b[0m\u001b[0;34m,\u001b[0m\u001b[0;34m\u001b[0m\u001b[0;34m\u001b[0m\u001b[0m\n\u001b[0;32m--> 333\u001b[0;31m             \u001b[0mrandom_seed\u001b[0m\u001b[0;34m=\u001b[0m\u001b[0mrandom_seed\u001b[0m\u001b[0;34m,\u001b[0m\u001b[0;34m\u001b[0m\u001b[0;34m\u001b[0m\u001b[0m\n\u001b[0m\u001b[1;32m    334\u001b[0m         )\n\u001b[1;32m    335\u001b[0m \u001b[0;34m\u001b[0m\u001b[0m\n",
      "\u001b[0;31mKeyboardInterrupt\u001b[0m: "
     ]
    }
   ],
   "source": [
    "degree = [1, 2, 3, 4, 5, 6, 7, 8]\n",
    "accuracy = []\n",
    "\n",
    "for i in range(len(degree)):\n",
    "    svm_linear = SVC(C=0.01, kernel = 'poly', degree = degree[i], gamma = 'auto')\n",
    "    svm_scores = cross_val_score (svm_linear, embedding, Y, cv = 10, scoring = 'accuracy')\n",
    "    accuracy.append(svm_scores.mean())\n",
    "    \n",
    "plt.plot(degree, accuracy)\n",
    "plt.title(\"D. SVM (polynomial)\")\n",
    "plt.xlabel(\"degree\")\n",
    "plt.ylabel(\"Accuracy\")\n",
    "plt.show()"
   ]
  },
  {
   "cell_type": "code",
   "execution_count": 82,
   "metadata": {},
   "outputs": [
    {
     "ename": "KeyboardInterrupt",
     "evalue": "",
     "output_type": "error",
     "traceback": [
      "\u001b[0;31m---------------------------------------------------------------------------\u001b[0m",
      "\u001b[0;31mKeyboardInterrupt\u001b[0m                         Traceback (most recent call last)",
      "\u001b[0;32m/var/folders/w2/9nsxcgys4yz2d8n0xkjvw2_r0000gn/T/ipykernel_24098/2410836059.py\u001b[0m in \u001b[0;36m<module>\u001b[0;34m\u001b[0m\n\u001b[1;32m      4\u001b[0m \u001b[0;32mfor\u001b[0m \u001b[0mi\u001b[0m \u001b[0;32min\u001b[0m \u001b[0mrange\u001b[0m\u001b[0;34m(\u001b[0m\u001b[0mlen\u001b[0m\u001b[0;34m(\u001b[0m\u001b[0mdegree\u001b[0m\u001b[0;34m)\u001b[0m\u001b[0;34m)\u001b[0m\u001b[0;34m:\u001b[0m\u001b[0;34m\u001b[0m\u001b[0;34m\u001b[0m\u001b[0m\n\u001b[1;32m      5\u001b[0m     \u001b[0msvm_linear\u001b[0m \u001b[0;34m=\u001b[0m \u001b[0mSVC\u001b[0m\u001b[0;34m(\u001b[0m\u001b[0mC\u001b[0m\u001b[0;34m=\u001b[0m\u001b[0;36m0.01\u001b[0m\u001b[0;34m,\u001b[0m \u001b[0mkernel\u001b[0m \u001b[0;34m=\u001b[0m \u001b[0;34m'poly'\u001b[0m\u001b[0;34m,\u001b[0m \u001b[0mdegree\u001b[0m \u001b[0;34m=\u001b[0m \u001b[0mdegree\u001b[0m\u001b[0;34m[\u001b[0m\u001b[0mi\u001b[0m\u001b[0;34m]\u001b[0m\u001b[0;34m,\u001b[0m \u001b[0mgamma\u001b[0m \u001b[0;34m=\u001b[0m \u001b[0;34m'auto'\u001b[0m\u001b[0;34m)\u001b[0m\u001b[0;34m\u001b[0m\u001b[0;34m\u001b[0m\u001b[0m\n\u001b[0;32m----> 6\u001b[0;31m     \u001b[0msvm_scores\u001b[0m \u001b[0;34m=\u001b[0m \u001b[0mcross_val_score\u001b[0m \u001b[0;34m(\u001b[0m\u001b[0msvm_linear\u001b[0m\u001b[0;34m,\u001b[0m \u001b[0membedding\u001b[0m\u001b[0;34m,\u001b[0m \u001b[0mY\u001b[0m\u001b[0;34m,\u001b[0m \u001b[0mcv\u001b[0m \u001b[0;34m=\u001b[0m \u001b[0;36m10\u001b[0m\u001b[0;34m,\u001b[0m \u001b[0mscoring\u001b[0m \u001b[0;34m=\u001b[0m \u001b[0;34m'f1'\u001b[0m\u001b[0;34m)\u001b[0m\u001b[0;34m\u001b[0m\u001b[0;34m\u001b[0m\u001b[0m\n\u001b[0m\u001b[1;32m      7\u001b[0m     \u001b[0maccuracy\u001b[0m\u001b[0;34m.\u001b[0m\u001b[0mappend\u001b[0m\u001b[0;34m(\u001b[0m\u001b[0msvm_scores\u001b[0m\u001b[0;34m.\u001b[0m\u001b[0mmean\u001b[0m\u001b[0;34m(\u001b[0m\u001b[0;34m)\u001b[0m\u001b[0;34m)\u001b[0m\u001b[0;34m\u001b[0m\u001b[0;34m\u001b[0m\u001b[0m\n\u001b[1;32m      8\u001b[0m \u001b[0;34m\u001b[0m\u001b[0m\n",
      "\u001b[0;32m~/opt/anaconda3/lib/python3.7/site-packages/sklearn/model_selection/_validation.py\u001b[0m in \u001b[0;36mcross_val_score\u001b[0;34m(estimator, X, y, groups, scoring, cv, n_jobs, verbose, fit_params, pre_dispatch, error_score)\u001b[0m\n\u001b[1;32m    518\u001b[0m         \u001b[0mfit_params\u001b[0m\u001b[0;34m=\u001b[0m\u001b[0mfit_params\u001b[0m\u001b[0;34m,\u001b[0m\u001b[0;34m\u001b[0m\u001b[0;34m\u001b[0m\u001b[0m\n\u001b[1;32m    519\u001b[0m         \u001b[0mpre_dispatch\u001b[0m\u001b[0;34m=\u001b[0m\u001b[0mpre_dispatch\u001b[0m\u001b[0;34m,\u001b[0m\u001b[0;34m\u001b[0m\u001b[0;34m\u001b[0m\u001b[0m\n\u001b[0;32m--> 520\u001b[0;31m         \u001b[0merror_score\u001b[0m\u001b[0;34m=\u001b[0m\u001b[0merror_score\u001b[0m\u001b[0;34m,\u001b[0m\u001b[0;34m\u001b[0m\u001b[0;34m\u001b[0m\u001b[0m\n\u001b[0m\u001b[1;32m    521\u001b[0m     )\n\u001b[1;32m    522\u001b[0m     \u001b[0;32mreturn\u001b[0m \u001b[0mcv_results\u001b[0m\u001b[0;34m[\u001b[0m\u001b[0;34m\"test_score\"\u001b[0m\u001b[0;34m]\u001b[0m\u001b[0;34m\u001b[0m\u001b[0;34m\u001b[0m\u001b[0m\n",
      "\u001b[0;32m~/opt/anaconda3/lib/python3.7/site-packages/sklearn/model_selection/_validation.py\u001b[0m in \u001b[0;36mcross_validate\u001b[0;34m(estimator, X, y, groups, scoring, cv, n_jobs, verbose, fit_params, pre_dispatch, return_train_score, return_estimator, error_score)\u001b[0m\n\u001b[1;32m    281\u001b[0m             \u001b[0merror_score\u001b[0m\u001b[0;34m=\u001b[0m\u001b[0merror_score\u001b[0m\u001b[0;34m,\u001b[0m\u001b[0;34m\u001b[0m\u001b[0;34m\u001b[0m\u001b[0m\n\u001b[1;32m    282\u001b[0m         )\n\u001b[0;32m--> 283\u001b[0;31m         \u001b[0;32mfor\u001b[0m \u001b[0mtrain\u001b[0m\u001b[0;34m,\u001b[0m \u001b[0mtest\u001b[0m \u001b[0;32min\u001b[0m \u001b[0mcv\u001b[0m\u001b[0;34m.\u001b[0m\u001b[0msplit\u001b[0m\u001b[0;34m(\u001b[0m\u001b[0mX\u001b[0m\u001b[0;34m,\u001b[0m \u001b[0my\u001b[0m\u001b[0;34m,\u001b[0m \u001b[0mgroups\u001b[0m\u001b[0;34m)\u001b[0m\u001b[0;34m\u001b[0m\u001b[0;34m\u001b[0m\u001b[0m\n\u001b[0m\u001b[1;32m    284\u001b[0m     )\n\u001b[1;32m    285\u001b[0m \u001b[0;34m\u001b[0m\u001b[0m\n",
      "\u001b[0;32m~/opt/anaconda3/lib/python3.7/site-packages/joblib/parallel.py\u001b[0m in \u001b[0;36m__call__\u001b[0;34m(self, iterable)\u001b[0m\n\u001b[1;32m   1041\u001b[0m             \u001b[0;31m# remaining jobs.\u001b[0m\u001b[0;34m\u001b[0m\u001b[0;34m\u001b[0m\u001b[0;34m\u001b[0m\u001b[0m\n\u001b[1;32m   1042\u001b[0m             \u001b[0mself\u001b[0m\u001b[0;34m.\u001b[0m\u001b[0m_iterating\u001b[0m \u001b[0;34m=\u001b[0m \u001b[0;32mFalse\u001b[0m\u001b[0;34m\u001b[0m\u001b[0;34m\u001b[0m\u001b[0m\n\u001b[0;32m-> 1043\u001b[0;31m             \u001b[0;32mif\u001b[0m \u001b[0mself\u001b[0m\u001b[0;34m.\u001b[0m\u001b[0mdispatch_one_batch\u001b[0m\u001b[0;34m(\u001b[0m\u001b[0miterator\u001b[0m\u001b[0;34m)\u001b[0m\u001b[0;34m:\u001b[0m\u001b[0;34m\u001b[0m\u001b[0;34m\u001b[0m\u001b[0m\n\u001b[0m\u001b[1;32m   1044\u001b[0m                 \u001b[0mself\u001b[0m\u001b[0;34m.\u001b[0m\u001b[0m_iterating\u001b[0m \u001b[0;34m=\u001b[0m \u001b[0mself\u001b[0m\u001b[0;34m.\u001b[0m\u001b[0m_original_iterator\u001b[0m \u001b[0;32mis\u001b[0m \u001b[0;32mnot\u001b[0m \u001b[0;32mNone\u001b[0m\u001b[0;34m\u001b[0m\u001b[0;34m\u001b[0m\u001b[0m\n\u001b[1;32m   1045\u001b[0m \u001b[0;34m\u001b[0m\u001b[0m\n",
      "\u001b[0;32m~/opt/anaconda3/lib/python3.7/site-packages/joblib/parallel.py\u001b[0m in \u001b[0;36mdispatch_one_batch\u001b[0;34m(self, iterator)\u001b[0m\n\u001b[1;32m    859\u001b[0m                 \u001b[0;32mreturn\u001b[0m \u001b[0;32mFalse\u001b[0m\u001b[0;34m\u001b[0m\u001b[0;34m\u001b[0m\u001b[0m\n\u001b[1;32m    860\u001b[0m             \u001b[0;32melse\u001b[0m\u001b[0;34m:\u001b[0m\u001b[0;34m\u001b[0m\u001b[0;34m\u001b[0m\u001b[0m\n\u001b[0;32m--> 861\u001b[0;31m                 \u001b[0mself\u001b[0m\u001b[0;34m.\u001b[0m\u001b[0m_dispatch\u001b[0m\u001b[0;34m(\u001b[0m\u001b[0mtasks\u001b[0m\u001b[0;34m)\u001b[0m\u001b[0;34m\u001b[0m\u001b[0;34m\u001b[0m\u001b[0m\n\u001b[0m\u001b[1;32m    862\u001b[0m                 \u001b[0;32mreturn\u001b[0m \u001b[0;32mTrue\u001b[0m\u001b[0;34m\u001b[0m\u001b[0;34m\u001b[0m\u001b[0m\n\u001b[1;32m    863\u001b[0m \u001b[0;34m\u001b[0m\u001b[0m\n",
      "\u001b[0;32m~/opt/anaconda3/lib/python3.7/site-packages/joblib/parallel.py\u001b[0m in \u001b[0;36m_dispatch\u001b[0;34m(self, batch)\u001b[0m\n\u001b[1;32m    777\u001b[0m         \u001b[0;32mwith\u001b[0m \u001b[0mself\u001b[0m\u001b[0;34m.\u001b[0m\u001b[0m_lock\u001b[0m\u001b[0;34m:\u001b[0m\u001b[0;34m\u001b[0m\u001b[0;34m\u001b[0m\u001b[0m\n\u001b[1;32m    778\u001b[0m             \u001b[0mjob_idx\u001b[0m \u001b[0;34m=\u001b[0m \u001b[0mlen\u001b[0m\u001b[0;34m(\u001b[0m\u001b[0mself\u001b[0m\u001b[0;34m.\u001b[0m\u001b[0m_jobs\u001b[0m\u001b[0;34m)\u001b[0m\u001b[0;34m\u001b[0m\u001b[0;34m\u001b[0m\u001b[0m\n\u001b[0;32m--> 779\u001b[0;31m             \u001b[0mjob\u001b[0m \u001b[0;34m=\u001b[0m \u001b[0mself\u001b[0m\u001b[0;34m.\u001b[0m\u001b[0m_backend\u001b[0m\u001b[0;34m.\u001b[0m\u001b[0mapply_async\u001b[0m\u001b[0;34m(\u001b[0m\u001b[0mbatch\u001b[0m\u001b[0;34m,\u001b[0m \u001b[0mcallback\u001b[0m\u001b[0;34m=\u001b[0m\u001b[0mcb\u001b[0m\u001b[0;34m)\u001b[0m\u001b[0;34m\u001b[0m\u001b[0;34m\u001b[0m\u001b[0m\n\u001b[0m\u001b[1;32m    780\u001b[0m             \u001b[0;31m# A job can complete so quickly than its callback is\u001b[0m\u001b[0;34m\u001b[0m\u001b[0;34m\u001b[0m\u001b[0;34m\u001b[0m\u001b[0m\n\u001b[1;32m    781\u001b[0m             \u001b[0;31m# called before we get here, causing self._jobs to\u001b[0m\u001b[0;34m\u001b[0m\u001b[0;34m\u001b[0m\u001b[0;34m\u001b[0m\u001b[0m\n",
      "\u001b[0;32m~/opt/anaconda3/lib/python3.7/site-packages/joblib/_parallel_backends.py\u001b[0m in \u001b[0;36mapply_async\u001b[0;34m(self, func, callback)\u001b[0m\n\u001b[1;32m    206\u001b[0m     \u001b[0;32mdef\u001b[0m \u001b[0mapply_async\u001b[0m\u001b[0;34m(\u001b[0m\u001b[0mself\u001b[0m\u001b[0;34m,\u001b[0m \u001b[0mfunc\u001b[0m\u001b[0;34m,\u001b[0m \u001b[0mcallback\u001b[0m\u001b[0;34m=\u001b[0m\u001b[0;32mNone\u001b[0m\u001b[0;34m)\u001b[0m\u001b[0;34m:\u001b[0m\u001b[0;34m\u001b[0m\u001b[0;34m\u001b[0m\u001b[0m\n\u001b[1;32m    207\u001b[0m         \u001b[0;34m\"\"\"Schedule a func to be run\"\"\"\u001b[0m\u001b[0;34m\u001b[0m\u001b[0;34m\u001b[0m\u001b[0m\n\u001b[0;32m--> 208\u001b[0;31m         \u001b[0mresult\u001b[0m \u001b[0;34m=\u001b[0m \u001b[0mImmediateResult\u001b[0m\u001b[0;34m(\u001b[0m\u001b[0mfunc\u001b[0m\u001b[0;34m)\u001b[0m\u001b[0;34m\u001b[0m\u001b[0;34m\u001b[0m\u001b[0m\n\u001b[0m\u001b[1;32m    209\u001b[0m         \u001b[0;32mif\u001b[0m \u001b[0mcallback\u001b[0m\u001b[0;34m:\u001b[0m\u001b[0;34m\u001b[0m\u001b[0;34m\u001b[0m\u001b[0m\n\u001b[1;32m    210\u001b[0m             \u001b[0mcallback\u001b[0m\u001b[0;34m(\u001b[0m\u001b[0mresult\u001b[0m\u001b[0;34m)\u001b[0m\u001b[0;34m\u001b[0m\u001b[0;34m\u001b[0m\u001b[0m\n",
      "\u001b[0;32m~/opt/anaconda3/lib/python3.7/site-packages/joblib/_parallel_backends.py\u001b[0m in \u001b[0;36m__init__\u001b[0;34m(self, batch)\u001b[0m\n\u001b[1;32m    570\u001b[0m         \u001b[0;31m# Don't delay the application, to avoid keeping the input\u001b[0m\u001b[0;34m\u001b[0m\u001b[0;34m\u001b[0m\u001b[0;34m\u001b[0m\u001b[0m\n\u001b[1;32m    571\u001b[0m         \u001b[0;31m# arguments in memory\u001b[0m\u001b[0;34m\u001b[0m\u001b[0;34m\u001b[0m\u001b[0;34m\u001b[0m\u001b[0m\n\u001b[0;32m--> 572\u001b[0;31m         \u001b[0mself\u001b[0m\u001b[0;34m.\u001b[0m\u001b[0mresults\u001b[0m \u001b[0;34m=\u001b[0m \u001b[0mbatch\u001b[0m\u001b[0;34m(\u001b[0m\u001b[0;34m)\u001b[0m\u001b[0;34m\u001b[0m\u001b[0;34m\u001b[0m\u001b[0m\n\u001b[0m\u001b[1;32m    573\u001b[0m \u001b[0;34m\u001b[0m\u001b[0m\n\u001b[1;32m    574\u001b[0m     \u001b[0;32mdef\u001b[0m \u001b[0mget\u001b[0m\u001b[0;34m(\u001b[0m\u001b[0mself\u001b[0m\u001b[0;34m)\u001b[0m\u001b[0;34m:\u001b[0m\u001b[0;34m\u001b[0m\u001b[0;34m\u001b[0m\u001b[0m\n",
      "\u001b[0;32m~/opt/anaconda3/lib/python3.7/site-packages/joblib/parallel.py\u001b[0m in \u001b[0;36m__call__\u001b[0;34m(self)\u001b[0m\n\u001b[1;32m    261\u001b[0m         \u001b[0;32mwith\u001b[0m \u001b[0mparallel_backend\u001b[0m\u001b[0;34m(\u001b[0m\u001b[0mself\u001b[0m\u001b[0;34m.\u001b[0m\u001b[0m_backend\u001b[0m\u001b[0;34m,\u001b[0m \u001b[0mn_jobs\u001b[0m\u001b[0;34m=\u001b[0m\u001b[0mself\u001b[0m\u001b[0;34m.\u001b[0m\u001b[0m_n_jobs\u001b[0m\u001b[0;34m)\u001b[0m\u001b[0;34m:\u001b[0m\u001b[0;34m\u001b[0m\u001b[0;34m\u001b[0m\u001b[0m\n\u001b[1;32m    262\u001b[0m             return [func(*args, **kwargs)\n\u001b[0;32m--> 263\u001b[0;31m                     for func, args, kwargs in self.items]\n\u001b[0m\u001b[1;32m    264\u001b[0m \u001b[0;34m\u001b[0m\u001b[0m\n\u001b[1;32m    265\u001b[0m     \u001b[0;32mdef\u001b[0m \u001b[0m__reduce__\u001b[0m\u001b[0;34m(\u001b[0m\u001b[0mself\u001b[0m\u001b[0;34m)\u001b[0m\u001b[0;34m:\u001b[0m\u001b[0;34m\u001b[0m\u001b[0;34m\u001b[0m\u001b[0m\n",
      "\u001b[0;32m~/opt/anaconda3/lib/python3.7/site-packages/joblib/parallel.py\u001b[0m in \u001b[0;36m<listcomp>\u001b[0;34m(.0)\u001b[0m\n\u001b[1;32m    261\u001b[0m         \u001b[0;32mwith\u001b[0m \u001b[0mparallel_backend\u001b[0m\u001b[0;34m(\u001b[0m\u001b[0mself\u001b[0m\u001b[0;34m.\u001b[0m\u001b[0m_backend\u001b[0m\u001b[0;34m,\u001b[0m \u001b[0mn_jobs\u001b[0m\u001b[0;34m=\u001b[0m\u001b[0mself\u001b[0m\u001b[0;34m.\u001b[0m\u001b[0m_n_jobs\u001b[0m\u001b[0;34m)\u001b[0m\u001b[0;34m:\u001b[0m\u001b[0;34m\u001b[0m\u001b[0;34m\u001b[0m\u001b[0m\n\u001b[1;32m    262\u001b[0m             return [func(*args, **kwargs)\n\u001b[0;32m--> 263\u001b[0;31m                     for func, args, kwargs in self.items]\n\u001b[0m\u001b[1;32m    264\u001b[0m \u001b[0;34m\u001b[0m\u001b[0m\n\u001b[1;32m    265\u001b[0m     \u001b[0;32mdef\u001b[0m \u001b[0m__reduce__\u001b[0m\u001b[0;34m(\u001b[0m\u001b[0mself\u001b[0m\u001b[0;34m)\u001b[0m\u001b[0;34m:\u001b[0m\u001b[0;34m\u001b[0m\u001b[0;34m\u001b[0m\u001b[0m\n",
      "\u001b[0;32m~/opt/anaconda3/lib/python3.7/site-packages/sklearn/utils/fixes.py\u001b[0m in \u001b[0;36m__call__\u001b[0;34m(self, *args, **kwargs)\u001b[0m\n\u001b[1;32m    214\u001b[0m     \u001b[0;32mdef\u001b[0m \u001b[0m__call__\u001b[0m\u001b[0;34m(\u001b[0m\u001b[0mself\u001b[0m\u001b[0;34m,\u001b[0m \u001b[0;34m*\u001b[0m\u001b[0margs\u001b[0m\u001b[0;34m,\u001b[0m \u001b[0;34m**\u001b[0m\u001b[0mkwargs\u001b[0m\u001b[0;34m)\u001b[0m\u001b[0;34m:\u001b[0m\u001b[0;34m\u001b[0m\u001b[0;34m\u001b[0m\u001b[0m\n\u001b[1;32m    215\u001b[0m         \u001b[0;32mwith\u001b[0m \u001b[0mconfig_context\u001b[0m\u001b[0;34m(\u001b[0m\u001b[0;34m**\u001b[0m\u001b[0mself\u001b[0m\u001b[0;34m.\u001b[0m\u001b[0mconfig\u001b[0m\u001b[0;34m)\u001b[0m\u001b[0;34m:\u001b[0m\u001b[0;34m\u001b[0m\u001b[0;34m\u001b[0m\u001b[0m\n\u001b[0;32m--> 216\u001b[0;31m             \u001b[0;32mreturn\u001b[0m \u001b[0mself\u001b[0m\u001b[0;34m.\u001b[0m\u001b[0mfunction\u001b[0m\u001b[0;34m(\u001b[0m\u001b[0;34m*\u001b[0m\u001b[0margs\u001b[0m\u001b[0;34m,\u001b[0m \u001b[0;34m**\u001b[0m\u001b[0mkwargs\u001b[0m\u001b[0;34m)\u001b[0m\u001b[0;34m\u001b[0m\u001b[0;34m\u001b[0m\u001b[0m\n\u001b[0m\u001b[1;32m    217\u001b[0m \u001b[0;34m\u001b[0m\u001b[0m\n\u001b[1;32m    218\u001b[0m \u001b[0;34m\u001b[0m\u001b[0m\n",
      "\u001b[0;32m~/opt/anaconda3/lib/python3.7/site-packages/sklearn/model_selection/_validation.py\u001b[0m in \u001b[0;36m_fit_and_score\u001b[0;34m(estimator, X, y, scorer, train, test, verbose, parameters, fit_params, return_train_score, return_parameters, return_n_test_samples, return_times, return_estimator, split_progress, candidate_progress, error_score)\u001b[0m\n\u001b[1;32m    678\u001b[0m             \u001b[0mestimator\u001b[0m\u001b[0;34m.\u001b[0m\u001b[0mfit\u001b[0m\u001b[0;34m(\u001b[0m\u001b[0mX_train\u001b[0m\u001b[0;34m,\u001b[0m \u001b[0;34m**\u001b[0m\u001b[0mfit_params\u001b[0m\u001b[0;34m)\u001b[0m\u001b[0;34m\u001b[0m\u001b[0;34m\u001b[0m\u001b[0m\n\u001b[1;32m    679\u001b[0m         \u001b[0;32melse\u001b[0m\u001b[0;34m:\u001b[0m\u001b[0;34m\u001b[0m\u001b[0;34m\u001b[0m\u001b[0m\n\u001b[0;32m--> 680\u001b[0;31m             \u001b[0mestimator\u001b[0m\u001b[0;34m.\u001b[0m\u001b[0mfit\u001b[0m\u001b[0;34m(\u001b[0m\u001b[0mX_train\u001b[0m\u001b[0;34m,\u001b[0m \u001b[0my_train\u001b[0m\u001b[0;34m,\u001b[0m \u001b[0;34m**\u001b[0m\u001b[0mfit_params\u001b[0m\u001b[0;34m)\u001b[0m\u001b[0;34m\u001b[0m\u001b[0;34m\u001b[0m\u001b[0m\n\u001b[0m\u001b[1;32m    681\u001b[0m \u001b[0;34m\u001b[0m\u001b[0m\n\u001b[1;32m    682\u001b[0m     \u001b[0;32mexcept\u001b[0m \u001b[0mException\u001b[0m\u001b[0;34m:\u001b[0m\u001b[0;34m\u001b[0m\u001b[0;34m\u001b[0m\u001b[0m\n",
      "\u001b[0;32m~/opt/anaconda3/lib/python3.7/site-packages/sklearn/svm/_base.py\u001b[0m in \u001b[0;36mfit\u001b[0;34m(self, X, y, sample_weight)\u001b[0m\n\u001b[1;32m    253\u001b[0m \u001b[0;34m\u001b[0m\u001b[0m\n\u001b[1;32m    254\u001b[0m         \u001b[0mseed\u001b[0m \u001b[0;34m=\u001b[0m \u001b[0mrnd\u001b[0m\u001b[0;34m.\u001b[0m\u001b[0mrandint\u001b[0m\u001b[0;34m(\u001b[0m\u001b[0mnp\u001b[0m\u001b[0;34m.\u001b[0m\u001b[0miinfo\u001b[0m\u001b[0;34m(\u001b[0m\u001b[0;34m\"i\"\u001b[0m\u001b[0;34m)\u001b[0m\u001b[0;34m.\u001b[0m\u001b[0mmax\u001b[0m\u001b[0;34m)\u001b[0m\u001b[0;34m\u001b[0m\u001b[0;34m\u001b[0m\u001b[0m\n\u001b[0;32m--> 255\u001b[0;31m         \u001b[0mfit\u001b[0m\u001b[0;34m(\u001b[0m\u001b[0mX\u001b[0m\u001b[0;34m,\u001b[0m \u001b[0my\u001b[0m\u001b[0;34m,\u001b[0m \u001b[0msample_weight\u001b[0m\u001b[0;34m,\u001b[0m \u001b[0msolver_type\u001b[0m\u001b[0;34m,\u001b[0m \u001b[0mkernel\u001b[0m\u001b[0;34m,\u001b[0m \u001b[0mrandom_seed\u001b[0m\u001b[0;34m=\u001b[0m\u001b[0mseed\u001b[0m\u001b[0;34m)\u001b[0m\u001b[0;34m\u001b[0m\u001b[0;34m\u001b[0m\u001b[0m\n\u001b[0m\u001b[1;32m    256\u001b[0m         \u001b[0;31m# see comment on the other call to np.iinfo in this file\u001b[0m\u001b[0;34m\u001b[0m\u001b[0;34m\u001b[0m\u001b[0;34m\u001b[0m\u001b[0m\n\u001b[1;32m    257\u001b[0m \u001b[0;34m\u001b[0m\u001b[0m\n",
      "\u001b[0;32m~/opt/anaconda3/lib/python3.7/site-packages/sklearn/svm/_base.py\u001b[0m in \u001b[0;36m_dense_fit\u001b[0;34m(self, X, y, sample_weight, solver_type, kernel, random_seed)\u001b[0m\n\u001b[1;32m    331\u001b[0m             \u001b[0mepsilon\u001b[0m\u001b[0;34m=\u001b[0m\u001b[0mself\u001b[0m\u001b[0;34m.\u001b[0m\u001b[0mepsilon\u001b[0m\u001b[0;34m,\u001b[0m\u001b[0;34m\u001b[0m\u001b[0;34m\u001b[0m\u001b[0m\n\u001b[1;32m    332\u001b[0m             \u001b[0mmax_iter\u001b[0m\u001b[0;34m=\u001b[0m\u001b[0mself\u001b[0m\u001b[0;34m.\u001b[0m\u001b[0mmax_iter\u001b[0m\u001b[0;34m,\u001b[0m\u001b[0;34m\u001b[0m\u001b[0;34m\u001b[0m\u001b[0m\n\u001b[0;32m--> 333\u001b[0;31m             \u001b[0mrandom_seed\u001b[0m\u001b[0;34m=\u001b[0m\u001b[0mrandom_seed\u001b[0m\u001b[0;34m,\u001b[0m\u001b[0;34m\u001b[0m\u001b[0;34m\u001b[0m\u001b[0m\n\u001b[0m\u001b[1;32m    334\u001b[0m         )\n\u001b[1;32m    335\u001b[0m \u001b[0;34m\u001b[0m\u001b[0m\n",
      "\u001b[0;31mKeyboardInterrupt\u001b[0m: "
     ]
    }
   ],
   "source": [
    "degree = [1, 2, 3, 4, 5, 6, 7, 8]\n",
    "accuracy = []\n",
    "\n",
    "for i in range(len(degree)):\n",
    "    svm_linear = SVC(C=0.01, kernel = 'poly', degree = degree[i], gamma = 'auto')\n",
    "    svm_scores = cross_val_score (svm_linear, embedding, Y, cv = 10, scoring = 'f1')\n",
    "    accuracy.append(svm_scores.mean())\n",
    "    \n",
    "plt.plot(degree, accuracy, color = \"g\")\n",
    "plt.title(\"D. SVM (polynomial)\")\n",
    "plt.xlabel(\"degree\")\n",
    "plt.ylabel(\"F1 score\")\n",
    "plt.show()"
   ]
  },
  {
   "cell_type": "code",
   "execution_count": null,
   "metadata": {},
   "outputs": [],
   "source": [
    "degree = [1, 2, 3, 4, 5, 6, 7, 8]\n",
    "accuracy = []\n",
    "\n",
    "for i in range(len(degree)):\n",
    "    svm_linear = SVC(C=0.01, kernel = 'poly', degree = degree[i], gamma = 'auto')\n",
    "    svm_scores = cross_val_score (svm_linear, embedding, Y, cv = 10, scoring = 'roc_auc')\n",
    "    accuracy.append(svm_scores.mean())\n",
    "    \n",
    "plt.plot(degree, accuracy, color = \"orange\")\n",
    "plt.title(\"D. SVM (polynomial)\")\n",
    "plt.xlabel(\"degree\")\n",
    "plt.ylabel(\"AUC\")\n",
    "plt.show()"
   ]
  },
  {
   "cell_type": "markdown",
   "metadata": {},
   "source": [
    "### e. Random Forest"
   ]
  },
  {
   "cell_type": "code",
   "execution_count": 85,
   "metadata": {},
   "outputs": [],
   "source": [
    "# Import the model we are using\n",
    "from sklearn.ensemble import RandomForestClassifier"
   ]
  },
  {
   "cell_type": "code",
   "execution_count": 86,
   "metadata": {},
   "outputs": [
    {
     "data": {
      "text/plain": [
       "[0.8574615384615385, 0.07101045843466008]"
      ]
     },
     "execution_count": 86,
     "metadata": {},
     "output_type": "execute_result"
    }
   ],
   "source": [
    "# Instantiate model with 100 decision trees\n",
    "rf = RandomForestClassifier(n_estimators = 200, #### number of trees in the forest\n",
    "                            random_state = 42, \n",
    "                            max_features = 'sqrt', #bootstrap=True, \n",
    "                            max_depth=10, \n",
    "                            #min_samples_split = 0.01, min_samples_leaf = 0.01\n",
    "                           )\n",
    "# Evaluation - Cross Validation\n",
    "rf_scores = cross_val_score(rf, embedding, Y, cv = 10, scoring = \"roc_auc\")\n",
    "[rf_scores.mean(), rf_scores.std()]"
   ]
  },
  {
   "cell_type": "code",
   "execution_count": 87,
   "metadata": {},
   "outputs": [
    {
     "data": {
      "text/plain": [
       "[0.279982794982795, 0.2422161277305114]"
      ]
     },
     "execution_count": 87,
     "metadata": {},
     "output_type": "execute_result"
    }
   ],
   "source": [
    "# Instantiate model with 100 decision trees\n",
    "rf = RandomForestClassifier(n_estimators = 200, #### number of trees in the forest\n",
    "                            random_state = 42, \n",
    "                            max_features = 'sqrt', #bootstrap=True, \n",
    "                            max_depth=10, \n",
    "                            #min_samples_split = 0.01, min_samples_leaf = 0.01\n",
    "                           )\n",
    "# Evaluation - Cross Validation\n",
    "rf_scores = cross_val_score(rf, embedding, Y, cv = 10, scoring = \"f1\")\n",
    "[rf_scores.mean(), rf_scores.std()]"
   ]
  },
  {
   "cell_type": "code",
   "execution_count": 88,
   "metadata": {},
   "outputs": [
    {
     "data": {
      "text/plain": [
       "[0.8043010752688172, 0.07686630419164986]"
      ]
     },
     "execution_count": 88,
     "metadata": {},
     "output_type": "execute_result"
    }
   ],
   "source": [
    "###### Accuracy!!!!\n",
    "# Instantiate model with 100 decision trees\n",
    "rf = RandomForestClassifier(n_estimators = 200, #### number of trees in the forest\n",
    "                            random_state = 42, \n",
    "                            max_features = 'sqrt', #bootstrap=True, \n",
    "                            max_depth=10, \n",
    "                            #min_samples_split = 0.01, min_samples_leaf = 0.01\n",
    "                           )\n",
    "# Evaluation - Cross Validation\n",
    "rf_scores = cross_val_score(rf, embedding, Y, cv = 10, scoring = \"accuracy\")\n",
    "[rf_scores.mean(), rf_scores.std()]"
   ]
  },
  {
   "cell_type": "code",
   "execution_count": null,
   "metadata": {},
   "outputs": [],
   "source": [
    "n_estimators = [10, 20, 50, 100, 200, 300, 400, 500]\n",
    "accuracy = []\n",
    "\n",
    "for i in range(len(n_estimators)):\n",
    "    rf = RandomForestClassifier(n_estimators = n_estimators[i], #### number of trees in the forest\n",
    "                            random_state = 42, \n",
    "                            max_features = 'sqrt', #bootstrap=True, \n",
    "                            max_depth=10\n",
    "                            #min_samples_split = 0.01, #min_samples_leaf = 0.01\n",
    "                               )\n",
    "    rf_scores = cross_val_score (rf, embedding, Y, cv = 10, scoring = 'accuracy')\n",
    "    accuracy.append(rf_scores.mean())\n",
    "    \n",
    "plt.plot(n_estimators, accuracy)\n",
    "plt.title(\"E. Random Forest\")\n",
    "plt.xlabel(\"number of trees in the forest\")\n",
    "plt.ylabel(\"Accuracy\")\n",
    "plt.show()"
   ]
  },
  {
   "cell_type": "code",
   "execution_count": null,
   "metadata": {},
   "outputs": [],
   "source": [
    "n_estimators = [10, 20, 50, 100, 200, 300, 400, 500]\n",
    "accuracy = []\n",
    "\n",
    "for i in range(len(n_estimators)):\n",
    "    rf = RandomForestClassifier(n_estimators = n_estimators[i], #### number of trees in the forest\n",
    "                            random_state = 42, \n",
    "                            max_features = 'sqrt', #bootstrap=True, \n",
    "                            max_depth=10\n",
    "                            #min_samples_split = 0.01, #min_samples_leaf = 0.01\n",
    "                               )\n",
    "    rf_scores = cross_val_score (rf, embedding, Y, cv = 10, scoring = 'f1')\n",
    "    accuracy.append(rf_scores.mean())\n",
    "    \n",
    "plt.plot(n_estimators, accuracy, color = \"g\")\n",
    "plt.title(\"E. Random Forest\")\n",
    "plt.xlabel(\"number of trees in the forest\")\n",
    "plt.ylabel(\"F1 score\")\n",
    "plt.show()"
   ]
  },
  {
   "cell_type": "code",
   "execution_count": null,
   "metadata": {},
   "outputs": [],
   "source": [
    "n_estimators = [10, 20, 50, 100, 200, 300, 400, 500]\n",
    "accuracy = []\n",
    "\n",
    "for i in range(len(n_estimators)):\n",
    "    rf = RandomForestClassifier(n_estimators = n_estimators[i], #### number of trees in the forest\n",
    "                            random_state = 42, \n",
    "                            max_features = 'sqrt', #bootstrap=True, \n",
    "                            max_depth=10\n",
    "                            #min_samples_split = 0.01, #min_samples_leaf = 0.01\n",
    "                               )\n",
    "    rf_scores = cross_val_score (rf, embedding, Y, cv = 10, scoring = 'roc_auc')\n",
    "    accuracy.append(rf_scores.mean())\n",
    "    \n",
    "plt.plot(n_estimators, accuracy, color = \"orange\")\n",
    "plt.title(\"E. Random Forest\")\n",
    "plt.xlabel(\"number of trees in the forest\")\n",
    "plt.ylabel(\"AUC\")\n",
    "plt.show()"
   ]
  },
  {
   "cell_type": "markdown",
   "metadata": {},
   "source": [
    "### f. Logistic Regression"
   ]
  },
  {
   "cell_type": "code",
   "execution_count": 89,
   "metadata": {},
   "outputs": [],
   "source": [
    "from sklearn.linear_model import LogisticRegression\n",
    "from sklearn.metrics import confusion_matrix"
   ]
  },
  {
   "cell_type": "code",
   "execution_count": 90,
   "metadata": {},
   "outputs": [
    {
     "data": {
      "text/plain": [
       "[0.7330615384615384, 0.10767848702525189]"
      ]
     },
     "execution_count": 90,
     "metadata": {},
     "output_type": "execute_result"
    }
   ],
   "source": [
    "#LR = LogisticRegression(C=0.01, solver='liblinear').fit(X,Y)\n",
    "LR = LogisticRegression(C=0.2, solver='liblinear') # random_state=0\n",
    "LR_scores = cross_val_score(LR, embedding, Y, cv = 10, scoring = \"roc_auc\")\n",
    "[LR_scores.mean(), LR_scores.std()]"
   ]
  },
  {
   "cell_type": "code",
   "execution_count": 91,
   "metadata": {},
   "outputs": [
    {
     "data": {
      "text/plain": [
       "[0.0, 0.0]"
      ]
     },
     "execution_count": 91,
     "metadata": {},
     "output_type": "execute_result"
    }
   ],
   "source": [
    "#LR = LogisticRegression(C=0.01, solver='liblinear').fit(X,Y)\n",
    "LR = LogisticRegression(C=0.2, solver='liblinear') # random_state=0\n",
    "LR_scores = cross_val_score(LR, embedding, Y, cv = 10, scoring = \"f1\")\n",
    "[LR_scores.mean(), LR_scores.std()]"
   ]
  },
  {
   "cell_type": "code",
   "execution_count": 92,
   "metadata": {},
   "outputs": [
    {
     "data": {
      "text/plain": [
       "[0.8472043010752689, 0.015966565251166555]"
      ]
     },
     "execution_count": 92,
     "metadata": {},
     "output_type": "execute_result"
    }
   ],
   "source": [
    "###### Accuracy!!!!\n",
    "\n",
    "#LR = LogisticRegression(C=0.01, solver='liblinear').fit(X,Y)\n",
    "LR = LogisticRegression(C=0.2, solver='liblinear') # random_state=0\n",
    "LR_scores = cross_val_score(LR, embedding, Y, cv = 10, scoring = \"accuracy\")\n",
    "[LR_scores.mean(), LR_scores.std()]"
   ]
  },
  {
   "cell_type": "code",
   "execution_count": null,
   "metadata": {},
   "outputs": [],
   "source": [
    "C = [0.0005, 0.0007, 0.001, 0.01, 0.1, 0.2, 0.3, 0.4, 0.5, 0.6]\n",
    "accuracy = []\n",
    "\n",
    "for i in range(len(C)):\n",
    "    LR = LogisticRegression(C=C[i], solver='liblinear') # random_state=0\n",
    "    LR_scores = cross_val_score (LR, embedding, Y, cv = 10, scoring = 'accuracy')\n",
    "    accuracy.append(LR_scores.mean())\n",
    "    \n",
    "plt.plot(C, accuracy)\n",
    "plt.title(\"F. Logistic Regression\")\n",
    "plt.xlabel(\"C value\")\n",
    "plt.ylabel(\"Accuracy\")\n",
    "plt.show()"
   ]
  },
  {
   "cell_type": "code",
   "execution_count": null,
   "metadata": {},
   "outputs": [],
   "source": [
    "C = [0.0005, 0.0007, 0.001, 0.01, 0.1, 0.2, 0.3, 0.4, 0.5, 0.6]\n",
    "accuracy = []\n",
    "\n",
    "for i in range(len(C)):\n",
    "    LR = LogisticRegression(C=C[i], solver='liblinear') # random_state=0\n",
    "    LR_scores = cross_val_score (LR, embedding, Y, cv = 10, scoring = 'f1')\n",
    "    accuracy.append(LR_scores.mean())\n",
    "    \n",
    "plt.plot(C, accuracy, color = \"g\")\n",
    "plt.title(\"F. Logistic Regression\")\n",
    "plt.xlabel(\"C value\")\n",
    "plt.ylabel(\"F1 score\")\n",
    "plt.show()"
   ]
  },
  {
   "cell_type": "code",
   "execution_count": null,
   "metadata": {},
   "outputs": [],
   "source": [
    "C = [0.0005, 0.0007, 0.001, 0.01, 0.1, 0.2, 0.3, 0.4, 0.5, 0.6]\n",
    "accuracy = []\n",
    "\n",
    "for i in range(len(C)):\n",
    "    LR = LogisticRegression(C=C[i], solver='liblinear') # random_state=0\n",
    "    LR_scores = cross_val_score (LR, embedding, Y, cv = 10, scoring = 'roc_auc')\n",
    "    accuracy.append(LR_scores.mean())\n",
    "    \n",
    "plt.plot(C, accuracy, color = \"orange\")\n",
    "plt.title(\"F. Logistic Regression\")\n",
    "plt.xlabel(\"C value\")\n",
    "plt.ylabel(\"AUC\")\n",
    "plt.show()"
   ]
  },
  {
   "cell_type": "markdown",
   "metadata": {},
   "source": [
    "# Step 5: Plot the decision boundary"
   ]
  },
  {
   "cell_type": "code",
   "execution_count": null,
   "metadata": {},
   "outputs": [],
   "source": []
  }
 ],
 "metadata": {
  "kernelspec": {
   "display_name": "Python 3 (ipykernel)",
   "language": "python",
   "name": "python3"
  },
  "language_info": {
   "codemirror_mode": {
    "name": "ipython",
    "version": 3
   },
   "file_extension": ".py",
   "mimetype": "text/x-python",
   "name": "python",
   "nbconvert_exporter": "python",
   "pygments_lexer": "ipython3",
   "version": "3.7.4"
  }
 },
 "nbformat": 4,
 "nbformat_minor": 2
}
